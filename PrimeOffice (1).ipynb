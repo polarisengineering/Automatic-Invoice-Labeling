{
  "cells": [
    {
      "cell_type": "code",
      "execution_count": null,
      "metadata": {
        "id": "3JSZlS9QUNdf",
        "colab": {
          "base_uri": "https://localhost:8080/"
        },
        "outputId": "607ffc2e-7d63-4685-8192-2a25727d6d79"
      },
      "outputs": [
        {
          "output_type": "stream",
          "name": "stdout",
          "text": [
            "Cloning into 'fastText'...\n",
            "remote: Enumerating objects: 3910, done.\u001b[K\n",
            "remote: Counting objects: 100% (56/56), done.\u001b[K\n",
            "remote: Compressing objects: 100% (40/40), done.\u001b[K\n",
            "remote: Total 3910 (delta 19), reused 24 (delta 2), pack-reused 3854\u001b[K\n",
            "Receiving objects: 100% (3910/3910), 8.33 MiB | 16.82 MiB/s, done.\n",
            "Resolving deltas: 100% (2436/2436), done.\n",
            "/content/fastText\n",
            "Processing /content/fastText\n",
            "\u001b[33m  DEPRECATION: A future pip version will change local packages to be built in-place without first copying to a temporary directory. We recommend you use --use-feature=in-tree-build to test your packages with this new behavior before it becomes the default.\n",
            "   pip 21.3 will remove support for this functionality. You can find discussion regarding this at https://github.com/pypa/pip/issues/7555.\u001b[0m\n",
            "Collecting pybind11>=2.2\n",
            "  Using cached pybind11-2.9.1-py2.py3-none-any.whl (211 kB)\n",
            "Requirement already satisfied: setuptools>=0.7.0 in /usr/local/lib/python3.7/dist-packages (from fasttext==0.9.2) (57.4.0)\n",
            "Requirement already satisfied: numpy in /usr/local/lib/python3.7/dist-packages (from fasttext==0.9.2) (1.21.5)\n",
            "Building wheels for collected packages: fasttext\n",
            "  Building wheel for fasttext (setup.py) ... \u001b[?25l\u001b[?25hdone\n",
            "  Created wheel for fasttext: filename=fasttext-0.9.2-cp37-cp37m-linux_x86_64.whl size=3124345 sha256=294c60a843c7e8383d9ca0a6c9f9aef0b4630d165e336d342782a71e11d8c1d8\n",
            "  Stored in directory: /tmp/pip-ephem-wheel-cache-31_rmfno/wheels/22/04/6e/b3aba25c1a5845898b5871a0df37c2126cb0cc9326ad0c08e7\n",
            "Successfully built fasttext\n",
            "Installing collected packages: pybind11, fasttext\n",
            "Successfully installed fasttext-0.9.2 pybind11-2.9.1\n"
          ]
        }
      ],
      "source": [
        "#NOTEBOOK 1: data cleaning, feature selection e fitting di modelli di classificazione, con analisi delle performance e degli errori commessi.\n",
        "#Le prime 2 celle sono dedicate a settare la rete Word2Vec in italiano che serve a estrarre features semantiche\n",
        "#dalle descrizioni delle fatture in modo da distinguere meglio le classi\n",
        "\n",
        "!git clone https://github.com/facebookresearch/fastText.git\n",
        "%cd fastText\n",
        "!sudo pip install ."
      ]
    },
    {
      "cell_type": "code",
      "execution_count": null,
      "metadata": {
        "colab": {
          "base_uri": "https://localhost:8080/"
        },
        "id": "JWNy2R-5UNo2",
        "outputId": "649fa520-6e3f-4035-9b47-b14edd4dac00"
      },
      "outputs": [
        {
          "output_type": "stream",
          "name": "stdout",
          "text": [
            "Downloading https://dl.fbaipublicfiles.com/fasttext/vectors-crawl/cc.it.300.bin.gz\n",
            "\n",
            "300\n"
          ]
        }
      ],
      "source": [
        "import fasttext\n",
        "import fasttext.util\n",
        "fasttext.util.download_model('it', if_exists='ignore')\n",
        "ft = fasttext.load_model('cc.it.300.bin')\n",
        "print(ft.get_dimension())"
      ]
    },
    {
      "cell_type": "code",
      "source": [
        "from google.colab import drive\n",
        "drive.mount('/content/drive')"
      ],
      "metadata": {
        "colab": {
          "base_uri": "https://localhost:8080/"
        },
        "id": "Z-qYyUrenIc5",
        "outputId": "453cf46b-749f-45ae-b3e6-33225b7f9b80"
      },
      "execution_count": 1,
      "outputs": [
        {
          "output_type": "stream",
          "name": "stdout",
          "text": [
            "Mounted at /content/drive\n"
          ]
        }
      ]
    },
    {
      "cell_type": "code",
      "source": [
        "#lettura delle descrizioni dal dataset\n",
        "\n",
        "from scipy import spatial\n",
        "import pandas as pd\n",
        "!pip install --upgrade openpyxl\n",
        "\n",
        "descr = pd.read_excel('/content/drive/MyDrive/df_final.xlsx')\n",
        "descr = descr['FatturaElettronicaBody_DatiBeniServizi_DettaglioLinee_Descrizione']\n",
        "\n",
        "print(list(descr))"
      ],
      "metadata": {
        "colab": {
          "base_uri": "https://localhost:8080/"
        },
        "id": "X_vUrOdoKZxb",
        "outputId": "f74dab81-7931-495d-c937-795eba6f5874"
      },
      "execution_count": null,
      "outputs": [
        {
          "output_type": "stream",
          "name": "stdout",
          "text": [
            "Requirement already satisfied: openpyxl in /usr/local/lib/python3.7/dist-packages (3.0.9)\n",
            "Requirement already satisfied: et-xmlfile in /usr/local/lib/python3.7/dist-packages (from openpyxl) (1.1.0)\n",
            "['A513-77199580-8000500131329-NUTELLA G3000X2 SCC/PRT F/SER', 'CONTRIBUTO CONAI-A513-77199580-8000500131329-NUTELLA G3000X2 SCC/PRT F/SER', 'ANTICIPO PER PAGAMENTO RICEVUTO', 'Rif. Ordine n.r. 109763889', 'Rif. Ord.Cli. ORD109763889 del 13/04/2021', 'POSTA ELETTRONICA CERTIFICATA', 'updownbarsrl@pec.it', 'Durata Servizio dal 3/5/2021 al 3/5/2022', 'Rif. Ord.Cli. ORD109763889 del 13/04/2021', 'Detratto anticipo', 'AB3 MISCELA CREMA BAR CONFEZIONE DA Kg.3', '/D Lotto V38I', 'N ZUCCHERO SEMOLATO ASTUCCI da Kg.1', '/D Lotto 1025F0892R', 'OZD DOLCIFICANTE IN DISPENSER DA 240 BST', '/D Lotto 5023F0798G', '002 IL CREMINO CONF. Kg.1', '/D Lotto LE062', \"TOTN OMAGGIO TAZZE PUBBLICITARIE ALL.DICH.CONFORMITA'\", \"PIATN OMAGGIO PIATTINI PER TAZZE PUBBL.RIE ALL.DICH.CONFORMITA'\", 'AMBROSIO FRUTTA MISTA INTERA CT 5 KG', 'IRCA MIX DOLCE FORNO CF 25 KG COD. 1070116', 'GAMMA SOTTOGELO GRANDI PER CASSATINE CF 1000 PZ', 'MANDORLE SPAGNA NATURALI ***1KG***', 'VANDEMOORTELE ZUCCHERO FONDENTE CF 15 KG', 'Spese Varie', 'Riga ausiliaria contenente informazioni tecniche e aggiuntive del documento', 'IRCA MORELLINA ***** CF 13 KG   COD.10204', 'IRCA BLITZ GELATINA NEUTRO A FREDDO CF 6 KG    COD.30344', 'FIORUCCI PROSCIUTTO COTTO DELIZIOSO - PL41', 'MANDORLE SPAGNA NATURALI ***1KG***', 'VANDEMOORTELE OLIO RISSO GIRASOLE ALTO OLEICO CF 10LT', 'IRCA SURROGATO*****NOBEL AVORIO***** CF 5 KG COD. 1010222', \"BHB ROULLE' BIANCO CM 0.7 38X56 PZ 12\", 'IRCA ZUCCHERO FONDENTE DI CANNA CF 14 KG   COD.30127', 'CARTOPLAST BUSTE PLASTICA 50/70 CT 15 KG', 'IRCA PASTA DI MANDORLE PREMIUM 23 ***** VERDE ***** CF 3 KG   COD.60374', 'AMBROSIO FRUTTA MISTA INTERA CT 5 KG', 'SOLCHIM LUCIDANTE SPRAY CF 400 ML', 'SUD ZUCHER ZUCCHERO CF 25 KG', 'Spese Varie', 'Riga ausiliaria contenente informazioni tecniche e aggiuntive del documento', 'IRCA SURROGATO *****NOBEL BITTER***** CF 5 KG COD. 1010221', 'VANDEMOORTELE OLIO RISSO GIRASOLE ALTO OLEICO CF 10LT', 'Spese Varie', 'Riga ausiliaria contenente informazioni tecniche e aggiuntive del documento', 'Commissioni', 'S.M. SUPER PLUS CART 4X 6  KG', 'DERMAGEL ML. 500X12  SUTTER CODICE 5668  P.M.C. GEL DISINFETTANTE', 'TOV.VELO 30X30 PP T301   CART 8X500 PZ', 'BUSTE N.U.90X130 AMBRA KG 19                                     75 M', 'BUSTE CORNETTI KRAFT BIANCO KG 1X10 - MIS 14X28', 'STROFI. VELO PP MILLEUSI X 2ROTOLI', 'SPESE VARIE', 'BOMBIERI PORCHETTA', 'NESTLE FITNESS DELICE NOCCIOLA 24PZ BOX', 'BIRAGHI BIRALUNGO GR 100', 'RISERVA CARLO ALBERTO AMARO MANDRAGOLA 50CL', 'LA SALUMERIA PARMA DOCK PROSC. CRUDO PRESSATO DISSOSSATO', 'MONPIU PROSCIUTTO NAZIONALE DIS ADDOBO', 'Spese fisse', 'NATIA PET 1 LT X 12 BT', 'ACQUA NATIA 0.50 X 24 PET', 'FERRARELLE PET 1LT X 12 BT', 'ACQUA FERRARELLE 0,50 X 24 BT PET', 'BIRRA TENNENT&apos;S 33 CL', 'BIRRA BECK&apos;S 0.33 CL X 24 BT', 'CEDRATA  TASSONI 25 VPX 25 BT', 'RED BULL 0,25 X24 LT', 'ESTATHE&apos;  LATTINA LIMONE 033X24', 'ESTATHE&apos;  PESCA LATTINA 033X24', 'SCHWEPPES LIMONE 200 CL VAP X 24 VETRO', 'YOGA MAGIC  ACE 200X24', 'YOGA  MAGIC PESCA 200X24', 'YOGA MAGIC PERA 200X24', 'YOGA MAGIC ALB. 200X24', 'YOGA MAGIC ARANCIO 200X24', 'COCA COLA ZERO LATTINA SLEEK 033X24', 'COCA COLA LATTINA SLEEK 033 X 24', 'Descrizione: Canone di locazione n. 022 (comprensivo dellaquota di indicizzazione pari a -0,01) - Num. Pratica: 1000571 - Targa: FW639KK - Modello: A1147B', 'Descrizione: Rimborso Servizi - Num. Pratica: 1000571 - Targa: FW639KK - Modello: A1147B', 'CAPUTO FARINA - TIPO AMERICANA CARTA CF 25 KG', 'CAPUTO FARINA - TIPO 00 EXTRA CF 25 KG', 'SWEET D.e D. ZUCCHERO CF 25 KG', 'VANDEMOORTELE ***MIX*** GOLD CUP CROISSANT CF 15 KG COD. 405233', 'SUD ZUCHER ZUCCHERO SABBIA EXTRA FINO CF 25 KG', 'VANDEMOORTELE OLIO RISSO GIRASOLE ALTO OLEICO CF 10LT', 'VANDEMOORTELE MARGARINA ST ALLERY CROISSANT 15% KG COD. 413712', \"VANDEMOORTELE MARGARINA SANT'ALLERY CREMA 25% COD401981\", 'IRCA NOCCIOLATA ***** CF 13 KG COD. 1010151', 'Spese Varie', 'Riga ausiliaria contenente informazioni tecniche e aggiuntive del documento', 'AB3 MISCELA CREMA BAR CONFEZIONE DA Kg.3', '/D Lotto W38A', 'NB ZUCCHERO SEMOLATO IN BUSTINE', '/D Lotto 2002G0295G', 'N ZUCCHERO SEMOLATO ASTUCCI da Kg.1', '/D Lotto 2016F1297P', 'OZD DOLCIFICANTE IN DISPENSER DA 240 BST', '/D Lotto 5014F1296F', \"TV OMAGGIO BICCHIERINO VETRO PER CAFFE' ALL.DICH.CONFORMITA'\", '40 PIATTI COMP.RETT20X28CM MP', 'AB3 MISCELA CREMA BAR CONFEZIONE DA Kg.3', '/D Lotto V36Y', 'OZD DOLCIFICANTE IN DISPENSER DA 240 BST', '/D Lotto 5015F0998P', 'Energia F2', 'Imposta erariale di consumo- detrazione', 'Energia F2', 'TRASPORTO QUOTE VARIABILI', 'TRASPORTO QUOTE VARIABILI', 'Perdite di rete F3- detrazione', 'Perdite di rete F2', 'Perdite di rete F1', 'Energia F2- detrazione', 'Dispacciamento', 'Oneri Potenza', 'ONERI VARIABILI- detrazione', 'PCV parte variabile', 'PCV parte variabile- detrazione', 'PCV_F  Commercializzazione Vendita Parte Fissa', 'Energia F1', 'Perdite di rete F3', 'Perdite di rete F1- detrazione', 'TRASPORTO QUOTE VARIABILI- detrazione', 'ONERI FISSI', 'PCV parte variabile', 'Imposta erariale di consumo', 'Energia F1', 'Perdite di rete F1', 'Perdite di rete F2- detrazione', 'ONERI VARIABILI', 'ONERI VARIABILI', 'Perdite di rete F2', 'Imposta erariale di consumo', 'Energia F3- detrazione', 'TRASPORTO QUOTE FISSE', 'Perdite di rete F3', 'Aggregazione delle misure', 'Sbilanciamento- detrazione', 'TRASPORTO QUOTE POTENZA', 'TRASPORTO QUOTE POTENZA- detrazione', 'Dispacciamento', 'Energia F3', 'Dispacciamento- detrazione', 'Energia F3', 'Oneri Potenza', 'Oneri Potenza- detrazione', 'TRASPORTO QUOTE POTENZA', 'Componente di dispacciamento parte Fissa', 'Penale Reattiva 33%', 'Sbilanciamento', 'Energia F1- detrazione', 'Sbilanciamento', 'SALVI STRISCIA ORO H 7 CM', 'SALVI VASSOIO ORO MIS. 4 RETTANGOLARE MIS 4 CM 28 X 20  CF 10 KG', 'SALVI VASSOIO ORO MIS. 5 RETTANGOLARE MIS 5 CM 31 X 23 CF 10 KG', 'SALVI VASSOIO ORO MIS. 7 RETTANGOLARE MIS 7 CM 37 X 26 CF 10 KG', 'Spese Varie', 'Riga ausiliaria contenente informazioni tecniche e aggiuntive del documento', 'Perdite di rete F1', 'Perdite di rete F3- detrazione', 'Perdite di rete F3', 'Perdite di rete F2', 'Aggregazione delle misure', 'Perdite di rete F2- detrazione', 'Sbilanciamento- detrazione', 'Sbilanciamento', 'PCV parte variabile- detrazione', 'TRASPORTO QUOTE VARIABILI- detrazione', 'Energia F2- detrazione', 'Energia F1- detrazione', 'Energia F2', 'Energia F3- detrazione', 'Spese di incasso e sollecito ', 'Dispacciamento- detrazione', 'Energia F1', 'Energia F2', 'Energia F3', 'Perdite di rete F1', 'Perdite di rete F2', 'Perdite di rete F3', 'Sbilanciamento', 'Imposta erariale di consumo', 'Energia F1', 'PCV_F  Commercializzazione Vendita Parte Fissa', 'Perdite di rete F1- detrazione', 'Energia F3', 'Imposta erariale di consumo- detrazione', 'Dispacciamento', 'ONERI FISSI', 'ONERI VARIABILI', 'PCV parte variabile', 'TRASPORTO QUOTE FISSE', 'TRASPORTO QUOTE POTENZA', 'TRASPORTO QUOTE VARIABILI', 'ONERI VARIABILI', 'Oneri Potenza', 'Dispacciamento', 'Componente di dispacciamento parte Fissa', 'TRASPORTO QUOTE VARIABILI', 'ONERI VARIABILI- detrazione', 'PCV parte variabile', 'Imposta erariale di consumo', 'Spese per insoluto fattura', 'ELABORAZIONE CEDOLINI PAGA 09/2020', 'EXPO CUORI 24G LATTE', 'GOLD BUNNY LATTE 100G 16PZ', 'GOLD BUNNY LATTE 500G 8PZ', 'GOLD BUNNY LT 50G', 'UO NOCCIOR LATTE 390G', 'UO NOCCIOR LATTE 510G', 'UO NOCCIOR FONDENTE 390G', 'UO NOCCIOR BIANCO 610G', 'UO LINDOR SG LATTE 360G', 'UO LINDOR SG FOND70 360G', 'MAGGIORAZIONE SPESE INCASSO', 'N ZUCCHERO SEMOLATO ASTUCCI da Kg.1', '/D Lotto 1025F0892R', 'OZD DOLCIFICANTE IN DISPENSER DA 240 BST', '/D Lotto 5025F0998G', \"TOTN OMAGGIO TAZZE PUBBLICITARIE ALL.DICH.CONFORMITA'\", \"PIATN OMAGGIO PIATTINI PER TAZZE PUBBL.RIE ALL.DICH.CONFORMITA'\", \"TCAP OMAGGIO TAZZE PUBBLICITARIE CAPPUCC. ALL.DICH.CONFORMITA'\", 'TAZUC OMAGGIO ZUCCHERIERA PUBBLICITARIA', 'AB3 MISCELA CREMA BAR CONFEZIONE DA Kg.3', '/D Lotto W32A', 'N ZUCCHERO SEMOLATO ASTUCCI da Kg.1', '/D Lotto 2009F1053N', 'R-MASCH. MASCHERINA PUBBLICITARIA OMAGGIO N.2 PEZZI', 'S.M. SUPER PLUS CART 4X 6  KG', 'SPESE VARIE', 'TOV.VELO 30X30 PP T301   CART 8X500 PZ', 'CANDEGGINA CON SGRASSATORE 4X5  ( LT.20)', 'STROFI. VELO PP MILLEUSI X 2ROTOLI', 'UP DOWN COFFE 14X28', 'SPESE VARIE', 'PAC GEL CORNETTO 7 CEREALI E FRUTTI DI BOSCO CT 40 PZ X 80 GR', 'RUFFINI BAGNA ALCOLICA 70° BENEVENTO ELITE CF 2 LT', 'RUFFINI BAGNA ALCOLICA 70° PERLA NERA CF 2 LT', 'PAC GEL CONCHIGLIA GIANDUIA SUPERFARCITA CT GR 100 X 50 PZ', 'AMBROSIO AMARENA PASTICCERIA CF 4.7KG', 'VANDEMOORTELE ***MIX*** GOLD CUP CROISSANT CF 15 KG COD. 405233', 'CAPUTO FARINA - TIPO 00 EXTRA CF 25 KG', 'CAPUTO FARINA - TIPO AMERICANA CARTA CF 25 KG', 'SUD ZUCHER ZUCCHERO CF 25 KG', 'SUD ZUCHER ZUCCHERO SABBIA EXTRA FINO CF 25 KG', 'IRCA SURROGATO *****NOBEL BITTER***** CF 5 KG COD. 1010221', 'GOURMET LINE MIX CREAM AMIDO CF 10 KG', 'IRCA VIGOR LIEVITO IN POLVERE CF 1 KG   COD.70497', 'KITO ROTOLO PELLICOLA TRASP. 300MT', 'VANDEMOORTELE MARGARINA ST ALLERY CROISSANT 15% KG COD. 413712', \"VANDEMOORTELE MARGARINA SANT'ALLERY CREMA 25% COD401981\", 'CITROLO CIGARETTES **BOCCA LARGA** CF 1KG', 'VANDEMOORTELE OLIO RISSO GIRASOLE ALTO OLEICO CF 10LT', 'IRCA SCAGLIETTA ***** PURO FONDENTE ***** CF 1 KG   COD.40192', 'Spese Varie', 'Riga ausiliaria contenente informazioni tecniche e aggiuntive del documento', 'IGIEN BLU/KIR 150 BLU  CART. 9 X 1,5 LT  LAVAPIATTI CONC. IGIENIZZANTE', 'S.M. SUPER PLUS CART 4X 6  KG', 'AMBIENCE OFF SEASON   LT.5 X 4 TN  LINEA POM', 'DERMAGEL ML. 500X12  SUTTER CODICE 5668  P.M.C. GEL DISINFETTANTE', 'TOV.VELO 30X30 PP T301   CART 8X500 PZ', 'CANDEGGINA CON SGRASSATORE 4X5  ( LT.20)', 'BUSTE N.U.90X130 AMBRA KG 19                                     75 M', 'COPERCHIO IL PLASTICA BIBITA CALDA 237CK CONF 1000 PZ', 'STROFI. VELO PP MILLEUSI X 2ROTOLI', 'DIAMOND ZERO ECOLABEL 500ML. COD. 5553', 'TIPO 237 CKFB CARTA FSC MATER BI BIBITA CALDA UP DOWN', 'UP DOWN 17X34 KRAFT', 'SPESE VARIE', 'HAMBURGER', 'SALSICCE', 'CHEESTEACK', 'FERRERO NUTELLA CF 3 KG', 'SALVI STRISCIA ORO H 7 CM', 'SALVI VASSOIO ORO MIS. 4 RETTANGOLARE MIS 4 CM 28 X 20  CF 10 KG', 'SALVI VASSOIO ORO MIS. 5 RETTANGOLARE MIS 5 CM 31 X 23 CF 10 KG', 'SALVI VASSOIO ORO MIS. 6 RETTANGOLARE MIS 6 CM 35 X 25 CF 10 KG', 'SALVI VASSOIO ORO MIS. 7 RETTANGOLARE MIS 7 CM 37 X 26 CF 10 KG', 'SALVI VASSOIO ORO MIS. 8 RETTANGOLARE MIS 8 CM 42 X 31 CF 10 KG', 'MODECOR CANDELINE CON SUPPORTO ROSA CF 100 PZ COD.23003B', 'ELENKA PASTA NOCCIOLA LAURUS  CF 1 KG', 'Spese Varie', 'Riga ausiliaria contenente informazioni tecniche e aggiuntive del documento', 'CH CH CHOCO SNACK WHITE 6x40x20GR', 'CH CH ESP CHOCO BLOCK 40x45GR', 'SPEEDY BANDIDOS BOCCONCINI DI POLLO PICCANTI CF 2 KG', 'Spese Varie', 'Riga ausiliaria contenente informazioni tecniche e aggiuntive del documento', 'BITTER CAMPARI LITRO', 'MANDORLA SABADRINK 2 LITRI', 'APEROL BARBIERI LITRO', 'BAILEYS ORIGINAL LITRO', 'PECORINO TERRE DI CHIETI LA TESSA SPINELLI 75 CL', 'PROMOZIONE RIORDINO GINSENG LIGHT', \"CAFFE' AL GINSENG BS. 500gr. - SENZA GLUTINE\", \"CAFFE' AL GINSENG BS. 500gr. - SENZA GLUTINE\", \"CHIP ROSSO PER RICARICA CREDITI DISTRIBUTORE LED C/GARANZIA PER DISTR. IN COMODATO D'USO PER RICARICA GRUPPO 2 KG. 5,00\", 'Spese di trasporto', 'Descrizione: Canone di locazione n. 023 (comprensivo dellaquota di indicizzazione pari a -0,01) - Num. Pratica: 1000571 - Targa: FW639KK - Modello: A1147B', 'Descrizione: Rimborso Servizi - Num. Pratica: 1000571 - Targa: FW639KK - Modello: A1147B', 'Consegna mensile colazioni', 'G50 MINI UOVO EMOJI', 'G45 UOVO PRINCIPESSE/JURASSIC', 'DURACELL 4STILO ULTRAPOWER', 'G100 KINDER UOVO MAXI ESPO', 'G100 KINDER UOVO MAXI ESPO', 'BICCHIERE BIRRA NEWWEIZEN CL66', 'CELLOPHANE&PAPER BUSTE MOPLEFAN DA 1,5KG 40X50 CF 100 PZ', 'PAC GEL CORNETTO 7 CEREALI E FRUTTI DI BOSCO CT 40 PZ X 80 GR', \"PAC GEL CODA D'ARAGOSTA MICRO CT 5 KG\", 'CHIRICO GRANO COTTO PZ 1,7 KG', 'Spese Varie', 'Riga ausiliaria contenente informazioni tecniche e aggiuntive del documento', 'Manutenzione impianto elettrico presso vostra sede', 'CUCCHIAINO YOGURT-GRANITA 300PZ', 'LEONE MINILIO IN LEGNO 500PZ', 'ICONT ROT. FLOR ASTU.', 'SHOPPERS 500 USO INT.', 'ARISTEA KRIST.400CC PET 50PZ', 'BICCHIERE 166 TRASP. 30X100 PZ', 'BICCHIERI COFFEE CART.75ML', 'CAPUTO FARINA - TIPO 00R CF 25 KG', 'Riga ausiliaria contenente informazioni tecniche e aggiuntive del documento', 'DERATTIZZAZIONE DEL 30/09/2020', 'Riga ausiliaria contenente informazioni tecniche e aggiuntive del documento', 'PAC GEL CONCHIGLIA GIANDUIA SUPERFARCITA CT GR 100 X 50 PZ', 'PAC GEL CORNETTO 7 CEREALI E FRUTTI DI BOSCO CT 40 PZ X 80 GR', 'CITROLO CANNOLO CIOCCOLATO GRANDE CT 108 PZ', 'Spese Varie', 'Riga ausiliaria contenente informazioni tecniche e aggiuntive del documento', 'CRICK CROCK GR400X9PZ', 'ARACHIDI 1KG AMICA', 'SALATINI MIX500GR', 'ARACHIDI PICCANTI GR500X6PZ', 'CRIK GR180X16PZ', 'Documento di trasporto n. 152 del  3/07/2020', \"SOUFFLE' A CIOCCOLATO\", 'Documento di trasporto n. 167 del 11/07/2020', 'PANCAKE', 'Documento di trasporto n. 173 del 18/07/2020', 'WAFFEL (40pz.)', 'PANCAKE', 'Documento di trasporto n. 190 del 27/07/2020', \"SOUFFLE' A CIOCCOLATO (12pz.)\", \"SOUFFLE' CIOCCOLATO BIANCO (12pz.)\", 'PANCAKE (40pz.)', 'Documento di trasporto n. 201 del  1/08/2020', 'PANCAKE (50pz.)', 'WAFFEL (40pz.)', 'Documento di trasporto n. 234 del 19/08/2020', \"SOUFFLE' A CIOCCOLATO (12pz.)\", 'WAFFEL', 'WAFFEL MAXI (54pz.)', 'PANCAKE (40pz.)', 'Documento di trasporto n. 237 del 21/08/2020', \"SOUFFLE' CIOCCOLATO BIANCO (12PZ.)\", 'Documento di trasporto n. 260 del  3/09/2020', 'PANCAKE (100gr.x40pz.)', 'Documento di trasporto n. 274 del 11/09/2020', \"SOUFFLE' A CIOCCOLATO (12pz.)\", 'Documento di trasporto n. 287 del 18/09/2020', 'PANCAKE (100gr.x40pz.)', \"SOUFFLE' A CIOCCOLATO (12pz.)\", 'Documento di trasporto n. 300 del 29/09/2020', 'WAFFEL (40pz.)', 'PANCAKE (50pz.)', 'Documento di trasporto n. 308 del  3/10/2020', \"SOUFFLE' A CIOCCOLATO (12PZ.)\", 'PANCAKE (50PZ.)', 'Documento di trasporto n. 319 del 14/10/2020', 'PANCAKE', 'Documento di trasporto n. 336 del  7/11/2020', \"SOUFFLE' A CIOCCOLATO (12pz.)\", 'PANCAKE', 'CRICK CROCK GR400X9PZ', 'PLUS ORIGINAL GR100X15PZ', 'CRIK GR180X16PZ', 'CRIK GR70X12PZ SAPMED/LIMEeP.ROSA', 'CROSTINI/GRISS.GR500X6PZ', 'SALATINI MIX500GR', 'ARACHIDI PICCANTI GR500X6PZ', 'ARACHIDI 1KG AMICA', 'Merce a  723859  UP DOWN COFFEE SRL    VIA CAMPI FLEGREI,80  POZZUOLI  NA', 'LATTE PAS.MAT.AQ.B.PET 1LFLASH', 'PANNA PAST.MAT.35% REX  1000ML', 'LATTE PAS.MAT.AQ.B.PET 1LFLASH', 'RUCOLA FRESCHI GERMOGLI', 'LATTE PAS.MAT.AQ.B.PET 1LFLASH', 'LATTE PAS.MAT.AQ.B.PET 1LFLASH', 'AROMI MISTI 30gX6', 'RUCOLA FRESCHI GERMOGLI', 'LATTE UHT MAT.SCR.Edge 1000ML', 'BURRO MAT.POLITENE PANI 1000GR', 'PANNA PAST.MAT.35% REX  1000ML', 'LATTE PAS.MAT.AQ.B.PET 1LFLASH', 'PANNA PAST.MAT.35% REX  1000ML', 'LATTE PAS.MAT.AQ.B.PET 1LFLASH', 'PROSC COTTO INT GRANROSA 73%', 'LATTE PAS.MAT.AQ.B.PET 1LFLASH', 'BURRO MAT.POLITENE PANI 1000GR', 'LATTE PAS.MAT.AQ.B.PET 1LFLASH', 'LAT MAT.ALTA PAST.PS AD 1L', 'LATTE PAS.MAT.AQ.B.PET 1LFLASH', 'LATTE PAS.MAT.AQ.B.PET 1LFLASH', 'RUCOLA FRESCHI GERMOGLI', 'PROSC COTTO INT GRANROSA 73%', 'MASCARPONE 6X250G OPTIMUS VASS', 'PANNA PAST.MAT.35% REX  1000ML', 'FORM.MAT.MATESETTE    18X175GR', 'LATTE PAS.MAT.AQ.B.PET 1LFLASH', 'PANNA PAST.MAT.35% REX  1000ML', 'BURRO MAT.POLITENE PANI 1000GR', 'LATTE PAS.MAT.AQ.B.PET 1LFLASH', 'LATTE UHT MAT.SCR.Edge 1000ML', 'BURRO MAT.POLITENE PANI 1000GR', 'LATTE PAS.MAT.AQ.B.PET 1LFLASH', 'LATTE PAS.MAT.AQ.B.PET 1LFLASH', 'LATTE PAS.MAT.AQ.B.PET 1LFLASH', 'RUCOLA FRESCHI GERMOGLI', 'FORM.MAT.MATESETTE    18X175GR', 'LATTE PAS.MAT.AQ.B.PET 1LFLASH', 'AROMI MISTI 30gX6', 'LATTE UHT MAT.SCR.Edge 1000ML', 'LATTE PAS.MAT.AQ.B.PET 1LFLASH', 'RUCOLA FRESCHI GERMOGLI', 'LAT MAT.ALTA PAST.PS AD 1L', 'PANNA PAST.MAT.35% REX  1000ML', 'LATTE PAS.MAT.AQ.B.PET 1LFLASH', 'SORRISO POL.BEVANDA SOIA 1Lx10', 'LATTE UHT MAT.SCR.Edge 1000ML', 'BURRO MAT.POLITENE PANI 1000GR', 'LATTE PAS.MAT.AQ.B.PET 1LFLASH', 'PANNA PAST.MAT.35% REX  1000ML', 'LATTE PAS.MAT.AQ.B.PET 1LFLASH', 'PROSC COTTO INT GRANROSA 73%', 'FORM.MAT.MATESETTE    18X175GR', 'PANNA PAST.MAT.35% REX  1000ML', 'LATTE PAS.MAT.AQ.B.PET 1LFLASH', 'WUERSTEL PURO SUINO SENFTER250', 'PANNA PAST.MAT.35% REX  1000ML', 'LAT MAT.ALTA PAST.PS AD 1L', 'LATTE PAS.MAT.AQ.B.PET 1LFLASH', 'AROMI MISTI 30gX6', 'LATTE UHT MAT.SCR.Edge 1000ML', 'FORM.MAT.MATESETTE    18X175GR', 'MASCARPONE 6X250G OPTIMUS VASS', 'LATTE PAS.MAT.AQ.B.PET 1LFLASH', 'PROSC COTTO INT GRANROSA 73%', 'FORM.MAT.MATESETTE    18X175GR', 'PANNA PAST.MAT.35% REX  1000ML', 'LATTE PAS.MAT.AQ.B.PET 1LFLASH', 'RUCOLA FRESCHI GERMOGLI', 'PROSC COTTO INT GRANROSA 73%', 'BURRO MAT.POLITENE PANI 1000GR', 'LATTE PAS.MAT.AQ.B.PET 1LFLASH', 'LAT MAT.ALTA PAST.PS AD 1L', 'LATTE PAS.MAT.AQ.B.PET 1LFLASH', \"Assolve agli obblighi di cui all'art.62, comma 1, del decreto legge 24 gennaio 2012, n.1,\", 'convertito, con modificazioni, dalla legge 24 marzo 2012, n.27', 'Contributo ambientale CONAI assolto, ove dovuto.', 'INAB NASTRO DIAMANTATO ORO LARGO CF 5 PZ', 'SALVI STRISCIA ORO H 7 CM', 'SALVI VASSOIO ORO MIS. 2 RETTANGOLARE MIS 2 CM 20 X 14 CF 10 KG', 'SALVI VASSOIO ORO MIS. 3 RETTANGOLARE MIS 3 CM 23 X 16 CF 10 KG', 'SALVI VASSOIO ORO MIS. 4 RETTANGOLARE MIS 4 CM 28 X 20  CF 10 KG', 'SALVI VASSOIO ORO MIS. 6 RETTANGOLARE MIS 6 CM 35 X 25 CF 10 KG', 'SALVI VASSOIO ORO MIS. 8 RETTANGOLARE MIS 8 CM 42 X 31 CF 10 KG', 'SALVI VASSOIO ORO MIS. 9 RETTANGOLARE MIS 9 CM 47 X 34 CF 10 KG', 'SALVI VASSOIO ORO MIS. 5 RETTANGOLARE MIS 5 CM 31 X 23 CF 10 KG', 'FERRERO NUTELLA CF 3 KG', 'Spese Varie', 'Riga ausiliaria contenente informazioni tecniche e aggiuntive del documento', 'SALVI STRISCIA ORO H 7 CM', 'SALVI VASSOIO ORO MIS. 1 RETTANGOLARE MIS 1 CM 17 X 12 CF 10 KG', 'SALVI VASSOIO ORO MIS. 2 RETTANGOLARE MIS 2 CM 20 X 14 CF 10 KG', 'SALVI VASSOIO ORO MIS. 3 RETTANGOLARE MIS 3 CM 23 X 16 CF 10 KG', 'SALVI VASSOIO ORO MIS. 6 RETTANGOLARE MIS 6 CM 35 X 25 CF 10 KG', 'Spese Varie', 'Riga ausiliaria contenente informazioni tecniche e aggiuntive del documento', '150+150 PZ. LATTA MAOPOP+RIC.', 'TRASPORTO QUOTE POTENZA- detrazione', 'PCV parte variabile', 'ONERI FISSI', 'Perdite di rete F3- detrazione', 'Perdite di rete F2', 'Perdite di rete F1', 'Energia F1', 'Imposta erariale di consumo- detrazione', 'TRASPORTO QUOTE FISSE', 'PCV parte variabile', 'Perdite di rete F2- detrazione', 'Perdite di rete F1- detrazione', 'Imposta erariale di consumo', 'Energia F2- detrazione', 'Perdite di rete F3', 'Dispacciamento', 'TRASPORTO QUOTE VARIABILI- detrazione', 'Sbilanciamento- detrazione', 'TRASPORTO QUOTE VARIABILI', 'Energia F3', 'Energia F2', 'Dispacciamento- detrazione', 'Oneri Potenza', 'TRASPORTO QUOTE POTENZA', 'Oneri Potenza- detrazione', 'Sbilanciamento', 'Energia F3', 'Energia F1', 'Oneri Potenza', 'ONERI VARIABILI', 'ONERI VARIABILI', 'Perdite di rete F3', 'Aggregazione delle misure', 'Imposta erariale di consumo', 'Energia F2', 'ONERI VARIABILI- detrazione', 'PCV parte variabile- detrazione', 'Energia F3- detrazione', 'Perdite di rete F2', 'PCV_F  Commercializzazione Vendita Parte Fissa', 'Energia F1- detrazione', 'TRASPORTO QUOTE POTENZA', 'TRASPORTO QUOTE VARIABILI', 'Componente di dispacciamento parte Fissa', 'Sbilanciamento', 'Perdite di rete F1', 'Dispacciamento', 'BITTER CAMPARI LITRO', 'GIN TANQUERAY 70 CL', 'GIN GORDONS LITRO', 'APEROL BARBIERI LITRO', 'SCIROPPO FRAGOLA MONIN 70 CL', 'SCIROPPO DI COCCO MONIN 70 CL', 'ZUCCHERO DI CANNA LIQUIDO BOERO 75 CL', 'CRANBERRY FRUIT GOLD LITRO', 'PESCA FRUIT GOLD LITRO', 'MANDORLA SABADRINK 2 LITRI', 'MENTA SABA 2 LITRI', 'GIN GORDONS LITRO', 'TRIPLE SEC DE KUYPER 70 CL', 'VODKA SMIRNOFF RED LITRO', 'AMARO JEFFERSON IMPORTANTE 70 CL', 'VODKA FRAGOLA LITRO KEGLEVICH ', 'RUM PAMPERO BLANCO LITRO', 'GIN TANQUERAY TEN LITRO', 'WHISKY JB  LITRO', 'AMARETTO DISARONNO LITRO', 'RUM DIPLOMATICO RESERVA EXCLUSIVA 70 CL TUBO', 'SAMBUCA MOLINARI LITRO', 'BLUE CURACAO DE KUYPER 70 CL', 'AMARO FERNET BRANCA LITRO', 'LIMONCELLO DESIRE LITRO', 'AMARO JAGERMEISTER LITRO ', 'AMARO DEL CAPO LITRO', 'BAILEYS ORIGINAL LITRO', 'TEQUILA SILVER CUERVO LITRO', 'APEROL BARBIERI LITRO', 'BAILEYS CHOCOLAT LUXE 50 CL', 'BITTER CAMPARI LITRO', 'MARTINI ROSSO LITRO', 'VODKA MELONE LITRO KEGLEVICH', 'CILIEGIE DA COKTAIL ROSSE 950 GR NATURERA', 'VODKA BELVEDERE LITRO', 'SAINT GERMAIN LIQUORE AL SAMBUCO 70 CL', 'ANTICA FORMULA CARPANO LITRO', 'SALVI VASSOIO ORO MIS. 4 RETTANGOLARE MIS 4 CM 28 X 20  CF 10 KG', 'SALVI STRISCIA ORO H 7 CM', 'FERRERO NUTELLA CF 3 KG', 'Spese Varie', 'Riga ausiliaria contenente informazioni tecniche e aggiuntive del documento', 'CUCCHIAINO YOGURT-GRANITA 300PZ', 'ICONT ROT. FLOR ASTU.', \"PALETTE GIRA CAFE' 1000PZ IMB.\", 'SHOPPERS 500 USO INT.', 'BICCHIERI COFFEE CART.75ML', 'COPERCHIO BICCH. 75 ML COVER', 'BICCHIERI COFFEE CART.75ML   G.P.', 'COPERCHIO BICCH. 75 ML COVER   G.P.', 'NATIA PET 1 LT X 12 BT', 'ACQUA NATIA 0.50 X 24 PET', 'FERRARELLE PET 1LT X 12 BT', 'ACQUA FERRARELLE 0,50 X 24 BT PET', 'BIRRA CORONA 0.35,5 X 24 BT', 'BIRRA TENNENT&apos;S 33 CL', 'BIRRA BECK&apos;S 0.33 CL X 24 BT', 'BIRRA HEINEKEN 0.33 CL X 24 BT', 'BIRRA HEINEKEN 0.66 X 15 BT', 'BIRRA CERES 0.33 CL X 24 BT', 'YOGA ANANAS PET 1 LT', 'YOGA ARANCIA PET 1 LT', 'COCA COLA  PET 2 LT X 6 BT', 'S. PELLEGRINO COCKTAIL BIANCO 20 CL 24 VAP', 'CAMPARI SODA VP 18 CL  X 100', 'CRODINO CL X 10X 48', 'S.PELLEGRINO BITTER BIANCO X 40', 'S.PELLEGRINO BITTER ROSSO X 40', 'CEDRATA  TASSONI 25 VPX 25 BT', 'COCA COLA LATTINA SLEEK 033 X 24', 'COCA COLA ZERO LATTINA SLEEK 033X24', 'RED BULL 0,25 X24 LT', 'S. PELLEGRINO CHINO&apos; 200 X 24 VP', 'FI-GA  GUARANA FRUIT FUSION 250X 24 LATT', 'FANTA LATTINA SLEEK 033X24', 'CRODINO TWIST FRUTTI ROSSI X 24 BT', 'ESTATHE&apos;  LATTINA LIMONE 033X24', 'ESTATHE&apos;  PESCA LATTINA 033X24', 'SPRITE LATTINA SLEEK 033 X 24', 'LEMONSODA 200 X 24', 'SCHWEPPES TONICA 200 CL VAP X 24 VETRO', 'SCHWEPPES LIMONE 200 CL VAP X 24 VETRO', 'SCHWEPPES ARANCIA 200 ML X 24 VAP VETRO', 'YOGA MAGIC  ACE 200X24', 'YOGA  MAGIC PESCA 200X24', 'YOGA MAGIC PERA 200X24', 'YOGA MAGIC ANANAS X24 BT', 'YOGA MAGIC MIRTILLO 200X24', 'YOGA MAGIC ALB. 200X24', 'YOGA MAGIC MELA VERDE 200X24', 'YOGA MAGIC  POMPELMO 200X24', 'YOGA MAGIC ARANCIO 200X24', 'ACQUA ESSENZIALE PET 1 LT X 6', 'THE FUZE PESCA 400 X 12', 'THE FUZE LEMON 400 X 12', 'MONSTER ENERGY CLASSIC 500X24', 'POWERADE CITRUS  PET X 12 BT500', 'POWERADE ORANGE PET 500X12', 'GIN HENDRICKS LITRO', 'GIN MARE 70 CL', 'GIN BOMBAY SAPPHIRE LITRO', 'VODKA BELVEDERE LITRO', 'RUM DON PAPA 70 CL', 'GIN GORDONS LITRO', 'VODKA SMIRNOFF RED LITRO', 'CILIEGIE DA COKTAIL ROSSE 950 GR NATURERA', 'LIQUORE AL SAMBUCO DE KUYPER 70 CL', 'SAINT GERMAIN LIQUORE AL SAMBUCO 70 CL', 'DECORA SOTTOTORTA QUADRATO DORATO 55X55 H1.2 COD. 0931721', 'Spese Varie', 'Riga ausiliaria contenente informazioni tecniche e aggiuntive del documento', 'IRCA SCAGLIETTA ***** PURO FONDENTE ***** CF 1 KG   COD.40192', 'Spese Varie', 'Riga ausiliaria contenente informazioni tecniche e aggiuntive del documento', 'CITROLO SIQULO SUGNU CANNOLO MIGNON CHIARO CT 3 KG', 'POLIART POLISTIROLO EPS 30 CM H 10 CM', 'POLIART POLISTIROLO EPS 30 CM H 5 CM', 'Spese Varie', 'Riga ausiliaria contenente informazioni tecniche e aggiuntive del documento', 'REVIVA PIROTTINO MUFFIN 2° ONCE (GRANDE)', 'Spese Varie', 'Riga ausiliaria contenente informazioni tecniche e aggiuntive del documento', 'SUD ZUCHER ZUCCHERO CF 25 KG', 'RUFFINI BAGNA ALCOLICA 70° PERLA NERA CF 2 LT', 'IRCA NOCCIOLATA BIANCA *****  CF 5 KG COD. 1010708', 'Spese Varie', 'Riga ausiliaria contenente informazioni tecniche e aggiuntive del documento', 'Descrizione: Canone di locazione n. 024 (comprensivo dellaquota di indicizzazione pari a -0,01) - Num. Pratica: 1000571 - Targa: FW639KK - Modello: A1147B', 'Descrizione: Rimborso Servizi - Num. Pratica: 1000571 - Targa: FW639KK - Modello: A1147B', 'Energia F3- detrazione', 'Perdite di rete F1', 'Perdite di rete F2- detrazione', 'Perdite di rete F1', 'Perdite di rete F3- detrazione', 'Perdite di rete F2', 'Sbilanciamento', 'Componente di dispacciamento parte Fissa', 'PCV parte variabile', 'PCV_F  Commercializzazione Vendita Parte Fissa', 'Energia F1', 'Spese di incasso e sollecito ', 'Dispacciamento- detrazione', 'Dispacciamento', 'Energia F1', 'Dispacciamento', 'Energia F1- detrazione', 'Energia F2', 'Perdite di rete F1- detrazione', 'Energia F3', 'Perdite di rete F2', 'Perdite di rete F3', 'Imposta erariale di consumo', 'Interessi di mora', 'Interessi di mora', 'Energia F2', 'Energia F2- detrazione', 'Energia F3', 'Interessi di mora', 'Sbilanciamento', 'ONERI VARIABILI- detrazione', 'TRASPORTO QUOTE POTENZA', 'Oneri Potenza', 'ONERI VARIABILI', 'Oneri Potenza- detrazione', 'TRASPORTO QUOTE VARIABILI', 'TRASPORTO QUOTE POTENZA', 'Penale Reattiva 33%', 'ONERI FISSI', 'PCV parte variabile- detrazione', 'Oneri Potenza', 'TRASPORTO QUOTE VARIABILI- detrazione', 'TRASPORTO QUOTE POTENZA- detrazione', 'Imposta erariale di consumo', 'Interessi di mora', 'Sbilanciamento- detrazione', 'Perdite di rete F3', 'Aggregazione delle misure', 'PCV parte variabile', 'ONERI VARIABILI', 'TRASPORTO QUOTE FISSE', 'TRASPORTO QUOTE VARIABILI', 'Spese per insoluto fattura', 'Imposta erariale di consumo- detrazione', 'CRICK CROCK GR400X9PZ', 'CRIK GR180X16PZ', 'CROSTINI/GRISS.GR500X6PZ', 'SALATINI MIX500GR', 'CHIACCHIERE KG 2', 'ARACHIDI 1KG AMICA', 'IRCA RAINBOW PASTE BLACK CF 1 KG   COD.60230', 'IRCA RAINBOW PASTE BLUE CF 1 KG    COD.60231', 'IRCA RAINBOW PASTE YELLOW CF 1 KG   COD.60238', 'POLIART POLISTIROLO EPS 30 CM H 10 CM', 'CAPUTO FARINA - TIPO 00 EXTRA CF 25 KG', 'CAPUTO FARINA - TIPO AMERICANA CARTA CF 25 KG', 'VANDEMOORTELE ***MIX*** GOLD CUP CROISSANT CF 15 KG COD. 405233', 'SUD ZUCHER ZUCCHERO CF 25 KG', 'SUD ZUCHER ZUCCHERO SABBIA EXTRA FINO CF 25 KG', 'IRCA NOCCIOLATA ***** CF 13 KG COD. 1010151', 'DECORA SOTTOTORTA TONDO ARGENTO D45 H1.2 COD. 0931210', 'IRCA PASSATA ALBICOCCA***** ORO ***** CF 14 KG   COD.30340', 'IFFCO PANNA GRAN CUCINA 500 ML CT 20 PZ', 'TORRENTE PASSATA POMODORO CON BASILICO CT 12 X 700 GR', \"VANDEMOORTELE MARGARINA SANT'ALLERY CREMA 25% COD401981\", 'VANDEMOORTELE MARGARINA ST ALLERY CROISSANT 15% KG COD. 413712', 'VANDEMOORTELE MARGARINA OPAL CREMA KG COD 412834', 'AMBROSIO VISCIOLA CF 4,7 KG', 'SALE FINO SICILIA CT 12 X 1 KG', 'CELLOPHANE & PAPER CARTA DA FORNO 40X60 CF 500PZ', 'AIA WURSTEL WUDY PURO SUINO CT 35CF X 100GR', 'GOURMET LINE GRANELLA PISTACCHIO CF 1 KG', 'Spese Varie', 'Riga ausiliaria contenente informazioni tecniche e aggiuntive del documento', 'C076-77199759-80050117-KINDER SORPRESA IMBUTITO T1X48 PZ B', 'CONTRIBUTO CONAI-C076-77199759-80050117-KINDER SORPRESA IMBUTITO T1X48 PZ B', '346A-77145723-80050278-ROCHER T3X16 FLO/W N/FMTELLO', 'CONTRIBUTO CONAI-346A-77145723-80050278-ROCHER T3X16 FLO/W N/FMTELLO', 'B965-77155555-40084084-MON CHERI CIL T5X15X6 A/BU B', 'CONTRIBUTO CONAI-B965-77155555-40084084-MON CHERI CIL T5X15X6 A/BU B', 'D583-77207664-8000500359358-NUTELLA BISCUITS T3X30 FLOW B', 'CONTRIBUTO CONAI-D583-77207664-8000500359358-NUTELLA BISCUITS T3X30 FLOW B', 'CUCCHIAINI MOKA', 'LEONE CANNUCCIE TRASP 1000PZ', 'ICONT ROT. FLOR ASTU.', 'SHOPPERS 500 USO INT.', 'BICCHIERI TRASP. 166cc MAJOR', 'DOPLA KRISTAL 100CC 50 PZ', 'DOPLA KRITAL 205CC 50PZ', 'ARISTEA KRIST.250CC PET 50PZ', 'ARISTEA KRIST.400CC PET 50PZ', 'NOVASE. PIROTTINO BASSO PANETTONE 1KG (M.210/70) COD.G9F16009', 'IRCA GRANELLA DI CROCCANTE CF 1 KG    COD.90628', 'Spese Varie', 'Riga ausiliaria contenente informazioni tecniche e aggiuntive del documento', 'PRIMAT PIPING JELL NEUTRO CF 1.3KG', 'ALCAS VASSOIO GOGO RETTANGOLARE CF 40 PEZZI', 'CAPUTO FARINA - TIPO 00 EXTRA CF 25 KG', 'CAPUTO FARINA - TIPO AMERICANA CARTA CF 25 KG', 'VANDEMOORTELE ***MIX*** GOLD CUP CROISSANT CF 15 KG COD. 405233', 'SUD ZUCHER ZUCCHERO SABBIA EXTRA FINO CF 25 KG', 'SWEET D.e D. ZUCCHERO CF 25 KG', 'MULINO BIANCO PAN DI STELLE CT 12 PZ X 700 GR', 'PININ PERO ZUCCHERO VELO CF 5 KG', 'CELLOPHANE & PAPER CARTA DA FORNO 40X60 CF 500PZ', 'ALCAS VASC. FANTASIA CRIST CON COPERCHIO MIS 1 CT 50PZ', 'GOURMET LINE MIX CREAM AMIDO CF 10 KG', 'VANDEMOORTELE OLIO RISSO GIRASOLE ALTO OLEICO CF 10LT', 'PREGEL PANNA CREMA LIMONE CF 1,1 KG', 'SALE FINO SICILIA CT 12 X 1 KG', 'AMBROSIO VISCIOLA CF 4,7 KG', 'VANDEMOORTELE MARGARINA ST ALLERY CROISSANT 15% KG COD. 413712', \"VANDEMOORTELE MARGARINA SANT'ALLERY CREMA 25% COD401981\", 'TORRENTE PASSATA POMODORO CON BASILICO CT 12 X 700 GR', 'BONDUELLE MAIS DOLCE 3 PZ X 300 GR', 'IFFCO PANNA GRAN CUCINA 500 ML CT 20 PZ', 'IRCA CHOCOCREAM ***** INDUSTRY BIANCO ***** CF 13 KG COD. 1010853', 'IRCA PASSATA ALBICOCCA***** ORO ***** CF 14 KG   COD.30340', 'MODECOR SAC A POCHE GRIPY 28X53 - CF.100 PZ. - COD. 30301', 'IRCA CHOCOCREAM ***** PISTACCHIO ***** CF KG 5     COD.10958', 'REVIVA PIROTTINI OVALI COLORATI MIS 3 CF 1000 PZ', \"COOPERLAT PREP. VEG. HOPLA' EASY TOP  1LT\", \"BAKER'S LIEVITO FRESCO PAKMAYA PZ 500 GR\", 'RUFFINI BAGNA ALCOLICA 70° PERLA NERA CF 2 LT', 'ERIDANIA ZUCCHERO DI CANNA BUSTA CF 1 KG TROPICAL CASSONADE', 'PAC GEL CONCHIGLIA GIANDUIA SUPERFARCITA CT GR 100 X 50 PZ', 'PAC GEL CORNETTO 7 CEREALI E FRUTTI DI BOSCO CT 40 PZ X 80 GR', 'IDCAM CODA ARAGOSTA - MICRO CT 7 KG     COD.AKA014', 'PAC GEL SFOGLIATA RICCIA MIGNON GR 30 CT 5 KG', 'PAC GEL SFOGLIATA SEMIDOLCE RUSTICA CT 4 KG', 'PAC GEL SFOGLIATELLA RUSTICA CON FRIARIELLI CT 4 KG', 'PAC GEL RUSTICI MIGNON GR 27 ASSORTITI CT 6 KG', 'AMBROSIO CUBETTI ARANCIA 6X6 CT 5 KG', 'CITROLO CANNOLI CIOCCOLATO MIGNON CT 3.5 KG', 'GOURMET LINE TARTELLETTA FROLLA MIGNON MM 44 CT 250 PZ 00002', 'IRCA NOCCIOLATA ***** CF 13 KG COD. 1010151', 'Spese Varie', 'Riga ausiliaria contenente informazioni tecniche e aggiuntive del documento', 'GOURMET LINE MIX CREAM AMIDO CF 10 KG', 'Spese Varie', 'Riga ausiliaria contenente informazioni tecniche e aggiuntive del documento', 'AB3 MISCELA CREMA BAR CONFEZIONE DA Kg.3', '/D Lotto W53B', 'N ZUCCHERO SEMOLATO ASTUCCI da Kg.1', '/D Lotto 2016F1297P', \"DECL LATTINE DI CAFFE'DECAFFEINATO GR.250\", '/D Lotto T05M', 'MODECOR TARG. PICCOLA TONDA CC FOND.-GIALLO **UP DOWN** CF 1020PZ', 'Spese Varie', 'Riga ausiliaria contenente informazioni tecniche e aggiuntive del documento', 'CUCCHIAINO YOGURT-GRANITA 300PZ', 'LEONE MINILIO IN LEGNO 500PZ', 'ICONT ROT. FLOR ASTU.', 'BICCHIERI COFFEE CART.75ML', 'COPERCHIO BICCH. 75 ML COVER', 'CUCCHIAINI MOKA', 'ICONT ROT. FLOR ASTU.', 'LEONE MINILIO IN LEGNO 500PZ', 'SHOPPERS 500 USO INT.', 'COPERCHIO BICCH. 75 ML COVER', 'BICCHIERI COFFEE CART.75ML', 'AMBIENCE OFF SEASON   LT.5 X 4 TN  LINEA POM', 'TOV.VELO 30X30 PP T301   CART 8X500 PZ', 'STROFI. VELO PP MILLEUSI X 2ROTOLI', 'BLACK NITRO WALKING 100PZ LARGE GR 4', 'SPESE VARIE', 'ST.GOLIA ACTIV PLUS X 24 IT', 'FRUITTELLA FR.ASS.X 20 ST.', 'VIGORSOL AIR ACTION X 40', 'LEONE CANNUCCIE TRASP 1000PZ', 'CUCCHIAINI MOKA', 'ICONT ROT. FLOR ASTU.', 'LEONE MINILIO IN LEGNO 500PZ', 'SHOPPERS 500 USO INT.', 'ARISTEA KRIST.250CC PET 50PZ', 'BICCHIERI TRASP. 166cc MAJOR', 'DOPLA KRISTAL 100CC 50 PZ', 'IRCA SURROGATO *****NOBEL BITTER***** CF 5 KG COD. 1010221', 'Riga ausiliaria contenente informazioni tecniche e aggiuntive del documento', 'SALVI STRISCIA ORO H 7 CM', 'SALVI VASSOIO ORO MIS. 4 RETTANGOLARE MIS 4 CM 28 X 20  CF 10 KG', 'SALVI VASSOIO ORO MIS. 5 RETTANGOLARE MIS 5 CM 31 X 23 CF 10 KG', 'SALVI VASSOIO ORO MIS. 6 RETTANGOLARE MIS 6 CM 35 X 25 CF 10 KG', 'SALVI VASSOIO ORO MIS. 7 RETTANGOLARE MIS 7 CM 37 X 26 CF 10 KG', 'ELENKA PASTA NOCCIOLA LAURUS  CF 1 KG', 'FERRERO NUTELLA CF 3 KG', 'Spese Varie', 'Riga ausiliaria contenente informazioni tecniche e aggiuntive del documento', '0617-77187755-80052760-KINDER BUENO T2X30 ORZ REST', 'A513-77199580-8000500131329-NUTELLA G3000X2 SCC/PRT F/SER', '6287-77187749-80761761-KINDER BUENO WH T2X30 VRT REST', 'C076-77199759-80050117-KINDER SORPRESA IMBUTITO T1X48 PZ B', 'DOBLA SANT SOCK CF 132PZ COD.78357', 'DOBLA HOLLY LEAF GREEN WITH BERRY CF 182PZ COD.78242 / 78351', 'DOBLA WINTER TREE CF 165PZ COD.77158', 'CAPUTO FARINA - TIPO 00 EXTRA CF 25 KG', 'CAPUTO FARINA - TIPO AMERICANA CARTA CF 25 KG', 'Spese Varie', 'Riga ausiliaria contenente informazioni tecniche e aggiuntive del documento', 'DECORA SOTTOTORTA QUADRATO ARGENTO 30X30 H1.2 COD. 0931613', 'Spese Varie', 'Riga ausiliaria contenente informazioni tecniche e aggiuntive del documento', 'POLIART POLISTIROLO EPS 30 CM H 5 CM', 'SOLCHIM COLORE ORO PERLATO IN POLVERE CF 25 GR', 'IDCAM TAPPI GRANDI CT 150 PZ', 'IRCA MIRROR NEUTRAL CF 3 KG   COD.30352', 'Spese Varie', 'Riga ausiliaria contenente informazioni tecniche e aggiuntive del documento', 'DERATTIZZAZIONE DEL 26/01/2021', 'Riga ausiliaria contenente informazioni tecniche e aggiuntive del documento', 'Oneri Potenza- detrazione', 'PCV_F  Commercializzazione Vendita Parte Fissa- detrazione', 'Imposta erariale di consumo- detrazione', 'Dispacciamento- detrazione', 'Energia F1- detrazione', 'Energia F2- detrazione', 'Energia F3- detrazione', 'Perdite di rete F1- detrazione', 'Perdite di rete F2- detrazione', 'Aggregazione delle misure- detrazione', 'Perdite di rete F3- detrazione', 'Sbilanciamento- detrazione', 'Componente di dispacciamento parte Fissa- detrazione', 'PCV parte variabile- detrazione', 'ONERI FISSI- detrazione', 'ONERI VARIABILI- detrazione', 'TRASPORTO QUOTE FISSE- detrazione', 'TRASPORTO QUOTE POTENZA- detrazione', 'TRASPORTO QUOTE VARIABILI- detrazione', 'DDT n. 000739 - 18/09/2020', 'VINO BIANCO BOTT. 1,00', 'Corrispettivo comprensivo del Contributo ambientale Conai già assolto', 'HAMBURGER', 'SALSICCE', 'CHEESTEACK', 'Etichetta poliestere adesiva 80x45mm', 'etichetta poliestere adesiva 45x45mm', 'Consegna mensile colazioni', 'NATIA PET 1 LT X 12 BT', 'ACQUA NATIA 0.50 X 24 PET', 'FERRARELLE PET 1LT X 12 BT', 'ACQUA FERRARELLE 0,50 X 24 BT PET', 'ACQUA ESSENZIALE PET 1 LT X 6', 'BIRRA HEINEKEN 0.33 CL X 24 BT', 'BIRRA TENNENT&apos;S 33 CL', 'CRODINO CL X 10X 48', 'S. PELLEGRINO COCKTAIL ROSSO X 24 BT', 'S.PELLEGRINO BITTER BIANCO X 40', 'CEDRATA  TASSONI 25 VPX 25 BT', 'COCA COLA ZERO LATTINA SLEEK 033X24', 'ESTATHE&apos;  LATTINA LIMONE 033X24', 'ESTATHE&apos;  PESCA LATTINA 033X24', 'RED BULL 0,25 X24 LT', 'SCHWEPPES LIMONE 200 CL VAP X 24 VETRO', 'SCHWEPPES TONICA 200 CL VAP X 24 VETRO', 'YOGA MAGIC  ACE 200X24', 'YOGA  MAGIC PESCA 200X24', 'YOGA MAGIC PERA 200X24', 'YOGA MAGIC ANANAS X24 BT', 'APEROL  1LITRO  BT', 'BUENO PZ12', 'AMICA SALE GR175X12PZ', 'OREO PZ20', 'AMICA 100GRX20', 'POLO PZ32', 'CRICK CROCK GR400X9PZ', 'ARACHIDI 1KG AMICA', 'SALATINI MIX500GR', 'CROSTINI/GRISS.GR500X6PZ', 'ARACHIDI PICCANTI GR500X6PZ', 'AMARO JAGERMEISTER LITRO ', 'AMARO AVERNA LITRO', 'BITTER CAMPARI LITRO', 'GIN GORDONS LITRO', 'SAMBUCA MOLINARI LITRO', 'MARTINI ROSSO LITRO', 'SALVI STRISCIA ORO H 7 CM', 'INAB NASTRO DIAMANTATO ORO LARGO CF 5 PZ', 'SALVI VASSOIO ORO MIS. 5 RETTANGOLARE MIS 5 CM 31 X 23 CF 10 KG', 'SALVI VASSOIO ORO MIS. 6 RETTANGOLARE MIS 6 CM 35 X 25 CF 10 KG', 'ELENKA PASTA NOCCIOLA LAURUS  CF 1 KG', 'COOPERLAT PANNA SPRAY FIORDINEVE (TRE VALLI) 500GR', 'Spese Varie', 'Riga ausiliaria contenente informazioni tecniche e aggiuntive del documento', 'ALCAS ZUCCOTTO CON COPERCHIO 200 GR CF 25 PZ', 'JOYGELATO FRUIT FRUTTI DI BOSCO CF 3.5 KG', 'VANDEMOORTELE ***MIX*** GOLD CUP CROISSANT CF 15 KG COD. 405233', \"VANDEMOORTELE MARGARINA SANT'ALLERY CREMA 25% COD401981\", 'VANDEMOORTELE MARGARINA ST ALLERY CROISSANT 15% KG COD. 413712', 'SALE FINO SICILIA CT 12 X 1 KG', 'GOURMET LINE GRANELLA PISTACCHIO CF 1 KG', 'CITROLO CIGARETTES **BOCCA LARGA** CF 1KG', 'CITROLO CANNOLI CIOCCOLATO MIGNON CT 3.5 KG', 'PININ PERO ZUCCHERO VELO CF 5 KG', 'CASILLO SEMOLA DI GRANO DURO **RIPIENO SFOGLIATELLE** CF 5 KG', 'IRCA MORELLINA ***** CF 13 KG   COD.10204', 'IRCA NOCCIOLATA ***** CF 13 KG COD. 1010151', 'IDCAM CODA ARAGOSTA - MICRO CT 7 KG     COD.AKA014', 'PAC GEL SFOGLIATA RICCIA MIGNON GR 30 CT 5 KG', 'PAC GEL SFOGLIATELLA RUSTICA CON FRIARIELLI CT 4 KG', 'PAC GEL SFOGLIATA SEMIDOLCE RUSTICA CT 4 KG', 'RISPO RUSTICI MIGNON CF 2.5 KG', \"COOPERLAT PREP. VEG. HOPLA' EASY TOP  1LT\", \"BAKER'S LIEVITO FRESCO PAKMAYA PZ 500 GR\", 'Spese Varie', 'Riga ausiliaria contenente informazioni tecniche e aggiuntive del documento', 'BICCHIERI COFFEE CART.75ML', 'COPERCHIO BICCH. 75 ML COVER', 'BICCHIERI TRASP. 166cc MAJOR', 'ARISTEA KRIST.250CC PET 50PZ', 'ARISTEA KRIST.400CC PET 50PZ', 'CUCCHIAINO YOGURT-GRANITA 300PZ', 'LEONE MINILIO IN LEGNO 500PZ', 'ICONT ROT. FLOR ASTU.', 'D.d.T. 91/A del 11/02/2021', 'UOVA CAT.PESO L', 'D.d.T. 76/A del 04/02/2021', 'UOVA CAT.PESO M', 'D.d.T. 72/A del 02/02/2021', 'UOVA CAT.PESO L', 'Colazioni', 'Biscotti', '0617-77187755-80052760-KINDER BUENO T2X30 ORZ REST', 'A513-77199580-8000500131329-NUTELLA G3000X2 SCC/PRT F/SER', 'D464-77201592-80310891-KINDER JOY T1X36 PZ JU/W', 'VANDEMOORTELE MARGARINA ST ALLERY CROISSANT 15% KG COD. 413712', 'DECORA SOTTOTORTA QUADRATO DORATO 45X45 H1.2 COD. 0931720', 'BIRAGHI BIRAGHINI BUSTA 400 GR', 'REVIVA PIROTTINI OVALI  MIS. 5 CF 1000 PZ', 'Spese Varie', 'Riga ausiliaria contenente informazioni tecniche e aggiuntive del documento', 'ST.GOLIA EXTRAFORTE NEW ST. X 24', 'GOLIA FRUTTA C STICK 34gX24pz', 'MOROSITAS SZ.ASS.X24 ST', 'ESP. FT GFY BIO STD 40 pz + ric', 'THE BIG BABOL T.FRUTTI 5X24', 'VIV.XYL SPEAR 10X40 UPGRADE', 'VIV.XYL G/MINT 10X40 UPGRADE', 'VIGORSOL AIR ACTION X 40', 'VIGORSOL S.Z.ORIGINAL 40X10', 'VIGORSOL AIR ACT.ICE CASSISX40', 'VIV.FRESH BLAST BLUE X 20 AST. UPG.', 'BROOKLYN 9X20 CLORO', 'Gel igienizz. Tubo 6x75 ml', 'ELABORAZIONE CEDOLINI PAGA PER VOSTRO CONTO PERIODO MARZO 2021', 'Consegna mensile colazioni', 'IRCA VIGOR LIEVITO IN POLVERE CF 1 KG   COD.70497', 'VANDEMOORTELE MARGARINA ST ALLERY CROISSANT 15% KG COD. 413712', \"VANDEMOORTELE MARGARINA SANT'ALLERY CREMA 25% COD401981\", 'CAPUTO FARINA - TIPO 00 EXTRA CF 25 KG', 'CAPUTO FARINA - TIPO AMERICANA CARTA CF 25 KG', 'VANDEMOORTELE ***MIX*** GOLD CUP CROISSANT CF 15 KG COD. 405233', 'Spese Varie', 'Riga ausiliaria contenente informazioni tecniche e aggiuntive del documento', 'TOV.VELO 30X30 PP T301   CART 8X500 PZ', 'STROFI. VELO PP MILLEUSI X 2ROTOLI', 'ACID RINSE  KG.5 SUTTER COD. 4964', 'S.M. SUPER PLUS KG.6 COD.5308', 'SPESE VARIE', 'Descrizione: Canone di locazione n. 019 (comprensivo dellaquota di indicizzazione pari a -0,01) - Num. Pratica: 1000571 - Targa: FW639KK - Modello: A1147B', 'Descrizione: Rimborso Servizi - Num. Pratica: 1000571 - Targa: FW639KK - Modello: A1147B', 'ENERFOR MARSEIL SGRASSANTE  P/USO CONF. 12 X 750 ML + 3 NEB.', 'S.M. SUPER PLUS CART 4X 6  KG', 'AMBIENCE AUTUMN  LT.5 X 4 TN  LINEA POM', 'TOV.VELO 30X30 PP T301   CART 8X500 PZ', 'CANDEGGINA CON SGRASSATORE 4X5  ( LT.20)', 'STROFI. VELO PP MILLEUSI X 2ROTOLI', 'UP DOWN 17X34 KRAFT', 'AMBIENCE AUTUMN  LT.5 X 4 TN  LINEA POM', 'SPESE VARIE', 'CISTECCA', 'SALSICCE', 'HAMBURGER', 'IDCAM CODA ARAGOSTA - MICRO CT 7 KG     COD.AKA014', 'Spese Varie', 'Riga ausiliaria contenente informazioni tecniche e aggiuntive del documento', 'VANDEMOORTELE ***MIX*** GOLD CUP CROISSANT CF 15 KG COD. 405233', 'CAPUTO FARINA - TIPO 00 EXTRA CF 25 KG', 'CAPUTO FARINA - TIPO AMERICANA CARTA CF 25 KG', 'SUD ZUCHER ZUCCHERO SABBIA EXTRA FINO CF 25 KG', 'IRCA MIX WONDER MUFFIN ***** *CF 10 KG   COD.70670', \"VANDEMOORTELE MARGARINA SANT'ALLERY CREMA 25% COD401981\", 'VANDEMOORTELE MARGARINA ST ALLERY CROISSANT 15% KG COD. 413712', 'PAC GEL CORNETTO 7 CEREALI E FRUTTI DI BOSCO CT 40 PZ X 80 GR', 'PAC GEL CONCHIGLIA GIANDUIA SUPERFARCITA CT GR 100 X 50 PZ', 'PAC GEL SFOGLIATA SEMIDOLCE RUSTICA CT 4 KG', 'RISPO RUSTICI MIGNON CF 2.5 KG', 'Spese Varie', 'Riga ausiliaria contenente informazioni tecniche e aggiuntive del documento', 'NATIA PET 1 LT X 12 BT', 'ACQUA NATIA 0.50 X 24 PET', 'FERRARELLE PET 1LT X 12 BT', 'ACQUA FERRARELLE 0,50 X 24 BT PET', 'BIRRA CORONA 0.35,5 X 24 BT', 'BIRRA TENNENT&apos;S 33 CL', 'BIRRA HEINEKEN 0.33 CL X 24 BT', 'BIRRA BECK&apos;S 0.33 CL X 24 BT', 'FANTA 1.50 PET  CL X6 BT', 'COCA COLA  PET 2 LT X 6 BT', 'S. PELLEGRINO COCKTAIL ROSSO X 24 BT', 'S. PELLEGRINO COCKTAIL BIANCO 20 CL 24 VAP', 'S.PELLEGRINO BITTER ROSSO X 40', 'S.PELLEGRINO BITTER BIANCO X 40', 'CEDRATA  TASSONI 25 VPX 25 BT', 'RED BULL 0,25 X24 LT', 'COCA COLA LATTINA SLEEK 033 X 24', 'COCA COLA ZERO LATTINA SLEEK 033X24', 'FANTA LATTINA SLEEK 033X24', 'ESTATHE&apos;  LATTINA LIMONE 033X24', 'ESTATHE&apos;  PESCA LATTINA 033X24', 'SPRITE LATTINA SLEEK 033 X 24', 'LEMONSODA 200 X 24', 'SCHWEPPES TONICA 200 CL VAP X 24 VETRO', 'SCHWEPPES LIMONE 200 CL VAP X 24 VETRO', 'YOGA MAGIC  ACE 200X24', 'YOGA  MAGIC PESCA 200X24', 'YOGA MAGIC PERA 200X24', 'YOGA MAGIC ANANAS X24 BT', 'YOGA MAGIC ALB. 200X24', 'YOGA MAGIC MIRTILLO 200X24', 'YOGA MAGIC  POMPELMO 200X24', 'JAGERMEISTE 100 CL', 'AMARO DEL CAPO CL 70', 'APEROL  1LITRO  BT', 'BITTER CAMPARI CL.100', 'CHIACCHIERE KG 2', 'fiordilatte', 'RICOTTA DI BUFALA', 'RICOTTA IN VASC. BONTEANA \"SORI\"', 'AB3 MISCELA CREMA BAR CONFEZIONE DA Kg.3', '/D Lotto W39C', 'ELABORAZIONE CEDOLINI PAGHE MESE DI FEBBRAIO 2021', 'Colazioni', 'Biscotti', 'MURIN BOX RATTI', 'MURIN PELLETT EXTREME KG 1,5', 'LAG PANE TRAMEZZONE MAXITOAST CF 33PZ 71GR COD.49140', 'ANTICHI SAPORI ARANCINI MIGNON CF 2.5 KG', \"RISPO CROCCHE' MIGNON CF 2.5 KG\", 'ANTICHI SAPORI FRITTATINE MIGNON CF 2.5 KG', 'AIA NAGGHY IN BUSTA CF 1 KG', 'SPEEDY BANDIDOS BOCCONCINI DI POLLO PICCANTI CF 2 KG', \"MC CAIN PATATE FRY'N'DIP CF 2.5 KG\", 'VANDEMOORTELE OLIO RISSO GIRASOLE ALTO OLEICO CF 10LT', 'GAIA MAYONESE BUSTINE CT 102 X 12 GR', 'GAIA KETCHUP BUSTINE CT 102 X 12 GR', 'KITO ROTOLO ALLUMINIO 125 MT', 'Spese Varie', 'Riga ausiliaria contenente informazioni tecniche e aggiuntive del documento', 'SALVI STRISCIA ORO H 7 CM', 'SALVI VASSOIO ORO MIS. 4 RETTANGOLARE MIS 4 CM 28 X 20  CF 10 KG', 'SALVI VASSOIO ORO MIS. 5 RETTANGOLARE MIS 5 CM 31 X 23 CF 10 KG', 'SALVI VASSOIO ORO MIS. 6 RETTANGOLARE MIS 6 CM 35 X 25 CF 10 KG', 'SALVI VASSOIO ORO MIS. 9 RETTANGOLARE MIS 9 CM 47 X 34 CF 10 KG', 'COOPERLAT PANNA SPRAY FIORDINEVE (TRE VALLI) 500GR', \"MC CAIN PATATE FRY'N'DIP CF 2.5 KG\", 'CRISPO MINI LENTI CIOCCOLATO CF 1 KG', 'PAC GEL SFOGLIATA SEMIDOLCE RUSTICA CT 4 KG', 'PAC GEL CORNETTO 7 CEREALI E FRUTTI DI BOSCO CT 40 PZ X 80 GR', 'PAC GEL CONCHIGLIA GIANDUIA SUPERFARCITA CT GR 100 X 50 PZ', 'FROZEN FRUIT PUREA DI LAMPONE CF 1KG', 'FROZEN FRUIT PUREA DI MANGO CF 1KG', 'DECORA SOTTOTORTA TONDO ARGENTO D36 H1.2 COD. 0931207', 'FROZEN FRUIT PUREA DI PASSION FRUIT - FUITS ROUGES - CF. 1 KG', 'Spese Varie', 'Riga ausiliaria contenente informazioni tecniche e aggiuntive del documento', 'SALVI STRISCIA ORO H 7 CM', 'INAB NASTRO DIAMANTATO ORO LARGO CF 5 PZ', 'FERRERO NUTELLA CF 3 KG', 'Spese Varie', 'Riga ausiliaria contenente informazioni tecniche e aggiuntive del documento', 'EXPO HALLS ENERGY PZ.180', 'Consegna mensile colazioni', 'Consegna mensile colazioni AGOSTO', 'MENTOS X 40 PZ.MENTA ST.', 'CHUPA CHUPS COLA TIN 150 PZ.', 'THE BIG BABOL T.FRUTTI 5X24', 'BIG BABOL BURGERKANDY 5x24', 'BROOKLYN 9X20 CLORO', 'VIGORSOL AIR ACTION X 40', 'CAPPELLOTTO LOLLIPOP', 'VISA NOCCIOLE SGUSCIATE TOSTATE TURCHIA CF 2.5 KG', 'MANDORLE SPAGNA NATURALI ***1KG***', 'GOURMET LINE DIAVOLINI FINI CONF.1KG', 'ALCAS VASSOIO MEDORO RETTANGOLARE 15X30 PZ', 'GOURMET LINE MANDORLE AFFETTATE CF 1 KG', 'Spese Varie', 'Riga ausiliaria contenente informazioni tecniche e aggiuntive del documento', 'IRCA GRANELLA DI CROCCANTE CF 1 KG    COD.90628', 'Riga ausiliaria contenente informazioni tecniche e aggiuntive del documento', 'SALVI PIATTI ALA ORO CM 26 CF 10 KG', 'GOURMET LINE MIX CREAM AMIDO CF 10 KG', 'GOURMET LINE FARINA DI MANDORLE PELATE CF DA KG 5', 'PAC GEL CORNETTO 7 CEREALI E FRUTTI DI BOSCO CT 40 PZ X 80 GR', 'IRCA SURROGATO *****NOBEL BITTER***** CF 5 KG COD. 1010221', 'Spese Varie', 'Riga ausiliaria contenente informazioni tecniche e aggiuntive del documento', 'CUCCHIAINI MOKA', \"PALETTE GIRA CAFE' 1000PZ IMB.\", 'BICCHIERI COFFEE CART.75ML', 'COPERCH.BICCH.75 COVER 100PZ', 'BICCHIERE 166 TRASP. 30X100 PZ', 'PALETTA GELATO CM10 500PZ', 'MASER MIX FORMAGGIO GRATTUGIATO CF 1 KG', 'KRAFT PHILADELPHIA CF 1.650 KG', 'VANDEMOORTELE OLIO RISSO GIRASOLE ALTO OLEICO CF 10LT', 'VANDEMOORTELE ***MIX*** GOLD CUP CROISSANT CF 15 KG COD. 405233', 'IRCA CHOCOCREAM ***** PISTACCHIO ***** CF KG 5     COD.10958', 'JOYGELATO PASTE PISTACCHIO 100% CF 1 KG COD.20201', 'SUD ZUCHER ZUCCHERO SABBIA EXTRA FINO CF 25 KG', 'SWEET D.e D. ZUCCHERO CF 25 KG', 'IRCA NOCCIOLATA ***** CF 13 KG COD. 1010151', 'TORRENTE PASSATA POMODORO CON BASILICO CT 12 X 700 GR', 'CITROLO CANNOLI CIOCCOLATO MIGNON CT 3.5 KG', 'VANDEMOORTELE MARGARINA ST ALLERY CROISSANT 15% KG COD. 413712', \"VANDEMOORTELE MARGARINA SANT'ALLERY CREMA 25% COD401981\", 'SALVI PIATTI ALA ORO CM 32 CF 10 KG', 'CAPUTO FARINA - TIPO AMERICANA CARTA CF 25 KG', 'CAPUTO FARINA - TIPO 00 EXTRA CF 25 KG', 'PAC GEL CORNETTO 7 CEREALI E FRUTTI DI BOSCO CT 40 PZ X 80 GR', \"AIA TUORLO D'UOVO CF 1 LT\", 'IRCA CRUNCHY BEADS ***** MILK ***** CF 2 KG     COD.11447', 'CHIRICO GRANO COTTO PZ 1,7 KG', 'IRCA SCAGLIETTA *****PURO LATTE  ***** CF 1 KG    COD.40194', 'Spese Varie', 'Riga ausiliaria contenente informazioni tecniche e aggiuntive del documento', 'DDT n. 000764 - 25/09/2020', 'VINO BIANCO BOTT. 1,00', 'CAMPANIA AGLIANICO 2019 BOTT. 0,75', 'Corrispettivo comprensivo del Contributo ambientale Conai già assolto', 'PASSITO LIQUOROSO DI PANTELLERIA 75 CL PELLEGRINO', \"VANDEMOORTELE MARGARINA SANT'ALLERY CROISSANT 25% COD. 1779\", 'KRAFT PHILADELPHIA CF 1.650 KG', 'Riga ausiliaria contenente informazioni tecniche e aggiuntive del documento', \"SCFAK ACCREDITO PER SCONTO ANNO 2020 PATTUITO SU FORNITURE CAFFE'\", 'CRICK CROCK GR400X9PZ', 'POLO PZ32', 'FRUIT JOY PZ32', 'SALATINI MIX500GR', 'HALLS PZ20', 'AMICA 100GRX20', 'MeM PENAUT PZ24X45GR', ' Cod.Comm. 007694433 ', ' OGGETTO : Concessione in uso di N.    1 apparecchiature ', ' P.O.S. ', ' CANONE PERIODO 01/12/2020 - 31/12/2020 ', \"BHB ROULLE' BIANCO CM 0.7 38X56 PZ 12\", 'IRCA ZUCCHERO FONDENTE DI CANNA CF 14 KG   COD.30127', 'PAC GEL MACARONES CONF DA 36 PZ X 10 GR', 'VANDEMOORTELE MARGARINA ST ALLERY CROISSANT 15% KG COD. 413712', 'Spese Varie', 'Riga ausiliaria contenente informazioni tecniche e aggiuntive del documento', 'COPERCHIO IL PLASTICA BIBITA CALDA 237CK CONF 1000 PZ', 'COPERCHIO DI PLASTICA BIBITA CALDA TIPO 80CK PZ.2100', 'STROFI. VELO PP MILLEUSI X 2ROTOLI', 'REFLEXX 78 MEDIUM  100PZ NITRILE S/POL NERO GR. 4', 'UP DOWN COFFE 14X28', 'UP DOWN 17X34 KRAFT', 'TIPO 237 CKFB CARTA FSC MATER BI BIBITA CALDA UP DOWN', 'TIPO 80CKFB CARTA FSC MATER BI BIBITA CALDA', 'SPESE VARIE', 'EXPO DAYGUM INSTA WHITE X 20', 'VIV.XYL G/MINT 10X40 UPGRADE', 'N ZUCCHERO SEMOLATO ASTUCCI da Kg.1', '/D Lotto 2009F1053N', 'AB3 MISCELA CREMA BAR CONFEZIONE DA Kg.3', '/D Lotto V48H', 'N ZUCCHERO SEMOLATO ASTUCCI da Kg.1', '/D Lotto 2004F0369D', 'OZD DOLCIFICANTE IN DISPENSER DA 240 BST', '/D Lotto 5010F0769D', '002 IL CREMINO CONF. Kg.1', '/D Lotto LE062', \"TV OMAGGIO BICCHIERINO VETRO PER CAFFE' ALL.DICH.CONFORMITA'\", 'APEROL  1LITRO  BT', \"PROMOZIONE RIORDNO SUPER LIGHT  CAFFE' AL GINSENG\", \"CAFFE' AL GINSENG BS. 500gr. - SENZA GLUTINE\", \"CAFFE' AL GINSENG BS. 500gr. - SENZA GLUTINE\", 'Spese di trasporto', 'NATIA PET 1 LT X 12 BT', 'ACQUA NATIA 0.50 X 20 BT VETRO ', 'S.PELLEGRINO BITTER BIANCO X 40', 'BIRRA BECK&apos;S 0.33 CL X 24 BT', 'CEDRATA  TASSONI 25 VPX 25 BT', 'COCA COLA ZERO LATTINA SLEEK 033X24', 'COCA COLA LATTINA SLEEK 033 X 24', 'FANTA LATTINA SLEEK 033X24', 'RED BULL 0,25 X24 LT', 'CRODINO TWIST FRUTTI ROSSI X 24 BT', 'ESTATHE&apos;  PESCA LATTINA 033X24', 'ESTATHE&apos;  LATTINA LIMONE 033X24', 'SCHWEPPES TONICA 200 CL VAP X 24 VETRO', 'SCHWEPPES LIMONE 200 CL VAP X 24 VETRO', 'YOGA MAGIC  ACE 200X24', 'YOGA  MAGIC PESCA 200X24', 'YOGA MAGIC PERA 200X24', 'YOGA MAGIC ANANAS X24 BT', 'YOGA MAGIC  POMPELMO 200X24', 'YOGA MAGIC MELA VERDE 200X24', 'YOGA MAGIC ARANCIO 200X24', 'VODKA BELVEDERE 070 CL', 'VODKA CIROC CL 70', 'HAVANA 3 ANNI 1 LIT', 'AMARO AVERNA LT.1. CL', 'VODKA KEGLEVICH PESCA 1LT', 'GRAPPA 903 BARRIQUE CL 070', 'VODKA KEGLEVICH CLASSIC 1LT', 'TRIPLE SEC CL 70 DE KUYPER', 'JACK DANIEL&apos; S CL 100', 'APEROL  1LITRO  BT', 'LIMONCELLO CAPRI 1 LITRO', 'AMARO DEL CAPO CL 70', 'JAGERMEISTE 100 CL', 'GORDON&quot;S GIN CL 100', 'VODKA KEGLEVICH FRAGOLA 1LT', 'MARTINI  ROSSO LT 1', 'BITTER CAMPARI CL.100', 'BAILEYS CREAM CL 100', 'BACARDI CARTA BLANCA 1 LT', 'BIRRA HEINEKEN 0.33 CL X 24 BT', 'COCA COLA  PET 2 LT X 6 BT', 'S. PELLEGRINO COCKTAIL BIANCO 20 CL 24 VAP', 'S. PELLEGRINO COCKTAIL ROSSO X 24 BT', 'APEROL SODA X 48', 'CRODINO CL X 10X 48', 'FERRARELLE PET 1LT X 12 BT', 'ACQUA FERRARELLE 0,50 X 24 BT PET', 'NATIA PET 1 LT X 12 BT', 'ACQUA NATIA 0.50 X 24 PET', 'FERRARELLE PET 1LT X 12 BT', 'BIRRA TENNENT&apos;S 33 CL', 'BIRRA CERES 0.33 CL X 24 BT', 'BIRRA HEINEKEN 0.33 CL X 24 BT', 'BIRRA HEINEKEN 0.66 X 15 BT', 'BIRRA BECK&apos;S 0.33 CL X 24 BT', 'CEDRATA  TASSONI 25 VPX 25 BT', 'COCA COLA LATTINA SLEEK 033 X 24', 'COCA COLA ZERO LATTINA SLEEK 033X24', 'RED BULL 0,25 X24 LT', 'FANTA LATTINA SLEEK 033X24', 'PROSECCHINO  MASCHIO  X24 BT', 'SCHWEPPES TONICA 200 CL VAP X 24 VETRO', 'SCHWEPPES LIMONE 200 CL VAP X 24 VETRO', 'SCHWEPPES ARANCIA 200 ML X 24 VAP VETRO', 'YOGA MAGIC  ACE 200X24', 'YOGA  MAGIC PESCA 200X24', 'YOGA MAGIC PERA 200X24', 'YOGA MAGIC ANANAS X24 BT', 'YOGA MAGIC ALB. 200X24', 'YOGA MAGIC MELA VERDE 200X24', 'ACQUA FERRARELLE 0,50 X 24 BT PET', 'ESTATHE&apos;  PESCA LATTINA 033X24', 'ESTATHE&apos;  LATTINA LIMONE 033X24', 'CRODINO CL X 10X 48', 'S. PELLEGRINO COCKTAIL ROSSO X 24 BT', 'COCA COLA  PET 2 LT X 6 BT', 'Consegna mensile colazioni', 'VANDEMOORTELE OLIO RISSO GIRASOLE ALTO OLEICO CF 10LT', 'ALCAS BIJOUX TONDO ALTO TRASPARENTE CC 70 CF 60 PZ', 'CRISPO MINI LENTI CIOCCOLATO CF 1 KG', 'PAC GEL CORNETTO 7 CEREALI E FRUTTI DI BOSCO CT 40 PZ X 80 GR', 'PAC GEL SFOGLIATA RICCIA MIGNON GR 30 CT 5 KG', 'IRCA CHOCOCREAM ***** INDUSTRY BIANCO ***** CF 13 KG COD. 1010853', 'IFFCO PANNA GRAN CUCINA 500 ML CT 20 PZ', 'VANDEMOORTELE MARGARINA ST ALLERY CROISSANT 15% KG COD. 413712', 'VANDEMOORTELE ***MIX*** GOLD CUP CROISSANT CF 15 KG COD. 405233', 'SUD ZUCHER ZUCCHERO CF 25 KG', 'RUFFINI BAGNA ALCOLICA 70° BENEVENTO ELITE CF 2 LT', 'RUFFINI BAGNA ALCOLICA 70° PERLA NERA CF 2 LT', 'Spese Varie', 'Riga ausiliaria contenente informazioni tecniche e aggiuntive del documento', \"Kit contabilità Base - Gestione contabilità - Estratto conto partite aperte clienti e fornitori - Cespiti - Portafoglio attivo e passivo - Piano dei Conti e Aliquote IVA standard - Modello F24 - Intrastat e black list (invio telematico) - Spesometro art. 21 (invio telematico) - Comunicazione Beni d'Impresa Concessi a Soci e familiari (invio telematico)\", 'CLOUD - COSTI UNA TANTUM PER SINGOLO CLIENTE E SINGOLO SERVER', 'POLYEDRO per utenti procedure LYNFA Azienda - Utilizzo web procedure gestionali - Anagrafica unica - Rubriche e Contatti - Bacheca / News / Forum / Messaggi int. - Area Servizi / WebDisk - Team Advert - Widget app - Workareas configurabili - Agenda centralizzata integrata con Calendar e Exchange - Scadenzario - To do - Workflow', 'POLYEDRO base', '**TOTALE CANONE ASS. SOFTWARE**', '**TOTALE CANONE ALTRI SERVIZI **', 'REVISIONE CON CONTROLLO VALVOLA TIPO POLVERE DA KG.06', 'REVISIONE CON CONTROLLO VALVOLA TIPO C02 DA KG.05', 'FT GFY BARS EXPO X30', 'AB3 MISCELA CREMA BAR CONFEZIONE DA Kg.3', '/D Lotto W39B', 'N ZUCCHERO SEMOLATO ASTUCCI da Kg.1', '/D Lotto 2016F1297P', 'OZD DOLCIFICANTE IN DISPENSER DA 240 BST', '/D Lotto 5019G0196S', 'AMBROSIO CUBETTI ARANCIA 6X6 CT 5 KG', 'GOURMET LINE TARTALLETTE FROLLA MIGNON MM 44 CT 250 PZ 00002', 'COATI PROSCIUTTO COTTO BLU - PL27', \"COOPERLAT PREP. VEG. HOPLA' EASY TOP  1LT\", 'GOURMET LINE FARINA DI MANDORLE PELATE CF DA KG 5', 'IRCA SCAGLIETTA****** SURROGATO FONDENTE******** CF 1 KG    COD.40182', 'PAC GEL SFOGLIATA RICCIA MIGNON GR 30 CT 5 KG', 'MARTY PACK PIROTTINI SAVARIN IMPERMEABILI PICCOLI CF 1000 PZ COD. LCE8/4', 'PININ PERO ZUCCHERO GRANELLA MEDIA CT 10 KG', 'Spese Varie', 'Riga ausiliaria contenente informazioni tecniche e aggiuntive del documento', 'Consegna mensile colazioni', 'CINTURE VIDAL PZ150', 'ARACHIDI 1KG AMICA', 'SALATINI MIX500GR', 'BUENO PZ12', 'ARACHIDI PICCANTI GR500X6PZ', 'TARALLI GR250X24PZ', 'CROSTINI/GRISS.GR500X6PZ', 'NIC NAC S PZ 24', 'CRIK LINEA BAR X16PZ', 'CAPUTO FARINA - TIPO 00R CF 25 KG', 'WAFERS FARMA MEZZELUNE LIMONE DI GELATINA CT 2 KG COD.29428', 'CELLOPHANE&PAPER BUSTE MOPLEFAN DA 1,5KG 40X50 CF 100 PZ', 'CAPUTO FARINA - TIPO AMERICANA CARTA CF 25 KG', 'CAPUTO FARINA - TIPO 00 EXTRA CF 25 KG', 'VANDEMOORTELE ***MIX*** GOLD CUP CROISSANT CF 15 KG COD. 405233', 'SUD ZUCHER ZUCCHERO CF 25 KG', 'IRCA NOCCIOLATA ***** CF 13 KG COD. 1010151', \"VANDEMOORTELE MARGARINA SANT'ALLERY CREMA 25% COD401981\", 'VANDEMOORTELE MARGARINA ST ALLERY CROISSANT 15% KG COD. 413712', 'CELLOPHANE & PAPER CARTA DA FORNO 40X60 CF 500PZ', 'IRCA SCAGLIETTA ***** PURO FONDENTE ***** CF 1 KG   COD.40192', 'CRESCO FORM STAC PZ 400 ML', 'PAC GEL CORNETTO 7 CEREALI E FRUTTI DI BOSCO CT 40 PZ X 80 GR', 'PAC GEL CONCHIGLIA GIANDUIA SUPERFARCITA CT GR 100 X 50 PZ', 'PININ PERO ZUCCHERO VELO CF 5 KG', \"AIA BIANCO D'UOVO - ALBUME - CF 1 LT\", 'REVIVA LACCETTI PER BUSTE PZ 1000', 'Spese Varie', 'Riga ausiliaria contenente informazioni tecniche e aggiuntive del documento', 'Consegna mensile colazioni', 'SCONTI DI FINE ANNO SCONTI DI FINE ANNO', 'IRCA RENO CONCERTO BIANCO 31.5% (38/40) - CT. 2CF. X 5KG. - COD.01011797', 'IRCA RENO CONCERTO FONDENTE 72% (40/42) - CT. 2CF.X5KG. - COD. 01011792', 'IRCA RENO CONCERTO LATTE 34% (37/39) - CT. 2CF.X5KG.  - COD.01011795', 'DOBLA RIO DARK/YELLOW (ONDA) CF 36PZ COD.71276', 'DOBLA EXLUSIVE ASS. (FOGLIE) CF 310PZ COD.71202', 'DOBLA CIGARILLO ASSORTMENT CF 108 PZ - COD.71517', 'IRCA GRANELLA DI CROCCANTE CF 1 KG    COD.90628', 'Spese Varie', 'Riga ausiliaria contenente informazioni tecniche e aggiuntive del documento', 'fiordilatte', 'provola affumicata', 'RICOTTA DI BUFALA', 'RICOTTA IN VASC. BONTEANA \"SORI\"', 'RICOTTA FRESCA S.ERSILIA', 'KRAFT PHILADELPHIA CF 1.650 KG', 'IRCA SURROGATO*****NOBEL AVORIO***** CF 5 KG COD. 1010222', 'REVIVA PIROTTINI TONDI MARRONI MIS. 6 CF 1000 PZ', 'IRCA CHOCOCREAM ***** BIANCO ***** CF 5 KG    COD.10690', 'DOBLA CIGARILLO ASSORTMENT CF 108 PZ - COD.71517', 'DOBLA DOMINIO TRIANGLE SEPARATED CF 314PZ COD.72104', 'DOBLA EXLUSIVE ASS. (FOGLIE) CF 310PZ COD.71202', 'Spese Varie', 'Riga ausiliaria contenente informazioni tecniche e aggiuntive del documento', 'LEONE CANNUCCIE TRASP 1000PZ', 'LEONE CANNUCCE COL. CORTE 500PZ', 'CUCCHIAINI MOKA', 'LEONE MINILIO IN LEGNO 500PZ', 'DOPLA KRISTAL 100CC 50 PZ', 'ARISTEA KRIST.400CC PET 50PZ', 'ARISTEA KRIST.250CC PET 50PZ', 'BICCHIERE 166 CCTRASP.30X100', 'PAC GEL CONCHIGLIA GIANDUIA SUPERFARCITA CT GR 100 X 50 PZ', 'PAC GEL CORNETTO 7 CEREALI E FRUTTI DI BOSCO CT 40 PZ X 80 GR', 'IRCA BLITZ GELATINA NEUTRO A FREDDO CF 6 KG    COD.30344', 'VANDEMOORTELE MARGARINA OPAL CREMA KG COD 412834', 'DOBLA GRAND DECOR ASS. (FOGLIE GRANDI) CF 260PZ COD.71215', 'DE SIMONE MIELE GREZZO *** C ***  CF 10 KG', 'IDCAM CODA ARAGOSTA - MICRO CT 7 KG', 'ALCAS BIJOUX TONDO ALTO TRASPARENTE CC 70 CF 60 PZ', 'VANDEMOORTELE MARGARINA ST ALLERY CROISSANT 15% KG COD. 413712', 'PININ PERO ZUCCHERO GRANELLA MEDIA CT 10 KG', \"VANDEMOORTELE MARGARINA SANT'ALLERY CREMA 25% COD401981\", 'VANDEMOORTELE ***MIX*** GOLD CUP CROISSANT CF 15 KG COD. 405233', 'CAPUTO FARINA - TIPO 00 EXTRA CF 25 KG', 'CAPUTO FARINA - TIPO AMERICANA CARTA CF 25 KG', 'SUD ZUCHER ZUCCHERO CF 25 KG', 'IRCA CHOCOCREAM ***** INDUSTRY BIANCO ***** CF 13 KG COD. 1010853', 'CITROLO CANNOLI CIOCCOLATO MIGNON CT 3.5 KG', 'CRESCO FORM STAC PZ 400 ML', 'REVIVA PIROTTINO TONDO MARRONE MIS 9 CF 2000 PZ', 'GOURMET LINE MIX CREAM AMIDO CF 10 KG', 'RUFFINI BAGNA ALCOLICA 70° PERLA NERA CF 2 LT', 'IRCA SCAGLIETTA ***** PURO FONDENTE ***** CF 1 KG   COD.40192', 'IRCA VIGOR LIEVITO IN POLVERE CF 1 KG   COD.70497', 'E. L. AMARENA SPECIALE PER PASTICCERIA - CF. 5 KG.', 'PAC GEL RUSTICI MIGNON GR 27 ASSORTITI CT 6 KG', 'Spese Varie', 'Riga ausiliaria contenente informazioni tecniche e aggiuntive del documento', 'VIV.XYL SPEAR 10X40 UPGRADE', 'VIV.XYL G/MINT 10X40 UPGRADE', 'VIGORSOL AIR ACTION X 40', 'CAPUTO FARINA - TIPO 00 EXTRA CF 25 KG', 'SALVI PIATTI ALA ORO CM 30 CF 10 KG', 'SALVI STRISCIA ORO H 7 CM', 'INAB NASTRO DIAMANTATO ORO LARGO CF 5 PZ', 'SALVI VASSOIO ORO MIS. 2 RETTANGOLARE MIS 2 CM 20 X 14 CF 10 KG', 'SALVI VASSOIO ORO MIS. 4 RETTANGOLARE MIS 4 CM 28 X 20  CF 10 KG', 'SALVI VASSOIO ORO MIS. 5 RETTANGOLARE MIS 5 CM 31 X 23 CF 10 KG', 'ELENKA PASTA NOCCIOLA LAURUS  CF 1 KG', 'FERRERO NUTELLA CF 3 KG', 'Spese Varie', 'Riga ausiliaria contenente informazioni tecniche e aggiuntive del documento', 'Consegna mensile colazioni', 'ESTATHE&apos;  LATTINA LIMONE 033X24', 'RED BULL 0,25 X24 LT', 'ACQUA FERRARELLE 0,50 X 24 BT PET', 'ACQUA NATIA 0.50 X 24 PET', 'BIRRA TENNENT&apos;S 33 CL', 'BIRRA HEINEKEN 0.33 CL X 24 BT', 'BIRRA BECK&apos;S 0.33 CL X 24 BT', 'COCA COLA ZERO LATTINA SLEEK 033X24', 'COCA COLA  PET 2 LT X 6 BT', 'YOGA MAGIC MIRTILLO 200X24', 'YOGA MAGIC MELA VERDE 200X24', 'AB3 MISCELA CREMA BAR CONFEZIONE DA Kg.3', '/D Lotto W38A', 'NB ZUCCHERO SEMOLATO IN BUSTINE', '/D Lotto 2015G0197P', 'N ZUCCHERO SEMOLATO ASTUCCI da Kg.1', '/D Lotto 2016F1297P', 'OZD DOLCIFICANTE IN DISPENSER DA 240 BST', '/D Lotto 5014F1296F', 'AB3 MISCELA CREMA BAR CONFEZIONE DA Kg.3', '/D Lotto W46C', 'N ZUCCHERO SEMOLATO ASTUCCI da Kg.1', '/D Lotto 2002G0292R', 'BICCHIERE 166 CCTRASP.30X100', 'BICCHIERI COFFEE CART.75ML', 'ALUPACK ROT.FLOR AST.', 'CUCCHIAINO YOGURT-GRANITA 300PZ', 'BUSTE NEUTRO 15X50', 'Documento di trasporto n. 42 del 13/02/2021', \"SOUFFLE' A CIOCCOLATO (12pz.)\", 'PANCAKE', 'Consegna mensile colazioni', 'MOROSITAS SUGARFREE LIQ.', 'FRISK CHLOROPH.NEW BOX X12 AST', 'FT GFY BARS COCCO-FAVE DI CACAO', 'FT GFY BARS CILIEGIE-MIRTILLI ROSSI', 'BROOKLYN CZ 9X20 CINNAMON', 'VIV.XYL G/MINT 10X40 UPGRADE', 'VIGORSOL AIR ACTION X 40', 'VIG.AIR ACTION XTREME 10x40', ' EXPO VIV. BLAST CONCORSO', 'FRISK EXTRA STRONG NEW BOX X12', 'GRIMALDI PORTACORNETTI  IN CARTONE CF 50 PZ', 'PAC GEL CORNETTO 7 CEREALI E FRUTTI DI BOSCO CT 40 PZ X 80 GR', 'IRCA MIX DOLCE FORNO CF 25 KG COD. 1070116', 'MODECOR ABETE ORO IN PLASTICA CONF.48PZ COD.14409', 'MODECOR AGRIFOLGIO TRIPLO VERDE PLASTICA CONF.144PZ COD.14271', 'WAFERS FARMA BABBO NATALE SCIATORE PUNTALE - CF. 72PZ. - COD. 28892', 'Spese Varie', 'Riga ausiliaria contenente informazioni tecniche e aggiuntive del documento', 'PROMOZIONE RIORIDNO 1 NATURAL ESSENCE FILTRI', 'ENGLISH BREAKFAST BIO 1TS  FILTRO PIRAMIDALE - ITBIO008/Z055', 'ENGLISH BREAKFAST BIO 1TS  FILTRO PIRAMIDALE - ITBIO008/Z055', 'INFUSO DI FR.BOSCO BIO 8TS  FILTRO PIRAMIDALE - ITBIO008/Z055', \"PROMOZIONE RIORDNO SUPER LIGHT  CAFFE' AL GINSENG\", \"CAFFE' AL GINSENG BS. 500gr. - SENZA GLUTINE\", \"CAFFE' AL GINSENG BS. 500gr. - SENZA GLUTINE\", \"CHIP VERDE PER RICARICA CREDITI DISTRIBUTORE LED C/GARANZIA PER DISTR. IN COMODATO D'USO ricarica gruppo 1 kg. 3\", 'Spese di trasporto', \"SC ACCREDITO PER SCONTO INCONDIZIONATO SU FORNITURE CAFFE' ANNO IN CORSO\", 'PAVONI FASCIA INOX MICROFORATA CERCHIO 170MM H35MM COD.XF1735', 'PAVONI FASCIA INOX MICROFORATA CUORE 170X182X35mm - XF28', 'ALCAS VASSOIO MEDORO NERO 15X30 RETTANGOLARE', 'ALCAS COPERCHIO MEDORO RETTANGOLARE 15X30 CT 75PZ', 'PAVONI TORTIERA IN SILICONE FORMA CUORE  150X140XH49    COD.KE017', 'PAVONI STAMPO IN SILICONE FORMA CUORE 12 IMPRONTE COD. PX4305', 'ALCAS ZUCCOTTO CON COPERCHIO 300 GR CF 25 PZ', 'ALCAS ZUCCOTTO CON COPERCHIO 500 GR CF 25 PZ', 'JOYGELATO TENDER DESSERT CF 1 KG', 'Spese Varie', 'Riga ausiliaria contenente informazioni tecniche e aggiuntive del documento', ' Cod.Comm. 007694433 ', ' OGGETTO : Concessione in uso di N.    1 apparecchiature ', ' P.O.S. ', ' CANONE PERIODO 01/09/2020 - 30/09/2020 ', 'fiordilatte', 'provola affumicata', 'RICOTTA FRESCA S.ERSILIA', 'RICOTTA IN VASC. BONTEANA \"SORI\"', 'CRICK CROCK GR400X9PZ', 'ARACHIDI FORLIVESE 1 KG', 'TARALLI GR250X24PZ', 'CROSTINI/GRISS.GR500X6PZ', 'ARACHIDI PICCANTI GR500X6PZ', 'CROSTINI PANEALBA GR100X12PZ', \"AIA TUORLO D'UOVO CF 1 LT\", 'VANDEMOORTELE ***MIX*** GOLD CUP CROISSANT CF 15 KG COD. 405233', 'CAPUTO FARINA - TIPO AMERICANA CARTA CF 25 KG', 'CAPUTO FARINA - TIPO 00 EXTRA CF 25 KG', 'GRIMALDI PORTACORNETTI  IN CARTONE CF 50 PZ', 'GOURMET LINE MIX CREAM AMIDO CF 10 KG', 'SUD ZUCHER ZUCCHERO CF 25 KG', 'VANDEMOORTELE MARGARINA ST ALLERY CROISSANT 15% KG COD. 413712', 'Spese Varie', 'Riga ausiliaria contenente informazioni tecniche e aggiuntive del documento', 'Descrizione: Recupero spese amministrative - Num. Pratica: 1000571 - Targa: FW639KK - Modello: A1147B', 'ELABORAZIONE CEDOLINI PAGHE GENNAIO 2021', 'NATIA PET 1 LT X 12 BT', 'ACQUA NATIA 0.50 X 24 PET', 'ACQUA FERRARELLE 0,50 X 24 BT PET', 'ACQUA FERRARELLE 0,50 X 24 BT PET', 'BIRRA BECK&apos;S 0.33 CL X 24 BT', 'CEDRATA  TASSONI 25 VPX 25 BT', 'COCA COLA LATTINA SLEEK 033 X 24', 'COCA COLA ZERO LATTINA SLEEK 033X24', 'RED BULL 0,25 X24 LT', 'ESTATHE&apos;  PESCA LATTINA 033X24', 'SCHWEPPES TONICA 200 CL VAP X 24 VETRO', 'YOGA  MAGIC PESCA 200X24', 'YOGA MAGIC ANANAS X24 BT', 'YOGA MAGIC ALB. 200X24', 'VODKA KEGLEVICH FRAGOLA 1LT', 'VODKA KEGLEVICH PESCA 1LT', 'JAGERMEISTE 100 CL', 'AMARO DEL CAPO CL 70', 'BITTER CAMPARI CL.100', 'CARPANO CLASSICO VERMOUTH 1 LT', 'AMARO FERNET BRANCA LT 1', 'GIN HENDRICK&apos; S CL 70', 'MAXI LIND LT CIO 150 SG', 'LATTA LND SG CINEMA 275G', 'SCT RIGIDA CINEMA SG 350G', 'SCT 475G ASS LND SG', 'CUBO RAFFAELLO LINDOR MEDIUM 175G SG', 'CUBO RAFFAELLO LINDOR BIG 425G SG', 'CUBO RAFFAELLO LINDOR SMALL 50G SG', 'PELUCHE CUSCINO LND SG 125G', 'ASTUCCIO GIANDUJOT 100G', 'SCT GIANDUJOTTI 250G', 'EXPO OMBR.HALLOWEEN', 'EXPO SNACK LINDOR SG X4', 'EXPO SNACK LINDT', 'CASSA ASS.TA OMBRELLINI', 'EXPO CUORI MULTICOLOR', 'CASSA ASS.TA EXPO LINDOR', \"EXPO RON BARCELO' 45PZx2\", 'EXPO SAMB MOLINA 45PZx2', 'EXPO AST CLASSICHE VERT', 'EXPO BANCO FONDENTI VERT', 'CIOCCOLATA CLASSICA 20G', 'SCT LINDOR SG LATTE 312', 'CREMA UNIVERSEL NOCC 5KG SG', 'PASTA DARK SG', 'MAGGIORAZIONE SPESE INCASSO', 'SCONTO FORF. COVID PASQUA 2020', 'MAGGIORAZIONE SPESE INCASSO', 'SCONTO FORF. COVID PASQUA 2020', 'AFTER EIGHT MiniEggs UTZ 12x153g XE', 'Sconto AFTER EIGHT MiniEggs UTZ 12x153g XE', 'GRIFO Ovetti Assortiti Marsupio 3kg IT', 'Sconto GRIFO Ovetti Assortiti Marsupio 3kg IT', 'SMARTIES Coniglio Icon 32x85gUtzMbalN1IT', 'Sconto SMARTIES Coniglio Icon 32x85gUtzMbalN1IT', 'PERG BACI Icon BunnyDark 24x85gUtzMbalIT', 'Sconto PERG BACI Icon BunnyDark 24x85gUtzMbalIT', 'BACI Festa Donna Tubo UTZ16x87 5g IT', 'Sconto BACI Festa Donna Tubo UTZ16x87 5g IT', 'BACI MaxiCuoreElegance UTZ 6x150g IT', 'Sconto BACI MaxiCuoreElegance UTZ 6x150g IT', 'BACI Portch French Bulldog UTZ12x87 5gIT', 'Sconto BACI Portch French Bulldog UTZ12x87 5gIT', 'BACI Portch French Bulldog UTZ12x87 5gIT', 'Sconto BACI Portch French Bulldog UTZ12x87 5gIT', 'BACIPlcheFrenchBulldogMediumUTZ6x37 5gIT', 'Sconto BACIPlcheFrenchBulldogMediumUTZ6x37 5gIT', 'BACIPlcheFrenchBulldogMediumUTZ6x37 5gIT', 'Sconto BACIPlcheFrenchBulldogMediumUTZ6x37 5gIT', 'BACI Peluche Panda Trudi UTZ 4x87 5g IT', 'Sconto BACI Peluche Panda Trudi UTZ 4x87 5g IT', 'BACIPortachiaviDoppio 2021UTZ 12x87 5gIT', 'Sconto BACIPortachiaviDoppio 2021UTZ 12x87 5gIT', 'BACIPortachiaviDoppio 2021UTZ 12x87 5gIT', 'Sconto BACIPortachiaviDoppio 2021UTZ 12x87 5gIT', 'BACI Peluche Blu 2021 UTZ 6x37 5g IT', 'Sconto BACI Peluche Blu 2021 UTZ 6x37 5g IT', 'BACI Peluche Blu 2021 UTZ 6x37 5g IT', 'Sconto BACI Peluche Blu 2021 UTZ 6x37 5g IT', 'BACI Cioccolato Cuore Tazza UTZ 8x50g IT', 'Sconto BACI Cioccolato Cuore Tazza UTZ 8x50g IT', 'BACI Cioccolato Cuore Tazza UTZ 8x50g IT', 'Sconto BACI Cioccolato Cuore Tazza UTZ 8x50g IT', 'BACICuoreInnamoratiLattaUTZ 6x100gN1IT', 'Sconto BACICuoreInnamoratiLattaUTZ 6x100gN1IT', 'BACI Cuore Gold UTZ 15x100g IT', 'Sconto BACI Cuore Gold UTZ 15x100g IT', 'BACI Tubo 40 SanValentinoUTZ18x87 5gIT', 'Sconto BACI Tubo 40 SanValentinoUTZ18x87 5gIT', 'BACI Piccolo Cuore Latta UTZ 15x50g IT', 'Sconto BACI Piccolo Cuore Latta UTZ 15x50g IT', 'BACI Portachiavi Minirosa UTZ12x37 5g IT', 'Sconto BACI Portachiavi Minirosa UTZ12x37 5g IT', 'BACI Portachiavi Minirosa UTZ12x37 5g IT', 'Sconto BACI Portachiavi Minirosa UTZ12x37 5g IT', 'BACI CiocRosa Rossa UTZ 12x75g N1 IT', 'Sconto BACI CiocRosa Rossa UTZ 12x75g N1 IT', 'BACI CiocRosa Rossa UTZ 12x75g N1 IT', 'Sconto BACI CiocRosa Rossa UTZ 12x75g N1 IT', 'Baci Perugina Vetrina San Valentino Base', 'PERUGINASETSHOPPERPICCOLE  ex147155716', 'GIN BOMBAY SAPPHIRE LITRO', 'GIN TANQUERAY TEN LITRO', 'GINGER BEER FEVER TREE CL20X24', 'AMARO JEFFERSON IMPORTANTE 70 CL', 'CILIEGIE DA COKTAIL ROSSE 950 GR NATURERA', 'APEROL BARBIERI LITRO', 'BACARDI BIANCO LITRO', 'JACK DANIELS LITRO', 'AMARO DEL CAPO LITRO', 'AMARO JAGERMEISTER LITRO ', 'AMARO BRANCAMENTA LITRO', 'MIDORI LITRO', 'WHISKY JB  LITRO', 'TEQUILA SILVER CUERVO LITRO', 'BAILEYS ORIGINAL LITRO', 'BITTER CAMPARI LITRO', 'VODKA SMIRNOFF RED LITRO', 'GIN GORDONS LITRO', 'MANDORLA SABADRINK 2 LITRI', 'ZUCCHERO DI CANNA LIQUIDO BOERO 75 CL', 'WHISKY JAMESON IRISH LITRO', 'WHISKY LAGAVULIN 16 Y 70 CL', 'CRANBERRY FRUIT GOLD LITRO', 'CUCCHIAINI MOKA', 'MINILIO IMBUSTATE 50PZ', 'ICONT ROT. FLOR ASTU.', 'BICCHIERI COFFEE CART.75ML', 'COPERCHIO BICCH. 75 ML COVER', 'BICCHIERE 166 CCTRASP.30X100', 'BICCHIERI COFFEE CART.75ML   G.P.', 'LEONE MINILIO IN LEGNO 500PZ  G.P.', 'RISPO RUSTICI MIGNON CF 2.5 KG', 'PAC GEL CORNETTO 7 CEREALI E FRUTTI DI BOSCO CT 40 PZ X 80 GR', 'PAC GEL CONCHIGLIA GIANDUIA SUPERFARCITA CT GR 100 X 50 PZ', 'IDCAM CODA ARAGOSTA - MICRO CT 7 KG     COD.AKA014', 'PAC GEL SFOGLIATA RICCIA MIGNON GR 30 CT 5 KG', 'PAC GEL SFOGLIATA SEMIDOLCE RUSTICA CT 4 KG', 'KRAFT PHILADELPHIA CF 1.650 KG', 'CITROLO CANNOLO SICILIANO GRANDE CT 100 PZ', 'Spese Varie', 'Riga ausiliaria contenente informazioni tecniche e aggiuntive del documento', 'CL 50 FERNET AMERIGO 39.0', 'FIORI EDULI MISTI', '1/16 PARM.REGGIANO DOP 24M.MC', 'ML250 SALSA TERIYAKI KIKKOMAN', 'CUCCHIAIO LEGNO CM 70', 'SHOPPER BIO 35X10X65 CASSE MP', 'ACQUA FERRARELLE 0,50 X 24 BT PET', 'ACQUA NATIA 0.50 X 24 PET', 'YOGA MAGIC ANANAS X24 BT', 'YOGA  MAGIC PESCA 200X24', 'RED BULL 0,25 X24 LT', 'SCHWEPPES TONICA 200 CL VAP X 24 VETRO', 'LEMONSODA 200 X 24', 'SPRITE LATTINA SLEEK 033 X 24', 'COCA COLA ZERO LATTINA SLEEK 033X24', 'CEDRATA  TASSONI 25 VPX 25 BT', 'BIRRA BECK&apos;S 0.33 CL X 24 BT', 'BIRRA CORONA 0.35,5 X 24 BT', 'BIRRA HEINEKEN 0.33 CL X 24 BT', 'BIRRA TENNENT&apos;S 33 CL', 'JACK DANIEL&apos; S CL 100', 'GIN BOSFORD CL. 100', 'TRIPLE SEC CL 70 DE KUYPER', 'AMARO FERNET BRANCA LT 1', 'BITTER CAMPARI CL.100', 'GERMAIN CL 70   20%', 'VODKA KEGLEVICH CLASSIC 1LT', 'CONTRIBUTO EXECUTION F21 CODICE 3000005844 UPDOWN ENZO CHICHIERCHIA', 'CUCCHIAINI MOKA', 'ICONT ROT. FLOR ASTU.', 'SHOPPERS 500 USO INT.', 'MINILIO 1000PZ', 'BICCHIERI TRASP. 166cc MAJOR', 'ARISTEA KRIST.250CC PET 50PZ', 'DOPLA KRISTAL 100CC 50 PZ', 'LEONE CANNUCCIE TRASP 1000PZ', 'CAPUTO FARINA - TIPO 1 STORICA ETICHETTA 1 CF 25 KG', 'KRAFT PHILADELPHIA CF 1.650 KG', 'GOURMET LINE FARINA DI MANDORLE PELATE CF DA KG 5', 'RUFFINI AROMA ARANCIO CF 500 CC', 'RUFFINI AROMA CANNELLA 1X2000 CF 500 CC', 'CRESCO FORM STAC PZ 400 ML', 'VANDEMOORTELE OLIO RISSO GIRASOLE ALTO OLEICO CF 10LT', 'Spese Varie', 'Riga ausiliaria contenente informazioni tecniche e aggiuntive del documento', 'GRAPPA INVECCHIATA VECCHIA BOTTE MAGNUM', 'TONICA WATER FEVER TREE CL20X24', 'GIN HENDRICKS LITRO', 'TEQUILA SILVER CUERVO LITRO', 'VODKA SMIRNOFF RED LITRO', 'SAMBUCA MOLINARI LITRO', 'APEROL BARBIERI LITRO', 'MELONE FRUIT GOLD LITRO', 'SCIROPPO FRAGOLA MONIN 70 CL', 'RUM PAMPERO BLANCO LITRO', 'COGNAC COURVOISIER VS LITRO', 'CILIEGIE DA COKTAIL ROSSE 950 GR NATURERA', 'MOET E CHANDON 75 CL', 'TEQUILA MEZCAL BENEVA CON GUSANO 70 CL', 'TRIPLE SEC DE KUYPER 70 CL', 'RETE', 'NASTRO', 'TEALIGHT', 'MYLAR', 'TELO VETRINA', 'PALLONCINI', 'MAGNOLIA', 'WAFERS FARMA MEZZELUNE LIMONE DI GELATINA CT 2 KG COD.29428', \"DOBLA MOCCA BEANS (CHICCO CAFFE') CT 1.1KG COD.81125\", 'CAPUTO FARINA - TIPO 00R CF 25 KG', 'AMBROSIO AMARENA SPECIALE CF 4,7 KG', 'Spese Varie', 'Riga ausiliaria contenente informazioni tecniche e aggiuntive del documento', 'CUCCHIAINO YOGURT-GRANITA 300PZ', 'ICONT ROT. FLOR ASTU.', 'LEONE MINILIO IN LEGNO 500PZ', 'ILIP KRIST.400CC PET 50PZ', 'ARISTEA KRIST.250CC PET 50PZ', 'BICCHIERI COFFEE CART.75ML', 'COPERCHIO BICCH. 75 ML COVER', 'CUCCHIAINO YOGURT-GRANITA 300PZ', 'LEONE MINILIO IN LEGNO 500PZ', 'BICCHIERI COFFEE CART.75ML', 'COPERCHIO BICCH. 75 ML COVER', 'ICONT ROT. FLOR ASTU.', 'LEONE CANNUCCIE TRASP 1000PZ', 'CALICE CONTEA 49', 'BICCHIERE AMERICA DOF', 'BICCHIERE AMERICA COOLER', 'CASSERUOLA FAMILIA CM28', 'PIATO OVALE JOO 40X29 MELAM', 'VASSOIO OVALE FLOATING 55X33', 'VASSOIO OV.PORTATA COMET CM45X33', 'MOLLA SPAGHETTI BUFFET CM 24', 'MOLLA VERDURA BUFFET CM.24', 'Rivalsa spese incasso', 'JOYGELATO PASTE VANIGLIA MADAGASCAR/BOURBON CF 1.2 KG COD.00222', 'PAC GEL CORNETTO 7 CEREALI E FRUTTI DI BOSCO CT 40 PZ X 80 GR', 'PAC GEL CONCHIGLIA GIANDUIA SUPERFARCITA CT GR 100 X 50 PZ', 'IDCAM CODA ARAGOSTA - MICRO CT 7 KG     COD.AKA014', 'PAC GEL SFOGLIATA RICCIA MIGNON GR 30 CT 5 KG', 'JOYGELATO PASTE FRAGOLA CF 1.2 KG COD.00217', 'Spese Varie', 'Riga ausiliaria contenente informazioni tecniche e aggiuntive del documento', 'Descrizione: Canone di locazione n. 021 (comprensivo dellaquota di indicizzazione pari a -0,01) - Num. Pratica: 1000571 - Targa: FW639KK - Modello: A1147B', 'Descrizione: Rimborso Servizi - Num. Pratica: 1000571 - Targa: FW639KK - Modello: A1147B', 'Consegna mensile colazioni', 'CAPUTO FARINA - TIPO AMERICANA CARTA CF 25 KG', 'CAPUTO FARINA - TIPO 00 EXTRA CF 25 KG', 'CAPUTO FARINA - TIPO 00R CF 25 KG', 'VANDEMOORTELE ***MIX*** GOLD CUP CROISSANT CF 15 KG COD. 405233', 'SUD ZUCHER ZUCCHERO SABBIA EXTRA FINO CF 25 KG', 'SWEET D.e D. ZUCCHERO CF 25 KG', 'GOURMET LINE MIX CREAM AMIDO CF 10 KG', 'CELLOPHANE & PAPER CARTA DA FORNO 40X60 CF 500PZ', 'CITROLO CIGARETTES **BOCCA LARGA** CF 1KG', 'RUFFINI BAGNA ALCOLICA 70° PERLA NERA CF 2 LT', \"VANDEMOORTELE MARGARINA SANT'ALLERY CREMA 25% COD401981\", 'VANDEMOORTELE MARGARINA ST ALLERY CROISSANT 15% KG COD. 413712', 'IRCA CHOCOCREAM ***** PISTACCHIO ***** CF KG 5     COD.10958', 'REVIVA PIROTTINI OVALI COLORATI MIS 3 CF 1000 PZ', 'REVIVA PIROTTINI TONDI COLORATI  MIS. 3 H 18.5mm CF 2000 PZ', 'IDCAM TAPPI GRANDI CT 150 PZ', \"COOPERLAT PREP. VEG. HOPLA' EASY TOP  1LT\", \"BHB ROULLE' BIANCO CM 0.7 38X56 PZ 12\", 'PREGEL PANNA CREMA ARANCIA CF 1,1 KG', 'IDCAM CODA ARAGOSTA - MICRO CT 7 KG     COD.AKA014', 'PAC GEL SFOGLIATELLA RUSTICA CON FRIARIELLI CT 4 KG', 'PAC GEL CORNETTO 7 CEREALI E FRUTTI DI BOSCO CT 40 PZ X 80 GR', 'PAC GEL CONCHIGLIA GIANDUIA SUPERFARCITA CT GR 100 X 50 PZ', 'Spese Varie', 'Riga ausiliaria contenente informazioni tecniche e aggiuntive del documento', 'Sky Vetrina + Sport + Calcio Plus', 'Spese invio fattura', 'D427-77201260-80310891-KINDER JOY T1X36 PZ UG DO B', 'D472-77200995-8000500293508-KINDER LOVE G37X30 CUO B', 'CONV5361 - CONVERTITORE SMALTO POLIUR. ral 9001 c100 296', 'DIL610 - DILUENTE UNIVERSALE 610 LT 1', 'CATA9916 - CATALIZZATORE EPOSSIDICO 9916', 'TRI60TI - TRIPLA 60 TIGRE', 'ELABORAZIONE CEDOLINI PAGHE 10/2020', 'PININ PERO ZUCCHERO GRANELLA MEDIA CT 10 KG', 'Riga ausiliaria contenente informazioni tecniche e aggiuntive del documento', 'ALCAS  COPERCHIO VASSOIO MEDORO CM 26 - CF 10 PZ', 'Spese Varie', 'Riga ausiliaria contenente informazioni tecniche e aggiuntive del documento', 'ARISTEA KRIST.400CC PET 50PZ', 'LEONE MINILIO IN LEGNO 500PZ', 'BICCHIERI COFFEE CART.75ML', 'COPERCHIO BICCH. 75 ML COVER', 'CUCCHIAINO YOGURT-GRANITA 300PZ', 'ICONT ROT. FLOR ASTU.', 'SALVI STRISCIA ORO H 7 CM', 'INAB NASTRO DIAMANTATO ORO LARGO CF 5 PZ', 'SALVI VASSOIO ORO MIS. 3 RETTANGOLARE MIS 3 CM 23 X 16 CF 10 KG', 'SALVI VASSOIO ORO MIS. 4 RETTANGOLARE MIS 4 CM 28 X 20  CF 10 KG', 'ELENKA PASTA NOCCIOLA LAURUS  CF 1 KG', 'FERRERO NUTELLA CF 3 KG', 'Spese Varie', 'Riga ausiliaria contenente informazioni tecniche e aggiuntive del documento', 'DERMAGEL ML. 500X12  SUTTER CODICE 5668  P.M.C.', 'SC 1V 17X17 UP DOWN COFFE PZ. 2000', 'TOV.VELO 30X30 PP T301   CART 8X500 PZ', 'CANDEGGINA C/SG 4X5  ( LT.20)', 'BUSTE N.U.90X130 AMBRA KG 19                                     75 M', 'PULIFORM 1X12 LT. 1', 'STROFI. VELO PP MILLEUSI X 2ROTOLI', 'MASCHERINA CHIRURGICA 3 VELI BOX DA 14 PZ.', 'AMBIENCE SUMMER LT.5 X 4 TN  LINEA POM', 'ACID RINSE  KG.5 SUTTER COD. 4964', 'S.M. SUPER PLUS KG.6 COD.5308', 'BUSTE CORNETTI KRAFT BIANCO KG 1X10 - MIS 14X28', 'BUSTE CORNETTI KRAFT BIANCO KG 1X10 - MIS17X34', 'NITRICO WALKING (100) L 100 PZ. TAGLIA LARGE', 'SPESE VARIE', 'Consegna mensile colazioni', 'VODKA RED ARMY AK47 ASTUCCIATA LITRO', 'VITTORIA OLIVE VERDI DOLCI TONDE 000 CF 1 KG', 'Spese Varie', 'Riga ausiliaria contenente informazioni tecniche e aggiuntive del documento', 'SALVI STRISCIA ORO H 7 CM', 'INAB NASTRO DIAMANTATO ORO LARGO CF 5 PZ', 'SALVI VASSOIO ORO MIS. 4 RETTANGOLARE MIS 4 CM 28 X 20  CF 10 KG', 'SALVI VASSOIO ORO MIS. 5 RETTANGOLARE MIS 5 CM 31 X 23 CF 10 KG', 'SALVI VASSOIO ORO MIS. 6 RETTANGOLARE MIS 6 CM 35 X 25 CF 10 KG', 'SALVI VASSOIO ORO MIS. 7 RETTANGOLARE MIS 7 CM 37 X 26 CF 10 KG', 'ELENKA PASTA NOCCIOLA LAURUS  CF 1 KG', 'Spese Varie', 'Riga ausiliaria contenente informazioni tecniche e aggiuntive del documento', '250 FORCHETTINE 100MM PS  MP', 'FIORI EDULI MISTI', 'FIORI EDULI MISTI', '40 PIATTI COMP.RETT20X28CM MP', '40 PIATTI COMP.RETT20X28CM MP', '40 PIATTI COMP.RETT20X28CM MP', '40 PIATTI COMP.RETT20X28CM MP', 'THE BIG BABOL T.FRUTTI 5X24', 'DAYGUM PROTEX AST. X 20 NEW', 'VIV.XYL SPEAR 10X40 UPGRADE', 'VIGORSOL AIR ACTION X 40', 'VIV.FRESH BLAST BLUE X 20 AST. UPG.', 'GOLIA ACTIV PLUS NEW AST.X20', 'Descrizione: Interessi di mora - Num. Pratica: 1000571 - Targa: FW639KK - Modello: A1147B', 'SALVI STRISCIA ORO H 7 CM', 'SALVI VASSOIO ORO MIS. 3 RETTANGOLARE MIS 3 CM 23 X 16 CF 10 KG', 'FERRERO NUTELLA CF 3 KG', 'SALVI VASSOIO ORO MIS. 4 RETTANGOLARE MIS 4 CM 28 X 20  CF 10 KG', 'SALVI VASSOIO ORO MIS. 5 RETTANGOLARE MIS 5 CM 31 X 23 CF 10 KG', 'SALVI VASSOIO ORO MIS. 6 RETTANGOLARE MIS 6 CM 35 X 25 CF 10 KG', 'SALVI VASSOIO ORO MIS. 7 RETTANGOLARE MIS 7 CM 37 X 26 CF 10 KG', 'Spese Varie', 'Riga ausiliaria contenente informazioni tecniche e aggiuntive del documento', 'APEROL BARBIERI LITRO', 'CHARDONNAY CAPSULA VIOLA 75 CL', 'AMARO DEL CAPO LITRO', 'AMARO JAGERMEISTER LITRO ', 'BAILEYS ORIGINAL LITRO', 'AMARO MONTENEGRO 70 CL', 'AMARO LUCANO LITRO', 'MIDORI LITRO', 'BITTER CAMPARI LITRO', 'MARTINI BIANCO LITRO', 'VODKA FRAGOLA LITRO KEGLEVICH ', 'VODKA PESCA  LITRO KEGLEVICH ', 'SCIROPPO FRAGOLA MONIN 70 CL', 'CILIEGIE DA COKTAIL ROSSE 950 GR NATURERA', 'GRAPPA INVECCHIATA VECCHIA BOTTE MAGNUM', 'DIAMOND ECOLABEL ML.500X12 PZ SUTTER', 'DERMAGEL ML. 500X12  SUTTER CODICE 5668  P.M.C. GEL DISINFETTANTE', 'TOV.VELO 30X30 PP T301   CART 8X500 PZ', 'STROFI. VELO PP MILLEUSI X 2ROTOLI', 'S.M. SUPER PLUS KG.6 COD.5308', 'UP DOWN COFFE 14X28', 'UP DOWN 17X34 KRAFT', 'SPESE VARIE', 'CRICK CROCK GR400X9PZ', 'CRIK GR180X16PZ', 'TARALLI GR250X24PZ', 'CRIK PUFFGR110X16PZ', 'A513-77199580-8000500131329-NUTELLA G3000X2 SCC/PRT F/SER', 'D464-77201592-80310891-KINDER JOY T1X36 PZ JU/W', 'Perdite di rete F1', 'Energia F3', 'Imposta erariale di consumo', 'TRASPORTO QUOTE VARIABILI', 'Oneri Potenza', 'TRASPORTO QUOTE POTENZA', 'Energia F2', 'TRASPORTO QUOTE FISSE', 'ONERI FISSI', 'ONERI VARIABILI', 'Dispacciamento', 'PCV_F  Commercializzazione Vendita Parte Fissa', 'Energia F1', 'Componente di dispacciamento parte Fissa', 'Sbilanciamento', 'PCV parte variabile', 'Perdite di rete F3', 'Aggregazione delle misure', 'Perdite di rete F2', 'NATIA PET 1 LT X 12 BT', 'ACQUA NATIA 0.50 X 24 PET', 'FERRARELLE PET 1LT X 12 BT', 'ACQUA FERRARELLE 0,50 X 24 BT PET', 'YOGA ANANAS PET 1 LT', 'YOGA ARANCIA PET 1 LT', 'S. PELLEGRINO COCKTAIL BIANCO 20 CL 24 VAP', 'S. PELLEGRINO COCKTAIL ROSSO X 24 BT', 'CRODINO CL X 10X 48', 'S.PELLEGRINO BITTER BIANCO X 40', 'S.PELLEGRINO BITTER ROSSO X 40', 'CEDRATA  TASSONI 25 VPX 25 BT', 'COCA COLA LATTINA SLEEK 033 X 24', 'COCA COLA ZERO LATTINA SLEEK 033X24', 'RED BULL 0,25 X24 LT', 'FI-GA  GUARANA FRUIT FUSION 250X 24 LATT', 'ESTATHE&apos;  LATTINA LIMONE 033X24', 'ESTATHE&apos;  PESCA LATTINA 033X24', 'SCHWEPPES LIMONE 200 CL VAP X 24 VETRO', 'YOGA  MAGIC PESCA 200X24', 'YOGA MAGIC ANANAS X24 BT', 'YOGA MAGIC MIRTILLO 200X24', 'SALVI STRISCIA ORO H 7 CM', 'INAB NASTRO DIAMANTATO ORO LARGO CF 5 PZ', 'SALVI VASSOIO ORO MIS. 10 RETTANGOLARE MIS 10 CM 52 X 37 CF 10 KG', 'SALVI VASSOIO ORO MIS. 4 RETTANGOLARE MIS 4 CM 28 X 20  CF 10 KG', 'SALVI VASSOIO ORO MIS. 7 RETTANGOLARE MIS 7 CM 37 X 26 CF 10 KG', 'SALVI VASSOIO ORO MIS. 8 RETTANGOLARE MIS 8 CM 42 X 31 CF 10 KG', 'Spese Varie', 'Riga ausiliaria contenente informazioni tecniche e aggiuntive del documento', 'NATIA PET 1 LT X 12 BT', 'ACQUA NATIA 0.50 X 24 PET', 'FERRARELLE PET 1LT X 12 BT', 'ACQUA FERRARELLE 0,50 X 24 BT PET', 'BIRRA TENNENT&apos;S 33 CL', 'BIRRA HEINEKEN 0.33 CL X 24 BT', 'BIRRA BECK&apos;S 0.33 CL X 24 BT', 'COCA COLA  PET 2 LT X 6 BT', 'CRODINO CL X 10X 48', 'S.PELLEGRINO BITTER ROSSO X 40', 'CEDRATA  TASSONI 25 VPX 25 BT', 'COCA COLA LATTINA SLEEK 033 X 24', 'COCA COLA ZERO LATTINA SLEEK 033X24', 'FANTA LATTINA SLEEK 033X24', 'SPRITE LATTINA SLEEK 033 X 24', 'ESTATHE&apos;  LATTINA LIMONE 033X24', 'ESTATHE&apos;  PESCA LATTINA 033X24', 'RED BULL 0,25 X24 LT', 'LEMONSODA 200 X 24', 'SCHWEPPES LIMONE 200 CL VAP X 24 VETRO', 'SCHWEPPES TONICA 200 CL VAP X 24 VETRO', 'YOGA MAGIC  ACE 200X24', 'YOGA  MAGIC PESCA 200X24', 'YOGA MAGIC PERA 200X24', 'YOGA MAGIC ANANAS X24 BT', 'YOGA MAGIC ALB. 200X24', 'CUCCHIAINO YOGURT-GRANITA 300PZ', 'LEONE MINILIO IN LEGNO 500PZ', 'ICONT ROT. FLOR ASTU.', 'BICCHIERI COFFEE CART.75ML', 'COPERCHIO BICCH. 75 ML COVER', 'PAC GEL CONCHIGLIA GIANDUIA SUPERFARCITA CT GR 100 X 50 PZ', 'PAC GEL CORNETTO 7 CEREALI E FRUTTI DI BOSCO CT 40 PZ X 80 GR', 'IDCAM CODA ARAGOSTA - MICRO CT 7 KG     COD.AKA014', 'PAC GEL SFOGLIATA RICCIA MIGNON GR 30 CT 5 KG', 'PAC GEL SFOGLIATA SEMIDOLCE RUSTICA CT 4 KG', 'RISPO RUSTICI MIGNON CF 2.5 KG', 'CAPUTO FARINA - TIPO 00 EXTRA CF 25 KG', 'CAPUTO FARINA - TIPO AMERICANA CARTA CF 25 KG', 'VANDEMOORTELE ***MIX*** GOLD CUP CROISSANT CF 15 KG COD. 405233', 'SWEET D.e D. ZUCCHERO CF 25 KG', 'SUD ZUCHER ZUCCHERO SABBIA EXTRA FINO CF 25 KG', 'GOURMET LINE MELANGE SFOGLIA-CROISSANT 15% (PLATTE) CT 5 X 2 KG cod. 995', \"VANDEMOORTELE MARGARINA SANT'ALLERY CREMA 25% COD401981\", 'TORRENTE PASSATA POMODORO CON BASILICO CT 12 X 700 GR', 'GOURMET LINE MIX CREAM AMIDO CF 10 KG', 'IRCA NOCCIOLATA ***** CF 13 KG COD. 1010151', 'IRCA PASSATA ALBICOCCA***** ORO ***** CF 14 KG   COD.30340', 'IRCA CHOCOCREAM ***** PISTACCHIO ***** CF KG 5     COD.10958', 'SALVI PIATTI ALA ORO CM 28 CF 10 KG', 'MODECOR SAC A POCHE GRIPY 28X53 - CF.100 PZ. - COD. 30301', 'RUFFINI BAGNA ALCOLICA 70° PERLA NERA CF 2 LT', 'VISA GRANELLA DI NOCCIOLE CF 2.5 KG', 'PININ PERO ZUCCHERO GRANELLA MEDIA CT 10 KG', 'PININ PERO ZUCCHERO VELO CF 5 KG', 'CITROLO CIGARETTES **BOCCA LARGA** CF 1KG', 'CITROLO CANNOLI CIOCCOLATO MIGNON CT 3.5 KG', 'CARTOPLAST BUSTE PLASTICA 50/70 CT 15 KG', 'VANDEMOORTELE OLIO RISSO GIRASOLE ALTO OLEICO CF 10LT', \"BAKER'S LIEVITO FRESCO PAKMAYA PZ 500 GR\", \"AIA TUORLO D'UOVO CF 1 LT\", \"COOPERLAT PREP. VEG. HOPLA' EASY TOP  1LT\", 'REVIVA PIROTTINI OVALI COLORATI MIS 3 CF 1000 PZ', 'POLIART POLISTIROLO EPS 30 CM H 10 CM', 'POLIART POLISTIROLO EPS 20 CM H 10 CM', 'DECORA SOTTOTORTA TONDO ARGENTO D40 H 1.2 COD. 0931209', 'DECORA SOTTOTORTA TONDO DORATO D40 H1.2 COD. 0931707', 'COATI PROSCIUTTO COTTO BLU - PL27', 'REVIVA PIROTTINI TONDI MARRONI MIS. 3 CF 2000 PZ', 'Spese Varie', 'Riga ausiliaria contenente informazioni tecniche e aggiuntive del documento', 'FITNESS CACAO GR.23,5 PZ.24', 'FITNESS CEREALI GR.23,5 PZ.24', \"KELLOG'S SPECIAL K BARRETTA FR. ROSSI GR.21,5 PZ.30\", 'EXPO SEMPLICEMENTE FRUTTA GR.25/30 PZ.48', 'SALVI STRISCIA ORO H 7 CM', 'INAB NASTRO DIAMANTATO ORO LARGO CF 5 PZ', 'SALVI VASSOIO ORO MIS. 4 RETTANGOLARE MIS 4 CM 28 X 20  CF 10 KG', 'ELENKA PASTA NOCCIOLA LAURUS  CF 1 KG', 'VANDEMOORTELE MARGARINA ST ALLERY CROISSANT 15% KG COD. 413712', 'Spese Varie', 'Riga ausiliaria contenente informazioni tecniche e aggiuntive del documento', 'Consegna mensile colazioni', 'AB3 MISCELA CREMA BAR CONFEZIONE DA Kg.3', '/D Lotto V52I', 'N ZUCCHERO SEMOLATO ASTUCCI da Kg.1', '/D Lotto 1025F0892R', \"TV OMAGGIO BICCHIERINO VETRO PER CAFFE' ALL.DICH.CONFORMITA'\", 'APEROL BARBIERI LITRO', 'VODKA SMIRNOFF RED LITRO', 'GIN GORDONS LITRO', 'RON ZACAPA EDICTION NEGRA ASTUCCIATO LITRO', 'APEROL BARBIERI LITRO', 'MARTINI ROSSO LITRO', 'BITTER CAMPARI LITRO', 'VODKA FRAGOLA LITRO KEGLEVICH ', 'VODKA MELONE LITRO KEGLEVICH', 'AMARO PETRUS 70 CL', 'AMARO UNICUM LITRO', 'SIFONE PREMIUM SODA ORIGINAL 150 CL', 'LIQUORE AL SAMBUCO DE KUYPER 70 CL', 'AMARO VECCHIO DEL CAPO 70 CL', 'AMARO JAGERMEISTER LITRO ', 'GIN MARE 70 CL', 'PROMOZIONE RIORDINO GINSENG LIGHT', \"CAFFE' AL GINSENG BS. 500gr. - SENZA GLUTINE\", \"CAFFE' AL GINSENG BS. 500gr. - SENZA GLUTINE\", 'ESPOSITORE IN CARTOTECNICA NATURAL ESSENCE 20 SCOMPARTI', 'Spese di trasporto', 'CUCCHIAINO YOGURT-GRANITA 300PZ', \"PALETTE GIRA CAFE' 1000PZ IMB.\", 'ICONT ROT. FLOR ASTU.', 'BICCHIERI COFFEE CART.75ML', 'COPERCH.BICCH.75 COVER 100PZ', 'ARISTEA KRIST.400CC PET 50PZ', 'BICCHIERE 166 TRASP. 30X100 PZ', 'VITTORIA OLIVE VERDI DOLCI TONDE 000 CF 1 KG', 'DECORA SOTTOTORTA QUADRATO ARGENTO 45X45 H1.2 COD. 0931620', 'DECORA SOTTOTORTA QUADRATO ARGENTO 40X40 H1.2 COD. 0931615', 'ALCAS BIJOUX TONDO ALTO TRASPARENTE CC 70 CF 60 PZ', 'AIA WURSTEL WUDY PURO SUINO CT 35CF X 100GR', 'BIRAGHI BIRAGHINI BUSTA 400 GR', 'Spese Varie', 'Riga ausiliaria contenente informazioni tecniche e aggiuntive del documento', 'Colazioni', 'Biscotti', 'Torte/pasticceria', 'Consegna mensile colazioni', ' Cod.Comm. 007694433 ', ' OGGETTO : Concessione in uso di N.    1 apparecchiature ', ' P.O.S. ', ' CANONE PERIODO 01/10/2020 - 31/10/2020 ', 'Perdite di rete F2', 'Aggregazione delle misure', 'Perdite di rete F3', 'PCV parte variabile', 'Sbilanciamento', 'Componente di dispacciamento parte Fissa', 'Energia F1', 'PCV_F  Commercializzazione Vendita Parte Fissa', 'Dispacciamento', 'ONERI VARIABILI', 'ONERI FISSI', 'TRASPORTO QUOTE FISSE', 'Energia F2', 'TRASPORTO QUOTE POTENZA', 'Oneri Potenza', 'TRASPORTO QUOTE VARIABILI', 'Imposta erariale di consumo', 'Energia F3', 'Perdite di rete F1', 'ACQUA NATIA 0.50 X 24 PET', 'CEDRATA  TASSONI 25 VPX 25 BT', 'COCA COLA ZERO LATTINA SLEEK 033X24', 'COCA COLA LATTINA SLEEK 033 X 24', 'RED BULL 0,25 X24 LT', 'BITTER CAMPARI CL.100', 'SAMBUCA MOLINARI LT 1.5 CL', 'BAILEYS CREAM CL 100', 'APEROL  1LITRO  BT', 'RUM ZACAPA 23 CL 70', 'D427-77201260-80310891-KINDER JOY T1X36 PZ UG DO B', 'D472-77200995-8000500293508-KINDER LOVE G37X30 CUO B', 'NOVASERVICE PIROTTINO COLOMBA DA 1 KG', 'RUFFINI AROMA IN PASTA - PANETTONE - CF. 1KG.', 'AMBROSIO CUBETTI ARANCIA 6X6 CT 5 KG', 'DOBLA RICCIOLI FONDENTE - CURLS DARK CF 1.5KG - COD.41120', 'PAC GEL MACARONES CONF DA 36 PZ X 10 GR', 'Spese Varie', 'Riga ausiliaria contenente informazioni tecniche e aggiuntive del documento', 'AMBIENCE AUTUMN  LT.5 X 4 TN  LINEA POM', 'COPER.DOME T.CROCE D84 600PZ PET TR ISAP', 'SPESE VARIE', 'ICA PIROTTINO CUP CAKE 27,5X55MM FANTASIE CF 50PZ COD.PIINZXT120C', 'Riga ausiliaria contenente informazioni tecniche e aggiuntive del documento', 'S.M. SUPER PLUS CART 4X 6  KG', 'DIAMOND ECOLABEL ML.500X12 PZ SUTTER', 'AMBIENCE AUTUMN  LT.5 X 4 TN  LINEA POM', 'DERMAGEL ML. 500X12  SUTTER CODICE 5668  P.M.C. GEL DISINFETTANTE', 'TOV.VELO 30X30 PP T301   CART 8X500 PZ', 'CANDEGGINA CON SGRASSATORE 4X5  ( LT.20)', 'BUSTE N.U.90X130 AMBRA KG 19                                     75 M', 'STROFI. VELO PP MILLEUSI X 2ROTOLI', 'SPESE VARIE', 'VODKA SMIRNOFF RED LITRO', 'TRIPLE SEC DE KUYPER 70 CL', 'GIN GORDONS LITRO', 'CILIEGIE DA COKTAIL ROSSE 950 GR NATURERA', 'SCIROPPO FRAGOLA MONIN 70 CL', 'RUM MATUSALEM 15Y ASTUCCIATO 70 CL', 'VODKA FRAGOLA LITRO KEGLEVICH ', 'BAILEYS ORIGINAL LITRO', 'SCIROPPO DI COCCO MONIN 70 CL', 'ANGOSTURA BITTERS 200 ML', 'APEROL BARBIERI LITRO', 'VODKA BELVEDERE LITRO', \"BAKER'S LIEVITO FRESCO PAKMAYA PZ 500 GR\", 'IDCAM CODA ARAGOSTA - MICRO CT 7 KG     COD.AKA014', 'PAC GEL SFOGLIATA RICCIA MIGNON GR 30 CT 5 KG', 'PAC GEL SFOGLIATA SEMIDOLCE RUSTICA CT 4 KG', 'RISPO RUSTICI MIGNON CF 2.5 KG', 'IDCAM TAPPI GRANDI CT 150 PZ', 'CAPUTO FARINA - TIPO AMERICANA CARTA CF 25 KG', 'CAPUTO FARINA - TIPO 00 EXTRA CF 25 KG', 'VANDEMOORTELE ***MIX*** GOLD CUP CROISSANT CF 15 KG COD. 405233', 'CELLOPHANE & PAPER CARTA DA FORNO 40X60 CF 500PZ', 'GOURMET LINE MIX CREAM AMIDO CF 10 KG', 'IRCA NOCCIOLATA ***** CF 13 KG COD. 1010151', 'TORRENTE POMOPIZZA CT 3X4.1 KG', 'CITROLO CIGARETTES SURPRISE CT 1,5 KG', 'CITROLO CANNOLI CIOCCOLATO MIGNON CT 3.5 KG', 'AMBROSIO ANANAS MIGNON 33 FETTE CF 850 GR', 'IRCA LILLY NEUTRO CF 1KG   COD.70508', 'REVIVA PIROTTINI TONDI COLORATI  MIS. 3 H 18.5mm CF 2000 PZ', 'IRCA CHOCOCREAM ***** PISTACCHIO ***** CF KG 5     COD.10958', 'SALVI PIATTI ALA ORO CM 26 CF 10 KG', 'PININ PERO ZUCCHERO VELO CF 5 KG', 'IRCA SCAGLIETTA ***** PURO FONDENTE ***** CF 1 KG   COD.40192', 'CASILLO SEMOLA DI GRANO DURO **RIPIENO SFOGLIATELLE** CF 5 KG', \"COOPERLAT PREP. VEG. HOPLA' EASY TOP  1LT\", 'SWEET D.e D. ZUCCHERO CF 25 KG', 'REVIVA PIROTTINI OVALI COLORATI MIS 3 CF 1000 PZ', 'Spese Varie', 'Riga ausiliaria contenente informazioni tecniche e aggiuntive del documento', 'MANDORLE SPAGNA NATURALI ***10KG***', 'MANDORLE SPAGNA PELATE ***CF 1KG***', 'IRCA NOCCIOLATA ***** CF 13 KG COD. 1010151', 'CAPUTO FARINA - TIPO AMERICANA CARTA CF 25 KG', 'VANDEMOORTELE MARGARINA ST ALLERY CROISSANT 15% KG COD. 413712', 'IRCA SURROGATO *****NOBEL BITTER***** CF 5 KG COD. 1010221', 'IRCA SURROGATO*****NOBEL AVORIO***** CF 5 KG COD. 1010222', 'Spese Varie', 'Riga ausiliaria contenente informazioni tecniche e aggiuntive del documento', 'APEROL BARBIERI LITRO', 'FIANO DI AVELLINO LE GRADE DOCG 75 CL VINOSIA', 'VODKA FRAGOLA LITRO KEGLEVICH ', 'VODKA PESCA  LITRO KEGLEVICH ', 'VODKA MELONE LITRO KEGLEVICH', 'MARTINI BIANCO LITRO', 'MARTINI ROSSO LITRO', 'BITTER CAMPARI LITRO', 'AMARO JAGERMEISTER LITRO ', 'AMARO DEL CAPO LITRO', 'BAILEYS ORIGINAL LITRO', 'AMARETTO DISARONNO LITRO', 'SCIROPPO FRAGOLA MONIN 70 CL', 'SCIROPPO DI GRANATINA MONIN 70 CL', 'VEUVE CLICQUOT PONSARDIN 75 CL', 'BERLUCCHI 61 BRUT 75 CL', 'VODKA GREY GOOSE LITRO', 'CREMA DI BANANA DE KUYPER 70 CL', 'Colazioni', 'Biscotti', 'Torte/pasticceria', 'G245 SCAT.SPECIAL.PERUG. DISP.', 'G245 SCAT.SPECIAL.PERUG. DISP.', 'G269 FERRERO COLLECTION T24', 'G216 SCAT. GUAINA NERO PER.DIS', 'G269 FERRERO COLLECTION T24', 'BICCHIERI COFFEE CART.75ML  g.p.', 'BICCHIERE 166 CCTRASP.30X100  g.p.', 'SOLCHIM COLORE ROSSO PASTELLO SPRAY CF 250 ML', 'VANDEMOORTELE OLIO RISSO GIRASOLE ALTO OLEICO CF 10LT', 'Spese Varie', 'Riga ausiliaria contenente informazioni tecniche e aggiuntive del documento', 'AB3 MISCELA CREMA BAR CONFEZIONE DA Kg.3', '/D Lotto W38A', 'NB ZUCCHERO SEMOLATO IN BUSTINE', '/D Lotto 2015G0197P', 'N ZUCCHERO SEMOLATO ASTUCCI da Kg.1', '/D Lotto 2016F1297P', \"DECL LATTINE DI CAFFE'DECAFFEINATO GR.250\", '/D Lotto S06C', 'R-MASCH. MASCHERINA PUBBLICITARIA OMAGGIO N.2 PEZZI', 'POSACENERE OMAGGIO POSACENERE PUBBLICITARIO', 'IMB.ALIM. STECCHE GELATO LISCE CF 500 PZ - COD. 2ST020', 'PERFETTO MINICONO PETIT CAPRICE ARROTOLATO CT 920 PZ', 'REVIVA PIROTTINO TULIPANO MARRONE CF 200 PZ', 'GRIMALDI PORTACORNETTI  IN CARTONE CF 50 PZ', 'GOURMET LINE FARINA DI MANDORLE PELATE CF DA KG 5', 'MASER MIX FORMAGGIO GRATTUGIATO CF 1 KG', 'VANDEMOORTELE ***MIX*** GOLD CUP CROISSANT CF 15 KG COD. 405233', 'CAPUTO FARINA - TIPO 00 EXTRA CF 25 KG', 'CAPUTO FARINA - TIPO AMERICANA CARTA CF 25 KG', 'SUD ZUCHER ZUCCHERO SABBIA EXTRA FINO CF 25 KG', 'SWEET D.e D. ZUCCHERO CF 25 KG', 'CELLOPHANE & PAPER CARTA DA FORNO 40X60 CF 500PZ', \"ELENKA RINFORZO CAFFE' CF 2,6 LT\", 'VANDEMOORTELE MARGARINA ST ALLERY CROISSANT 15% KG COD. 413712', 'AMBROSIO VISCIOLA CF 4,7 KG', 'RUFFINI BAGNA ALCOLICA 70° PERLA NERA CF 2 LT', 'TORRENTE PASSATA POMODORO CON BASILICO CT 12 X 700 GR', 'VANDEMOORTELE OLIO RISSO GIRASOLE ALTO OLEICO CF 10LT', 'IDCAM TAPPI GRANDI CT 150 PZ', 'RUFFINI AROMA IN PASTA - PANETTONE - CF. 1KG.', 'Spese Varie', 'Riga ausiliaria contenente informazioni tecniche e aggiuntive del documento', 'DERMAGEL ML. 500X12  SUTTER CODICE 5668  P.M.C. GEL DISINFETTANTE', 'TOV.VELO 30X30 PP T301   CART 8X500 PZ', 'CANDEGGINA C/SG 4X5  ( LT.20)', 'BUSTE N.U.90X130 AMBRA KG 19                                     75 M', 'STROFI. VELO PP MILLEUSI X 2ROTOLI', 'UP DOWN COFFE 14X28', 'UP DOWN 17X34 KRAFT', 'SPESE VARIE', 'Carta PA Gr.60 Stampa \"UP DOWN\" Mis 50x75 + Mis.100x75', 'D.d.T. 301/A del 31/10/2020', 'UOVA CAT.PESO M', 'LIMONE SIRACUSANO DIAM 35', 'LIMONE LUNARIO DIAM 35', 'ARANCIO OVALE CALABRESE DIAM 24', 'ARANCIO VALENCIA DIAM 35', 'BUSTE', 'TERRICCIO AGRIFLOR LT 80', 'ARGILLA ESPANSA IN SACCHI', 'NITROPHOSKA GOLD KG 25', 'Merce a  723859  UP DOWN COFFEE SRL    VIA CAMPI FLEGREI,80  POZZUOLI  NA', 'LATTE PAS.MAT.AQ.B.PET 1LFLASH', 'BURRO MAT.POLITENE PANI 1000GR', 'PANNA PAST.MAT.35% REX  1000ML', 'LATTE PAS.MAT.AQ.B.PET 1LFLASH', 'LATTE PAS.MAT.AQ.B.PET 1LFLASH', 'LATTE PAS.MAT.AQ.B.PET 1LFLASH', 'BURRO MAT.POLITENE PANI 1000GR', 'PANNA PAST.MAT.35% REX  1000ML', 'LATTE PAS.MAT.AQ.B.PET 1LFLASH', 'BURRO MAT.POLITENE PANI 1000GR', 'PANNA PAST.MAT.35% REX  1000ML', 'LAT MAT.ALTA PAST.PS AD 1L', 'LATTE PAS.MAT.AQ.B.PET 1LFLASH', 'LATTE UHT MAT.SCR.Edge 1000ML', 'LAT MAT.ALTA PAST.PS AD 1L', 'PANNA PAST.MAT.35% REX  1000ML', 'LATTE PAS.MAT.AQ.B.PET 1LFLASH', 'BURRO MAT.POLITENE PANI 1000GR', 'SORRISO POL.BEVANDA SOIA 1Lx10', 'LATTE PAS.MAT.AQ.B.PET 1LFLASH', 'LATTE PAS.MAT.AQ.B.PET 1LFLASH', 'LATTE PAS.MAT.AQ.B.PET 1LFLASH', 'BURRO MAT.POLITENE PANI 1000GR', 'PANNA PAST.MAT.35% REX  1000ML', 'LATTE PAS.MAT.AQ.B.PET 1LFLASH', 'LATTE PAS.MAT.AQ.B.PET 1LFLASH', 'LAT MAT.ALTA PAST.PS AD 1L', 'LATTE UHT MAT.SCR.Edge 1000ML', 'PANNA PAST.MAT.35% REX  1000ML', 'LATTE PAS.MAT.AQ.B.PET 1LFLASH', 'PANNA PAST.MAT.35% REX  1000ML', 'BURRO MAT.POLITENE PANI 1000GR', 'PROSC COTTO VELL FIORUCCI 76%', 'BURRO MAT.POLITENE PANI 1000GR', 'LATTE PAS.MAT.AQ.B.PET 1LFLASH', 'PANNA PAST.MAT.35% REX  1000ML', 'BURRO MAT.POLITENE PANI 1000GR', 'LATTE PAS.MAT.AQ.B.PET 1LFLASH', 'PANNA PAST.MAT.35% REX  1000ML', 'LATTE UHT MAT.SCR.Edge 1000ML', 'LATTE PAS.MAT.AQ.B.PET 1LFLASH', 'BURRO MAT.POLITENE PANI 1000GR', 'LATTE PAS.MAT.AQ.B.PET 1LFLASH', 'SORRISO POL.BEVANDA SOIA 1Lx10', \"Assolve agli obblighi di cui all'art.62, comma 1, del decreto legge 24 gennaio 2012, n.1,\", 'convertito, con modificazioni, dalla legge 24 marzo 2012, n.27', 'Contributo ambientale CONAI assolto, ove dovuto.', 'AB3 MISCELA CREMA BAR CONFEZIONE DA Kg.3', '/D Lotto V52I', 'N ZUCCHERO SEMOLATO ASTUCCI da Kg.1', '/D Lotto 1025F0892R', 'OZD DOLCIFICANTE IN DISPENSER DA 240 BST', '/D Lotto 5015F0998P', 'Elaborazione cedolini paga 04/2020', 'Acconto II° domanda di cassa integrazione', 'Merce a  723859  UP DOWN COFFEE SRL    VIA CAMPI FLEGREI,80  POZZUOLI  NA', 'LATTE PAS.MAT.AQ.B.PET 1LFLASH', 'BURRO MAT.POLITENE PANI 1000GR', 'PROSC COTTO INT GRANROSA 73%', 'LATTE PAS.MAT.AQ.B.PET 1LFLASH', 'LATTE PAS.MAT.AQ.B.PET 1LFLASH', 'LAT MAT.ALTA PAST.PS AD 1L', 'BURRO MAT.POLITENE PANI 1000GR', 'LATTE PAS.MAT.AQ.B.PET 1LFLASH', 'PANNA PAST.MAT.35% REX  1000ML', 'LATTE PAS.MAT.AQ.B.PET 1LFLASH', 'BURRO MAT.POLITENE PANI 1000GR', 'PANNA PAST.MAT.35% REX  1000ML', 'LATTE PAS.MAT.AQ.B.PET 1LFLASH', 'SORRISO POL.BEVANDA SOIA 1Lx10', 'LATTE UHT MAT.SCR.Edge 1000ML', 'PANNA PAST.MAT.35% REX  1000ML', 'LATTE PAS.MAT.AQ.B.PET 1LFLASH', 'LAT MAT.ALTA PAST.PS AD 1L', 'BURRO MAT.POLITENE PANI 1000GR', 'PANNA PAST.MAT.35% REX  1000ML', 'LATTE PAS.MAT.AQ.B.PET 1LFLASH', 'PROSC COTTO INT GRANROSA 73%', 'PANNA PAST.MAT.35% REX  1000ML', 'LATTE PAS.MAT.AQ.B.PET 1LFLASH', 'SORRISO POL.BEVANDA SOIA 1Lx10', 'PANNA PAST.MAT.35% REX  1000ML', 'LATTE PAS.MAT.AQ.B.PET 1LFLASH', 'PANNA PAST.MAT.35% REX  1000ML', 'LATTE PAS.MAT.AQ.B.PET 1LFLASH', 'BURRO MAT.POLITENE PANI 1000GR', 'FORM.MAT.MATESETTE    18X175GR', 'PANNA PAST.MAT.35% REX  1000ML', 'LATTE PAS.MAT.AQ.B.PET 1LFLASH', 'LATTE UHT MAT.PS.Edge.OFF 1L', 'BURRO MAT.POLITENE PANI 1000GR', 'LAT MAT.ALTA PAST.PS AD 1L', 'LATTE PAS.MAT.AQ.B.PET 1LFLASH', 'PROSC COTTO INT GRANROSA 73%', 'LATTE PAS.MAT.AQ.B.PET 1LFLASH', 'PANNA PAST.MAT.50% REX  1000ML', 'LATTE PAS.MAT.AQ.B.PET 1LFLASH', 'LAT MAT.ALTA PAST.PS AD 1L', 'BURRO MAT.POLITENE PANI 1000GR', 'PANNA PAST.MAT.35% REX  1000ML', 'LATTE PAS.MAT.AQ.B.PET 1LFLASH', 'LATTE PAS.MAT.AQ.B.PET 1LFLASH', 'LATTE PAS.MAT.AQ.B.PET 1LFLASH', 'LATTE PAS.MAT.AQ.B.PET 1LFLASH', 'PANNA PAST.MAT.35% REX  1000ML', 'LATTE PAS.MAT.AQ.B.PET 1LFLASH', 'LATTE PAS.MAT.AQ.B.PET 1LFLASH', 'BURRO MAT.POLITENE PANI 1000GR', 'LAT MAT.ALTA PAST.PS AD 1L', 'LATTE PAS.MAT.AQ.B.PET 1LFLASH', 'PANNA PAST.MAT.35% REX  1000ML', \"Assolve agli obblighi di cui all'art.62, comma 1, del decreto legge 24 gennaio 2012, n.1,\", 'convertito, con modificazioni, dalla legge 24 marzo 2012, n.27', 'Contributo ambientale CONAI assolto, ove dovuto.', \"VANDEMOORTELE MARGARINA SANT'ALLERY CREMA 25% COD401981\", 'CAPUTO FARINA - TIPO 00 EXTRA CF 25 KG', 'CAPUTO FARINA - TIPO AMERICANA CARTA CF 25 KG', 'VANDEMOORTELE ***MIX*** GOLD CUP CROISSANT CF 15 KG COD. 405233', 'SUD ZUCHER ZUCCHERO SABBIA EXTRA FINO CF 25 KG', 'VANDEMOORTELE OLIO RISSO GIRASOLE ALTO OLEICO CF 10LT', 'CITROLO CANNOLI CIOCCOLATO MIGNON CT 3.5 KG', 'IDCAM CODA ARAGOSTA - MICRO CT 7 KG     COD.AKA014', 'CASILLO SEMOLA DI GRANO DURO **RIPIENO SFOGLIATELLE** CF 5 KG', 'PAC GEL RUSTICI MIGNON GR 27 ASSORTITI CT 6 KG', 'PAC GEL SFOGLIATA SEMIDOLCE RUSTICA CT 4 KG', 'PAC GEL CORNETTO 7 CEREALI E FRUTTI DI BOSCO CT 40 PZ X 80 GR', 'VANDEMOORTELE MARGARINA ST ALLERY CROISSANT 15% KG COD. 413712', 'CASSIBBA MACARONS MISTI CT 156 PZ', 'Spese Varie', 'Riga ausiliaria contenente informazioni tecniche e aggiuntive del documento', 'VANDEMOORTELE MARGARINA ST ALLERY CROISSANT 15% KG COD. 413712', \"VANDEMOORTELE MARGARINA SANT'ALLERY CREMA 25% COD401981\", 'CASSIBBA MACARONS MISTI CT 156 PZ', 'ALCAS CHARLOTTE DORATA CM 26 - CF 10 PZ', 'RUFFINI VANILLINA POLVERE CF 500 GR', 'Spese Varie', 'Riga ausiliaria contenente informazioni tecniche e aggiuntive del documento', 'SALVI STRISCIA ORO H 7 CM', 'SALVI VASSOIO ORO MIS. 4 RETTANGOLARE MIS 4 CM 28 X 20  CF 10 KG', 'SALVI VASSOIO ORO MIS. 5 RETTANGOLARE MIS 5 CM 31 X 23 CF 10 KG', 'SALVI VASSOIO ORO MIS. 6 RETTANGOLARE MIS 6 CM 35 X 25 CF 10 KG', 'MANDORLE SPAGNA NATURALI ***10KG***', 'RUFFINI BAGNA ALCOLICA 70° PERLA NERA CF 2 LT', 'FIORUCCI PROSCIUTTO COTTO DELIZIOSO - PL41', 'IRCA CHOCOCREAM ***** PISTACCHIO ***** CF KG 5     COD.10958', 'SUD ZUCHER ZUCCHERO CF 25 KG', 'SUD ZUCHER ZUCCHERO SABBIA EXTRA FINO CF 25 KG', 'CAPUTO FARINA - TIPO 00 EXTRA CF 25 KG', 'CAPUTO FARINA - TIPO AMERICANA CARTA CF 25 KG', 'VANDEMOORTELE ***MIX*** GOLD CUP CROISSANT CF 15 KG COD. 405233', 'CASILLO SEMOLA DI GRANO DURO **RIPIENO SFOGLIATELLE** CF 5 KG', 'GOURMET LINE MIX CREAM AMIDO CF 10 KG', 'TORRENTE POMOPIZZA CT 3X4.1 KG', 'TORRENTE PASSATA POMODORO CON BASILICO CT 12 X 700 GR', \"VANDEMOORTELE MARGARINA SANT'ALLERY CREMA 25% COD401981\", 'GOURMET LINE MELANGE SFOGLIA-CROISSANT 15% (PLATTE) CT 5 X 2 KG cod. 995', 'SALE FINO SICILIA CT 12 X 1 KG', 'VANDEMOORTELE OLIO RISSO GIRASOLE ALTO OLEICO CF 10LT', 'IRCA NOCCIOLATA ***** CF 13 KG COD. 1010151', \"AIA TUORLO D'UOVO CF 1 LT\", 'MASTERLINE PUFFIN PANNA CF 1 LT', 'PININ PERO ZUCCHERO VELO CF 5 KG', 'Spese Varie', 'Riga ausiliaria contenente informazioni tecniche e aggiuntive del documento', 'SOLCHIM COLORE ROSSO PASTELLO SPRAY CF 250 ML', 'REVIVA PIROTTINO MUFFIN 2° ONCE (GRANDE)', 'Spese Varie', 'Riga ausiliaria contenente informazioni tecniche e aggiuntive del documento', 'CALICE CONTEA 49', 'CUCCHIAINO MOKA TORNADO', 'COLTELLO AGRUMO', 'PROMO PICARDIE  ROCKS 27CL CT 36 PZ', 'Rivalsa spese incasso', 'NB ZUCCHERO SEMOLATO IN BUSTINE', '/D Lotto 2011F1296S', 'SALVI STRISCIA ORO H 7 CM', 'INAB NASTRO DIAMANTATO ORO LARGO CF 5 PZ', 'SALVI VASSOIO ORO MIS. 4 RETTANGOLARE MIS 4 CM 28 X 20  CF 10 KG', 'SALVI VASSOIO ORO MIS. 5 RETTANGOLARE MIS 5 CM 31 X 23 CF 10 KG', 'SALVI VASSOIO ORO MIS. 6 RETTANGOLARE MIS 6 CM 35 X 25 CF 10 KG', 'Spese Varie', 'Riga ausiliaria contenente informazioni tecniche e aggiuntive del documento', 'DIAMOND ECOLABEL ML.500X12 PZ SUTTER', 'AMUCHINA GEL X-GERM DISINF MANI 500 ML', 'TOV.VELO 30X30 PP T301   CART 8X500 PZ', 'CANDEGGINA C/SG 4X5  ( LT.20)', 'BUSTE N.U.90X130 AMBRA KG 19                                     75 M', 'STROFI. VELO PP MILLEUSI X 2ROTOLI', 'AMBIENCE AUTUMN LT.5 COD. 5384', 'ACID RINSE  KG.5 SUTTER COD. 4964', 'S.M. SUPER PLUS KG.6 COD.5308', 'UP DOWN COFFE 14X28', 'UP DOWN 17X34 KRAFT', 'SC 1V 17X17 UP DOWN COFFE PZ. 2000', 'XTRA-OXY ML.500X12  PEROSSIDO DI D IDROGENO SUTTER', 'SPESE VARIE', 'REVIVA PIATTO QUADRO NERO/PERLA 24CM  CT 70PZ', 'REVIVA PIATTO QUADRO NERO/PERLA 22CM CT 70PZ', 'JOYGELATO FRUIT FRUTTI DI BOSCO CF 3.5 KG', 'ALCAS COPERCHIO MEDORO RETTANGOLARE 15X25 CT 75PZ', 'ALCAS VASSOIO MEDORO RETTANGOLARE 15X25 CT 150PZ', 'Spese Varie', 'Riga ausiliaria contenente informazioni tecniche e aggiuntive del documento', 'PREGEL PANNA CREMA LIMONE CF 1,1 KG', 'AMBROSIO AMARENA INTERA CF 4.7 KG', 'IRCA MIX DOLCE FORNO CF 25 KG COD. 1070116', 'CHIRICO GRANO COTTO PZ 1,7 KG', 'VANDEMOORTELE MARGARINA ST ALLERY CROISSANT 15% KG COD. 413712', 'CAPUTO FARINA - TIPO 00 EXTRA CF 25 KG', 'SUD ZUCHER ZUCCHERO SABBIA EXTRA FINO CF 25 KG', 'NOVASERVICE PIROTTINO COLOMBA DA 1 KG', 'REVIVA PIROTTINI OVALI COLORATI MIS 3 CF 1000 PZ', \"COOPERLAT PREP. VEG. HOPLA' EASY TOP  1LT\", 'PAC GEL CORNETTO 7 CEREALI E FRUTTI DI BOSCO CT 40 PZ X 80 GR', 'PAC GEL CONCHIGLIA GIANDUIA SUPERFARCITA CT GR 100 X 50 PZ', 'PAC GEL SFOGLIATA RICCIA MIGNON GR 30 CT 5 KG', 'DOBLA CIGARILLO MULTICOLOR ASSORTMENT CF 210 PZ - COD.78013', 'IRCA SCAGLIETTA****** SURROGATO FONDENTE******** CF 1 KG    COD.40182', 'DOBLA EXLUSIVE ASS. (FOGLIE) CF 310PZ COD.71202', 'JOYGELATO PASTE VANIGLIA CARIBE CF 1.2 KG       COD.00254', 'KRAFT PHILADELPHIA CF 1.650 KG', 'Spese Varie', 'Riga ausiliaria contenente informazioni tecniche e aggiuntive del documento', 'PAC GEL CORNETTO 7 CEREALI E FRUTTI DI BOSCO CT 40 PZ X 80 GR', 'PAC GEL CONCHIGLIA GIANDUIA SUPERFARCITA CT GR 100 X 50 PZ', 'GOURMET LINE MIX CREAM AMIDO CF 10 KG', 'RUFFINI AROMA CROISSANT EMULSIONATO CF 1 KG', 'RUFFINI AROMA IN PASTA - BRIOCHE - CF. 1KG.', \"VANDEMOORTELE MARGARINA SANT'ALLERY CREMA 25% COD401981\", 'KRAFT PHILADELPHIA CF 1.650 KG', 'SALVI STRISCIA ORO H 7 CM', 'SALVI VASSOIO ORO MIS. 10 RETTANGOLARE MIS 10 CM 52 X 37 CF 10 KG', 'SALVI VASSOIO ORO MIS. 4 RETTANGOLARE MIS 4 CM 28 X 20  CF 10 KG', 'SALVI VASSOIO ORO MIS. 5 RETTANGOLARE MIS 5 CM 31 X 23 CF 10 KG', 'SALVI VASSOIO ORO MIS. 6 RETTANGOLARE MIS 6 CM 35 X 25 CF 10 KG', 'SALVI VASSOIO ORO MIS. 7 RETTANGOLARE MIS 7 CM 37 X 26 CF 10 KG', 'SALVI VASSOIO ORO MIS. 8 RETTANGOLARE MIS 8 CM 42 X 31 CF 10 KG', 'COOPERLAT PANNA SPRAY FIORDINEVE (TRE VALLI) 500GR', 'ELENKA PASTA NOCCIOLA LAURUS  CF 1 KG', 'Spese Varie', 'Riga ausiliaria contenente informazioni tecniche e aggiuntive del documento', \"AIA TUORLO D'UOVO CF 1 LT\", 'AGF CANNOLCROK MANDORLA CF 1 KG', 'IRCA SURROGATO *****NOBEL BITTER***** CF 5 KG COD. 1010221', 'CARTOPLAST BUSTE PLASTICA 50/70 CT 15 KG', 'Spese Varie', 'Riga ausiliaria contenente informazioni tecniche e aggiuntive del documento', 'Sky Vetrina + Sport + Calcio Plus', 'Spese invio fattura', 'APEROL BARBIERI LITRO', 'PASSOA LITRO', 'SCIROPPO FRAGOLA MONIN 70 CL', 'BITTER CAMPARI LITRO', 'Consegna mensile colazioni', 'APEROL BARBIERI LITRO', 'GIN TANQUERAY LITRO', 'GIN HENDRICKS LITRO', 'BITTER CAMPARI LITRO', 'SCIROPPO FRAGOLA MONIN 70 CL', 'CILIEGIE DA COKTAIL ROSSE 950 GR NATURERA', 'MARTINI ROSSO LITRO', 'FERRERO NUTELLA CF 3 KG', 'Spese Varie', 'Riga ausiliaria contenente informazioni tecniche e aggiuntive del documento', \"AIA TUORLO D'UOVO CF 1 LT\", 'Spese Varie', 'Riga ausiliaria contenente informazioni tecniche e aggiuntive del documento', 'Fornitura Gas - Importo Aliquota Ordinaria 22%', 'Fornitura Gas - Importo Aliquota Iva 10%', 'AB3 MISCELA CREMA BAR CONFEZIONE DA Kg.3', '/D Lotto W39B', 'NB ZUCCHERO SEMOLATO IN BUSTINE', '/D Lotto 2002G0295G', 'N ZUCCHERO SEMOLATO ASTUCCI da Kg.1', '/D Lotto 2016F1297P', 'OZD DOLCIFICANTE IN DISPENSER DA 240 BST', '/D Lotto 5019G0196S', 'PANCAKES X40 Lotto 1522 ', 'PANCAKES X40 Lotto 1522 ', 'WAFFEL 40pz-Bindi Lotto 1110 ', 'CITROLO CANNOLO CIOCCOLATO GRANDE CT 108 PZ', 'Riga ausiliaria contenente informazioni tecniche e aggiuntive del documento', 'NATIA PET 1 LT X 12 BT', 'FERRARELLE PET 1LT X 12 BT', 'ACQUA NATIA 0.50 X 24 PET', 'ACQUA FERRARELLE 0,50 X 24 BT PET', 'BIRRA TENNENT&apos;S 33 CL', 'CAMPARI SODA VP 18 CL  X 100', 'CRODINO CL X 10X 48', 'S.PELLEGRINO BITTER BIANCO X 40', 'S. PELLEGRINO COCKTAIL BIANCO 20 CL 24 VAP', 'CEDRATA  TASSONI 25 VPX 25 BT', 'COCA COLA ZERO LATTINA SLEEK 033X24', 'COCA COLA LATTINA SLEEK 033 X 24', 'RED BULL 0,25 X24 LT', 'SCHWEPPES LIMONE 200 CL VAP X 24 VETRO', 'YOGA MAGIC  ACE 200X24', 'YOGA  MAGIC PESCA 200X24', 'YOGA MAGIC PERA 200X24', 'YOGA MAGIC ANANAS X24 BT', 'B965-77155555-40084084-MON CHERI CIL T5X15X6 A/BU B', 'CONTRIBUTO CONAI-B965-77155555-40084084-MON CHERI CIL T5X15X6 A/BU B', 'B414-77137855-80779803-POCKET COFFEE CF/ES DEC T5X12X(6) AS/C B', 'CONTRIBUTO CONAI-B414-77137855-80779803-POCKET COFFEE CF/ES DEC T5X12X(6) AS/C B', '9653-77205441-80135944-POCKET COFFEE T5X32 AS/C I&O', 'CONTRIBUTO CONAI-9653-77205441-80135944-POCKET COFFEE T5X32 AS/C I&O', '861C-77136926-8000500010914-POCKET COFFEE T1X48X2 PZ B', '346A-77145723-80050278-ROCHER T3X16 FLO/W N/FMTELLO', 'CONTRIBUTO CONAI-346A-77145723-80050278-ROCHER T3X16 FLO/W N/FMTELLO', 'C041-77159389-80052487-CONF RAFFAELLO T3X16X4 FLO B', 'CONTRIBUTO CONAI-C041-77159389-80052487-CONF RAFFAELLO T3X16X4 FLO B', 'fiordilatte', 'RICOTTA DI BUFALA', 'RICOTTA FRESCA S.ERSILIA', 'IGIEN BLU/KIR 150 BLU  CART. 9 X 1,5 LT  LAVAPIATTI CONC. IGIENIZZANTE', 'CARTA IGIENICA SMARTONE MINI CONF.1X12 ROTOLI          620 STR', 'AMBIENCE SPRING LT.5 X 4 TN  LINEA POM', 'DIAMOND ECOLABEL ML.500X12 PZ SUTTER', 'DERMAGEL ML. 500X12  SUTTER CODICE 5668  P.M.C. GEL DISINFETTANTE', 'TOV.VELO 30X30 PP T301   CART 8X500 PZ', 'DISINSERP TANICA DA 10KG', 'CANDEGGINA C/SG 4X5  ( LT.20)', 'BUSTE N.U.90X130 AMBRA KG 19                                     75 M', 'STROFI. VELO PP MILLEUSI X 2ROTOLI', 'S.M. SUPER PLUS KG.6 COD.5308', 'UP DOWN COFFE 14X28', 'UP DOWN 17X34 KRAFT', 'SC 1V 17X17 UP DOWN COFFE PZ. 2000', 'SPESE VARIE', 'SALVI STRISCIA ORO H 7 CM', 'INAB NASTRO DIAMANTATO ORO LARGO CF 5 PZ', 'SALVI VASSOIO ORO MIS. 10 RETTANGOLARE MIS 10 CM 52 X 37 CF 10 KG', 'SALVI VASSOIO ORO MIS. 3 RETTANGOLARE MIS 3 CM 23 X 16 CF 10 KG', 'SALVI VASSOIO ORO MIS. 6 RETTANGOLARE MIS 6 CM 35 X 25 CF 10 KG', 'ELENKA PASTA NOCCIOLA LAURUS  CF 1 KG', 'Spese Varie', 'Riga ausiliaria contenente informazioni tecniche e aggiuntive del documento', 'AMBROSIO AMARENA SPECIALE CF 4,7 KG', 'AMBROSIO AMARENA INTERA CF 4.7 KG', 'CAPUTO FARINA - TIPO 00 EXTRA CF 25 KG', 'CELLOPHANE & PAPER CARTA DA FORNO 40X60 CF 500PZ', 'PININ PERO ZUCCHERO VELO CF 5 KG', 'IDCAM TAPPI GRANDI CT 150 PZ', 'VANDEMOORTELE MARGARINA ST ALLERY CROISSANT 15% KG COD. 413712', 'IRCA SURROGATO *****NOBEL BITTER***** CF 5 KG COD. 1010221', \"COOPERLAT PREP. VEG. HOPLA' EASY TOP  1LT\", 'PAC GEL RUSTICI MIGNON GR 27 ASSORTITI CT 6 KG', 'PAC GEL SFOGLIATELLA RUSTICA CON FRIARIELLI CT 4 KG', 'POLIART POLISTIROLO EPS 30 CM H 10 CM', 'Spese Varie', 'Riga ausiliaria contenente informazioni tecniche e aggiuntive del documento', 'MIRA OLIO EXTRAVERGINE PET CF 5 LT', 'VANDEMOORTELE OLIO RISSO GIRASOLE ALTO OLEICO CF 10LT', 'CAPUTO FARINA - TIPO 00 EXTRA CF 25 KG', 'CAPUTO FARINA - TIPO AMERICANA CARTA CF 25 KG', 'CAPUTO FARINA - TIPO 00R CF 25 KG', 'GRIMALDI PORTACORNETTI  IN CARTONE CF 50 PZ', 'PAC GEL SFOGLIATA SEMIDOLCE RUSTICA CT 4 KG', 'Spese Varie', 'Riga ausiliaria contenente informazioni tecniche e aggiuntive del documento', 'TSU PANNO MICROFOR. WETTEX PFROFESSIONAL', 'CARTA IG SMARTONE MINI CONF.1X12 ROTOLI 620 STR.', 'TOV.VELO 30X30 PP T301   CART 8X500 PZ', 'CANDEGGINA CON SGRASSATORE 4X5  ( LT.20)', 'BUSTE N.U.90X130 AMBRA KG 19                                     75 M', 'BUSTE CORNETTI KRAFT BIANCO KG 1X10 - MIS 14X28', 'STROFI. VELO PP MILLEUSI X 2ROTOLI', 'SPESE VARIE', 'Sbilanciamento- detrazione', 'Interessi di mora', 'Energia F1', 'Perdite di rete F2', 'ONERI VARIABILI- detrazione', 'ONERI VARIABILI', 'TRASPORTO QUOTE POTENZA- detrazione', 'Oneri Potenza- detrazione', 'TRASPORTO QUOTE POTENZA', 'TRASPORTO QUOTE POTENZA', 'Oneri Potenza', 'Perdite di rete F2- detrazione', 'Energia F3', 'Energia F1- detrazione', 'Imposta erariale di consumo', 'Interessi di mora', 'Energia F2', 'Aggregazione delle misure', 'Perdite di rete F3', 'Spese di incasso e sollecito ', 'Dispacciamento', 'Energia F3- detrazione', 'Perdite di rete F1', 'Oneri Potenza', 'ONERI FISSI', 'PCV parte variabile', 'PCV parte variabile', 'PCV parte variabile- detrazione', 'TRASPORTO QUOTE VARIABILI', 'TRASPORTO QUOTE VARIABILI', 'TRASPORTO QUOTE VARIABILI- detrazione', 'Dispacciamento- detrazione', 'Dispacciamento', 'Interessi di mora', 'Energia F2- detrazione', 'Energia F2', 'Perdite di rete F1', 'PCV_F  Commercializzazione Vendita Parte Fissa', 'Energia F3', 'Componente di dispacciamento parte Fissa', 'Penale Reattiva 33%', 'Perdite di rete F2', 'Perdite di rete F1- detrazione', 'Sbilanciamento', 'Sbilanciamento', 'Imposta erariale di consumo- detrazione', 'Imposta erariale di consumo', 'Energia F1', 'Perdite di rete F3- detrazione', 'Spese per insoluto fattura', 'TRASPORTO QUOTE FISSE', 'ONERI VARIABILI', 'Perdite di rete F3', 'VANDEMOORTELE ***MIX*** GOLD CUP CROISSANT CF 15 KG COD. 405233', 'IRCA NOCCIOLATA ***** CF 13 KG COD. 1010151', 'VANDEMOORTELE MARGARINA ST ALLERY CROISSANT 15% KG COD. 413712', \"VANDEMOORTELE MARGARINA SANT'ALLERY CREMA 25% COD401981\", 'PININ PERO ZUCCHERO GRANELLA MEDIA CT 10 KG', 'TORRENTE POMOPIZZA CT 3X4.1 KG', 'CITROLO CANNOLI CIOCCOLATO MIGNON CT 3.5 KG', 'MODECOR SAC A POCHE GRIPY 28X53 - CF.100 PZ. - COD. 30301', 'PININ PERO ZUCCHERO VELO CF 5 KG', 'GOURMET LINE TARTALLETTE FROLLA MIGNON MM 44 CT 250 PZ 00002', 'VANDEMOORTELE OLIO RISSO GIRASOLE ALTO OLEICO CF 10LT', 'GRIMALDI PORTACORNETTI  IN CARTONE CF 50 PZ', 'RUFFINI BAGNA ALCOLICA 70° RHUM  ELITE (HABANA) CF 2 LT', 'REVIVA PIROTTINI OVALI MARRONI MIS. 3 CF 1000 PZ', 'IDCAM CODA ARAGOSTA - MICRO CT 7 KG     COD.AKA014', 'PAC GEL SFOGLIATA RICCIA MIGNON GR 30 CT 5 KG', 'PAC GEL SFOGLIATA SEMIDOLCE RUSTICA CT 4 KG', 'RISPO RUSTICI MIGNON CF 2.5 KG', 'PAC GEL CONCHIGLIA GIANDUIA SUPERFARCITA CT GR 100 X 50 PZ', 'PAC GEL CORNETTO 7 CEREALI E FRUTTI DI BOSCO CT 40 PZ X 80 GR', 'COOPERLAT PANNA SPRAY FIORDINEVE (TRE VALLI) 500GR', \"BAKER'S LIEVITO FRESCO PAKMAYA PZ 500 GR\", 'MARTY PACK PIROTTINI SAVARIN IMPERMEABILI PICCOLI CF 1000 PZ COD. LCE8/4', 'AMBROSIO VISCIOLA CF 4,7 KG', 'GOURMET LINE MIX CREAM AMIDO CF 10 KG', 'Spese Varie', 'Riga ausiliaria contenente informazioni tecniche e aggiuntive del documento', \"COOPERLAT PREP. VEG. HOPLA' EASY TOP  1LT\", \"BAKER'S LIEVITO FRESCO PAKMAYA PZ 500 GR\", \"AIA TUORLO D'UOVO CF 1 LT\", 'GOURMET LINE MIX CREAM AMIDO CF 10 KG', 'PRIMAT PIPING JELL NEUTRO CF 1.3KG', 'POLIART POLISTIROLO EPS 20 CM H 10 CM', 'POLIART POLISTIROLO EPS 30 CM H 10 CM', 'POLIART POLISTIROLO EPS 40 CM H 10 CM', 'PAC GEL TAPPO GRANDE 60 GR CT 120 PZ', 'IRCA SURROGATO*****NOBEL AVORIO***** CF 5 KG COD. 1010222', 'VANDEMOORTELE OLIO RISSO GIRASOLE ALTO OLEICO CF 10LT', 'AIA WURSTEL WUDY PURO SUINO CT 35CF X 100GR', 'RUFFINI BAGNA ALCOLICA 70° PERLA NERA CF 2 LT', 'MODECOR SAC A POCHE GRIPY 28X53 - CF.100 PZ. - COD. 30301', 'IRCA NOCCIOLATA ***** CF 13 KG COD. 1010151', 'REVIVA PIROTTINI OVALI COLORATI MIS 3 CF 1000 PZ', 'REVIVA PIROTTINI TONDI MARRONI MIS. 3 CF 2000 PZ', 'CITROLO CANNOLI CIOCCOLATO MIGNON CT 3.5 KG', 'VANDEMOORTELE MARGARINA ST ALLERY CROISSANT 15% KG COD. 413712', \"PAC GEL CODA D'ARAGOSTA MICRO CT 5 KG\", 'PAC GEL SFOGLIATA RICCIA MIGNON GR 30 CT 5 KG', 'PAC GEL SFOGLIATELLA RUSTICA CON FRIARIELLI CT 4 KG', 'IRCA RAINBOW PASTE BLACK CF 1 KG   COD.60230', 'SOLCHIM COLORE ARGENTO PERLATO SPRAY CF 250 ML', 'GRIMALDI PORTACORNETTI  IN CARTONE CF 50 PZ', 'PAC GEL CORNETTO 7 CEREALI E FRUTTI DI BOSCO CT 40 PZ X 80 GR', 'VANDEMOORTELE ***MIX*** GOLD CUP CROISSANT CF 15 KG COD. 405233', 'CAPUTO FARINA - TIPO 00 EXTRA CF 25 KG', 'CAPUTO FARINA - TIPO AMERICANA CARTA CF 25 KG', 'SWEET D.e D. ZUCCHERO CF 25 KG', \"VANDEMOORTELE MARGARINA SANT'ALLERY CREMA 25% COD401981\", 'IRCA BLITZ GELATINA NEUTRO A FREDDO CF 6 KG    COD.30344', 'Spese Varie', 'Riga ausiliaria contenente informazioni tecniche e aggiuntive del documento', 'LEONE CANNUCCIE TRASP 1000PZ', 'CUCCHIAINI MOKA', 'ICONT ROT. FLOR ASTU.', 'LEONE MINILIO IN LEGNO 500PZ', 'SHOPPERS 500 USO INT.', 'BICCHIERE 166 CCTRASP.30X100', 'DOPLA KRISTAL 100CC 50 PZ', 'BICCHIERI COFFEE CART.75ML', 'IDCAM TAPPI GRANDI CT 150 PZ', \"VANDEMOORTELE MARGARINA SANT'ALLERY CROISSANT 25% COD. 1779\", 'VANDEMOORTELE MARGARINA ST ALLERY CROISSANT 15% KG COD. 413712', 'AMBROSIO AMARENA SPECIALE CF 4,7 KG', 'CELLOPHANE & PAPER CARTA DA FORNO 40X60 CF 500PZ', 'KITO ROTOLO PELLICOLA TRASP. 300MT', 'IRCA PASSATA ALBICOCCA***** ORO ***** CF 14 KG   COD.30340', 'IRCA NOCCIOLATA ***** TIPO D ***** CF 13 KG COD.1010693', 'GOURMET LINE MANDORLE A FETTE CF 1 KG', 'CASILLO SEMOLA DI GRANO DURO **RIPIENO SFOGLIATELLE** CF 5 KG', 'IRCA MIX WONDER MUFFIN ***** *CF 10 KG   COD.70670', 'CAPUTO FARINA - TIPO AMERICANA CARTA CF 25 KG', 'CAPUTO FARINA - TIPO 00 EXTRA CF 25 KG', 'VANDEMOORTELE ***MIX*** GOLD CUP CROISSANT CF 15 KG COD. 405233', 'PININ PERO ZUCCHERO VELO CF 5 KG', 'KRAFT PHILADELPHIA CF 1.650 KG', 'REVIVA PIROTTINO TULIPANO MARRONE CF 200 PZ', 'Spese Varie', 'Riga ausiliaria contenente informazioni tecniche e aggiuntive del documento', 'DROIT 850ML diam.100mm h.147 6PZ (743)', 'CLIPS INOX 100PZ', 'SPESE DI TRASPORTO', 'Riga ausiliaria contenente informazioni tecniche e aggiuntive del documento', 'UP DOWN COFFE 14X28', 'UP DOWN 17X34 KRAFT', 'BUSTA PORTAPOSATE KR. BIANCA FP PIENO UP DOWN PZ. 1000', 'CLICHE', 'SPESE VARIE', 'VIA CAMPI FLEGREI,80 POZZUOLI  Importo per Rata Unlimited Business attivazione rateale, Importo per Rata Unlimited Business attivazione rateale', 'VIA CAMPI FLEGREI,80 POZZUOLI  Importo per Rata Unlimited Business attivazione rateale, Importo per Rata Unlimited Business attivazione rateale', 'VIA CAMPI FLEGREI,80 POZZUOLI  Unlimited Business -ASYM ENTRY-, Unlimited Business -ASYM ENTRY-', 'VIA CAMPI FLEGREI,80 POZZUOLI  Consumi voce, Consumi voce', 'COPER.DOME T.CROCE D84 600PZ PET TR ISAP', 'S.M. SUPER PLUS CART 4X 6  KG', 'AMBIENCE AUTUMN  LT.5 X 4 TN  LINEA POM', 'TOV.VELO 30X30 PP T301   CART 8X500 PZ', 'CANDEGGINA CON SGRASSATORE 4X5  ( LT.20)', 'COPERCHIO IL PLASTICA BIBITA CALDA 237CK CONF 1000 PZ', 'STROFI. VELO PP MILLEUSI X 2ROTOLI', 'UP DOWN COFFE 14X28', 'UP DOWN 17X34 KRAFT', 'TIPO 237 CKFB CARTA FSC MATER BI BIBITA CALDA UP DOWN', 'TIPO 80CK CONT DI BIBITA CALDA PROMOCART', 'COPERCHIO DI PLASTICA BIBITA CALDA TIPO 80CK PZ.2100', 'SPESE VARIE', 'IRCA FRUTTIDOR ***** PERA 85 % *****  CF 3,3 KG   COD.30411', 'SAPORI VERI LINGUE DI GATTO  CT 2KG       B36.03', 'GOURMET LINE MIX CREAM AMIDO CF 10 KG', 'IRCA SCAGLIETTA****** SURROGATO FONDENTE******** CF 1 KG    COD.40182', 'KRAFT BISCOTTO OREO GR 176 CT 12 PEZZI', 'FIAMMANTE FUNGHI CHAMPIGNON PZ 3 KG', 'CAPUTO FARINA - TIPO 00 EXTRA CF 25 KG', 'CAPUTO FARINA - TIPO AMERICANA CARTA CF 25 KG', 'VANDEMOORTELE ***MIX*** GOLD CUP CROISSANT CF 15 KG COD. 405233', 'IRCA PASSATA ALBICOCCA***** ORO ***** CF 14 KG   COD.30340', 'VANDEMOORTELE OLIO RISSO GIRASOLE ALTO OLEICO CF 10LT', \"COOPERLAT PREP. VEG. HOPLA' EASY TOP  1LT\", 'PAC GEL CORNETTO 7 CEREALI E FRUTTI DI BOSCO CT 40 PZ X 80 GR', 'PAC GEL CONCHIGLIA GIANDUIA SUPERFARCITA CT GR 100 X 50 PZ', 'GOURMET LINE FARINA DI MANDORLE PELATE CF DA KG 5', 'Spese Varie', 'Riga ausiliaria contenente informazioni tecniche e aggiuntive del documento', 'BACI Assortito Box UTZ 5 787kg N1 IT', 'Sconto BACI Assortito Box UTZ 5 787kg N1 IT', 'Sconto BACI Assortito Box UTZ 5 787kg N1 IT', 'BACI Cioc Gold Asst Dspl UTZ 3 288kg IT', 'Sconto BACI Cioc Gold Asst Dspl UTZ 3 288kg IT', 'GALAK Barretta 36x40g IT', 'Sconto GALAK Barretta 36x40g IT', 'NERO Cioc Fndt 70  Bar UTZ 36x35g N1 IT', 'Sconto NERO Cioc Fndt 70  Bar UTZ 36x35g N1 IT', 'KITKAT UtzMbal 24x41 5g N1 IT', 'Sconto KITKAT UtzMbal 24x41 5g N1 IT', 'KIT KAT Santa Marsupio 2kg IT', 'Sconto KIT KAT Santa Marsupio 2kg IT', 'KITKAT White 4 Finger Utz 24x41 5g XE', 'Sconto KITKAT White 4 Finger Utz 24x41 5g XE', 'LION Mini Marsupio 1 30kg IT', 'Sconto LION Mini Marsupio 1 30kg IT', 'KIT KAT Gold E Original Duetto2 117kg IT', 'Sconto KIT KAT Gold E Original Duetto2 117kg IT', 'LION Shelf Display Unit 24x42g N10XE', 'Sconto LION Shelf Display Unit 24x42g N10XE', 'PERG LRDA Prln Smart Marsupio UTZ 3kg IT', 'Sconto PERG LRDA Prln Smart Marsupio UTZ 3kg IT', 'NERO CiocFndt Nocciole Bar 36x35g UTZ IT', 'Sconto NERO CiocFndt Nocciole Bar 36x35g UTZ IT', 'KIT KAT Santa UTZ 24x29g N1 XI', 'Sconto KIT KAT Santa UTZ 24x29g N1 XI', 'KIT KAT Dark 70  24x41 5g XE', 'Sconto KIT KAT Dark 70  24x41 5g XE', 'SMARTIES SINGOLO UtzMbal 36x38g IT', 'Sconto SMARTIES SINGOLO UtzMbal 36x38g IT', 'KITKAT MINI Marsupio 1 3kg IT', 'Sconto KITKAT MINI Marsupio 1 3kg IT', 'PERG Expo Banana Classica 3 0Kg IT', 'Sconto PERG Expo Banana Classica 3 0Kg IT', 'BACI Gold Bear UTZ 6x37 5g IT', 'Sconto BACI Gold Bear UTZ 6x37 5g IT', 'BACI Gold Bear UTZ 6x37 5g IT', 'Sconto BACI Gold Bear UTZ 6x37 5g IT', 'BACI Gold Scatola UTZ 6x150g IT', 'Sconto BACI Gold Scatola UTZ 6x150g IT', 'PERG LRDA Prln Smart Box UTZ 8x203g IT', 'Sconto PERG LRDA Prln Smart Box UTZ 8x203g IT', 'PERUGINADolciScoperteCartonUTZ 8x200g IT', 'Sconto PERUGINADolciScoperteCartonUTZ 8x200g IT', 'GRIFO Assortito Marsupio 3kg IT', 'Sconto GRIFO Assortito Marsupio 3kg IT', 'BACI Tubo Display UTZ 5 437kg N1 IT', 'Sconto BACI Tubo Display UTZ 5 437kg N1 IT', 'PERG BACI Bear Icon Dark 24x85gUtzMbalIT', 'Sconto PERG BACI Bear Icon Dark 24x85gUtzMbalIT', 'BACI Asst Natale Scatola UTZ 10x200g IT', 'Sconto BACI Asst Natale Scatola UTZ 10x200g IT', 'BACI Natale Classica Scat UTZ 10x200g IT', 'Sconto BACI Natale Classica Scat UTZ 10x200g IT', 'KIT KAT Icon Tin UTZ 8x131g XE', 'Sconto KIT KAT Icon Tin UTZ 8x131g XE', 'SMARTIES Penguin Icon 32x85g UtzMbal IT', 'Sconto SMARTIES Penguin Icon 32x85g UtzMbal IT', 'PERUGINA CiocFndtTav18x80g IT', 'Sconto PERUGINA CiocFndtTav18x80g IT', 'PERUGINA Cioc Latte Tav 18x80g IT', 'Sconto PERUGINA Cioc Latte Tav 18x80g IT', 'PERUGINA ChocDk70  Tav 18x80g IT', 'Sconto PERUGINA ChocDk70  Tav 18x80g IT', ' PERG Dk GndGranellaHznTab15x120gN1IT', 'Sconto  PERG Dk GndGranellaHznTab15x120gN1IT', 'PERUGINA Cioc Ltt Cer Coffee 14x120g IT', 'Sconto PERUGINA Cioc Ltt Cer Coffee 14x120g IT', 'YES  Single Bar 1 68kg IT', 'Sconto YES  Single Bar 1 68kg IT', 'Sconto YES  Single Bar 1 68kg IT', 'SMARTIES MAXI TUBO UtzMbal 20x130g IT', 'Sconto SMARTIES MAXI TUBO UtzMbal 20x130g IT', 'FITNESS NTR CerBr Dspl 24x23 5g N9GE IT', 'Sconto FITNESS NTR CerBr Dspl 24x23 5g N9GE IT', 'FIT CHOC DELICE CerBr Dspl 24x22 5gN9 IT', 'Sconto FIT CHOC DELICE CerBr Dspl 24x22 5gN9 IT', 'FIT CHOCHAZ DLE CerBrDspl 24x22 5g N9 IT', 'Sconto FIT CHOCHAZ DLE CerBrDspl 24x22 5g N9 IT', 'NESQUIK MAXCO CerBr Dspl 24x25g N9 IT', 'Sconto NESQUIK MAXCO CerBr Dspl 24x25g N9 IT', 'CHEERIOS HONEY CerBr Dspl 16x22g N0 IT', 'Sconto CHEERIOS HONEY CerBr Dspl 16x22g N0 IT', 'NERO CiocFondente 70  Tav UTZ 20x85g IT', 'Sconto NERO CiocFondente 70  Tav UTZ 20x85g IT', 'NEROCiocFndt Zenzero Tav UTZ 20x85g IT', 'Sconto NEROCiocFndt Zenzero Tav UTZ 20x85g IT', 'NERO CiocFndtPistacchio Tav UTZ 20x85gIT', 'Sconto NERO CiocFndtPistacchio Tav UTZ 20x85gIT', 'NERO Tav Semi Cacao UTZ 20x85g IT', 'Sconto NERO Tav Semi Cacao UTZ 20x85g IT', 'BACI Bacetti Sfuso UTZ 3kg IT', 'Sconto BACI Bacetti Sfuso UTZ 3kg IT', 'Sconto BACI Bacetti Sfuso UTZ 3kg IT', 'BACI Sfuso Classico UTZ 6x1kg N1 IT', 'Sconto BACI Sfuso Classico UTZ 6x1kg N1 IT', 'Sconto BACI Sfuso Classico UTZ 6x1kg N1 IT', 'BACI Latte 3pz Tubo UTZ 21x37 5gN1 IT', 'Sconto BACI Latte 3pz Tubo UTZ 21x37 5gN1 IT', 'LION Peanut 24x41g N2 FR', 'Sconto LION Peanut 24x41g N2 FR', 'FRUIT JOY F PSTL Tb 32x52 5g IT', 'Sconto FRUIT JOY F PSTL Tb 32x52 5g IT', 'Sconto FRUIT JOY F PSTL Tb 32x52 5g IT', 'BACI Fondente70  Sfuso UTZ 3x1kg N2 IT', 'Sconto BACI Fondente70  Sfuso UTZ 3x1kg N2 IT', 'Sconto BACI Fondente70  Sfuso UTZ 3x1kg N2 IT', 'BACI Latte Sfuso UTZ 3x1kg N1 IT', 'Sconto BACI Latte Sfuso UTZ 3x1kg N1 IT', 'Sconto BACI Latte Sfuso UTZ 3x1kg N1 IT', 'BACI Bianco Sfuso UTZ 3x1kg N1 IT', 'Sconto BACI Bianco Sfuso UTZ 3x1kg N1 IT', 'Sconto BACI Bianco Sfuso UTZ 3x1kg N1 IT', 'GALAK Cereali Bar 36x35g N2 IT', 'Sconto GALAK Cereali Bar 36x35g N2 IT', 'NERO Cioc Fndt Caffe Bar UTZ 36x35g IT', 'Sconto NERO Cioc Fndt Caffe Bar UTZ 36x35g IT', 'KK e SMARTIES EXPO PRIMAVERA', 'TDL   CARD AMAZON   100', 'TDL BACI GIACCA 2019', 'BACI PG EXPO SFUSI DA BANCO   CONFISERIE', 'PERUGINASETSHOPPERPICCOLE  ex147155716', 'PERUGINA SETSHOPPERGRANDI  ex 147155717', 'PERUGINA EXPO DA BANCO TAVOLETTE PERUGIN', 'Energia F3', 'Energia F3', 'Energia F2', 'Energia F3- detrazione', 'Energia F1', 'Energia F1- detrazione', 'Energia F2', 'Energia F1', 'Energia F2- detrazione', 'PCV_F  Commercializzazione Vendita Parte Fissa', 'Imposta erariale di consumo', 'Dispacciamento- detrazione', 'Dispacciamento', 'Dispacciamento', 'Imposta erariale di consumo- detrazione', 'Imposta erariale di consumo', 'Componente di dispacciamento parte Fissa', 'Sbilanciamento', 'Penale Reattiva 33%', 'Sbilanciamento', 'Sbilanciamento- detrazione', 'PCV parte variabile- detrazione', 'PCV parte variabile', 'PCV parte variabile', 'ONERI FISSI', 'ONERI VARIABILI- detrazione', 'Aggregazione delle misure', 'Perdite di rete F3', 'Perdite di rete F3- detrazione', 'Perdite di rete F3', 'Perdite di rete F2', 'Perdite di rete F2', 'Perdite di rete F2- detrazione', 'Perdite di rete F1', 'Perdite di rete F1- detrazione', 'Perdite di rete F1', 'TRASPORTO QUOTE POTENZA- detrazione', 'TRASPORTO QUOTE VARIABILI', 'Oneri Potenza- detrazione', 'TRASPORTO QUOTE POTENZA', 'Oneri Potenza', 'TRASPORTO QUOTE POTENZA', 'Oneri Potenza', 'TRASPORTO QUOTE VARIABILI- detrazione', 'TRASPORTO QUOTE VARIABILI', 'ONERI VARIABILI', 'ONERI VARIABILI', 'TRASPORTO QUOTE FISSE', 'Pozzuoli (NA) - Via Nicola Fasano n. 44 - Pratica edilizia', 'Sky Vetrina + Sport + Calcio Plus', 'Spese invio fattura', 'Sky Vetrina + Sport + Calcio Plus', 'Spese invio fattura', 'Consegna mensile colazioni', 'ARACHIDI 1KG AMICA', 'CRICK CROCK GR400X9PZ', 'AMICA GRIGLIATA 100GRX14PZ', 'TORTINO BENIAMINO 200GR', 'ENERFOR MARSEIL SGRASSANTE  P/USO CONF. 12 X 750 ML + 3 NEB.', 'AMBIENCE AUTUMN  LT.5 X 4 TN  LINEA POM', 'TOV.VELO 30X30 PP T301   CART 8X500 PZ', 'FLOOR S. 50X70 290G BLU/VIOLA  MICROFIBRA EUDOREX', 'CANDEGGINA CON SGRASSATORE 4X5  ( LT.20)', 'MICROFIBRA 300GR  Q. 40X40 300G BLUE/GREEN/RED EUDOREX', 'STROFI. VELO PP MILLEUSI X 2ROTOLI', 'SC 1V 17X17 UP DOWN COFFE PZ. 2000', 'SPESE VARIE', 'SUPERSHAPE 125X50CM PIPISTRELLO HALLOWEEN', 'SUPERSHAPE 21\"/55 CM STARS CUPCAKE', 'FESTONE BANDIERINE HALLOWEEN 2MT.', 'IN OFFERTA MASCHERA JOKER 2019', 'PALL. 12\"/30 CM STAMPA GLOBO HAPPY HALLOWEEN CON FANTASMINI 50 PZ.', 'SUPERSHAPE 93 X 55 CM SCHELETRO PAZZO', 'BUSTA BIODEGRABILE PICCOLA', \"VANDEMOORTELE MARGARINA SANT'ALLERY CREMA 25% COD401981\", 'VANDEMOORTELE MARGARINA ST ALLERY CROISSANT 15% KG COD. 413712', 'VANDEMOORTELE OLIO RISSO GIRASOLE ALTO OLEICO CF 10LT', 'Spese Varie', 'Riga ausiliaria contenente informazioni tecniche e aggiuntive del documento', 'MODECOR TARGHETTA OVALE CIOCC. FONDO BIANCO ***UP DOWN*** CF 408PZ', 'IDCAM CODA ARAGOSTA - MICRO CT 7 KG', 'VISA GRANELLA DI NOCCIOLE CF 2.5 KG', 'AMBROSIO AMARENA SPECIALE CF 4,7 KG', 'PININ PERO ZUCCHERO VELO CF 5 KG', \"AIA TUORLO D'UOVO CF 1 LT\", 'PAC GEL CORNETTO 7 CEREALI E FRUTTI DI BOSCO CT 40 PZ X 80 GR', 'PAC GEL CONCHIGLIA GIANDUIA SUPERFARCITA CT GR 100 X 50 PZ', 'IRCA NOCCIOLATA ***** TIPO D ***** CF 13 KG COD.1010693', 'CITROLO CIGARETTES SURPRISE CT 1,5 KG', 'PAC GEL RUSTICI MIGNON GR 27 ASSORTITI CT 6 KG', 'PAC GEL SFOGLIATA SEMIDOLCE RUSTICA CT 4 KG', 'PAC GEL SFOGLIATA RICCIA MIGNON GR 30 CT 5 KG', 'GRIMALDI PORTACORNETTI  IN CARTONE CF 50 PZ', 'SOLCHIM COLORE ORO PERLATO SPRAY CF 250 ML', 'DOBLA GRAND DECOR ASS. (FOGLIE GRANDI) CF 260PZ COD.71215', 'CAPUTO FARINA - TIPO AMERICANA CARTA CF 25 KG', 'CAPUTO FARINA - TIPO 00 EXTRA CF 25 KG', 'VANDEMOORTELE ***MIX*** GOLD CUP CROISSANT CF 15 KG COD. 405233', 'REVIVA PIROTTINI OVALI MARRONI MIS. 3 CF 1000 PZ', 'VANDEMOORTELE MARGARINA ST ALLERY CROISSANT 15% KG COD. 413712', 'SALE DOPPIO SICILIA CT 12 X 1 KG', 'SALE FINO SICILIA CT 12 X 1 KG', 'MULINO BIANCO PAN DI STELLE CT 12 PZ X 700 GR', 'CITROLO CANNOLI CIOCCOLATO MIGNON CT 3.5 KG', \"COOPERLAT PREP. VEG. HOPLA' EASY TOP  1LT\", \"BAKER'S LIEVITO FRESCO PAKMAYA PZ 500 GR\", 'IRCA CHOCOCREAM ***** INDUSTRY BIANCO ***** CF 13 KG COD. 1010853', 'AGF CANNOLCROK MANDORLA CF 1 KG', \"BHB ROULLE' BIANCO CM 0.7 38X56 PZ 12\", 'IRCA PASTA DAMA ***** TOP ***** CF 5 KG   COD.60197', 'Spese Varie', 'Riga ausiliaria contenente informazioni tecniche e aggiuntive del documento', \"COOPERLAT PREP. VEG. HOPLA' EASY TOP  1LT\", \"AIA TUORLO D'UOVO CF 1 LT\", 'VANDEMOORTELE ***MIX*** GOLD CUP CROISSANT CF 15 KG COD. 405233', 'SUD ZUCHER ZUCCHERO CF 25 KG', 'SUD ZUCHER ZUCCHERO SABBIA EXTRA FINO CF 25 KG', 'IRCA PASSATA ALBICOCCA***** ORO ***** CF 14 KG   COD.30340', 'CAPUTO FARINA - TIPO 00 EXTRA CF 25 KG', 'CAPUTO FARINA - TIPO AMERICANA CARTA CF 25 KG', 'CITROLO CIGARETTES SURPRISE CT 1,5 KG', 'PININ PERO ZUCCHERO GRANELLA MEDIA CT 10 KG', 'REVIVA PIROTTINI TONDI COLORATI  MIS. 3 H 18.5mm CF 2000 PZ', 'VANDEMOORTELE MARGARINA ST ALLERY CROISSANT 15% KG COD. 413712', 'AMBROSIO AMARENA SPECIALE CF 4,7 KG', 'AMBROSIO VISCIOLA CF 4,7 KG', 'GOURMET LINE MIX CREAM AMIDO CF 10 KG', 'DE SIMONE MIELE GREZZO *** C ***  CF 10 KG', 'IRCA ZUCCHERO FONDENTE DI CANNA CF 14 KG   COD.30127', 'REVIVA PIROTTINI OVALI COLORATI MIS 3 CF 1000 PZ', 'Spese Varie', 'Riga ausiliaria contenente informazioni tecniche e aggiuntive del documento', 'S.M. SUPER PLUS CART 4X 6  KG', 'TOV.VELO 30X30 PP T301   CART 8X500 PZ', 'BUSTE N.U.90X130 AMBRA KG 19                                     75 M', 'MASCHERINA CHIRURGICA 3 VELI BOX DA 50 PZ.', 'STROFI. VELO PP MILLEUSI X 2ROTOLI', 'REFLEXX 78 LARGE  100PZ NITRILE S/POL NERO', 'ACID RINSE  KG.5 SUTTER COD. 4964', 'BUSTE CORNETTI KRAFT BIANCO KG 1X10 - MIS 14X28', 'SPESE VARIE', 'Fatturazione Interventi Extra su Avviso', 'CAPUTO FARINA - TIPO 00 EXTRA CF 25 KG', 'CAPUTO FARINA - TIPO AMERICANA CARTA CF 25 KG', 'VANDEMOORTELE ***MIX*** GOLD CUP CROISSANT CF 15 KG COD. 405233', 'SUD ZUCHER ZUCCHERO CF 25 KG', 'SUD ZUCHER ZUCCHERO SABBIA EXTRA FINO CF 25 KG', 'VANDEMOORTELE MARGARINA OPAL CREMA KG COD 412834', 'ALCAS TRANCIO TORRONE FONDO FISSO CON COPERCHIO 10 PORZIONI', 'IRCA SURROGATO *****NOBEL BITTER***** CF 5 KG COD. 1010221', 'IRCA SURROGATO*****NOBEL AVORIO***** CF 5 KG COD. 1010222', 'IRCA CHOCOCREAM ***** INDUSTRY BIANCO ***** CF 13 KG COD. 1010853', 'VANDEMOORTELE MARGARINA ST ALLERY CROISSANT 15% KG COD. 413712', \"VANDEMOORTELE MARGARINA SANT'ALLERY CREMA 25% COD401981\", 'IFFCO PANNA GRAN CUCINA 500 ML CT 20 PZ', 'IRCA PASSATA ALBICOCCA***** ORO ***** CF 14 KG   COD.30340', 'TORRENTE PASSATA POMODORO CON BASILICO CT 12 X 700 GR', 'GOURMET LINE MIX CREAM AMIDO CF 10 KG', 'AMBROSIO CUBETTI ARANCIA 6X6 CT 5 KG', 'AMBROSIO CUBETTI MISTI 6X6 CT 5 KG', \"BHB ROULLE' BIANCO CM 0.7 38X56 PZ 12\", \"BAKER'S LIEVITO FRESCO PAKMAYA PZ 500 GR\", 'GOURMET LINE GRANELLA PISTACCHIO CF 1 KG', \"DOBLA MOCCA BEANS (CHICCO CAFFE') CT 1.1KG COD.81125\", 'Spese Varie', 'Riga ausiliaria contenente informazioni tecniche e aggiuntive del documento', 'Descrizione: Canone di locazione n. 017 (comprensivo dellaquota di indicizzazione pari a -0,01) - Num. Pratica: 1000571 - Targa: FW639KK - Modello: A1147B', 'Descrizione: Rimborso Servizi - Num. Pratica: 1000571 - Targa: FW639KK - Modello: A1147B', ' Cod.Comm. 007694433 ', ' OGGETTO : Concessione in uso di N.    1 apparecchiature ', ' P.O.S. ', ' CANONE PERIODO 01/11/2020 - 30/11/2020 ', 'DDT n. 000928 - 07/12/2020', 'VINO BIANCO BOTT. 0,75', 'CAMPANIA FALANGHINA 2019 BOTT. 0,75', 'Corrispettivo comprensivo del Contributo ambientale Conai già assolto', 'IRCA SCAGLIETTA ***** PURO FONDENTE ***** CF 1 KG   COD.40192', 'Spese Varie', 'Riga ausiliaria contenente informazioni tecniche e aggiuntive del documento', 'Merce a  723859  UP DOWN COFFEE SRL    VIA CAMPI FLEGREI,80  POZZUOLI  NA', 'LATTE PAS.MAT.AQ.B.PET 1LFLASH', 'BURRO PAST PANONI MP ITA 10 KG', 'PANNA PAST.MAT.35% REX  1000ML', 'LATTE PAS.MAT.AQ.B.PET 1LFLASH', 'SORRISO POL.BEVANDA SOIA 1Lx10', 'LATTE PAS.MAT.AQ.B.PET 1LFLASH', 'PANNA PAST.MAT.35% REX  1000ML', 'BURRO PAST PANONI MP ITA 10 KG', 'LATTE PAS.MAT.AQ.B.PET 1LFLASH', 'PANNA PAST.MAT.35% REX  1000ML', 'LATTE UHT MAT.SCR.Edge 1000ML', 'LATTE PAS.MAT.AQ.B.PET 1LFLASH', 'SORRISO POL.BEVANDA SOIA 1Lx10', 'PANNA PAST.MAT.35% REX  1000ML', 'PROSC COTTO INT GRANROSA 73%', 'LATTE PAS.MAT.AQ.B.PET 1LFLASH', 'BURRO PAST PANONI MP ITA 10 KG', 'PANNA PAST.MAT.35% REX  1000ML', 'LATTE PAS.MAT.AQ.B.PET 1LFLASH', 'LAT MAT.ALTA PAST.PS AD 1L', 'PANNA PAST.MAT.35% REX  1000ML', 'LATTE PAS.MAT.AQ.B.PET 1LFLASH', 'BURRO PAST PANONI MP ITA 10 KG', 'PANNA PAST.MAT.35% REX  1000ML', 'LATTE PAS.MAT.AQ.B.PET 1LFLASH', 'PANNA PAST.MAT.35% REX  1000ML', 'LATTE PAS.MAT.AQ.B.PET 1LFLASH', 'PANNA PAST.MAT.35% REX  1000ML', 'LATTE PAS.MAT.AQ.B.PET 1LFLASH', 'BURRO PAST PANONI MP ITA 10 KG', 'LATTE PAS.MAT.AQ.B.PET 1LFLASH', 'BURRO PAST PANONI MP ITA 10 KG', 'PANNA PAST.MAT.35% REX  1000ML', 'LATTE PAS.MAT.AQ.B.PET 1LFLASH', 'PANNA PAST.MAT.35% REX  1000ML', 'LATTE UHT MAT.SCR.Edge 1000ML', 'LATTE PAS.MAT.AQ.B.PET 1LFLASH', 'LAT MAT.ALTA PAST.PS AD 1L', 'LATTE PAS.MAT.AQ.B.PET 1LFLASH', 'BURRO PAST PANONI MP ITA 10 KG', 'LATTE PAS.MAT.AQ.B.PET 1LFLASH', 'LATTE PAS.MAT.AQ.B.PET 1LFLASH', 'BURRO PAST PANONI MP ITA 10 KG', 'PANNA PAST.MAT.35% REX  1000ML', 'BURRO PAST PANONI MP ITA 10 KG', 'PANNA PAST.MAT.35% REX  1000ML', 'LATTE PAS.MAT.AQ.B.PET 12X1000', 'BURRO PAST PANONI MP ITA 10 KG', 'PANNA PAST.MAT.35% REX  1000ML', 'LATTE UHT MAT.SCR.Edge 1000ML', 'LAT MAT.ALTA PAST.PS AD 1L', 'LATTE PAS.MAT.AQ.B.PET 12X1000', 'PANNA PAST.MAT.35% REX  1000ML', 'LATTE PAS.MAT.AQ.B.PET 12X1000', 'BURRO PAST PANONI MP ITA 10 KG', 'PANNA PAST.MAT.35% REX  1000ML', 'LATTE PAS.MAT.AQ.B.PET 12X1000', 'BURRO PAST PANONI MP ITA 10 KG', 'LAT MAT.ALTA PAST.PS AD 1L', 'PROSC COTTO INT GRANROSA 73%', 'PANNA PAST.MAT.35% REX  1000ML', 'LATTE PAS.MAT.AQ.B.PET 12X1000', 'BURRO PAST PANONI MP ITA 10 KG', 'PANNA PAST.MAT.35% REX  1000ML', \"Assolve agli obblighi di cui all'art.62, comma 1, del decreto legge 24 gennaio 2012, n.1,\", 'convertito, con modificazioni, dalla legge 24 marzo 2012, n.27', 'Contributo ambientale CONAI assolto, ove dovuto.', 'PININ PERO ZUCCHERO VELO++++ MONODOSE+++BUSTINA 30 GR+++ CT 400pz', 'FERRERO NUTELLA CF 3 KG', 'SALVI STRISCIA ORO H 7 CM', 'SALVI VASSOIO ORO MIS. 4 RETTANGOLARE MIS 4 CM 28 X 20  CF 10 KG', 'Spese Varie', 'Riga ausiliaria contenente informazioni tecniche e aggiuntive del documento', 'CRICK CROCK GR400X9PZ', 'OVETTO KINDER PZ36', 'CRIK GR180X16PZ', 'CROSTINI/GRISS.GR500X6PZ', 'SALATINI MIX500GR', 'ARACHIDI PICCANTI GR500X6PZ', 'TARALLI GR250X24PZ', 'ARACHIDI 1KG AMICA', 'Consegna mensile colazioni', 'CEDRATA  TASSONI 25 VPX 25 BT', 'RED BULL 0,25 X24 LT', 'SCHWEPPES TONICA 200 CL VAP X 24 VETRO', 'YOGA MAGIC PERA 200X24', 'YOGA MAGIC ANANAS X24 BT', 'NATIA PET 1 LT X 12 BT', 'ACQUA NATIA 0.50 X 24 PET', 'FERRARELLE PET 1LT X 12 BT', 'ACQUA FERRARELLE 0,50 X 24 BT PET', 'CAMPARI SODA VP 18 CL  X 100', 'BIRRA TENNENT&apos;S 33 CL', 'BIRRA BECK&apos;S 0.33 CL X 24 BT', 'COCA COLA ZERO LATTINA SLEEK 033X24', 'COPERCHIO + COPPETTA PLUS PER CONTENITORI PRESS &DRESS. PZ 500', 'SPESE VARIE', 'FERRERO NUTELLA CF 3 KG', 'Spese Varie', 'Riga ausiliaria contenente informazioni tecniche e aggiuntive del documento', 'REVIVA PIROTTINO TONDO MARRONE MIS 9 CF 2000 PZ', 'Riga ausiliaria contenente informazioni tecniche e aggiuntive del documento', 'Energia F2', 'Perdite di rete F1', 'Aggregazione delle misure', 'Perdite di rete F2- detrazione', 'Perdite di rete F3', 'Energia F2', 'Dispacciamento', 'TRASPORTO QUOTE POTENZA', 'TRASPORTO QUOTE VARIABILI', 'TRASPORTO QUOTE VARIABILI', 'Imposta erariale di consumo', 'Energia F3', 'PCV parte variabile', 'Energia F2- detrazione', 'Imposta erariale di consumo', 'Perdite di rete F3', 'Perdite di rete F1', 'TRASPORTO QUOTE VARIABILI- detrazione', 'Dispacciamento- detrazione', 'Dispacciamento', 'Perdite di rete F1- detrazione', 'PCV parte variabile- detrazione', 'Componente di dispacciamento parte Fissa', 'Energia F1', 'PCV_F  Commercializzazione Vendita Parte Fissa', 'Perdite di rete F2', 'Perdite di rete F3- detrazione', 'Energia F3', 'TRASPORTO QUOTE FISSE', 'ONERI VARIABILI', 'Perdite di rete F2', 'Energia F1', 'ONERI VARIABILI- detrazione', 'ONERI VARIABILI', 'Sbilanciamento- detrazione', 'Energia F1- detrazione', 'ONERI FISSI', 'PCV parte variabile', 'Imposta erariale di consumo- detrazione', 'Energia F3- detrazione', 'Sbilanciamento', 'Sbilanciamento', 'Oneri Potenza', 'AMBROSIO VISCIOLA CF 4,7 KG', 'CAPUTO FARINA - TIPO 00 EXTRA CF 25 KG', 'CAPUTO FARINA - TIPO AMERICANA CARTA CF 25 KG', 'CASILLO SEMOLA RIMACINATA CF 25 KG', 'CELLOPHANE & PAPER CARTA DA FORNO 40X60 CF 500PZ', 'GRIMALDI PORTACORNETTI  IN CARTONE CF 50 PZ', 'IDCAM CODA ARAGOSTA - MIGNON CT 7 KG  COD.AKA012', 'IRCA MORELLINA ***** CF 13 KG   COD.10204', 'IRCA NOCCIOLATA ***** CF 13 KG COD. 1010151', 'IRCA PASSATA ALBICOCCA *****CF 14 KG    COD.30287', 'IRCA SURROGATO *****NOBEL BITTER***** CF 5 KG COD. 1010221', 'IRCA SURROGATO*****NOBEL AVORIO***** CF 5 KG COD. 1010222', \"BAKER'S LIEVITO FRESCO PAKMAYA PZ 500 GR\", 'PAC GEL CORNETTO INTEGRALE PRONTO FORNO GR 80 X 40 PZ', 'SUD ZUCHER ZUCCHERO CF 25 KG', 'SUD ZUCHER ZUCCHERO SABBIA EXTRA FINO CF 25 KG', 'TEDESCO TARTELLETTE FROLLA MIGNON CACAO CT 250 PZ Cod.0165', 'TORRENTE PASSATA POMODORO CON BASILICO CT 12 X 700 GR', 'TORRENTE POMOPIZZA CT 3X4.1 KG', 'VANDEMOORTELE ***MIX*** GOLD CUP CROISSANT CF 15 KG COD. 405233', 'PAC GEL SFOGLIATA RICCIA MIGNON GR 30 CT 5 KG', 'Spese Varie', 'Riga ausiliaria contenente informazioni tecniche e aggiuntive del documento', 'IRCA MORELLINA ***** CF 13 KG   COD.10204', 'IRCA MIX WONDER MUFFIN ***** *CF 10 KG   COD.70670', 'SUD ZUCHER ZUCCHERO SABBIA EXTRA FINO CF 25 KG', \"AIA TUORLO D'UOVO CF 1 LT\", 'CAPUTO FARINA - TIPO 00 EXTRA CF 25 KG', 'CAPUTO FARINA - TIPO AMERICANA CARTA CF 25 KG', 'VANDEMOORTELE ***MIX*** GOLD CUP CROISSANT CF 15 KG COD. 405233', 'BONDUELLE MAIS DOLCE 3 PZ X 300 GR', 'IRCA CHOCOCREAM ***** INDUSTRY BIANCO ***** CF 13 KG COD. 1010853', 'JOYGELATO TOPPING CARAMELLO CF 1 KG', 'JOYGELATO TOPPING CIOCCOLATO BIANCO PREMIUM CF 900GR', 'SUD ZUCHER ZUCCHERO CF 25 KG', 'Spese Varie', 'Riga ausiliaria contenente informazioni tecniche e aggiuntive del documento', 'AB3 MISCELA CREMA BAR CONFEZIONE DA Kg.3', '/D Lotto V62H', 'N ZUCCHERO SEMOLATO ASTUCCI da Kg.1', '/D Lotto 2004F0369D', 'OZD DOLCIFICANTE IN DISPENSER DA 240 BST', '/D Lotto 5010F0769D', '002 IL CREMINO CONF. Kg.1', '/D Lotto LE062', \"TOTN OMAGGIO TAZZE PUBBLICITARIE ALL.DICH.CONFORMITA'\", \"PIATN OMAGGIO PIATTINI PER TAZZE PUBBL.RIE ALL.DICH.CONFORMITA'\", \"TCAP OMAGGIO TAZZE PUBBLICITARIE CAPPUCC. ALL.DICH.CONFORMITA'\", 'PREMIO FINE ANNO', '12/2020      - RIF. 20/0005071', 'Sconto   1,00 %', \"Assolve agli obblighi di cui all'art.62, comma 1, del decreto legge 24 gennaio 2012, n.1,\", 'convertito, con modificazioni, dalla legge 24 marzo 2012, n.27', \"Assolvimento virtuale dell'Imposta di Bollo ai sensi del DM 17.6.2014\", 'Colazioni', 'PREMIO DI FINE ANNO CLIENTI', 'Riga ausiliaria contenente informazioni tecniche e aggiuntive del documento', 'N ZUCCHERO SEMOLATO ASTUCCI da Kg.1', '/D Lotto 2016F1297P', 'OZD DOLCIFICANTE IN DISPENSER DA 240 BST', '/D Lotto 5019G0196S', \"DECL LATTINE DI CAFFE'DECAFFEINATO GR.250\", '/D Lotto T05M', 'CAPUTO FARINA - TIPO 00 EXTRA CF 25 KG', 'CAPUTO FARINA - TIPO AMERICANA CARTA CF 25 KG', 'SUD ZUCHER ZUCCHERO CF 25 KG', 'SUD ZUCHER ZUCCHERO SABBIA EXTRA FINO CF 25 KG', 'TORRENTE POMOPIZZA CT 3X4.1 KG', 'CITROLO CANNOLI CIOCCOLATO MIGNON CT 3.5 KG', 'PININ PERO ZUCCHERO VELO CF 5 KG', 'CASILLO SEMOLA DI GRANO DURO **RIPIENO SFOGLIATELLE** CF 5 KG', 'SALE FINO SICILIA CT 12 X 1 KG', 'REVIVA PIROTTINI TONDI MARRONI MIS. 3 CF 2000 PZ', 'IRCA NOCCIOLATA ***** CF 13 KG COD. 1010151', 'GRIMALDI PORTACORNETTI  IN CARTONE CF 50 PZ', 'IRCA SCAGLIETTA****** SURROGATO FONDENTE******** CF 1 KG    COD.40182', 'CITROLO CIGARETTES SURPRISE CT 1,5 KG', 'AMBROSIO AMARENA SPECIALE CF 4,7 KG', 'VANDEMOORTELE OLIO RISSO GIRASOLE ALTO OLEICO CF 10LT', 'IDCAM TAPPI GRANDI CT 150 PZ', 'IDCAM CODA ARAGOSTA - MICRO CT 7 KG     COD.AKA014', 'PAC GEL SFOGLIATA RICCIA MIGNON GR 30 CT 5 KG', \"COOPERLAT PREP. VEG. HOPLA' EASY TOP  1LT\", 'VANDEMOORTELE MARGARINA ST ALLERY CROISSANT 15% KG COD. 413712', 'AGF CANNOLCROK MANDORLA CF 1 KG', 'Spese Varie', 'Riga ausiliaria contenente informazioni tecniche e aggiuntive del documento', 'LEONE CANNUCCIE TRASP 1000PZ', 'LEONE CANNUCCE COL. CORTE 500PZ', 'CUCCHIAINI MOKA', 'ICONT ROT. FLOR ASTU.', 'BICCHIERI TRASP. 166cc MAJOR', 'DOPLA KRISTAL 100CC 50 PZ', 'ARISTEA KRIST.400CC PET 50PZ', 'ARISTEA KRIST.250CC PET 50PZ', 'COPER.DOME T.CROCE D84 600PZ PET TR ISAP', 'DIAMOND ECOLABEL ML.500X12 PZ SUTTER', 'TOV.VELO 30X30 PP T301   CART 8X500 PZ', 'BUSTE N.U.90X130 AMBRA KG 19                                     75 M', 'STROFI. VELO PP MILLEUSI X 2ROTOLI', 'SPESE VARIE', 'JOYGELATO COUVERTURE EXTRA CHOC WHITE CF 5 KG COD.10886', 'JOYGELATO COUVERTURE LIMONCELLO CF 3 KG COD.11103', 'JOYGELATO COUVERTURE EXTRA CHOC DARK CF 5 KG   COD.10887', 'PININPERO DESTROSIO CF KG 1', 'JOYGELATO FRUIT AMARENA ISTINCT KG 3,5 COD.30447', 'IRCA CHOCOCREAM PASTICCERA CF 5KG', 'Spese Varie', 'Riga ausiliaria contenente informazioni tecniche e aggiuntive del documento', 'Consegna mensile colazioni  Settembre', 'Imposta erariale di consumo', 'Imposta erariale di consumo- detrazione', 'Dispacciamento', 'Dispacciamento', 'Dispacciamento- detrazione', 'PCV_F  Commercializzazione Vendita Parte Fissa', 'Imposta erariale di consumo', 'Energia F2', 'Energia F2- detrazione', 'Energia F1', 'Energia F1', 'Energia F1- detrazione', 'Energia F3- detrazione', 'Energia F2', 'Energia F3', 'Energia F3', 'Perdite di rete F1- detrazione', 'Perdite di rete F1', 'Perdite di rete F1', 'Perdite di rete F2- detrazione', 'Perdite di rete F2', 'Perdite di rete F2', 'Perdite di rete F3- detrazione', 'Perdite di rete F3', 'Perdite di rete F3', 'Aggregazione delle misure', 'ONERI VARIABILI', 'ONERI VARIABILI- detrazione', 'PCV parte variabile', 'ONERI FISSI', 'PCV parte variabile', 'Sbilanciamento- detrazione', 'Sbilanciamento', 'Sbilanciamento', 'Componente di dispacciamento parte Fissa', 'PCV parte variabile- detrazione', 'Oneri Potenza', 'TRASPORTO QUOTE POTENZA', 'TRASPORTO QUOTE VARIABILI', 'TRASPORTO QUOTE VARIABILI', 'TRASPORTO QUOTE VARIABILI- detrazione', 'TRASPORTO QUOTE FISSE', 'ONERI VARIABILI', 'CONV5361 - CONVERTITORE SMALTO POLIUR. RAL 9001', 'CATA9916 - CATALIZZATORE EPOSSIDICO 9916', 'AMUCHINA GEL X-GERM DISINF MANI 500 ML', 'CARTA IG SMARTONE MINI CONF.1X12 ROTOLI 620 STR.', 'TOV.VELO 30X30 PP T301   CART 8X500 PZ', 'FLOOR S. 50X70 290G BLU/VIOLA  MICROFIBRA EUDOREX', 'BUSTE N.U.90X130 AMBRA KG 19                                     75 M', 'STROFI. VELO PP MILLEUSI X 2ROTOLI', 'REFLEXX M80B MEDIUM NITRILE BLU', 'S.M. SUPER PLUS KG.6 COD.5308', 'SPESE VARIE', 'FERRERO NUTELLA CF 3 KG', 'MODECOR RAMO MIMOSE CF 36 PZ COD. 24491', 'PAC GEL CORNETTO 7 CEREALI E FRUTTI DI BOSCO CT 40 PZ X 80 GR', 'Spese Varie', 'Riga ausiliaria contenente informazioni tecniche e aggiuntive del documento', 'OMB.QUADR.4X4 ECRU C/MAN.', 'CAL.VINO RSSO CL53DIVINO BR', 'CAL.VINO RSSO CL53DIVINO BR', 'CL150 COCA COLA ZERO PET', 'AB3 MISCELA CREMA BAR CONFEZIONE DA Kg.3', '/D Lotto W53B', 'N ZUCCHERO SEMOLATO ASTUCCI da Kg.1', '/D Lotto 2016F1297P', 'OZD DOLCIFICANTE IN DISPENSER DA 240 BST', '/D Lotto 5019G0196S', 'AB3 MISCELA CREMA BAR CONFEZIONE DA Kg.3', '/D Lotto V50Y', 'Colazioni', 'Biscotti', 'PR.PARMA S/O PRESS.LAV 14M SV', 'L1 ACETO BIANCO PONTI PET', 'L1 ACETO BIANCO PONTI PET', 'FIORI EDULI MIX VS 30G(IT I)', 'G25X24 FISHERMANS ORIG.EX.FORT', 'G25X24 FISHERMANS ORIG.EX.FORT', 'Imposta erariale di consumo', 'Imposta erariale di consumo', 'Imposta erariale di consumo- detrazione', 'TRASPORTO QUOTE FISSE', 'ONERI VARIABILI', 'TRASPORTO QUOTE VARIABILI- detrazione', 'TRASPORTO QUOTE VARIABILI', 'ONERI FISSI', 'ONERI VARIABILI- detrazione', 'ONERI VARIABILI', 'PCV parte variabile- detrazione', 'PCV parte variabile', 'PCV parte variabile', 'Sbilanciamento', 'Sbilanciamento- detrazione', 'Componente di dispacciamento parte Fissa', 'Sbilanciamento', 'Perdite di rete F3', 'Aggregazione delle misure', 'Perdite di rete F3', 'Perdite di rete F3- detrazione', 'Perdite di rete F2', 'TRASPORTO QUOTE VARIABILI', 'Oneri Potenza', 'TRASPORTO QUOTE POTENZA', 'PCV_F  Commercializzazione Vendita Parte Fissa', 'Dispacciamento- detrazione', 'Dispacciamento', 'Dispacciamento', 'Energia F1', 'Energia F1', 'Energia F1- detrazione', 'Energia F2', 'Energia F2- detrazione', 'Energia F2', 'Energia F3- detrazione', 'Energia F3', 'Energia F3', 'Perdite di rete F2', 'Perdite di rete F2- detrazione', 'Perdite di rete F1', 'Perdite di rete F1', 'Perdite di rete F1- detrazione', 'NATIA PET 1 LT X 12 BT', 'ACQUA NATIA 0.50 X 24 PET', 'FERRARELLE PET 1LT X 12 BT', 'ACQUA FERRARELLE 0,50 X 24 BT PET', 'BIRRA CORONA 0.35,5 X 24 BT', 'BIRRA TENNENT&apos;S 33 CL', 'BIRRA CERES 0.33 CL X 24 BT', 'BIRRA HEINEKEN 0.33 CL X 24 BT', 'BIRRA BECK&apos;S 0.33 CL X 24 BT', 'YOGA ANANAS PET 1 LT', 'YOGA ARANCIA PET 1 LT', 'YOGA PESCA 1LT PET X 6', 'S. PELLEGRINO COCKTAIL ROSSO X 24 BT', 'S. PELLEGRINO COCKTAIL BIANCO 20 CL 24 VAP', 'S.PELLEGRINO BITTER ROSSO X 40', 'S.PELLEGRINO BITTER BIANCO X 40', 'CEDRATA  TASSONI 25 VPX 25 BT', 'COCA COLA LATTINA SLEEK 033 X 24', 'COCA COLA ZERO LATTINA SLEEK 033X24', 'RED BULL 0,25 X24 LT', 'ESTATHE&apos;  LATTINA LIMONE 033X24', 'ESTATHE&apos;  PESCA LATTINA 033X24', 'CRODINO TWIST FRUTTI ROSSI X 24 BT', 'CRODINO TWIST AGRUMI X 24 BT', 'LEMONSODA 200 X 24', 'SCHWEPPES TONICA 200 CL VAP X 24 VETRO', 'SCHWEPPES LIMONE 200 CL VAP X 24 VETRO', 'SCHWEPPES ARANCIA 200 ML X 24 VAP VETRO', 'YOGA MAGIC  ACE 200X24', 'YOGA  MAGIC PESCA 200X24', 'YOGA MAGIC PERA 200X24', 'YOGA MAGIC ANANAS X24 BT', 'YOGA MAGIC MIRTILLO 200X24', 'Colazioni', 'Biscotti', 'Paste mignon', 'D.d.T. 324/A del 19/11/2020', 'UOVA CAT.PESO L', 'NATIA PET 1 LT X 12 BT', 'FERRARELLE PET 1LT X 12 BT', 'ACQUA FERRARELLE 0,50 X 24 BT PET', 'ACQUA NATIA 0.50 X 24 PET', 'BIRRA CERES 0.33 CL X 24 BT', 'BIRRA HEINEKEN 0.33 CL X 24 BT', 'BIRRA BECK&apos;S 0.33 CL X 24 BT', 'BIRRA TENNENT&apos;S 33 CL', 'COCA COLA  PET 2 LT X 6 BT', 'ESTATHE&apos;  LATTINA LIMONE 033X24', 'ESTATHE&apos;  PESCA LATTINA 033X24', 'ESTATE&apos; THE PESCA 1.5 X 6 ', 'ESTATE&apos; THE LIMONE 1.5 X 6', 'YOGA MAGIC ALB. 200X24', 'YOGA MAGIC ARANCIO 200X24', 'YOGA MAGIC  ACE 200X24', 'YOGA  MAGIC PESCA 200X24', 'FIAMMANTE FUNGHI CHAMPIGNON PZ 3 KG', 'TORRENTE PASSATA POMODORO CON BASILICO CT 12 X 700 GR', 'VANDEMOORTELE OLIO RISSO GIRASOLE ALTO OLEICO CF 10LT', 'LA CARLA MELANZANE ALLA BRACE CF 1 KG', 'GAIA KETCHUP BUSTINE CT 102 X 12 GR', 'GAIA MAYONESE BUSTINE CT 102 X 12 GR', 'SPEEDY BANDIDOS BOCCONCINI DI POLLO PICCANTI CF 2 KG', \"ANTICHI SAPORI CROCCHE' MIGNON CF 2.5 KG\", 'BIRAGHI BIRAGHINI BUSTA 400 GR', 'Spese Varie', 'Riga ausiliaria contenente informazioni tecniche e aggiuntive del documento', 'DOBLA RICCIOLI CIOCCOLATO FONDENTE - CURLS DARK CF 4KG - COD.41128', 'Spese Varie', 'Riga ausiliaria contenente informazioni tecniche e aggiuntive del documento', 'DECORA SOTTOTORTA QUADRATO DORATO 45X45 H1.2 COD. 0931720', 'Riga ausiliaria contenente informazioni tecniche e aggiuntive del documento', 'DDT n. 000887 - 12/11/2020', 'VINO BIANCO BOTT. 0,75', 'Corrispettivo comprensivo del Contributo ambientale Conai già assolto', 'CUCCHIAINO YOGURT-GRANITA 300PZ', 'ALUPACK ROT.FLOR AST.', 'LEONE MINILIO IN LEGNO 500PZ', 'LEONE CANNUCCIE TRASP 1000PZ', 'BICCHIERE 166 CCTRASP.30X100', 'BICCHIERI COFFEE CART.75ML', 'ST.GOLIA ACTIV PLUS X 24 IT', 'MOROSITAS SZ.ASS.X24 ST', 'MENTOS X 20 PZ. FRUTTA ST.', 'FRUITTELLA FR.ASS.X 20 ST.', 'THE BIG BABOL PAN.FRA 5X24', 'BROOKLYN 9X20 CLORO', 'VIV.XYL SPEAR 10X40 UPGRADE', 'VIGORSOL AIR ACTION X 40', 'VIGORSOL REAL FRUIT X 40 ST.', 'VIGORSOL AIR AC.BLACK ICEX40ST', 'Descrizione: Canone di locazione n. 018 (comprensivo dellaquota di indicizzazione pari a -0,01) - Num. Pratica: 1000571 - Targa: FW639KK - Modello: A1147B', 'Descrizione: Rimborso Servizi - Num. Pratica: 1000571 - Targa: FW639KK - Modello: A1147B', 'GAIA MAYONESE BUSTINE CT 102 X 12 GR', 'GAIA KETCHUP BUSTINE CT 102 X 12 GR', 'ANTICHI SAPORI ARANCINI MIGNON CF 2.5 KG', 'ANTICHI SAPORI FRITTATINE MIGNON CF 2.5 KG', \"ANTICHI SAPORI CROCCHE' MIGNON CF 2.5 KG\", 'JALAPENOS RED HOT CHILI CF 1 KG', 'AIA COTOLETTA DI POLLO CT 20 PZ X 85 GR', 'TORRENTE PASSATA POMODORO CON BASILICO CT 12 X 700 GR', \"MIRA OLIO D'OLIVA IN PET CF 5 LT\", 'VITTORIA OLIVE VERDI DOLCI TONDE 000 CF 1 KG', 'KRAFT SOTTILETTE CF 12 PZ X 200 GR', 'BIRAGHI BIRAGHINI BUSTA 400 GR', 'MASER GRANA PADANO GRATTUGIATO CF 1 KG', 'VANDEMOORTELE OLIO RISSO GIRASOLE ALTO OLEICO CF 10LT', 'FIORUCCI PROSCIUTTO CRUDO EXPRESS - PL40', \"CASSIBBA TARTELLETTE MIGNON FROLLA BRISE' MM44 250PZ COD.00902\", 'SWEET D.e D. ***EXTRAFINO*** ZUCCHERO CF 25 KG', 'PININ PERO ZUCCHERO GRANELLA MEDIA CT 10 KG', 'VANDEMOORTELE OLIO RISSO GIRASOLE ALTO OLEICO CF 10LT', 'IRCA CHOCOCREAM ***** PISTACCHIO ***** CF KG 5     COD.10958', 'IRCA MIX BRIOBIG CF 10 KG   COD.70113', 'CAPUTO FARINA - TIPO 00 EXTRA CF 25 KG', 'CAPUTO FARINA - TIPO AMERICANA CARTA CF 25 KG', 'PAC GEL RUSTICI MIGNON GR 27 ASSORTITI CT 6 KG', 'PAC GEL SFOGLIATA SEMIDOLCE RUSTICA CT 4 KG', 'IDCAM CODA ARAGOSTA - MICRO CT 7 KG', 'ALCAS BIJOUX TONDO ALTO TRASPARENTE CC 70 CF 60 PZ', 'PAC GEL MACARONES CONF DA 36 PZ X 10 GR', 'RUFFINI BAGNA ALCOLICA 70° RHUM  ELITE (HABANA) CF 2 LT', 'SWEET D.e D. ZUCCHERO CF 25 KG', 'SOLCHIM COLORE AZZURRO PASTELLO SPRAY CF 250 ML', 'FIORUCCI SALAME TIPO NAPOLI - PL43', 'BRIOPAN PANE GRATTUGGIATO CF 5 KG', 'Spese Varie', 'Riga ausiliaria contenente informazioni tecniche e aggiuntive del documento', 'VODKA RED ARMY AK47 ASTUCCIATA LITRO', 'AB3 MISCELA CREMA BAR CONFEZIONE DA Kg.3', '/D Lotto V54K', \"DECL LATTINE DI CAFFE'DECAFFEINATO GR.250\", '/D Lotto S20N', 'N ZUCCHERO SEMOLATO ASTUCCI da Kg.1', '/D Lotto 2009F1053N', 'GIN GORDONS LITRO', 'SCIROPPO FRAGOLA MONIN 70 CL', 'CRANBERRY FRUIT GOLD LITRO', 'VODKA FRAGOLA LITRO KEGLEVICH ', 'VODKA PESCA  LITRO KEGLEVICH ', 'MARTINI ROSSO LITRO', 'BITTER CAMPARI LITRO', 'CILIEGIE DA COKTAIL ROSSE 950 GR NATURERA', 'AMARO VECCHIO DEL CAPO 70 CL', 'TEQUILA SILVER CUERVO LITRO', 'APEROL BARBIERI LITRO', 'BROOKLYN CZ 9X20 CINNAMON', 'VIV. WHITE PEPP 10X40 UPGRADE', 'VIV.XYL G/MINT 10X40 UPGRADE', 'VIGORSOL 40X10 P.', 'VIG.AIR ACTION XTREME 10x40', 'EXPO AAV GOLDEN GUM 2 DISPLAY', 'ESTATHE&apos;  PESCA LATTINA 033X24', 'ESTATHE&apos;  LATTINA LIMONE 033X24', 'S.PELLEGRINO BITTER ROSSO X 40', 'CHINOTTO NERI VAP X 24', 'CRODINO CL X 10X 48', 'BIRRA BECK&apos;S 0.33 CL X 24 BT', 'BIRRA HEINEKEN 0.33 CL X 24 BT', 'YOGA MAGIC MIRTILLO 200X24', 'YOGA MAGIC ALB. 200X24', 'YOGA MAGIC PERA 200X24', 'BITTER CAMPARI CL.100', 'SCHWEPPES TONICA 200 CL VAP X 24 VETRO', 'BUSTE CORNETTI KRAFT BIANCO KG 1X10 - MIS 14X28', 'SPESE VARIE', 'CARTA IG SMARTONE MINI CONF.1X12 ROTOLI 620 STR.', 'AMBIENCE SPRING LT.5 X 4 TN  LINEA POM', 'DIAMOND ECOLABEL ML.500X12 PZ SUTTER', 'TOV.VELO 30X30 PP T301   CART 8X500 PZ', 'CANDEGGINA C/SG 4X5  ( LT.20)', 'BUSTE N.U.90X130 AMBRA KG 19                                     75 M', 'STROFI. VELO PP MILLEUSI X 2ROTOLI', 'S.M. SUPER PLUS KG.6 COD.5308', 'LOTION FOAM ECOLABEL ML.800 COD. 5458', 'SPESE VARIE', 'Merce a  723859  UP DOWN COFFEE SRL    VIA CAMPI FLEGREI,80  POZZUOLI  NA', 'LATTE PAS.MAT.AQ.B.PET 1LFLASH', 'LATTE UHT MAT.SCR.Edge 1000ML', 'BURRO MAT.POLITENE PANI 1000GR', 'LATTE PAS.MAT.AQ.B.PET 1LFLASH', 'AROMI MISTI 30gX6', 'RUCOLA FRESCHI GERMOGLI', 'SORRISO POL.BEVANDA SOIA 1Lx10', 'PANNA PAST.MAT.35% REX  1000ML', 'LATTE PAS.MAT.AQ.B.PET 1LFLASH', 'PANNA PAST.MAT.35% REX  1000ML', 'LATTE PAS.MAT.AQ.B.PET 1LFLASH', 'WUERSTEL PURO SUINO SENFTER250', 'BURRO MAT.POLITENE PANI 1000GR', 'LATTE PAS.MAT.AQ.B.PET 1LFLASH', 'LATTE PAS.MAT.AQ.B.PET 1LFLASH', 'PANNA PAST.MAT.35% REX  1000ML', 'LATTE UHT MAT.PS.Edge.OFF 1L', 'LATTE PAS.MAT.AQ.B.PET 1LFLASH', 'LAT MAT.ALTA PAST.PS AD 1L', 'BURRO MAT.POLITENE PANI 1000GR', 'LATTE PAS.MAT.AQ.B.PET 1LFLASH', 'PANNA PAST.MAT.35% REX  1000ML', 'LATTE PAS.MAT.AQ.B.PET 1LFLASH', 'LATTE PAS.MAT.AQ.B.PET 1LFLASH', 'LAT MAT.ALTA PAST.PS AD 1L', 'BURRO MAT.POLITENE PANI 1000GR', 'LATTE PAS.MAT.AQ.B.PET 1LFLASH', 'LAT MAT.ALTA PAST.PS AD 1L', 'PANNA PAST.MAT.35% REX  1000ML', 'LATTE PAS.MAT.AQ.B.PET 1LFLASH', 'LATTE UHT MAT.SCR.Edge 1000ML', 'FORM.MAT.MATESETTE    18X175GR', 'LATTE PAS.MAT.AQ.B.PET 1LFLASH', 'BURRO MAT.POLITENE PANI 1000GR', 'FORM.MAT.MATESETTE    18X175GR', 'LATTE PAS.MAT.AQ.B.PET 1LFLASH', 'LAT MAT.ALTA PAST.PS AD 1L', 'LATTE PAS.MAT.AQ.B.PET 1LFLASH', 'LATTE PAS.MAT.AQ.B.PET 1LFLASH', 'PANNA PAST.MAT.35% REX  1000ML', 'LATTE PAS.MAT.AQ.B.PET 1LFLASH', 'FORM.MAT.MATESETTE    18X175GR', 'LATTE PAS.MAT.AQ.B.PET 1LFLASH', 'PROSC COTTO VELL FIORUCCI 76%', 'MASCARPONE 6X250G OPTIMUS VASS', 'LATTE UHT MAT.SCR.Edge 1000ML', 'LATTE PAS.MAT.AQ.B.PET 1LFLASH', 'PANNA PAST.MAT.35% REX  1000ML', 'BURRO MAT.POLITENE PANI 1000GR', 'LATTE PAS.MAT.AQ.B.PET 1LFLASH', 'LAT MAT.ALTA PAST.PS AD 1L', 'LATTE PAS.MAT.AQ.B.PET 1LFLASH', 'BURRO MAT.POLITENE PANI 1000GR', 'PANNA PAST.MAT.35% REX  1000ML', 'LATTE PAS.MAT.AQ.B.PET 1LFLASH', 'LATTE PAS.MAT.AQ.B.PET 1LFLASH', 'BURRO MAT.POLITENE PANI 1000GR', 'RICOTTA 6X1,5KG OPTIMUS', 'Sconto merce', 'LATTE PAS.MAT.AQ.B.PET 1LFLASH', 'BURRO MAT.POLITENE PANI 1000GR', 'LATTE PAS.MAT.AQ.B.PET 1LFLASH', 'LATTE PAS.MAT.AQ.B.PET 1LFLASH', 'LATTE UHT MAT.SCR.Edge 1000ML', 'PANNA PAST.MAT.35% REX  1000ML', \"Assolve agli obblighi di cui all'art.62, comma 1, del decreto legge 24 gennaio 2012, n.1,\", 'convertito, con modificazioni, dalla legge 24 marzo 2012, n.27', 'Contributo ambientale CONAI assolto, ove dovuto.', 'TAV.GR100X24PZ LATTE', 'TAV.GR100X23PZ NOCC/CACAO', 'YONKERS GR30X40PZ', 'CRICK CROCK GR400X9PZ', 'ARACHIDI GR200X24PZ', 'CROSTINI/GRISS.GR500X6PZ', 'SALATINI MIX500GR', 'IRCA BIANCANEVE ***** PLUS ***** CF 10 KG  COD.70451', 'VANDEMOORTELE OLIO RISSO GIRASOLE ALTO OLEICO CF 10LT', 'GOURMET LINE MANDORLE AFFETTATE CF 1 KG', 'MANDORLE SPAGNA PELATE ***CF 1KG***', 'Spese Varie', 'Riga ausiliaria contenente informazioni tecniche e aggiuntive del documento', 'IRCA MIX WONDER MUFFIN ***** *CF 10 KG   COD.70670', 'Spese Varie', 'Riga ausiliaria contenente informazioni tecniche e aggiuntive del documento', 'AB3 MISCELA CREMA BAR CONFEZIONE DA Kg.3', '/D Lotto W53C', 'N ZUCCHERO SEMOLATO ASTUCCI da Kg.1', '/D Lotto 2002G0292R', 'OZD300 DOLCIFICANTE IN DISPENSER DA 300 BST CONFEZIONE KENON', '/D Lotto 5028G0179A', 'DDT n. 000899 - 24/11/2020', 'VINO BIANCO BOTT. 0,75', 'Corrispettivo comprensivo del Contributo ambientale Conai già assolto', 'ACQUA NATIA 0.50 X 24 PET', 'CEDRATA  TASSONI 25 VPX 25 BT', 'RED BULL 0,25 X24 LT', 'YOGA MAGIC  ACE 200X24', 'YOGA  MAGIC PESCA 200X24', 'YOGA MAGIC PERA 200X24', 'YOGA MAGIC ALB. 200X24', 'BIRRA HEINEKEN 0.33 CL X 24 BT', 'BIRRA CERES 0.33 CL X 24 BT', 'BIRRA TENNENT&apos;S 33 CL', 'CARPANO ANTICA FORMULA 1 LT', 'MARTINI  ROSSO LT 1', 'BITTER CAMPARI CL.100', 'VODKA BELVEDERE 070 CL', 'GIN BOSFORD CL. 100', 'VODKA MOSKOVSKAYA CL 100', 'GIN TANQUERAY TEN 070 CL', 'TRIPLE SEC CL 70 DE KUYPER', 'AMARO DEL CAPO CL 70', 'BITTER CAMPARI LITRO', 'BAILEYS ORIGINAL LITRO', 'APEROL BARBIERI LITRO', 'MARTINI ROSSO LITRO', 'CARPANO CLASSICO ROSSO LITRO', 'GIN GORDONS LITRO', 'GIN HENDRICKS LITRO', 'GIN BOMBAY SAPPHIRE LITRO', 'SCHNEIDER BECCUCCIO FORO TONDO MM 7', 'SCHNEIDER BECCUCCIO FORO TONDO MM 10', 'SCHNEIDER BECCUCCIO FORO TONDO MM 13', 'SCHNEIDER BECCUCCIO FORO TONDO MM 18', 'SCHNEIDER BECCUCCIO FORO TONDO MM 20', 'SCHNEIDER BECCUCCIO FORO TONDO MM 24', 'SCHNEIDER BECCUCCIO FORO STELLA CHIUSA MM 4', 'SCHNEIDER BECCUCCIO FORO A STELLA MM 9', 'SCHNEIDER BECCUCCIO FORO STELLA CHIUSA MM 6', 'SCHNEIDER BECCUCCIO FORO STELLA CHIUSA MM 8', 'SCHNEIDER BECCUCCIO FORO STELLA CHIUSA MM 9', 'SCHNEIDER BECCUCCIO FORO STELLA CHIUSA MM 11', 'SCHNEIDER BECCUCCIO FORO A STELLA MM 18', 'Spese Varie', 'Riga ausiliaria contenente informazioni tecniche e aggiuntive del documento', 'AB3 MISCELA CREMA BAR CONFEZIONE DA Kg.3', '/D Lotto V52I', 'N ZUCCHERO SEMOLATO ASTUCCI da Kg.1', '/D Lotto 1025F0892R', 'OZD DOLCIFICANTE IN DISPENSER DA 240 BST', '/D Lotto 5015F0998P', \"DECL LATTINE DI CAFFE'DECAFFEINATO GR.250\", '/D Lotto S01D', 'DDT n. 000190 - 09/04/2021', 'VINO BIANCO BOTT. 0,75', 'Corrispettivo comprensivo del Contributo ambientale Conai già assolto', 'PERFETTO MINICONO PETIT CAPRICE ARROTOLATO CT 920 PZ', 'ALCAS BUSTA ICE-BAG PICCOLA 10X20', 'Spese Varie', 'Riga ausiliaria contenente informazioni tecniche e aggiuntive del documento', 'Colazioni', 'Biscotti', 'DDT n. 000178 - 27/03/2021', 'VINO BIANCO BOTT. 0,75', 'Corrispettivo comprensivo del Contributo ambientale Conai già assolto', 'Colazioni', 'Biscotti', 'CARTA IG SMARTONE MINI CONF.1X12 ROTOLI 620 STR.', 'S.M. SUPER PLUS CART 4X 6  KG', 'TOV.VELO 30X30 PP T301   CART 8X500 PZ', 'FLOOR S. 50X70 290G BLU/VIOLA  MICROFIBRA EUDOREX', 'BUSTE N.U.90X130 AMBRA KG 19                                     75 M', 'STROFI. VELO PP MILLEUSI X 2ROTOLI', 'TIPO 237 CKFB CARTA FSC MATER BI BIBITA CALDA UP DOWN', 'COPERCHIO IL PLASTICA BIBITA CALDA 237CK CONF 1000 PZ', 'SPESE VARIE', 'AIA WURSTEL WUDY PURO SUINO CT 35CF X 100GR', 'Spese Varie', 'Riga ausiliaria contenente informazioni tecniche e aggiuntive del documento', 'SALVI STRISCIA ORO H 7 CM', 'SALVI VASSOIO ORO MIS. 10 RETTANGOLARE MIS 10 CM 52 X 37 CF 10 KG', 'SALVI VASSOIO ORO MIS. 4 RETTANGOLARE MIS 4 CM 28 X 20  CF 10 KG', 'SALVI VASSOIO ORO MIS. 5 RETTANGOLARE MIS 5 CM 31 X 23 CF 10 KG', 'SALVI VASSOIO ORO MIS. 7 RETTANGOLARE MIS 7 CM 37 X 26 CF 10 KG', 'SALVI VASSOIO ORO MIS. 8 RETTANGOLARE MIS 8 CM 42 X 31 CF 10 KG', 'WAFERS FARMA TARG. BUON COMPLEANNO ROSA CF 32PZ', 'WAFERS FARMA PERGAMENA AUGURI ROSA ELITE CF 32PZ', 'ALCAS VASSOIO CERIMONIA 30X40 PICCOLO - PL158', 'CAPUTO FARINA - TIPO 00 EXTRA CF 25 KG', 'CAPUTO FARINA - TIPO AMERICANA CARTA CF 25 KG', 'VANDEMOORTELE ***MIX*** GOLD CUP CROISSANT CF 15 KG COD. 405233', 'VANDEMOORTELE MARGARINA ST ALLERY CROISSANT 15% KG COD. 413712', 'IRCA PASSATA ALBICOCCA***** ORO ***** CF 14 KG   COD.30340', 'IRCA SVELTO CF 5 KG    COD.100075', 'IRCA LILLY NEUTRO CF 1KG   COD.70508', 'VANDEMOORTELE OLIO RISSO GIRASOLE ALTO OLEICO CF 10LT', 'CRESCO FORM STAC PZ 400 ML', 'GOURMET LINE FARINA DI MANDORLE PELATE CF DA KG 5', 'Spese Varie', 'Riga ausiliaria contenente informazioni tecniche e aggiuntive del documento', 'D485-77204810-40084077-KINDER MAXI T1X36X8 PZ B', '5991-77131278-80310266-KINDER CEREALI T1X72 PZ REST', '0617-77187755-80052760-KINDER BUENO T2X30 ORZ REST', 'CONTRIBUTO CONAI-0617-77187755-80052760-KINDER BUENO T2X30 ORZ REST', '0606-77187269-80177609-KINDER CIOCCOLATO T4X20 AS/C VI-2', '370A-77199754-40084107-KINDER SORPRESA IMBUTITO T1X72 PZ D/PRI', 'CONTRIBUTO CONAI-370A-77199754-40084107-KINDER SORPRESA IMBUTITO T1X72 PZ D/PRI', '1187-77201953-80050117-KINDER SORPRESA IMBUTITO T1X72 PZ MIN2', 'CONTRIBUTO CONAI-1187-77201953-80050117-KINDER SORPRESA IMBUTITO T1X72 PZ MIN2', 'CONV5361 - CONVERTITORE SMALTO POLIUR. ', 'DIL610 - DILUENTE UNIVERSALE 610 LT 1', 'DILNIT - DILUENTE NITRO EXTRA 750 LT 1', 'D.d.T. 331/A del 26/11/2020', 'UOVA CAT.PESO L', ' Cod.Comm. 007694433 ', ' OGGETTO : Concessione in uso di N.    1 apparecchiature ', ' P.O.S. ', ' CANONE PERIODO 01/01/2021 - 31/01/2021 ', 'MENTOS X 40 PZ.MENTA ST.', 'FRUITTELLA FR.ASS.X 20 ST.', 'BROOKLYN 9X20 CLORO', 'VIV.XYL SPEAR 10X40 UPGRADE', 'VIV.XYL G/MINT 10X40 UPGRADE', 'VIG.AIR ACTION XTREME 10x40', 'VIGORSOLAA GAME ED. EXPO 2 DISPLAY', 'MENTOS WHITE ALW 30 PM. X10 PZ.', 'N ZUCCHERO SEMOLATO ASTUCCI da Kg.1', '/D Lotto 2016F1297P', 'DDT n. 000876 - 05/11/2020', 'VINO BIANCO BOTT. 0,75', 'Corrispettivo comprensivo del Contributo ambientale Conai già assolto', 'Colazioni', 'Biscotti', 'ARACHIDI 1KG AMICA', 'CRICK CROCK GR400X9PZ', 'CRICK CROK MULTIPAK 105GRX14PZ', 'AMICA GIGI S POP CORN GR110X12PZ', 'OVETTO KINDER PZ36', 'AB3 MISCELA CREMA BAR CONFEZIONE DA Kg.3', '/D Lotto V48H', 'N ZUCCHERO SEMOLATO ASTUCCI da Kg.1', '/D Lotto 2004F0369D', 'OZD DOLCIFICANTE IN DISPENSER DA 240 BST', '/D Lotto 5010F0769D', '002 IL CREMINO CONF. Kg.1', '/D Lotto LE062', 'Consegna mensile colazioni giugno', '0617-77187755-80052760-KINDER BUENO T2X30 ORZ REST', 'A513-77199580-8000500131329-NUTELLA G3000X2 SCC/PRT F/SER', '6287-77187749-80761761-KINDER BUENO WH T2X30 VRT REST', '9136-77208931-80050117-KINDER SORPRESA IMBUTITO T1X72 PZ PAS', 'D072-77197271-8000500310397-NUTELLA BISCUITS T12X20 TUB BASE ITA', 'JOYGELATO PASTE ZABAIONE TRADITION CF 1,2 KG COD.00291', 'CAPUTO FARINA - TIPO AMERICANA CARTA CF 25 KG', 'CAPUTO FARINA - TIPO 00 EXTRA CF 25 KG', 'VANDEMOORTELE ***MIX*** GOLD CUP CROISSANT CF 15 KG COD. 405233', 'GOURMET LINE MIX CREAM AMIDO CF 10 KG', 'SUD ZUCHER ZUCCHERO CF 25 KG', 'VANDEMOORTELE MARGARINA ST ALLERY CROISSANT 15% KG COD. 413712', \"VANDEMOORTELE MARGARINA SANT'ALLERY CREMA 25% COD401981\", 'TORRENTE PASSATA POMODORO CON BASILICO CT 12 X 700 GR', 'TORRENTE POMOPIZZA CT 3X4.1 KG', 'CITROLO CIGARETTES **BOCCA LARGA** CF 1KG', 'AMBROSIO AMARENA INTERA CF 4.7 KG', 'VISA GRANELLA DI NOCCIOLE CF 2.5 KG', 'IRCA SCAGLIETTA ***** PURO FONDENTE ***** CF 1 KG   COD.40192', 'IRCA CHOCOCREAM ***** INDUSTRY BIANCO ***** CF 13 KG COD. 1010853', 'IRCA PASSATA ALBICOCCA***** ORO ***** CF 14 KG   COD.30340', 'IRCA NOCCIOLATA ***** CF 13 KG COD. 1010151', 'REVIVA PIROTTINI OVALI COLORATI MIS 3 CF 1000 PZ', 'ALCAS CHARLOTTE DORATA CM 26 - CF 10 PZ', 'ALCAS  COPERCHIO VASSOIO MEDORO CM 26 - CF 10 PZ', 'MODECOR SAC A POCHE GRIPY 28X53 - CF.100 PZ. - COD. 30301', 'IDCAM CODA ARAGOSTA - MICRO CT 7 KG     COD.AKA014', 'PAC GEL SFOGLIATA RICCIA MIGNON GR 30 CT 5 KG', 'RISPO RUSTICI MIGNON CF 2.5 KG', 'PAC GEL SFOGLIATA SEMIDOLCE RUSTICA CT 4 KG', 'PAC GEL SFOGLIATELLA RUSTICA CON FRIARIELLI CT 4 KG', \"COOPERLAT PREP. VEG. HOPLA' EASY TOP  1LT\", 'GOURMET LINE TARTALLETTE FROLLA MIGNON MM 44 CT 250 PZ 00002', 'ALCAS VASSOIO GOGO ROTONDO CF 40 PEZZI', 'CELLOPHANE & PAPER CARTA DA FORNO 40X60 CF 500PZ', 'KRAFT PHILADELPHIA CF 1.650 KG', 'RUFFINI BAGNA ALCOLICA 70° PERLA NERA CF 2 LT', 'RUFFINI BAGNA ALCOLICA 70° BENEVENTO CF 2 LT', 'Spese Varie', 'Riga ausiliaria contenente informazioni tecniche e aggiuntive del documento', 'ACQUA NATIA 0.50 X 24 PET', 'BIRRA BECK&apos;S 0.33 CL X 24 BT', 'BIRRA TENNENT&apos;S 33 CL', 'ESTATHE&apos;  PESCA LATTINA 033X24', 'ESTATHE&apos;  LATTINA LIMONE 033X24', 'Goleador Dribbling Rainbow', 'VIV.XYL SPEAR 10X40 UPGRADE', 'VIV.XYL G/MINT 10X40 UPGRADE', 'VIGORSOL AIR ACTION X 40', \"BHB ROULLE' BIANCO CM 0.7 38X56 PZ 12\", \"BHB ROULLE' CACAO CM 0.9 38X56 PZ 12\", 'Spese Varie', 'Riga ausiliaria contenente informazioni tecniche e aggiuntive del documento', 'CRICK CROCK GR400X9PZ', 'TRANETTE GR500X12PZ', 'TAV.GR100X22PZ AHOY/OREO', 'BICCHIERI COFFEE CART.75ML', 'COPERCHIO BICCH. 75 ML COVER', 'CUCCHIAINI MOKA', 'ALUPACK ROT.FLOR AST.', 'ARISTEA KRIST.400CC PET 50PZ', 'DOPLA KRISTAL 100CC 50 PZ', 'BICCHIERE 166 CCTRASP.30X100', 'CRICK CROCK GR400X9PZ', 'CRICK CROK MULTIPAK 105GRX14PZ', 'CRIK GR180X16PZ', 'CRIK PUFFGR110X16PZ', 'CROSTINI/GRISS.GR500X6PZ', 'ARACHIDI 1KG AMICA', 'TORTELLINI GR250X14PZ', 'OVETTO KINDER PZ36', 'ANTICA FORMULA CARPANO LITRO', 'WHISKY TALISKER 10 Y ASTUCCIATO 70 CL', 'SUD ZUCHER ZUCCHERO SABBIA EXTRA FINO CF 25 KG', 'VANDEMOORTELE OLIO RISSO GIRASOLE ALTO OLEICO CF 10LT', 'IRCA CHOCOCREAM ***** PISTACCHIO ***** CF KG 5     COD.10958', 'MARTY PACK PIROTTINI SAVARIN IMPERMEABILI PICCOLI CF 1000 PZ COD. LCE8/4', \"COOPERLAT PREP. VEG. HOPLA' EASY TOP  1LT\", 'MODECOR SAC A POCHE GRIPY 28X53 - CF.100 PZ. - COD. 30301', 'PININ PERO ZUCCHERO GRANELLA MEDIA CT 10 KG', 'VANDEMOORTELE MARGARINA ST ALLERY CROISSANT 15% KG COD. 413712', 'TORRENTE POMOPIZZA CT 3X4.1 KG', 'IRCA NOCCIOLATA ***** TIPO D ***** CF 13 KG COD.1010693', 'VANDEMOORTELE ***MIX*** GOLD CUP CROISSANT CF 15 KG COD. 405233', 'FIORUCCI PROSCIUTTO COTTO DELIZIOSO - PL41', \"MARTY PACK PIROTTINI BABA' IMPERMEABILI PICCOLI CF 1000 PZ COD. LCE8/3\", 'SUD ZUCHER ZUCCHERO CF 25 KG', 'Spese Varie', 'Riga ausiliaria contenente informazioni tecniche e aggiuntive del documento', 'D.d.T. 239/A del 10/09/2020', 'UOVA CAT.PESO M', 'Colazioni', 'Biscotti', 'ST.GOLIA ACTIV PLUS X 24 IT', 'MENTOS X 20 PZ. FRUTTA ST.', 'THE BIG BABOL T.FRUTTI 5X24', 'BROOKLYN 9X20 CLORO', 'VIGORSOL AIR ACTION X 40', 'VIGORSOL REAL FRUIT X 40 ST.', '0617-77187755-80052760-KINDER BUENO T2X30 ORZ REST', 'A513-77199580-8000500131329-NUTELLA G3000X2 SCC/PRT F/SER', 'C076-77199759-80050117-KINDER SORPRESA IMBUTITO T1X48 PZ B', 'MODECOR FIORI PASTA DI ZUCCHERO MODELLABILE GRANDI BIANCO CF 12 PZ COD. 10309G', 'Riga ausiliaria contenente informazioni tecniche e aggiuntive del documento', 'UP DOWN 17X34 KRAFT', 'SPESE VARIE', 'fiordilatte', 'RICOTTA DI BUFALA', 'RICOTTA IN VASC. BONTEANA \"SORI\"', 'ricotta gentile romana casearia', 'RICOTTA FRESCA S.ERSILIA', 'RICOTTA OTTAVO COLLE', 'ALCAS COPERCHIO FETTA TORTA H 8 CF 50 PEZZI', 'ALCAS FETTA TORTA CF 50 PEZZI', 'GRIMALDI PORTACORNETTI  IN CARTONE CF 50 PZ', 'REVIVA PIROTTINI OVALI COLORATI MIS 3 CF 1000 PZ', 'AMBROSIO AMARENA SPECIALE CF 4,7 KG', 'STARKINA FECOLA DI PATATE - CF DA 25 KG', 'CASILLO SEMOLA DI GRANO DURO **RIPIENO SFOGLIATELLE** CF 5 KG', 'IRCA MIRROR FRAGOLA CF 3 KG   COD.30257', 'PAC GEL CORNETTO 7 CEREALI E FRUTTI DI BOSCO CT 40 PZ X 80 GR', 'PAC GEL SFOGLIATELLA RUSTICA CON FRIARIELLI CT 4 KG', 'PAC GEL SFOGLIATA SEMIDOLCE RUSTICA CT 4 KG', 'SUD ZUCHER ZUCCHERO SABBIA EXTRA FINO CF 25 KG', 'PAC GEL SFOGLIATA RICCIA MIGNON GR 30 CT 5 KG', 'IDCAM CODA ARAGOSTA - MICRO CT 7 KG', 'CARTOPLAST BUSTE PLASTICA 55/75', 'CAPUTO FARINA - TIPO 00 EXTRA CF 25 KG', 'CAPUTO FARINA - TIPO AMERICANA CARTA CF 25 KG', 'VANDEMOORTELE ***MIX*** GOLD CUP CROISSANT CF 15 KG COD. 405233', 'IRCA PASSATA ALBICOCCA***** ORO ***** CF 14 KG   COD.30340', 'IRCA NOCCIOLATA ***** TIPO D ***** CF 13 KG COD.1010693', 'VANDEMOORTELE MARGARINA ST ALLERY CROISSANT 15% KG COD. 413712', \"VANDEMOORTELE MARGARINA SANT'ALLERY CREMA 25% COD401981\", 'PININ PERO ZUCCHERO GRANELLA MEDIA CT 10 KG', \"BAKER'S LIEVITO FRESCO PAKMAYA PZ 500 GR\", 'CELLOPHANE & PAPER CARTA DA FORNO 40X60 CF 500PZ', 'SALE FINO SICILIA CT 12 X 1 KG', 'CITROLO CIGARETTES SURPRISE CT 1,5 KG', 'TORRENTE POMOPIZZA CT 3X4.1 KG', \"AIA TUORLO D'UOVO CF 1 LT\", 'WAFERS FARMA ROSELLINE IN OSTIA COLORE CELESTE CT 200 PZ COD. 10115/C', 'IDCAM TAPPI GRANDI CT 150 PZ', 'WAFERS FARMA ROSELLINE IN OSTIA COLORE ROSSO CT 200PZ COD.10115/RS/A', 'Spese Varie', 'Riga ausiliaria contenente informazioni tecniche e aggiuntive del documento', 'A513-77199580-8000500131329-NUTELLA G3000X2 SCC/PRT F/SER', 'Carta PA Gr.60 Stampa \"UP DOWN\"           Mis 50x75 + Mis.100x75', \"CAFFE' AL GINSENG BS. 500gr. - SENZA GLUTINE\", \"CAFFE' AL GINSENG BS. 500gr. - SENZA GLUTINE\", 'Spese di trasporto', 'B000-77175883-80051503-ESTATHE LAT PES LT0,33X24 LTN N/D', 'A999-77175884-80177685-ESTATHE LAT LIM LT0,33X24 LTN N/D', 'C309-77187172-80874652-KINDER CARDS LA-CA T2X30 FLO B', 'CONTRIBUTO CONAI-C309-77187172-80874652-KINDER CARDS LA-CA T2X30 FLO B', 'C609-77191786-80956631-NUT & GO T1X24 C/PRT REST', 'CONTRIBUTO CONAI-C609-77191786-80956631-NUT & GO T1X24 C/PRT REST', '8072-77188220-3017620690969-KINDER BUENO T(2X5)X6 FSC REST', 'CONTRIBUTO CONAI-8072-77188220-3017620690969-KINDER BUENO T(2X5)X6 FSC REST', '6288-77187748-8000500121436-KINDER BUENO WH T(2X3)X10 FSC REST', 'CONTRIBUTO CONAI-6288-77187748-8000500121436-KINDER BUENO WH T(2X3)X10 FSC REST', 'A513-77199580-8000500131329-NUTELLA G3000X2 SCC/PRT F/SER', 'CONTRIBUTO CONAI-A513-77199580-8000500131329-NUTELLA G3000X2 SCC/PRT F/SER', 'D427-77201590-80310891-KINDER JOY T1X36 PZ SU/MAR', 'CONTRIBUTO CONAI-D427-77201590-80310891-KINDER JOY T1X36 PZ SU/MAR', 'AB3 MISCELA CREMA BAR CONFEZIONE DA Kg.3', '/D Lotto W36A', 'N ZUCCHERO SEMOLATO ASTUCCI da Kg.1', '/D Lotto 2009F1053N', 'SECCHIO PLASTGUM LT14 VERDE', 'Imposta erariale di consumo', 'Imposta erariale di consumo- detrazione', 'Imposta erariale di consumo', 'PCV parte variabile', 'ONERI FISSI', 'PCV parte variabile', 'PCV parte variabile- detrazione', 'ONERI VARIABILI', 'ONERI VARIABILI- detrazione', 'ONERI VARIABILI', 'TRASPORTO QUOTE FISSE', 'Componente di dispacciamento parte Fissa', 'Penale Reattiva 33%', 'Sbilanciamento', 'Sbilanciamento', 'Sbilanciamento- detrazione', 'Aggregazione delle misure', 'Perdite di rete F3', 'Perdite di rete F3', 'Perdite di rete F3- detrazione', 'Perdite di rete F2', 'TRASPORTO QUOTE VARIABILI- detrazione', 'TRASPORTO QUOTE VARIABILI', 'TRASPORTO QUOTE VARIABILI', 'TRASPORTO QUOTE POTENZA- detrazione', 'Oneri Potenza', 'Oneri Potenza', 'TRASPORTO QUOTE POTENZA', 'Oneri Potenza- detrazione', 'TRASPORTO QUOTE POTENZA', 'Perdite di rete F2', 'Perdite di rete F2- detrazione', 'Perdite di rete F1', 'Perdite di rete F1', 'Perdite di rete F1- detrazione', 'Energia F3', 'Energia F3', 'Energia F2', 'Energia F3- detrazione', 'Energia F2', 'Energia F2- detrazione', 'Energia F1', 'Energia F1', 'Energia F1- detrazione', 'Dispacciamento', 'Dispacciamento', 'Dispacciamento- detrazione', 'PCV_F  Commercializzazione Vendita Parte Fissa', 'GRIMALDI PORTACORNETTI  IN CARTONE CF 50 PZ', 'VANDEMOORTELE OLIO RISSO GIRASOLE ALTO OLEICO CF 10LT', 'VANDEMOORTELE ***MIX*** GOLD CUP CROISSANT CF 15 KG COD. 405233', 'SUD ZUCHER ZUCCHERO SABBIA EXTRA FINO CF 25 KG', \"VANDEMOORTELE MARGARINA SANT'ALLERY CREMA 25% COD401981\", 'VANDEMOORTELE MARGARINA ST ALLERY CROISSANT 15% KG COD. 413712', 'IRCA SCAGLIETTA ***** PURO FONDENTE ***** CF 1 KG   COD.40192', 'PININ PERO ZUCCHERO GRANELLA MEDIA CT 10 KG', \"BHB ROULLE' BIANCO CM 0.7 38X56 PZ 12\", 'GOURMET LINE MIX CREAM AMIDO CF 10 KG', 'IDCAM TAPPI GRANDI CT 150 PZ', 'IRCA MIRROR CIOCCOLATO FONDENTE CF 6 KG   COD.30222', 'Spese Varie', 'Riga ausiliaria contenente informazioni tecniche e aggiuntive del documento', 'SALVI STRISCIA ORO H 7 CM', 'SALVI VASSOIO ORO MIS. 4 RETTANGOLARE MIS 4 CM 28 X 20  CF 10 KG', 'SALVI VASSOIO ORO MIS. 5 RETTANGOLARE MIS 5 CM 31 X 23 CF 10 KG', 'SALVI VASSOIO ORO MIS. 6 RETTANGOLARE MIS 6 CM 35 X 25 CF 10 KG', 'SALVI VASSOIO ORO MIS. 8 RETTANGOLARE MIS 8 CM 42 X 31 CF 10 KG', 'FERRERO NUTELLA CF 3 KG', 'Spese Varie', 'Riga ausiliaria contenente informazioni tecniche e aggiuntive del documento', 'COPERCHIO IL PLASTICA BIBITA CALDA 237CK CONF 1000 PZ', 'SPESE VARIE', 'cartolina panettone stampa dig. su tintoretto 250g (n.3 varianti)', 'MASER MIX FORMAGGIO GRATTUGIATO CF 1 KG', 'IRCA PEPITA CIOCCOLATO \"E\" SA 1100 CF 5 KG    COD.10730', 'PAC GEL CORNETTO 7 CEREALI E FRUTTI DI BOSCO CT 40 PZ X 80 GR', 'PAC GEL CONCHIGLIA GIANDUIA SUPERFARCITA CT GR 100 X 50 PZ', 'PAC GEL RUSTICI MIGNON GR 27 ASSORTITI CT 6 KG', 'PAC GEL SFOGLIATA RICCIA MIGNON GR 30 CT 5 KG', 'IDCAM CODA ARAGOSTA - MICRO CT 7 KG     COD.AKA014', 'PAC GEL SFOGLIATA SEMIDOLCE RUSTICA CT 4 KG', 'IRCA MORELLINA ***** CF 13 KG   COD.10204', 'WAFERS FARMA ROSELLINE IN OSTIA COLORE ROSA CT 200PZ COD. 10115/R', 'MODECOR 50° ANNIVERSARIO MATRIMONIO', \"COOPERLAT PREP. VEG. HOPLA' EASY TOP  1LT\", 'CAPUTO FARINA - TIPO 00 EXTRA CF 25 KG', 'CAPUTO FARINA - TIPO AMERICANA CARTA CF 25 KG', 'VANDEMOORTELE ***MIX*** GOLD CUP CROISSANT CF 15 KG COD. 405233', 'SUD ZUCHER ZUCCHERO SABBIA EXTRA FINO CF 25 KG', 'SUD ZUCHER ZUCCHERO CF 25 KG', 'CITROLO CANNOLI CIOCCOLATO MIGNON CT 3.5 KG', 'CITROLO CANNOLO CIOCCOLATO GRANDE CT 108 PZ', 'CITROLO CIGARETTES SURPRISE CT 1,5 KG', 'GOURMET LINE TARTALLETTE FROLLA MIGNON MM 44 CT 250 PZ 00002', 'MODECOR SAC A POCHE GRIPY 28X53 - CF.100 PZ. - COD. 30301', 'IRCA PASSATA ALBICOCCA***** ORO ***** CF 14 KG   COD.30340', 'IRCA CHOCOCREAM ***** INDUSTRY BIANCO ***** CF 13 KG COD. 1010853', 'IRCA CHOCOCREAM ***** PISTACCHIO ***** CF KG 5     COD.10958', 'AMBROSIO AMARENA SPECIALE CF 4,7 KG', 'MASTERLINE PUFFIN PANNA CF 1 LT', 'RUFFINI BAGNA ALCOLICA 70° RHUM  ELITE (HABANA) CF 2 LT', 'IRCA SCAGLIETTA****** SURROGATO FONDENTE******** CF 1 KG    COD.40182', 'DE SIMONE MIELE GREZZO *** C ***  CF 10 KG', 'IDCAM TAPPI GRANDI CT 150 PZ', \"DOBLA MOCCA BEANS (CHICCO CAFFE') CT 1.1KG COD.81125\", 'REVIVA PIROTTINO TONDO MARRONE MIS 9 CF 2000 PZ', 'SOLCHIM COLOR GEL MARRONE PZ 30GR', 'Spese Varie', 'Riga ausiliaria contenente informazioni tecniche e aggiuntive del documento', 'CAPUTO FARINA - TIPO 00 EXTRA CF 25 KG', 'CAPUTO FARINA - TIPO AMERICANA CARTA CF 25 KG', 'VANDEMOORTELE ***MIX*** GOLD CUP CROISSANT CF 15 KG COD. 405233', 'GOURMET LINE MIX CREAM AMIDO CF 10 KG', 'VANDEMOORTELE MARGARINA ST ALLERY CROISSANT 15% KG COD. 413712', \"VANDEMOORTELE MARGARINA SANT'ALLERY CREMA 25% COD401981\", 'CELLOPHANE & PAPER CARTA DA FORNO 40X60 CF 500PZ', 'CITROLO CANNOLI CIOCCOLATO MIGNON CT 3.5 KG', 'CITROLO CIGARETTES SURPRISE CT 1,5 KG', 'GOURMET LINE TARTALLETTE FROLLA MIGNON MM 44 CT 250 PZ 00002', 'PREGEL PANNA CREMA LIMONE CF 1,1 KG', 'CASILLO SEMOLA DI GRANO DURO **RIPIENO SFOGLIATELLE** CF 5 KG', 'IRCA SURROGATO *****NOBEL BITTER***** CF 5 KG COD. 1010221', 'VISA GRANELLA DI NOCCIOLE CF 2.5 KG', 'IDCAM TAPPI GRANDI CT 150 PZ', \"BAKER'S LIEVITO FRESCO PAKMAYA PZ 500 GR\", \"AIA TUORLO D'UOVO CF 1 LT\", 'MULINO BIANCO PAN DI STELLE CT 12 PZ X 700 GR', 'KRAFT BISCOTTO OREO GR 176 CT 12 PEZZI', 'RUFFINI BAGNA ALCOLICA 70° PERLA NERA CF 2 LT', 'IDCAM CODA ARAGOSTA - MICRO CT 7 KG     COD.AKA014', 'PAC GEL SFOGLIATA RICCIA MIGNON GR 30 CT 5 KG', 'IRCA LILLY NEUTRO CF 1KG   COD.70508', 'PAC GEL CORNETTO 7 CEREALI E FRUTTI DI BOSCO CT 40 PZ X 80 GR', 'Spese Varie', 'Riga ausiliaria contenente informazioni tecniche e aggiuntive del documento', 'IRCA SURROGATO *****NOBEL BITTER***** CF 5 KG COD. 1010221', 'Spese Varie', 'Riga ausiliaria contenente informazioni tecniche e aggiuntive del documento', 'DDT n. 000236 - 30/04/2021', 'VINO BIANCO BOTT. 0,75', 'Corrispettivo comprensivo del Contributo ambientale Conai già assolto', 'FERRERO NUTELLA CF 3 KG', 'Spese Varie', 'Riga ausiliaria contenente informazioni tecniche e aggiuntive del documento', 'FERRERO NUTELLA CF 3 KG', 'SALVI VASSOIO ORO MIS. 4 RETTANGOLARE MIS 4 CM 28 X 20  CF 10 KG', 'SALVI STRISCIA ORO H 7 CM', 'Spese Varie', 'Riga ausiliaria contenente informazioni tecniche e aggiuntive del documento', 'NATIA PET 1 LT X 12 BT', 'ACQUA NATIA 0.50 X 24 PET', 'FERRARELLE PET 1LT X 12 BT', 'ACQUA FERRARELLE 0,50 X 24 BT PET', 'BIRRA HEINEKEN 0.33 CL X 24 BT', 'BIRRA TENNENT&apos;S 33 CL', 'BIRRA BECK&apos;S 0.33 CL X 24 BT', 'CEDRATA  TASSONI 25 VPX 25 BT', 'COCA COLA ZERO LATTINA SLEEK 033X24', 'COCA COLA LATTINA SLEEK 033 X 24', 'ESTATHE&apos;  PESCA LATTINA 033X24', 'ESTATHE&apos;  LATTINA LIMONE 033X24', 'CRODINO TWIST FRUTTI ROSSI X 24 BT', 'LEMONSODA 200 X 24', 'SCHWEPPES LIMONE 200 CL VAP X 24 VETRO', 'SCHWEPPES TONICA 200 CL VAP X 24 VETRO', 'YOGA MAGIC  ACE 200X24', 'YOGA MAGIC PERA 200X24', 'YOGA MAGIC ANANAS X24 BT', 'YOGA MAGIC ALB. 200X24', 'YOGA MAGIC MIRTILLO 200X24', 'YOGA ANANAS PET 1 LT', 'YOGA ARANCIA PET 1 LT', 'GIN TANQUERAY CL 100', 'GIN HENDRICK&apos; S CL 70', 'fiordilatte', 'provola affumicata', 'RICOTTA DI BUFALA', 'RICOTTA FRESCA S.ERSILIA', 'D.d.T. 340/A del 03/12/2020', 'UOVA CAT.PESO L', 'SALVI PIATTI ALA ORO 15X35 RETTANGOLARI CF 10 KG', 'Spese Varie', 'Riga ausiliaria contenente informazioni tecniche e aggiuntive del documento', 'Commissioni', 'Sky Vetrina + Sport + Calcio Plus', 'Spese invio fattura', 'IRCA VIGOR LIEVITO IN POLVERE CF 1 KG   COD.70497', 'ALCAS VASCHETTA FANTASIA CRIST CON COPERCHIO MIS 1 PZ', 'AMBROSIO CILIEGIE ROSSE 18/20 INTERE CF 900 GR', 'VANDEMOORTELE ***MIX*** GOLD CUP CROISSANT CF 15 KG COD. 405233', 'IDCAM CODA ARAGOSTA - MICRO CT 7 KG     COD.AKA014', 'PAC GEL SFOGLIATA RICCIA MIGNON GR 30 CT 5 KG', 'PAC GEL SFOGLIATELLA RUSTICA CON FRIARIELLI CT 4 KG', 'PAC GEL RUSTICI MIGNON GR 27 ASSORTITI CT 6 KG', 'CELLOPHANE & PAPER CARTA DA FORNO 40X60 CF 500PZ', 'SUD ZUCHER ZUCCHERO CF 25 KG', 'CAPUTO FARINA - TIPO AMERICANA CARTA CF 25 KG', 'CAPUTO FARINA - TIPO 00 EXTRA CF 25 KG', 'PAC GEL CORNETTO 7 CEREALI E FRUTTI DI BOSCO CT 40 PZ X 80 GR', 'PAC GEL CONCHIGLIA GIANDUIA SUPERFARCITA CT GR 100 X 50 PZ', 'IRCA SURROGATO*****NOBEL AVORIO***** CF 5 KG COD. 1010222', 'IRCA CHOCOCREAM ***** INDUSTRY BIANCO ***** CF 13 KG COD. 1010853', \"VANDEMOORTELE MARGARINA SANT'ALLERY CREMA 25% COD401981\", 'VANDEMOORTELE MARGARINA ST ALLERY CROISSANT 15% KG COD. 413712', 'PREGEL PANNA CREMA LIMONE CF 1,1 KG', 'Spese Varie', 'Riga ausiliaria contenente informazioni tecniche e aggiuntive del documento', 'Sky Pacchetto Completo|FATTURA n. 200605462 del 01/01/21', 'REVIVA PIROTTINO MUFFIN 2° ONCE (GRANDE)', 'REVIVA PIROTTINO MUFFIN 1° ONCIA (PICCOLO)', 'Spese Varie', 'Riga ausiliaria contenente informazioni tecniche e aggiuntive del documento', 'ST.GOLIA ACTIV PLUS X 24 IT', 'MENTA FREDDA MINT STICKX24', 'FRISK PEPP.NEW BOX X12 1 EURO', 'ALPENLIEBE CHOCO CARAMEL X24ST.', 'CHUPA CH.TBO BTA 120 PZ.', 'FRUITTELLA FR.ASS.X 20 ST.', 'VIV.XYL SPEAR 10X40 UPGRADE', 'VIGORSOL AIR ACTION X 40', 'VIGORSOL AIR ACTION AST.X 20', 'VIG.AIR ACTION XTREME 10x40', 'MENTOS WHITE ALW 30 PM. X10 PZ.', 'PININ PERO ZUCCHERO GRANELLA MEDIA CT 10 KG', 'RUFFINI BAGNA ALCOLICA 70° BENEVENTO CF 2 LT', 'RUFFINI BAGNA ALCOLICA 70° PERLA NERA CF 2 LT', 'Spese Varie', 'Riga ausiliaria contenente informazioni tecniche e aggiuntive del documento', 'VANDEMOORTELE ***MIX*** GOLD CUP CROISSANT CF 15 KG COD. 405233', 'CAPUTO FARINA - TIPO 00 EXTRA CF 25 KG', 'CAPUTO FARINA - TIPO AMERICANA CARTA CF 25 KG', 'SUD ZUCHER ZUCCHERO SABBIA EXTRA FINO CF 25 KG', 'SUD ZUCHER ZUCCHERO CF 25 KG', 'AMBROSIO VISCIOLA CF 4,7 KG', 'CITROLO CANNOLO CIOCCOLATO GRANDE CT 108 PZ', 'CELLOPHANE & PAPER CARTA DA FORNO 40X60 CF 500PZ', 'AMBROSIO AMARENA SPECIALE CF 4,7 KG', 'PININ PERO ZUCCHERO GRANELLA MEDIA CT 10 KG', 'VANDEMOORTELE MARGARINA ST ALLERY CROISSANT 15% KG COD. 413712', 'TORRENTE POMOPIZZA CT 3X4.1 KG', 'BONDUELLE MAIS DOLCE 3 PZ X 300 GR', 'VISA NOCCIOLE SGUSCIATE TOSTATE TURCHIA CF 2.5 KG', 'IRCA SURROGATO*****NOBEL AVORIO***** CF 5 KG COD. 1010222', 'IRCA CHOCOCREAM ***** INDUSTRY BIANCO ***** CF 13 KG COD. 1010853', 'REVIVA PIROTTINI OVALI MARRONI MIS. 3 CF 1000 PZ', 'VANDEMOORTELE OLIO RISSO GIRASOLE ALTO OLEICO CF 10LT', 'PININ PERO ZUCCHERO VELO CF 5 KG', 'RUFFINI BAGNA ALCOLICA 70° BENEVENTO ELITE CF 2 LT', 'RUFFINI BAGNA ALCOLICA 70° RHUM  ELITE (HABANA) CF 2 LT', 'GRIMALDI PORTACORNETTI  IN CARTONE CF 50 PZ', 'IDCAM TAPPI GRANDI CT 150 PZ', \"COOPERLAT PREP. VEG. HOPLA' EASY TOP  1LT\", 'PAC GEL SFOGLIATA RICCIA MIGNON GR 30 CT 5 KG', 'PAC GEL CONCHIGLIA GIANDUIA SUPERFARCITA CT GR 100 X 50 PZ', 'JOYGELATO CREAM LEMON BISCOTTO CF 5 KG COD.11259', 'IRCA NOCCIOLATA ***** CF 13 KG COD. 1010151', 'Spese Varie', 'Riga ausiliaria contenente informazioni tecniche e aggiuntive del documento', 'DERATTIZZAZIONE DEL 23/02/2021', 'Riga ausiliaria contenente informazioni tecniche e aggiuntive del documento', 'BUSTE CORNETTI KRAFT BIANCO KG 1X10 - MIS17X34', 'UP DOWN COFFE 14X28', 'SPESE VARIE', '204 MAXICIALDA                 PEZZI 270', '/D Lotto 202422', '/D SI CONSEGNA SOLO PREVIO PAGAMENTO', '/D PER CONTANTI', '0617-77187755-80052760-KINDER BUENO T2X30 ORZ REST', 'A513-77199580-8000500131329-NUTELLA G3000X2 SCC/PRT F/SER', '6287-77187749-80761761-KINDER BUENO WH T2X30 VRT REST', 'D464-77201592-80310891-KINDER JOY T1X36 PZ JU/W', 'RUFFINI AROMA PANDORO CF 500 CC', 'IRCA DARK CHOCOLATE CHUNKS CF 1KG', 'Riga ausiliaria contenente informazioni tecniche e aggiuntive del documento', 'REFLEXX 72 LARGE  PZ. 100 NITRILE BLU  S/POLV GR. 3,9', 'S.M. SUPER PLUS CART 4X 6  KG', 'TOV.VELO 30X30 PP T301   CART 8X500 PZ', 'BUSTE N.U.90X130 AMBRA  CART. 19 KG                      75 M', 'COPERCHIO DI PLASTICA BIBITA CALDA TIPO 80CK PZ.2100', 'STROFI. VELO PP MILLEUSI X 2ROTOLI', 'ACID RINSE  KG.5 SUTTER COD. 4964', 'UP DOWN COFFE 14X28', 'UP DOWN 17X34 KRAFT', 'TIPO 80CKFB CARTA FSC MATER BI BIBITA CALDA', 'SPESE VARIE', 'TSU PANNO MICROFOR. WETTEX PFROFESSIONAL', 'TIPO 80CKFB CARTA FSC MATER BI BIBITA CALDA', 'TOV.VELO 30X30 PP T301   CART 8X500 PZ', 'CANDEGGINA C/SG 4X5  ( LT.20)', 'BUSTE N.U.90X130 AMBRA KG 19                                     75 M', 'STROFI. VELO PP MILLEUSI X 2ROTOLI', 'S.M. SUPER PLUS KG.6 COD.5308', 'COPERCHIO DI PLASTICA BIBITA CALDA TIPO 80CK PZ.2100', 'SPESE VARIE', 'AB3 MISCELA CREMA BAR CONFEZIONE DA Kg.3', '/D Lotto V62H', 'N ZUCCHERO SEMOLATO ASTUCCI da Kg.1', '/D Lotto 1025F0892R', 'OZD DOLCIFICANTE IN DISPENSER DA 240 BST', '/D Lotto 5023F0798G', \"DECL LATTINE DI CAFFE'DECAFFEINATO GR.250\", '/D Lotto S01D', '002 IL CREMINO CONF. Kg.1', '/D Lotto LE062', \"TV OMAGGIO BICCHIERINO VETRO PER CAFFE' ALL.DICH.CONFORMITA'\", 'FLOOR S. 50X70 290G BLU/VIOLA  MICROFIBRA EUDOREX', 'MICROFIBRA 300GR  Q. 40X40 300G BLUE/GREEN/RED EUDOREX', 'MASCHERINA CHIRURGICA 3 VELI BOX DA 50 PZ.', 'SPESE VARIE', 'AMBROSIO AMARENA INTERA CF 4.7 KG', 'CASILLO SEMOLA DI GRANO DURO **RIPIENO SFOGLIATELLE** CF 5 KG', 'VANDEMOORTELE ***MIX*** GOLD CUP CROISSANT CF 15 KG COD. 405233', 'IDCAM TAPPI GRANDI CT 150 PZ', 'CAPUTO FARINA - TIPO 00 EXTRA CF 25 KG', 'CAPUTO FARINA - TIPO AMERICANA CARTA CF 25 KG', 'SALE FINO SICILIA CT 12 X 1 KG', 'VANDEMOORTELE MARGARINA ST ALLERY CROISSANT 15% KG COD. 413712', \"VANDEMOORTELE MARGARINA SANT'ALLERY CREMA 25% COD401981\", 'AMBROSIO CILIEGIE ROSSE 18/20 INTERE CF 900 GR', 'Spese Varie', 'Riga ausiliaria contenente informazioni tecniche e aggiuntive del documento', 'ALCAS COPERCHIO MEDORO RETTANGOLARE 15X35 CF 10PZ', 'ALCAS VASSOIO MEDORO RETTANGOLARE 15X35 CF 10PZ', 'IRCA MIRROR NEUTRAL CF 3 KG   COD.30352', 'IRCA PASTA DAMA ***** TOP ***** CF 5 KG   COD.60197', 'POLIART POLISTIROLO EPS 20 CM H 10 CM', 'POLIART POLISTIROLO EPS 40 CM H 10 CM', 'REVIVA PIATTO QUADRO NERO/PERLA MIS. 24 - CF 10 PZ.', 'Spese Varie', 'Riga ausiliaria contenente informazioni tecniche e aggiuntive del documento', 'TSU PANNO MICROFOR. WETTEX PFROFESSIONAL', 'SPESE VARIE', 'AB3 MISCELA CREMA BAR CONFEZIONE DA Kg.3', '/D Lotto W36A', 'N ZUCCHERO SEMOLATO ASTUCCI da Kg.1', '/D Lotto 2016F1297P', 'Consegna mensile colazioni giugno', 'CRICK CROCK GR400X9PZ', 'ARACHIDI 1KG AMICA', 'SALATINI MIX500GR', 'BITTER CAMPARI LITRO', 'AMARO AVERNA LITRO', 'GIN GORDONS LITRO', 'GIN TANQUERAY LITRO', 'MARTINI ROSSO LITRO', 'BAILEYS ORIGINAL LITRO', 'GIN BOMBAY SAPPHIRE LITRO', 'AMARO JAGERMEISTER LITRO ', 'Imposta erariale di consumo', 'Energia F2- detrazione', 'Perdite di rete F1- detrazione', 'Perdite di rete F2', 'TRASPORTO QUOTE FISSE', 'PCV parte variabile', 'Perdite di rete F2', 'Energia F1', 'Imposta erariale di consumo- detrazione', 'Perdite di rete F1', 'Perdite di rete F3- detrazione', 'Oneri Potenza', 'PCV parte variabile', 'ONERI FISSI', 'Dispacciamento- detrazione', 'TRASPORTO QUOTE VARIABILI- detrazione', 'TRASPORTO QUOTE VARIABILI', 'Sbilanciamento', 'Dispacciamento', 'Perdite di rete F3', 'Energia F2', 'Imposta erariale di consumo', 'Energia F2', 'ONERI VARIABILI', 'ONERI VARIABILI', 'Perdite di rete F3', 'Aggregazione delle misure', 'Energia F3', 'Energia F1', 'Sbilanciamento- detrazione', 'PCV parte variabile- detrazione', 'ONERI VARIABILI- detrazione', 'Energia F1- detrazione', 'PCV_F  Commercializzazione Vendita Parte Fissa', 'Perdite di rete F2- detrazione', 'Energia F3', 'Energia F3- detrazione', 'Perdite di rete F1', 'Dispacciamento', 'TRASPORTO QUOTE VARIABILI', 'TRASPORTO QUOTE POTENZA', 'Sbilanciamento', 'Componente di dispacciamento parte Fissa', 'Perdite di rete F1- detrazione', 'Perdite di rete F3', 'Perdite di rete F3- detrazione', 'Penale Reattiva 33%', 'Componente di dispacciamento parte Fissa', 'ONERI FISSI', 'PCV parte variabile', 'Dispacciamento- detrazione', 'PCV_F  Commercializzazione Vendita Parte Fissa', 'Imposta erariale di consumo', 'Energia F2', 'Energia F1', 'TRASPORTO QUOTE VARIABILI- detrazione', 'Energia F3', 'Energia F1', 'Imposta erariale di consumo- detrazione', 'Dispacciamento', 'ONERI VARIABILI', 'Aggregazione delle misure', 'Perdite di rete F2', 'Oneri Potenza', 'Oneri Potenza', 'Energia F3', 'Energia F2', 'Energia F1- detrazione', 'TRASPORTO QUOTE VARIABILI', 'TRASPORTO QUOTE VARIABILI', 'PCV parte variabile- detrazione', 'PCV parte variabile', 'Perdite di rete F2', 'ONERI VARIABILI', 'TRASPORTO QUOTE FISSE', 'Sbilanciamento- detrazione', 'Perdite di rete F2- detrazione', 'Energia F3- detrazione', 'Energia F2- detrazione', 'Imposta erariale di consumo', 'Dispacciamento', 'Sbilanciamento', 'Sbilanciamento', 'Perdite di rete F3', 'Perdite di rete F1', 'Perdite di rete F1', 'ONERI VARIABILI- detrazione', 'TRASPORTO QUOTE POTENZA- detrazione', 'TRASPORTO QUOTE POTENZA', 'TRASPORTO QUOTE POTENZA', 'Oneri Potenza- detrazione', 'PAC GEL SFOGLIATA RICCIA MIGNON GR 30 CT 5 KG', 'PAC GEL CORNETTO 7 CEREALI E FRUTTI DI BOSCO CT 40 PZ X 80 GR', 'PAC GEL CONCHIGLIA GIANDUIA SUPERFARCITA CT GR 100 X 50 PZ', 'ALCAS CHARLOTTE DORATA CM 26 - CF 10 PZ', 'ALCAS  COPERCHIO VASSOIO MEDORO CM 26 - CF 10 PZ', 'GOURMET LINE TARTALLETTE FROLLA MIGNON MM 44 CT 250 PZ 00002', 'REVIVA PIROTTINI TONDI MARRONI MIS. 3 CF 2000 PZ', 'SUD ZUCHER ZUCCHERO SABBIA EXTRA FINO CF 25 KG', 'IRCA NOCCIOLATA ***** CF 13 KG COD. 1010151', 'PININ PERO ZUCCHERO VELO CF 5 KG', \"COOPERLAT PREP. VEG. HOPLA' EASY TOP  1LT\", 'CITROLO CIGARETTES **BOCCA LARGA** CF 1KG', 'IDCAM CODA ARAGOSTA - MICRO CT 7 KG     COD.AKA014', 'Spese Varie', 'Riga ausiliaria contenente informazioni tecniche e aggiuntive del documento', 'REVIVA PIROTTINI TONDI MARRONI MIS. 6 CF 1000 PZ', 'CELLOPHANE & PAPER CARTA DA FORNO 40X60 CF 500PZ', \"COOPERLAT PREP. VEG. HOPLA' EASY TOP  1LT\", 'MODECOR RAMO MIMOSE CF 36 PZ COD. 24491', 'Spese Varie', 'Riga ausiliaria contenente informazioni tecniche e aggiuntive del documento', 'VODKA BELVEDERE LITRO', 'VODKA SMIRNOFF RED LITRO', 'GIN TANQUERAY LITRO', 'BITTER CAMPARI LITRO', 'AMARO JAGERMEISTER LITRO ', 'BAILEYS ORIGINAL LITRO', 'APEROL BARBIERI LITRO', 'MARTINI FIERO LITRO', 'AMARO JEFFERSON IMPORTANTE 70 CL', 'GIN GORDONS LITRO', 'GIN BOMBAY SAPPHIRE LITRO', 'GRAPPA INVECCHIATA VECCHIA BOTTE MAGNUM', 'MARTINI ROSSO LITRO', 'ACCONTO RICEVUTO PER FORNITURA DA EFFETTUARSI', 'TEGLIA 60X40X3 ALL BORD RINF-B', 'KG1 RICE CRISPIES ACTIVITY', 'GRIMALDI PORTACORNETTI  IN CARTONE CF 50 PZ', \"VANDEMOORTELE MARGARINA SANT'ALLERY CREMA 25% COD401981\", 'VANDEMOORTELE MARGARINA ST ALLERY CROISSANT 15% KG COD. 413712', 'CAPUTO FARINA - TIPO 00 EXTRA CF 25 KG', 'CAPUTO FARINA - TIPO AMERICANA CARTA CF 25 KG', 'VANDEMOORTELE ***MIX*** GOLD CUP CROISSANT CF 15 KG COD. 405233', 'SUD ZUCHER ZUCCHERO CF 25 KG', 'CRESCO FORM STAC PZ 400 ML', 'AMBROSIO VISCIOLA CF 4,7 KG', 'IRCA NOCCIOLATA ***** CF 13 KG COD. 1010151', 'SALVI PIATTI ALA ORO CM 26 CF 10 KG', 'MODECOR SAC A POCHE GRIPY 28X53 - CF.100 PZ. - COD. 30301', 'TORRENTE PASSATA POMODORO CON BASILICO CT 12 X 700 GR', 'VANDEMOORTELE OLIO RISSO GIRASOLE ALTO OLEICO CF 10LT', 'CITROLO CIGARETTES **BOCCA LARGA** CF 1KG', \"BAKER'S LIEVITO FRESCO PAKMAYA PZ 500 GR\", \"AIA TUORLO D'UOVO CF 1 LT\", \"DOBLA MOCCA BEANS (CHICCO CAFFE') CT 1.1KG COD.81125\", 'Spese Varie', 'Riga ausiliaria contenente informazioni tecniche e aggiuntive del documento', 'MISCELATORE BAUTEC', 'FUSTO LAVABILE', 'VERNISOL DA 5 LT', 'Merce a  723859  UP DOWN COFFEE SRL    VIA CAMPI FLEGREI,80  POZZUOLI  NA', 'LATTE PAS.MAT.AQ.B.PET 1LFLASH', 'PANNA PAST.MAT.35% REX  1000ML', 'LATTE PAS.MAT.AQ.B.PET 1LFLASH', 'LAT MAT.ALTA PAST.PS AD 1L', 'LATTE UHT MAT.SCR.Edge 1000ML', 'BURRO MAT.POLITENE PANI 1000GR', 'LATTE PAS.MAT.AQ.B.PET 1LFLASH', 'PANNA PAST.MAT.35% REX  1000ML', 'LATTE PAS.MAT.AQ.B.PET 1LFLASH', 'LATTE PAS.MAT.AQ.B.PET 1LFLASH', 'BURRO MAT.POLITENE PANI 1000GR', 'LATTE PAS.MAT.AQ.B.PET 1LFLASH', 'PANNA PAST.MAT.35% REX  1000ML', 'LATTE PAS.MAT.AQ.B.PET 1LFLASH', 'SORRISO POL.BEVANDA SOIA 1Lx10', 'LATTE UHT MAT.SCR.Edge 1000ML', 'PANNA PAST.MAT.35% REX  1000ML', 'LATTE PAS.MAT.AQ.B.PET 1LFLASH', 'BURRO MAT.POLITENE PANI 1000GR', 'LATTE PAS.MAT.AQ.B.PET 1LFLASH', 'PROSC COTTO INT GRANROSA 73%', 'LATTE PAS.MAT.AQ.B.PET 1LFLASH', 'PANNA PAST.MAT.35% REX  1000ML', 'LATTE PAS.MAT.AQ.B.PET 1LFLASH', 'BURRO MAT.POLITENE PANI 1000GR', 'LATTE PAS.MAT.AQ.B.PET 1LFLASH', 'PANNA PAST.MAT.35% REX  1000ML', 'LATTE PAS.MAT.AQ.B.PET 1LFLASH', 'LATTE PAS.MAT.AQ.B.PET 1LFLASH', 'PANNA PAST.MAT.35% REX  1000ML', 'FORM.MAT.MATESETTE    18X175GR', 'LATTE PAS.MAT.AQ.B.PET 1LFLASH', 'BURRO MAT.POLITENE PANI 1000GR', 'PANNA PAST.MAT.35% REX  1000ML', 'LATTE PAS.MAT.AQ.B.PET 1LFLASH', 'LATTE UHT MAT.SCR.Edge 1000ML', 'PANNA PAST.MAT.35% REX  1000ML', 'LATTE PAS.MAT.AQ.B.PET 1LFLASH', 'PANNA PAST.MAT.35% REX  1000ML', 'LATTE PAS.MAT.AQ.B.PET 1LFLASH', 'PANNA PAST.MAT.35% REX  1000ML', 'BURRO MAT.POLITENE PANI 1000GR', 'LATTE PAS.MAT.AQ.B.PET 1LFLASH', 'BURRO MAT.POLITENE PANI 1000GR', 'LATTE PAS.MAT.AQ.B.PET 1LFLASH', 'PANNA PAST.MAT.35% REX  1000ML', 'LATTE PAS.MAT.AQ.B.PET 1LFLASH', 'PANNA PAST.MAT.35% REX  1000ML', 'LATTE PAS.MAT.AQ.B.PET 1LFLASH', 'LAT MAT.ALTA PAST.PS AD 1L', 'SORRISO POL.BEVANDA SOIA 1Lx10', 'BURRO MAT.POLITENE PANI 1000GR', 'LATTE PAS.MAT.AQ.B.PET 1LFLASH', 'LATTE PAS.MAT.AQ.B.PET 1LFLASH', 'PANNA PAST.MAT.35% REX  1000ML', 'FORM.MAT.MATESETTE    18X175GR', \"Assolve agli obblighi di cui all'art.62, comma 1, del decreto legge 24 gennaio 2012, n.1,\", 'convertito, con modificazioni, dalla legge 24 marzo 2012, n.27', 'Contributo ambientale CONAI assolto, ove dovuto.', 'STAMPANTE ESPON T20 IIIUSB SERIALE', 'STAMPANTE ESPON T20 III ETH', 'UP DOWN COFFE 14X28', 'SPESE VARIE', 'CHIRICO GRANO COTTO PZ 1,7 KG', 'Spese Varie', 'Riga ausiliaria contenente informazioni tecniche e aggiuntive del documento', 'D.d.T. 236/A del 15/04/2021', 'UOVA CAT.PESO L', 'YOGA MAGIC PERA 200X24', 'FERRARELLE PET 1LT X 12 BT', 'ACQUA NATIA 0.50 X 24 PET', 'NATIA PET 1 LT X 12 BT', 'YOGA  MAGIC PESCA 200X24', 'YOGA MAGIC  ACE 200X24', 'ACQUA FERRARELLE 0,50 X 24 BT PET', 'D.d.T. 63/A del 28/01/2021', 'UOVA CAT.PESO L', 'MODECOR 25° ANNIVERSARIO DI MATRIMONIO', 'Spese Varie', 'Riga ausiliaria contenente informazioni tecniche e aggiuntive del documento', 'DDT n. 000122 - 17/02/2021', 'VINO BIANCO BOTT. 0,75', 'Corrispettivo comprensivo del Contributo ambientale Conai già assolto', 'TSU PANNO MICROFOR. WETTEX PFROFESSIONAL', 'ENERFOR MARSEIL SGRASSANTE  P/USO CONF. 12 X 750 ML + 3 NEB.', 'PYREMATIC BOMB. CART. 6 X 250 ML.', 'CARTA IGIENICA SMARTONE MINI CONF.1X12 ROTOLI          620 STR', 'TOV.VELO 30X30 PP T301   CART 8X500 PZ', 'BUSTE N.U.90X130 AMBRA KG 19                                     75 M', 'STROFI. VELO PP MILLEUSI X 2ROTOLI', 'AMBIENCE SPRING LT.5 X 4 TN  LINEA POM', 'ACID RINSE  KG.5 SUTTER COD. 4964', 'S.M. SUPER PLUS KG.6 COD.5308', 'ZUCCHERO EXTRAFINE UP DOWN 10 KG', 'SC 1V 17X17 UP DOWN COFFE PZ. 2000', 'SPESE VARIE', 'PCV_F  Commercializzazione Vendita Parte Fissa', 'Dispacciamento', 'Imposta erariale di consumo', 'Energia F2', 'Energia F1', 'Perdite di rete F1', 'Energia F3', 'Perdite di rete F2', 'Aggregazione delle misure', 'Perdite di rete F3', 'Sbilanciamento', 'Componente di dispacciamento parte Fissa', 'PCV parte variabile', 'ONERI FISSI', 'TRASPORTO QUOTE FISSE', 'ONERI VARIABILI', 'TRASPORTO QUOTE POTENZA', 'Oneri Potenza', 'TRASPORTO QUOTE VARIABILI', 'IRCA GRANELLA DI CROCCANTE CF 1 KG    COD.90628', 'IRCA ZUCCHERO FONDENTE DI CANNA CF 14 KG   COD.30127', 'IRCA PEPITA CIOCCOLATO \"E\" SA 1100 CF 5 KG    COD.10730', 'DE SIMONE MIELE GREZZO *** C ***  CF 10 KG', 'DOBLA RICCIOLI CIOCCOLATO FONDENTE - CURLS DARK CF 1.5KG - COD.41120', 'Spese Varie', 'Riga ausiliaria contenente informazioni tecniche e aggiuntive del documento', 'IDCAM TAPPI GRANDI CT 150 PZ', \"VANDEMOORTELE MARGARINA SANT'ALLERY CREMA 25% COD401981\", 'VANDEMOORTELE MARGARINA ST ALLERY CROISSANT 15% KG COD. 413712', 'SWEET D.e D. ***EXTRAFINO*** ZUCCHERO CF 25 KG', 'CELLOPHANE & PAPER CARTA DA FORNO 40X60 CF 500PZ', 'Spese Varie', 'Riga ausiliaria contenente informazioni tecniche e aggiuntive del documento', 'BICCHIERI COFFEE CART.75ML', 'COPERCHIO BICCH. 75 ML COVER', 'ICONT ROT. FLOR ASTU.', 'CUCCHIAINO YOGURT-GRANITA 300PZ', 'LEONE MINILIO IN LEGNO 500PZ', 'RUFFINI BAGNA ALCOLICA 70° PERLA NERA CF 2 LT', 'MASER MIX FORMAGGIO GRATTUGIATO CF 1 KG', 'CELLOPHANE & PAPER CARTA DA FORNO 40X60 CF 500PZ', 'GRIMALDI PORTACORNETTI  IN CARTONE CF 50 PZ', 'CHIRICO GRANO COTTO PZ 1,7 KG', 'IDCAM CODA ARAGOSTA - MICRO CT 7 KG', 'PAC GEL SFOGLIATA RICCIA MIGNON GR 30 CT 5 KG', 'PAC GEL CORNETTO 7 CEREALI E FRUTTI DI BOSCO CT 40 PZ X 80 GR', 'PAC GEL CONCHIGLIA GIANDUIA SUPERFARCITA CT GR 100 X 50 PZ', 'VISA MANDORLE PELATE SPAGNA  ***1 KG***', 'CAPUTO FARINA - TIPO 00 EXTRA CF 25 KG', 'CAPUTO FARINA - TIPO AMERICANA CARTA CF 25 KG', 'VANDEMOORTELE ***MIX*** GOLD CUP CROISSANT CF 15 KG COD. 405233', 'GOURMET LINE MIX CREAM AMIDO CF 10 KG', 'GOURMET LINE TARTALLETTE FROLLA MIGNON MM 44 CT 250 PZ 00002', \"VANDEMOORTELE MARGARINA SANT'ALLERY CREMA 25% COD401981\", 'IRCA CHOCOCREAM ***** INDUSTRY BIANCO ***** CF 13 KG COD. 1010853', 'BONDUELLE MAIS DOLCE 3 PZ X 300 GR', 'SALE FINO SICILIA CT 12 X 1 KG', 'CASILLO SEMOLA DI GRANO DURO **RIPIENO SFOGLIATELLE** CF 5 KG', 'KRAFT PHILADELPHIA CF 1.650 KG', \"BAKER'S LIEVITO FRESCO PAKMAYA PZ 500 GR\", 'PREGEL PANNA CREMA LIMONE CF 1,1 KG', 'SUD ZUCHER ZUCCHERO SABBIA EXTRA FINO CF 25 KG', 'IRCA NOCCIOLATA ***** TIPO D ***** CF 13 KG COD.1010693', 'VANDEMOORTELE OLIO RISSO GIRASOLE ALTO OLEICO CF 10LT', 'Spese Varie', 'Riga ausiliaria contenente informazioni tecniche e aggiuntive del documento', 'CAPUTO FARINA - TIPO 00 EXTRA CF 25 KG', 'CAPUTO FARINA - TIPO AMERICANA CARTA CF 25 KG', 'VANDEMOORTELE ***MIX*** GOLD CUP CROISSANT CF 15 KG COD. 405233', 'SUD ZUCHER ZUCCHERO CF 25 KG', 'SUD ZUCHER ZUCCHERO SABBIA EXTRA FINO CF 25 KG', 'IRCA NOCCIOLATA ***** CF 13 KG COD. 1010151', 'MODECOR SAC A POCHE GRIPY 28X53 - CF.100 PZ. - COD. 30301', 'CITROLO CANNOLI CIOCCOLATO MIGNON CT 3.5 KG', 'PAC GEL CORNETTO 7 CEREALI E FRUTTI DI BOSCO CT 40 PZ X 80 GR', \"COOPERLAT PREP. VEG. HOPLA' EASY TOP  1LT\", \"BAKER'S LIEVITO FRESCO PAKMAYA PZ 500 GR\", 'PAC GEL SFOGLIATA RICCIA MIGNON GR 30 CT 5 KG', 'VANDEMOORTELE MARGARINA ST ALLERY CROISSANT 15% KG COD. 413712', 'GOURMET LINE TARTALLETTE FROLLA MIGNON MM 44 CT 250 PZ 00002', 'SOLCHIM COLORE ORO PERLATO SPRAY CF 250 ML', \"VANDEMOORTELE MARGARINA SANT'ALLERY CREMA 25% COD401981\", 'DECORA SOTTOTORTA TONDO DORATO D35 H1.2 COD. 0931724', 'Spese Varie', 'Riga ausiliaria contenente informazioni tecniche e aggiuntive del documento', 'IRCA MORELLINA ***** CF 13 KG   COD.10204', 'AMBROSIO AMARENA SPECIALE CF 4,7 KG', 'IRCA BLITZ GELATINA NEUTRO A FREDDO CF 6 KG    COD.30344', 'FERRERO NUTELLA CF 3 KG', 'Spese Varie', 'Riga ausiliaria contenente informazioni tecniche e aggiuntive del documento', 'NATIA PET 1 LT X 12 BT', 'ACQUA NATIA 0.50 X 24 PET', 'FERRARELLE PET 1LT X 12 BT', 'ACQUA FERRARELLE 0,50 X 24 BT PET', 'LEMONSODA 200 X 24', 'RED BULL 0,25 X24 LT', 'COCA COLA  PET 2 LT X 6 BT', 'CEDRATA  TASSONI 25 VPX 25 BT', 'COCA COLA ZERO LATTINA SLEEK 033X24', 'YOGA MAGIC  ACE 200X24', 'Colazioni', 'Biscotti', 'Torte/pasticceria', 'CUCCHIAINO YOGURT-GRANITA 300PZ', 'ALUPACK ROT.FLOR AST.', 'SHOPPERS 500 USO INT.', 'ARISTEA KRIST.400CC PET 50PZ', 'ARISTEA KRIST.250CC PET 50PZ', 'BICCHIERE 166 CCTRASP.30X100', 'LEONE MINILIO IN LEGNO 500PZ', 'BICCHIERI COFFEE CART.75ML', 'ST.GOLIA ACTIV PLUS X 24 IT', 'FRISK PEPP.NEW BOX X12 1 EURO', 'FRUITTELLA FR.ASS.X 20 ST.', 'VIG.AIR ACTION XTREME 10x40', 'PIATTO PIANO CM17 IN-OUT', 'BICCHIERE WISKY ELYSIA 35,5 CL', 'TIMELESS COPPETTA CL 22,5 CM9 H5,2', 'BARTENDER SWEET', 'CALICE CONTEA 49', 'CALICE CONTEA FLUTE 19', 'SPESE INCASSO', 'Riga ausiliaria contenente informazioni tecniche e aggiuntive del documento', 'Consegna mensile colazioni', 'AB3 MISCELA CREMA BAR CONFEZIONE DA Kg.3', '/D Lotto W56A', 'NB ZUCCHERO SEMOLATO IN BUSTINE', '/D Lotto 2002G0295G', 'N ZUCCHERO SEMOLATO ASTUCCI da Kg.1', '/D Lotto 2016F1297P', 'POSACENERE OMAGGIO POSACENERE PUBBLICITARIO', 'D.d.T. 327/A del 01/09/2020', 'UOVA CAT.PESO L', 'CAPUTO FARINA - TIPO AMERICANA CARTA CF 25 KG', 'CAPUTO FARINA - TIPO 00 EXTRA CF 25 KG', 'PAC GEL CONCHIGLIA GIANDUIA SUPERFARCITA CT GR 100 X 50 PZ', 'PAC GEL CORNETTO 7 CEREALI E FRUTTI DI BOSCO CT 40 PZ X 80 GR', 'IDCAM CODA ARAGOSTA - MICRO CT 7 KG     COD.AKA014', 'PAC GEL SFOGLIATA RICCIA MIGNON GR 30 CT 5 KG', 'PAC GEL RUSTICI MIGNON GR 27 ASSORTITI CT 6 KG', 'Spese Varie', 'Riga ausiliaria contenente informazioni tecniche e aggiuntive del documento', 'fiordilatte', 'provola affumicata', 'ricotta orchidea 2', 'RICOTTA DI BUFALA', 'RICOTTA IN VASC. BONTEANA \"SORI\"', 'CUCCHIAINO YOGURT-GRANITA 300PZ', 'LEONE MINILIO IN LEGNO 500PZ', 'SHOPPERS 500 USO INT.', 'BICCHIERI COFFEE CART.75ML', 'COPERCHIO BICCH. 75 ML COVER', 'DDT n. 000785 - 02/10/2020', 'VINO BIANCO BOTT. 0,75', 'CAMPANIA AGLIANICO 2019 BOTT. 0,75', 'Corrispettivo comprensivo del Contributo ambientale Conai già assolto', 'FRISK PEPP.NEW BOX X12 1 EURO', 'THE BIG BABOL T.FRUTTI 5X24', 'VIV.XYL SPEAR 10X40 UPGRADE', 'VIV.FRESH BLAST BLUE X 20 AST. UPG.', 'ACQUA FERRARELLE 0,50 X 24 BT PET', 'ACQUA NATIA 0.50 X 24 PET', 'COCA COLA ZERO LATTINA SLEEK 033X24', 'SCHWEPPES TONICA 200 CL VAP X 24 VETRO', 'COCA COLA LATTINA SLEEK 033 X 24', 'MASER MIX FORMAGGIO GRATTUGIATO CF 1 KG', 'GRIMALDI PORTACORNETTI  IN CARTONE CF 50 PZ', 'RUFFINI BAGNA ALCOLICA 70° BENEVENTO ELITE CF 2 LT', 'VANDEMOORTELE OLIO RISSO GIRASOLE ALTO OLEICO CF 10LT', 'CAPUTO FARINA - TIPO 00R CF 25 KG', 'CAPUTO FARINA - TIPO AMERICANA CARTA CF 25 KG', 'VANDEMOORTELE ***MIX*** GOLD CUP CROISSANT CF 15 KG COD. 405233', 'SUD ZUCHER ZUCCHERO CF 25 KG', 'SUD ZUCHER ZUCCHERO SABBIA EXTRA FINO CF 25 KG', \"VANDEMOORTELE MARGARINA SANT'ALLERY CREMA 25% COD401981\", 'VANDEMOORTELE MARGARINA ST ALLERY CROISSANT 15% KG COD. 413712', 'CELLOPHANE & PAPER CARTA DA FORNO 40X60 CF 500PZ', 'BONDUELLE MAIS DOLCE 3 PZ X 300 GR', 'IFFCO PANNA GRAN CUCINA 500 ML CT 20 PZ', 'PININ PERO ZUCCHERO VELO CF 5 KG', 'Spese Varie', 'Riga ausiliaria contenente informazioni tecniche e aggiuntive del documento', '204 MAXICIALDA                 PEZZI 270', '/D Lotto 202522', '/D SI CONSEGNA SOLO PREVIO PAGAMENTO', '/D PER CONTANTI', 'AMBIENCE AUTUMN  LT.5 X 4 TN  LINEA POM', 'TOV.VELO 30X30 PP T301   CART 8X500 PZ', 'CANDEGGINA CON SGRASSATORE 4X5  ( LT.20)', 'BUSTE N.U.90X130 AMBRA  CART. 19 KG                      75 M', 'STROFI. VELO PP MILLEUSI X 2ROTOLI', 'ACID RINSE  KG.5 SUTTER COD. 4964', 'UP DOWN COFFE 14X28', 'UP DOWN 17X34 KRAFT', 'SPESE VARIE', 'Sky Pacchetto Completo|FATTURA n. 261490021 del 01/12/20', 'Storno Spese invio fattura|FATTURA n. 260545086 del 01/11/20', 'Storno Spese invio fattura|FATTURA n. 261490021 del 01/12/20', 'PEACHTREE DE KUYPER 70 CL', 'RUM DIPLOMATICO RESERVA EXCLUSIVA 70 CL TUBO', 'RUM MATUSALEM 15Y ASTUCCIATO 70 CL', 'RUM PAMPERO BLANCO LITRO', 'BACARDI BIANCO LITRO', 'WHISKY JB  LITRO', 'GINGER BEER FEVER TREE CL20X24', 'SAMBUCA MOLINARI LITRO', 'CILIEGIE DA COKTAIL ROSSE 950 GR NATURERA', 'BAILEYS ORIGINAL LITRO', 'MANDORLA SABADRINK 2 LITRI', 'MENTA SABA 2 LITRI', 'LIMONCELLO DESIRE LITRO', 'SCIROPPO DI COCCO MONIN 70 CL', 'ZUCCHERO DI CANNA LIQUIDO BOERO 75 CL', 'MELONE FRUIT GOLD LITRO', 'GRAPPA INVECCHIATA VECCHIA BOTTE MAGNUM', 'GIN BOMBAY SAPPHIRE LITRO', 'GIN HENDRICKS LITRO', 'VODKA PESCA  LITRO KEGLEVICH ', 'TONICA WATER FEVER TREE CL20X24', 'SCIROPPO DI GRANATINA MONIN 70 CL', 'SIFONE PREMIUM SODA ORIGINAL 150 CL', 'FALANGHINA DEL TABURNO DOP FATTORIA LA RIVOLTA 75 CL', '9653-77205441-80135944-POCKET COFFEE T5X32 AS/C I&O', 'CONTRIBUTO CONAI-9653-77205441-80135944-POCKET COFFEE T5X32 AS/C I&O', 'A513-77199580-8000500131329-NUTELLA G3000X2 SCC/PRT F/SER', 'CONTRIBUTO CONAI-A513-77199580-8000500131329-NUTELLA G3000X2 SCC/PRT F/SER', 'C609-77191786-80956631-NUT & GO T1X24 C/PRT REST', 'CONTRIBUTO CONAI-C609-77191786-80956631-NUT & GO T1X24 C/PRT REST', 'C309-77187172-80874652-KINDER CARDS LA-CA T2X30 FLO B', 'CONTRIBUTO CONAI-C309-77187172-80874652-KINDER CARDS LA-CA T2X30 FLO B', 'D057-77188196-8000500318805-K MINI COUNTRY T20X16 SA/P B', 'CONTRIBUTO CONAI-D057-77188196-8000500318805-K MINI COUNTRY T20X16 SA/P B', '8543-77135504-80052357-DUPLO NOCCIOLATO L T1X24X2 PZ REST', 'CONTRIBUTO CONAI-8543-77135504-80052357-DUPLO NOCCIOLATO L T1X24X2 PZ REST', 'D480-77204135-8000500049617-KINDER CIOCCOLATO T8X10 A/VS B', 'CONTRIBUTO CONAI-D480-77204135-8000500049617-KINDER CIOCCOLATO T8X10 A/VS B', 'D427-77201590-80310891-KINDER JOY T1X36 PZ SU/MAR', 'CONTRIBUTO CONAI-D427-77201590-80310891-KINDER JOY T1X36 PZ SU/MAR', 'C998-77188194-8000500253687-KINDER MINI BUENO T20X16 SA/P B', 'CONTRIBUTO CONAI-C998-77188194-8000500253687-KINDER MINI BUENO T20X16 SA/P B', 'SOLCHIM COLORE BLU NOTTE PASTELLO SPRAY CF 250 ML', 'SOLCHIM COLORE ROSA PASTELLO SPRAY CF 250 ML', 'ICA PIROTTINO CUP CAKE 27,5X55MM FANTASIE CF 50PZ COD.PIINZXT120C', 'PAC GEL SFOGLIATA RICCIA MIGNON GR 30 CT 5 KG', 'RISPO RUSTICI MIGNON CF 2.5 KG', 'PAC GEL SFOGLIATA SEMIDOLCE RUSTICA CT 4 KG', 'PAC GEL CORNETTO 7 CEREALI E FRUTTI DI BOSCO CT 40 PZ X 80 GR', 'IRCA GRANELLA DI CROCCANTE CF 1 KG    COD.90628', 'CITROLO CIGARETTES SURPRISE CT 1,5 KG', \"COOPERLAT PREP. VEG. HOPLA' EASY TOP  1LT\", 'CELLOPHANE & PAPER CARTA DA FORNO 40X60 CF 500PZ', 'IRCA SURROGATO *****NOBEL BITTER***** CF 5 KG COD. 1010221', \"VANDEMOORTELE MARGARINA SANT'ALLERY CREMA 25% COD401981\", 'VANDEMOORTELE MARGARINA ST ALLERY CROISSANT 15% KG COD. 413712', 'SALVI PIATTI ALA ORO CM 26 CF 10 KG', \"BAKER'S LIEVITO FRESCO PAKMAYA PZ 500 GR\", 'AGF CANNOLCROK MANDORLA CF 1 KG', 'PAC GEL CONCHIGLIA GIANDUIA SUPERFARCITA CT GR 100 X 50 PZ', 'VISA GRANELLA DI NOCCIOLE CF 2.5 KG', 'SWEET D.e D. ZUCCHERO CF 25 KG', 'SUD ZUCHER ZUCCHERO SABBIA EXTRA FINO CF 25 KG', 'PININ PERO ZUCCHERO GRANELLA MEDIA CT 10 KG', 'CAPUTO FARINA - TIPO 00 EXTRA CF 25 KG', 'CAPUTO FARINA - TIPO AMERICANA CARTA CF 25 KG', 'CASILLO SEMOLA DI GRANO DURO **RIPIENO SFOGLIATELLE** CF 5 KG', 'VANDEMOORTELE ***MIX*** GOLD CUP CROISSANT CF 15 KG COD. 405233', 'IRCA RAINBOW PASTE YELLOW CF 1 KG   COD.60238', 'VANDEMOORTELE OLIO RISSO GIRASOLE ALTO OLEICO CF 10LT', 'PININ PERO ZUCCHERO VELO CF 5 KG', 'IRCA NOCCIOLATA ***** TIPO D ***** CF 13 KG COD.1010693', 'GRIMALDI PORTACORNETTI  IN CARTONE CF 50 PZ', 'IRCA BLITZ GELATINA NEUTRO A FREDDO CF 6 KG    COD.30344', 'SALE FINO SICILIA CT 12 X 1 KG', 'AMBROSIO CUBETTI ARANCIA 6X6 CT 5 KG', 'SOLCHIM COLOR GEL FUCSIA PZ 30GR', 'Spese Varie', 'Riga ausiliaria contenente informazioni tecniche e aggiuntive del documento', 'MAXI LIND LT CIO 150 SG', 'LATTA LND SG CINEMA 275G', 'SCT RIGIDA CINEMA SG 350G', 'SCT 475G ASS LND SG', 'CUBO RAFFAELLO LINDOR MEDIUM 175G SG', 'CUBO RAFFAELLO LINDOR BIG 425G SG', 'CUBO RAFFAELLO LINDOR SMALL 50G SG', 'PELUCHE CUSCINO LND SG 125G', 'ASTUCCIO GIANDUJOT 100G', 'SCT GIANDUJOTTI 250G', 'EXPO OMBR.HALLOWEEN', 'EXPO SNACK LINDOR SG X4', 'EXPO SNACK LINDT', 'CASSA ASS.TA OMBRELLINI', 'EXPO CUORI MULTICOLOR', 'CASSA ASS.TA EXPO LINDOR', \"EXPO RON BARCELO' 45PZx2\", 'EXPO SAMB MOLINA 45PZx2', 'EXPO AST CLASSICHE VERT', 'EXPO BANCO FONDENTI VERT', 'CIOCCOLATA CLASSICA 20G', 'SCT LINDOR SG LATTE 312', 'CREMA UNIVERSEL NOCC 5KG SG', 'PASTA DARK SG', 'MAGGIORAZIONE SPESE INCASSO', 'SCONTO FORF. COVID PASQUA 2020', 'MAGGIORAZIONE SPESE INCASSO', 'SCONTO FORF. COVID PASQUA 2020', 'MENTOS X 20 PZ. FRUTTA ST.', 'MENTOS WHITE ALW 30 PM. X10 PZ.', 'ALPENLIEBE CHOCO CARAMEL X24ST.', 'FRUITTELLA FRAGOLA X20ST.', 'VIV.XYL SPEAR 10X40 UPGRADE', 'VIV.XYL G/MINT 10X40 UPGRADE', 'VIGORSOL 40X10 P.', 'VIGORSOL AIR ACTION X 40', 'VIG.AIR ACTION XTREME 10x40', 'BUSTE CORNETTI KRAFT BIANCO KG 1X10 - MIS 14X28', 'SPESE VARIE', 'TOVAGLIOLI FORZA NAPOLI 66010', '16 TOVLI SSC NAPOLI 2525 66006', 'PALLMYLAR SSC NAPOLI 51119 42359', 'LENTI CIOCCOLATO 1KG', 'BICCNAPOLI 66003', 'NUMERO CERA PLUMP CELESTE', 'CAPPELLINI SSC NAPOLI 66026', 'TOVNAPOLI 66034', 'C076-77199759-80050117-KINDER SORPRESA IMBUTITO T1X48 PZ B', 'CONTRIBUTO CONAI-C076-77199759-80050117-KINDER SORPRESA IMBUTITO T1X48 PZ B', 'A513-77199580-8000500131329-NUTELLA G3000X2 SCC/PRT F/SER', 'CONTRIBUTO CONAI-A513-77199580-8000500131329-NUTELLA G3000X2 SCC/PRT F/SER', 'FERRERO NUTELLA CF 3 KG', 'Spese Varie', 'Riga ausiliaria contenente informazioni tecniche e aggiuntive del documento', ' Cod.Comm. 007694433 ', ' OGGETTO : Concessione in uso di N.    1 apparecchiature ', ' P.O.S. ', ' CANONE PERIODO 01/03/2021 - 31/03/2021 ', 'AB3 MISCELA CREMA BAR CONFEZIONE DA Kg.3', '/D Lotto V50Y', 'N ZUCCHERO SEMOLATO ASTUCCI da Kg.1', '/D Lotto 1025F0892R', 'OZD DOLCIFICANTE IN DISPENSER DA 240 BST', '/D Lotto 5025F0998G', 'S.M. SUPER PLUS CART 4X 6  KG', 'TOV.VELO 30X30 PP T301   CART 8X500 PZ', 'TOTEM IN FOREX  CON SUPPORTO PER AMUCHINA', 'BUSTE N.U.90X130 AMBRA KG 19                                     75 M', 'STROFI. VELO PP MILLEUSI X 2ROTOLI', 'ACID RINSE  KG.5 SUTTER COD. 4964', 'SPESE VARIE', 'D.D.T. - 253 - 13/10/2020  ', 'MANDORLA PRALINATA  ', 'DDT n. 000862 - 27/10/2020', 'VINO BIANCO BOTT. 0,75', 'Corrispettivo comprensivo del Contributo ambientale Conai già assolto', 'BACI Egg Gold UTZ 6x252g IT', 'Sconto BACI Egg Gold UTZ 6x252g IT', 'PERUGINA Uo Fondente Floreale6x210g N2IT', 'Sconto PERUGINA Uo Fondente Floreale6x210g N2IT', 'ESPOSITORE DA TERRA UOVA', 'PERUGINA SET SHOPPER GRANDI DA 6 CAD', 'TRASPORTO QUOTE VARIABILI- detrazione', 'TRASPORTO QUOTE POTENZA- detrazione', 'TRASPORTO QUOTE FISSE- detrazione', 'ONERI VARIABILI- detrazione', 'ONERI FISSI- detrazione', 'PCV parte variabile- detrazione', 'Componente di dispacciamento parte Fissa- detrazione', 'Sbilanciamento- detrazione', 'Perdite di rete F3- detrazione', 'Aggregazione delle misure- detrazione', 'Perdite di rete F2- detrazione', 'Perdite di rete F1- detrazione', 'Energia F3- detrazione', 'Energia F2- detrazione', 'Dispacciamento- detrazione', 'Energia F1- detrazione', 'PCV_F  Commercializzazione Vendita Parte Fissa- detrazione', 'Imposta erariale di consumo- detrazione', 'Oneri Potenza- detrazione', 'CAPUTO FARINA - TIPO AMERICANA CARTA CF 25 KG', 'CAPUTO FARINA - TIPO 00 EXTRA CF 25 KG', 'VANDEMOORTELE ***MIX*** GOLD CUP CROISSANT CF 15 KG COD. 405233', 'SWEET D.e D. ZUCCHERO CF 25 KG', 'SUD ZUCHER ZUCCHERO SABBIA EXTRA FINO CF 25 KG', 'IRCA NOCCIOLATA ***** CF 13 KG COD. 1010151', 'CITROLO CANNOLI CIOCCOLATO MIGNON CT 3.5 KG', 'PININ PERO ZUCCHERO VELO CF 5 KG', 'PININ PERO ZUCCHERO GRANELLA MEDIA CT 10 KG', 'AMBROSIO VISCIOLA CF 4,7 KG', 'AMBROSIO AMARENA 30% SCIROPPO INTERA CF 4.7 KG', 'MODECOR SAC A POCHE GRIPY 28X53 - CF.100 PZ. - COD. 30301', 'VANDEMOORTELE MARGARINA ST ALLERY CROISSANT 15% KG COD. 413712', \"VANDEMOORTELE MARGARINA SANT'ALLERY CREMA 25% COD401981\", 'RUFFINI BAGNA ALCOLICA 70° BENEVENTO CF 2 LT', 'RUFFINI BAGNA ALCOLICA 70° PERLA NERA CF 2 LT', 'GOURMET LINE FARINA DI MANDORLE PELATE CF DA KG 5', 'IRCA SURROGATO *****NOBEL BITTER***** CF 5 KG COD. 1010221', 'ALCAS ZUCCOTTO CON COPERCHIO 500 GR CF 25 PZ', 'PAC GEL SFOGLIATELLA RUSTICA CON FRIARIELLI CT 4 KG', 'PAC GEL TAPPO GRANDE 60 GR CT 120 PZ', \"COOPERLAT PREP. VEG. HOPLA' EASY TOP  1LT\", \"AIA TUORLO D'UOVO CF 1 LT\", \"BAKER'S LIEVITO FRESCO PAKMAYA PZ 500 GR\", 'PAC GEL RUSTICI MIGNON GR 27 ASSORTITI CT 6 KG', 'PAC GEL SFOGLIATA SEMIDOLCE RUSTICA CT 4 KG', 'PAC GEL CORNETTO 7 CEREALI E FRUTTI DI BOSCO CT 40 PZ X 80 GR', 'PAC GEL SFOGLIATA RICCIA MIGNON GR 30 CT 5 KG', 'IRCA MORELLINA ***** CF 13 KG   COD.10204', 'DOBLA RIO DARK/YELLOW (ONDA) CF 36PZ COD.71276', 'Spese Varie', 'Riga ausiliaria contenente informazioni tecniche e aggiuntive del documento', 'VITTORIA OLIVE VERDI DOLCI TONDE 000 CF 1 KG', \"ANTICHI SAPORI CROCCHE' MIGNON CF 2.5 KG\", 'ANTICHI SAPORI ARANCINI MIGNON CF 2.5 KG', 'ANTICHI SAPORI FRITTATINE MIGNON CF 2.5 KG', 'KRAFT SOTTILETTE CF 12 PZ X 200 GR', \"MC CAIN PATATE FRY'N'DIP CF 2.5 KG\", 'Spese Varie', 'Riga ausiliaria contenente informazioni tecniche e aggiuntive del documento', 'SALVI STRISCIA ORO H 7 CM', 'SALVI VASSOIO ORO MIS. 5 RETTANGOLARE MIS 5 CM 31 X 23 CF 10 KG', 'SALVI VASSOIO ORO MIS. 6 RETTANGOLARE MIS 6 CM 35 X 25 CF 10 KG', 'Spese Varie', 'Riga ausiliaria contenente informazioni tecniche e aggiuntive del documento', 'Consegna mensile colazioni', 'ADDEBITO INSOLUTI', 'ADDEBITO INTERESSI', 'CHIACCHIERE KG 2', 'CHIACCHIERE 250GR', 'CASTAGNOLE RIPIENE GR180X16PZ', 'CRICK CROCK GR400X9PZ', 'TARALLI GR250X24PZ', 'SALATINI MIX500GR', 'CUCCHIAINO YOGURT-GRANITA 300PZ', 'LEONE CANNUCCE COL. CORTE 500PZ', 'LEONE CANNUCCIE TRASP 1000PZ', 'LEONE MINILIO IN LEGNO 500PZ', 'ICONT ROT. FLOR ASTU.', 'BICCHIERE 166 TRASP. 30X100 PZ', 'BICCHIERI COFFEE CART.75ML', 'TSU PANNO MICROFOR. WETTEX PFROFESSIONAL', 'S.M. SUPER PLUS CART 4X 6  KG', 'AMBIENCE AUTUMN  LT.5 X 4 TN  LINEA POM', 'DERMAGEL ML. 500X12  SUTTER CODICE 5668  P.M.C. GEL DISINFETTANTE', 'TOV.VELO 30X30 PP T301   CART 8X500 PZ', 'CANDEGGINA CON SGRASSATORE 4X5  ( LT.20)', 'BUSTE N.U.90X130 AMBRA  CART. 19 KG                      75 M', 'COPERCHIO IL PLASTICA BIBITA CALDA 237CK CONF 1000 PZ', 'COPERCHIO DI PLASTICA BIBITA CALDA TIPO 80CK PZ.2100', 'STROFI. VELO PP MILLEUSI X 2ROTOLI', 'REFLEXX 72 LARGE  PZ. 100 NITRILE BLU  S/POLV GR. 3,9', 'ACID RINSE  KG.5 SUTTER COD. 4964', 'DIAMOND ECOLABEL ML.500X12 PZ SUTTER', 'UP DOWN COFFE 14X28', 'UP DOWN 17X34 KRAFT', 'SC 1V 17X17 UP DOWN COFFE PZ. 2000', 'TIPO 237 CKFB CARTA FSC MATER BI BIBITA CALDA UP DOWN', 'TIPO 80CKFB CARTA FSC MATER BI BIBITA CALDA', 'SPESE VARIE', 'DOBLA ELEGANCE DARK CF 160PZ - COD.77137', 'DECORA SOTTOTORTA TONDO ARGENTO D50 H1.2 COD. 0931211', 'DECORA SOTTOTORTA TONDO ARGENTO D 38 H 1.2  COD. 0931606', 'PAC GEL MACARONES CONF DA 36 PZ X 10 GR', 'Spese Varie', 'Riga ausiliaria contenente informazioni tecniche e aggiuntive del documento', 'KERRY ORIGANO IN FOGLIE CF 1 KG', 'TORRENTE PASSATA POMODORO CON BASILICO CT 12 X 700 GR', 'IRCA SCAGLIETTA****** SURROGATO FONDENTE******** CF 1 KG    COD.40182', 'WAFERS FARMA MEZZELUNE LIMONE DI GELATINA CT 2 KG COD.29428', \"PAC GEL CODA D'ARAGOSTA MICRO CT 5 KG\", 'PAC GEL SFOGLIATA RICCIA MIGNON GR 30 CT 5 KG', 'PAC GEL CORNETTO 7 CEREALI E FRUTTI DI BOSCO CT 40 PZ X 80 GR', 'GRIMALDI PORTACORNETTI  IN CARTONE CF 50 PZ', 'VANDEMOORTELE MARGARINA ST ALLERY CROISSANT 15% KG COD. 413712', 'SALE DOPPIO SICILIA CT 12 X 1 KG', 'CAPUTO FARINA - TIPO 00 EXTRA CF 25 KG', 'CAPUTO FARINA - TIPO AMERICANA CARTA CF 25 KG', 'VANDEMOORTELE ***MIX*** GOLD CUP CROISSANT CF 15 KG COD. 405233', 'SUD ZUCHER ZUCCHERO SABBIA EXTRA FINO CF 25 KG', 'SWEET D.e D. ZUCCHERO CF 25 KG', 'PININ PERO ZUCCHERO GRANELLA MEDIA CT 10 KG', 'GOURMET LINE MIX CREAM AMIDO CF 10 KG', 'IRCA NOCCIOLATA ***** CF 13 KG COD. 1010151', 'IRCA MORELLINA ***** CF 13 KG   COD.10204', 'ALCAS VASC. FANTASIA CRIST CON COPERCHIO MIS 1 CT 50PZ', 'REVIVA PIROTTINI OVALI COLORATI MIS 3 CF 1000 PZ', 'VANDEMOORTELE OLIO RISSO GIRASOLE ALTO OLEICO CF 10LT', 'AMBROSIO CUBETTI ARANCIA 6X6 CT 5 KG', \"COOPERLAT PREP. VEG. HOPLA' EASY TOP  1LT\", 'PREGEL PANNA CREMA BANANA CF 1,1 KG', 'Spese Varie', 'Riga ausiliaria contenente informazioni tecniche e aggiuntive del documento', 'IRCA MIX BRIOBIG CF 10 KG   COD.70113', 'CAPUTO FARINA - TIPO 00 EXTRA CF 25 KG', 'CAPUTO FARINA - TIPO AMERICANA CARTA CF 25 KG', 'VANDEMOORTELE ***MIX*** GOLD CUP CROISSANT CF 15 KG COD. 405233', 'VANDEMOORTELE MARGARINA ST ALLERY CROISSANT 15% KG COD. 413712', \"BAKER'S LIEVITO FRESCO PAKMAYA PZ 500 GR\", \"AIA TUORLO D'UOVO CF 1 LT\", 'Spese Varie', 'Riga ausiliaria contenente informazioni tecniche e aggiuntive del documento', 'SC 1V 17X17 UP DOWN COFFE PZ. 2000', 'BICCH. C390 CRIST. PZ. 1000   ISAP', 'COPER.DOME T.CROCE D84 600PZ PET TR ISAP', 'SPESE VARIE', 'BICCHIERE IN PET TRASP 16/18 OZ PZ 1000', 'BICCHIERE IN PET TRASPARENTE 473 ML. 16OZ 1000PZ', 'INSERTO DA 118 ML  PER BICCHIERI IN PET PZ1000', 'COPERCHIO DOME CON FORO PER BICCHIERE CAP.473ML PZ 1000', 'ZUCCHERO EXTRAFINE UP DOWN 10 KG', 'SPESE VARIE', 'IRCA DARK CHOCOLATE CHUNKS CF 1KG', 'NOVASE. PIROTTINO BASSO PANETTONE 1KG (M.210/70) COD.G9F16009', 'SALE DOPPIO SICILIA CT 12 X 1 KG', 'RUFFINI AROMA PANDORO CF 500 CC', 'Spese Varie', 'Riga ausiliaria contenente informazioni tecniche e aggiuntive del documento', 'SALVI STRISCIA ORO H 7 CM', 'INAB NASTRO DIAMANTATO ORO LARGO CF 5 PZ', 'SALVI VASSOIO ORO MIS. 3 RETTANGOLARE MIS 3 CM 23 X 16 CF 10 KG', 'SALVI VASSOIO ORO MIS. 4 RETTANGOLARE MIS 4 CM 28 X 20  CF 10 KG', 'SALVI VASSOIO ORO MIS. 5 RETTANGOLARE MIS 5 CM 31 X 23 CF 10 KG', 'SALVI VASSOIO ORO MIS. 6 RETTANGOLARE MIS 6 CM 35 X 25 CF 10 KG', 'SALVI VASSOIO ORO MIS. 8 RETTANGOLARE MIS 8 CM 42 X 31 CF 10 KG', 'ELENKA PASTA NOCCIOLA LAURUS  CF 1 KG', 'JOYGELATO PASTE BISCOTTO PREMIUM CF 1.2 KG COD.00244', 'Spese Varie', 'Riga ausiliaria contenente informazioni tecniche e aggiuntive del documento', 'Dispacciamento', 'Energia F2- detrazione', 'Energia F2', 'Perdite di rete F1', 'Perdite di rete F2', 'PCV parte variabile', 'ONERI VARIABILI- detrazione', 'ONERI VARIABILI', 'Imposta erariale di consumo- detrazione', 'Energia F2', 'TRASPORTO QUOTE POTENZA', 'TRASPORTO QUOTE VARIABILI', 'Perdite di rete F3', 'Perdite di rete F3- detrazione', 'Oneri Potenza', 'Perdite di rete F1', 'Perdite di rete F2- detrazione', 'Imposta erariale di consumo', 'Energia F1', 'ONERI VARIABILI', 'PCV parte variabile', 'Perdite di rete F2', 'PCV parte variabile- detrazione', 'Energia F1', 'PCV_F  Commercializzazione Vendita Parte Fissa', 'Perdite di rete F1- detrazione', 'Perdite di rete F3', 'TRASPORTO QUOTE VARIABILI', 'ONERI FISSI', 'Energia F3', 'Dispacciamento', 'Sbilanciamento- detrazione', 'Imposta erariale di consumo', 'Energia F3- detrazione', 'TRASPORTO QUOTE FISSE', 'Aggregazione delle misure', 'TRASPORTO QUOTE VARIABILI- detrazione', 'Sbilanciamento', 'Energia F1- detrazione', 'Sbilanciamento', 'Energia F3', 'Dispacciamento- detrazione', 'Componente di dispacciamento parte Fissa', 'DDT n. 000134 - 24/02/2021', 'VINO BIANCO BOTT. 0,75', 'Corrispettivo comprensivo del Contributo ambientale Conai già assolto', 'SALVI STRISCIA ORO H 7 CM', 'INAB NASTRO DIAMANTATO ORO LARGO CF 5 PZ', 'SALVI VASSOIO ORO MIS. 3 RETTANGOLARE MIS 3 CM 23 X 16 CF 10 KG', 'SALVI VASSOIO ORO MIS. 4 RETTANGOLARE MIS 4 CM 28 X 20  CF 10 KG', 'SALVI VASSOIO ORO MIS. 5 RETTANGOLARE MIS 5 CM 31 X 23 CF 10 KG', 'SALVI VASSOIO ORO MIS. 6 RETTANGOLARE MIS 6 CM 35 X 25 CF 10 KG', 'COOPERLAT PANNA SPRAY FIORDINEVE (TRE VALLI) 500GR', 'WAFERS FARMA TARG. BUON COMPLEANNO ROSA CF 32PZ', 'WAFERS FARMA PERGAMENA AUGURI ROSA ELITE CF 32PZ', 'REVIVA VASSOIO ORO MIS 2 CF 10 KG', 'Spese Varie', 'Riga ausiliaria contenente informazioni tecniche e aggiuntive del documento', 'BICCHIERI JUNGLE 60528', 'PIATTI 24CM JUNGLE 60526', 'PIATTI 18CM JUNGLE 60527', 'NUMERO CERA PLUMP VERDE', 'TOVLI JUNGLE 60529', 'TOVAGLIA JUNGLE 140270 14774', 'FESTONE JUNGLE 14817', 'FESTONE JUNGLE 14817', 'CRICK CROCK GR400X9PZ', 'ARACHIDI 1KG AMICA', 'ARACHIDI PICCANTI GR500X6PZ', 'TARALLI GR250X24PZ', 'CRIK GR180X16PZ', 'CRICK CROCK GR400X9PZ', 'MeM PENAUT PZ24X45GR', 'Merce a  723859  UP DOWN COFFEE SRL    VIA CAMPI FLEGREI,80  POZZUOLI  NA', 'LATTE PAS.MAT.AQ.B.PET 1LFLASH', 'LATTE PAS.MAT.AQ.B.PET 1LFLASH', 'LAT MAT.ALTA PAST.PS AD 1L', 'LATTE UHT MAT.SCR.Edge 1000ML', 'BURRO MAT.POLITENE PANI 1000GR', 'PANNA PAST.MAT.35% REX  1000ML', 'LATTE PAS.MAT.AQ.B.PET 1LFLASH', 'BURRO MAT.POLITENE PANI 1000GR', 'LATTE PAS.MAT.AQ.B.PET 1LFLASH', 'LATTE PAS.MAT.AQ.B.PET 1LFLASH', 'PANNA PAST.MAT.35% REX  1000ML', 'LATTE PAS.MAT.AQ.B.PET 1LFLASH', 'LAT MAT.ALTA PAST.PS AD 1L', 'PANNA PAST.MAT.35% REX  1000ML', 'LATTE UHT MAT.SCR.Edge 1000ML', 'BURRO MAT.POLITENE PANI 1000GR', 'LATTE PAS.MAT.AQ.B.PET 1LFLASH', 'BURRO MAT.POLITENE PANI 1000GR', 'LATTE PAS.MAT.AQ.B.PET 1LFLASH', 'LATTE PAS.MAT.AQ.B.PET 1LFLASH', 'LATTE PAS.MAT.AQ.B.PET 1LFLASH', 'LATTE PAS.MAT.AQ.B.PET 1LFLASH', 'LATTE UHT MAT.SCR.Edge 1000ML', 'PANNA PAST.MAT.35% REX  1000ML', 'LAT MAT.ALTA PAST.PS AD 1L', 'LATTE PAS.MAT.AQ.B.PET 1LFLASH', 'LATTE PAS.MAT.AQ.B.PET 1LFLASH', 'PANNA PAST.MAT.35% REX  1000ML', 'LATTE PAS.MAT.AQ.B.PET 1LFLASH', 'LATTE PAS.MAT.AQ.B.PET 1LFLASH', 'SORRISO POL.BEVANDA SOIA 1Lx10', 'LATTE UHT MAT.SCR.Edge 1000ML', 'LATTE PAS.MAT.AQ.B.PET 1LFLASH', 'BURRO MAT.POLITENE PANI 1000GR', 'LATTE PAS.MAT.AQ.B.PET 1LFLASH', 'PANNA PAST.MAT.35% REX  1000ML', 'LATTE PAS.MAT.AQ.B.PET 1LFLASH', 'BURRO MAT.POLITENE PANI 1000GR', 'LATTE PAS.MAT.AQ.B.PET 1LFLASH', 'LAT MAT.ALTA PAST.PS AD 1L', 'BURRO MAT.POLITENE PANI 1000GR', 'PANNA FRESCA 36% ML 1000', 'PANNA PAST.MAT.35% REX  1000ML', 'LATTE UHT MAT.SCR.Edge 1000ML', 'LATTE PAS.MAT.AQ.B.PET 1LFLASH', \"Assolve agli obblighi di cui all'art.62, comma 1, del decreto legge 24 gennaio 2012, n.1,\", 'convertito, con modificazioni, dalla legge 24 marzo 2012, n.27', 'Contributo ambientale CONAI assolto, ove dovuto.', 'Colazioni', 'Biscotti', 'Zeppole grandi', 'Zeppole  piccole', 'IRCA MIX BRIOBIG CF 10 KG   COD.70113', 'CORIMPEX UVA SULTANINA  ***TURCA***  CF 1 KG', 'AMBROSIO CUBETTI ARANCIA 9X9 CT 5 KG', \"AIA BIANCO D'UOVO - ALBUME - CF 1 LT\", 'RUFFINI AROMA IN PASTA - PANETTONE - CF. 1KG.', 'IRCA MIX DOLCE FORNO CF 25 KG COD. 1070116', 'IRCA DARK CHOCOLATE CHUNKS CF 1KG', 'RUFFINI ALCOOL 95° CF 2 LT', 'PREGEL PANNA CREMA BANANA CF 1,1 KG', 'Spese Varie', 'Riga ausiliaria contenente informazioni tecniche e aggiuntive del documento', 'POLIART POLISTIROLO EPS 25 CM H 10 CM', 'MODECOR FIORI PASTA DI ZUCCHERO MODELLABILE GRANDI BIANCO CF 12 PZ COD. 10309G', 'MODECOR FIORI PASTA DI ZUCCHERO PICCOLI BIANCHI CF 24 PZ COD. 10308G', 'Spese Varie', 'Riga ausiliaria contenente informazioni tecniche e aggiuntive del documento', 'CL 50 GRAPPA TORBAROSSA RIS.38', 'PLUS ORIGINAL GR100X15PZ', 'AMICA GR400X6PZ', 'CRICK CROCK GR400X9PZ', 'ARACHIDI 1KG AMICA', 'CRIK GR70X12PZ SAPMED/LIMEeP.ROSA', 'SALATINI MIX500GR', 'CROSTINI/GRISS.GR500X6PZ', 'ARACHIDI PICCANTI GR500X6PZ', 'TARALLI GR250X24PZ', 'Perdite di rete F3', 'Aggregazione delle misure', 'ONERI FISSI', 'TRASPORTO QUOTE POTENZA', 'Imposta erariale di consumo', 'Dispacciamento', 'Energia F2', 'Perdite di rete F1', 'Perdite di rete F2', 'Energia F3- detrazione', 'Energia F1- detrazione', 'Imposta erariale di consumo- detrazione', 'Oneri Potenza', 'ONERI VARIABILI', 'Componente di dispacciamento parte Fissa', 'Sbilanciamento', 'Sbilanciamento- detrazione', 'TRASPORTO QUOTE FISSE', 'Energia F2- detrazione', 'PCV_F  Commercializzazione Vendita Parte Fissa', 'Dispacciamento- detrazione', 'Perdite di rete F1- detrazione', 'Perdite di rete F3- detrazione', 'PCV parte variabile- detrazione', 'PCV parte variabile', 'Energia F3', 'Perdite di rete F2- detrazione', 'Energia F1', 'ONERI VARIABILI- detrazione', 'TRASPORTO QUOTE VARIABILI', 'TRASPORTO QUOTE VARIABILI- detrazione', 'TRASPORTO QUOTE VARIABILI', 'Oneri Potenza', 'TRASPORTO QUOTE POTENZA', 'ONERI VARIABILI', 'TRASPORTO QUOTE FISSE', 'ONERI FISSI', 'PCV parte variabile', 'Componente di dispacciamento parte Fissa', 'Sbilanciamento', 'Perdite di rete F3', 'Aggregazione delle misure', 'Perdite di rete F2', 'Energia F3', 'Perdite di rete F1', 'Energia F1', 'Energia F2', 'Imposta erariale di consumo', 'Dispacciamento', 'PCV_F  Commercializzazione Vendita Parte Fissa', 'CUCCHIAINI MOKA', 'ICONT ROT. FLOR ASTU.', 'LEONE MINILIO IN LEGNO 500PZ', 'LEONE STECCONI 20CM 100PZ', 'SHOPPERS 500 USO INT.', 'DOPLA KRISTAL 100CC 50 PZ', 'BICCHIERI TRASP. 166cc MAJOR', 'ARISTEA KRIST.400CC PET 50PZ', 'SALVI STRISCIA ORO H 7 CM', 'INAB NASTRO DIAMANTATO ORO LARGO CF 5 PZ', 'SALVI VASSOIO ORO MIS. 4 RETTANGOLARE MIS 4 CM 28 X 20  CF 10 KG', 'SALVI VASSOIO ORO MIS. 5 RETTANGOLARE MIS 5 CM 31 X 23 CF 10 KG', 'SALVI VASSOIO ORO MIS. 6 RETTANGOLARE MIS 6 CM 35 X 25 CF 10 KG', 'SALVI VASSOIO ORO MIS. 8 RETTANGOLARE MIS 8 CM 42 X 31 CF 10 KG', 'SALVI VASSOIO ORO MIS. 9 RETTANGOLARE MIS 9 CM 47 X 34 CF 10 KG', 'SALVI VASSOIO ORO MIS. 10 RETTANGOLARE MIS 10 CM 52 X 37 CF 10 KG', 'ELENKA PASTA NOCCIOLA LAURUS  CF 1 KG', 'FERRERO NUTELLA CF 3 KG', 'Spese Varie', 'Riga ausiliaria contenente informazioni tecniche e aggiuntive del documento', 'VIA CAMPI FLEGREI,80 POZZUOLI  Importo per Rata Unlimited Business attivazione rateale, Importo per Rata Unlimited Business attivazione rateale', 'VIA CAMPI FLEGREI,80 POZZUOLI  Importo per Rata Unlimited Business attivazione rateale, Importo per Rata Unlimited Business attivazione rateale', 'VIA CAMPI FLEGREI,80 POZZUOLI  Unlimited Business -ASYM ENTRY-, Unlimited Business -ASYM ENTRY-', 'VIA CAMPI FLEGREI,80 POZZUOLI  Consumi voce, Consumi voce', 'AB3 MISCELA CREMA BAR CONFEZIONE DA Kg.3', '/D Lotto W32A', 'NB ZUCCHERO SEMOLATO IN BUSTINE', '/D Lotto 2011F1296S', 'NOVASERVICE PIROTTINO COLOMBA DA 1 KG', 'IRCA MIX DOLCE FORNO CF 25 KG COD. 1070116', 'MANDORLE SPAGNA NATURALI ***1KG***', \"AIA BIANCO D'UOVO - ALBUME - CF 1 LT\", 'CAPUTO FARINA - TIPO 00 EXTRA CF 25 KG', 'CAPUTO FARINA - TIPO AMERICANA CARTA CF 25 KG', 'VANDEMOORTELE ***MIX*** GOLD CUP CROISSANT CF 15 KG COD. 405233', \"VANDEMOORTELE MARGARINA SANT'ALLERY CREMA 25% COD401981\", 'VANDEMOORTELE MARGARINA ST ALLERY CROISSANT 15% KG COD. 413712', 'JOYGELATO PASTE PISTACCHIO 100% CF 1 KG COD.20201', 'AeF MISTO SALUMI E FORMAGGI - PL5 CF 2.5KG', 'Spese Varie', 'Riga ausiliaria contenente informazioni tecniche e aggiuntive del documento', 'NATIA PET 1 LT X 12 BT', 'ACQUA NATIA 0.50 X 24 PET', 'FERRARELLE PET 1LT X 12 BT', 'ACQUA FERRARELLE 0,50 X 24 BT PET', 'BIRRA CORONA 0.35,5 X 24 BT', 'BIRRA TENNENT&apos;S 33 CL', 'BIRRA HEINEKEN 0.33 CL X 24 BT', 'BIRRA HEINEKEN 0.66 X 15 BT', 'COCA COLA  PET 2 LT X 6 BT', 'CEDRATA  TASSONI 25 VPX 25 BT', 'COCA COLA ZERO LATTINA SLEEK 033X24', 'COCA COLA LATTINA SLEEK 033 X 24', 'RED BULL 0,25 X24 LT', 'ESTATHE&apos;  PESCA LATTINA 033X24', 'ESTATHE&apos;  LATTINA LIMONE 033X24', 'LEMONSODA 200 X 24', 'SCHWEPPES LIMONE 200 CL VAP X 24 VETRO', 'YOGA MAGIC  ACE 200X24', 'YOGA  MAGIC PESCA 200X24', 'SAPORI VERI LINGUE DI GATTO  CT 2KG       B36.03', 'Spese Varie', 'Riga ausiliaria contenente informazioni tecniche e aggiuntive del documento', 'ALCAS COPERCHIO MEDORO RETTANGOLARE 15X25 CT 75PZ', 'ALCAS VASSOIO MEDORO RETTANGOLARE 15X25 CT 150PZ', 'Riga ausiliaria contenente informazioni tecniche e aggiuntive del documento', 'VIA CAMPI FLEGREI,80 POZZUOLI  Importo per Rata Unlimited Business attivazione rateale, Importo per Rata Unlimited Business attivazione rateale', 'VIA CAMPI FLEGREI,80 POZZUOLI  Importo per Rata Unlimited Business attivazione rateale, Importo per Rata Unlimited Business attivazione rateale', 'VIA CAMPI FLEGREI,80 POZZUOLI  Unlimited Business -ASYM ENTRY-, Unlimited Business -ASYM ENTRY-', 'VIA CAMPI FLEGREI,80 POZZUOLI  Consumi voce, Consumi voce', 'JOYGELATO FRUIT AMARENA CF 3.5 KG COD.30400', 'Spese Varie', 'Riga ausiliaria contenente informazioni tecniche e aggiuntive del documento', 'FRUITTELLA FR.ASS.X 20 ST.', 'VIGORSOL AIR ACTION X 40', 'DECORA SOTTOTORTA QUADRATO DORATO 45X45 H1.2 COD. 0931720', 'MODECOR PALLONCINI PLASTICA CF 24 PZ COD.17014', 'VANDEMOORTELE OLIO RISSO GIRASOLE ALTO OLEICO CF 10LT', \"COOPERLAT PREP. VEG. HOPLA' EASY TOP  1LT\", \"MC CAIN PATATE FRY'N'DIP CF 2.5 KG\", 'SPEEDY BANDIDOS BOCCONCINI DI POLLO PICCANTI CF 2 KG', 'ANTICHI SAPORI ARANCINI MIGNON CF 2.5 KG', 'ANTICHI SAPORI FRITTATINE MIGNON CF 2.5 KG', \"ANTICHI SAPORI CROCCHE' MIGNON CF 2.5 KG\", 'AMOR DI GELO COTOLETTA CT 3KG', 'GAIA MAYONESE BUSTINE CT 102 X 12 GR', 'GAIA KETCHUP BUSTINE CT 102 X 12 GR', 'MIRA OLIO EXTRAVERGINE PET CF 5 LT', 'TORRENTE PASSATA POMODORO CON BASILICO CT 12 X 700 GR', 'Spese Varie', 'Riga ausiliaria contenente informazioni tecniche e aggiuntive del documento', 'SALVI STRISCIA ORO H 7 CM', 'SALVI VASSOIO ORO MIS. 3 RETTANGOLARE MIS 3 CM 23 X 16 CF 10 KG', 'SALVI VASSOIO ORO MIS. 4 RETTANGOLARE MIS 4 CM 28 X 20  CF 10 KG', 'SALVI VASSOIO ORO MIS. 5 RETTANGOLARE MIS 5 CM 31 X 23 CF 10 KG', 'SALVI VASSOIO ORO MIS. 7 RETTANGOLARE MIS 7 CM 37 X 26 CF 10 KG', 'COOPERLAT PANNA SPRAY FIORDINEVE (TRE VALLI) 500GR', 'Spese Varie', 'Riga ausiliaria contenente informazioni tecniche e aggiuntive del documento', 'VANDEMOORTELE ***MIX*** GOLD CUP CROISSANT CF 15 KG COD. 405233', 'RUFFINI AROMA IN PASTA - PANETTONE - CF. 1KG.', 'PAC GEL TAPPO GRANDE 60 GR CT 120 PZ', 'SUD ZUCHER ZUCCHERO SABBIA EXTRA FINO CF 25 KG', 'SUD ZUCHER ZUCCHERO CF 25 KG', 'CELLOPHANE & PAPER CARTA DA FORNO 40X60 CF 500PZ', \"VANDEMOORTELE MARGARINA SANT'ALLERY CREMA 25% COD401981\", 'VANDEMOORTELE MARGARINA ST ALLERY CROISSANT 15% KG COD. 413712', 'SALVI PIATTI ALA ORO CM 24 CF 10 KG', 'SALVI PIATTI ALA ORO CM 26 CF 10 KG', 'Spese Varie', 'Riga ausiliaria contenente informazioni tecniche e aggiuntive del documento', 'LEMONSODA 200 X 24', 'NATIA PET 1 LT X 12 BT', 'FERRARELLE PET 1LT X 12 BT', 'ACQUA NATIA 0.50 X 24 PET', 'ACQUA FERRARELLE 0,50 X 24 BT PET', 'BIRRA CERES 0.33 CL X 24 BT', 'BIRRA HEINEKEN 0.33 CL X 24 BT', 'ESTATHE&apos;  PESCA LATTINA 033X24', 'RED BULL 0,25 X24 LT', 'COCA COLA ZERO LATTINA SLEEK 033X24', 'CEDRATA  TASSONI 25 VPX 25 BT', 'SCHWEPPES LIMONE 200 CL VAP X 24 VETRO', 'SAMBUCA MOLINARI LT 1.5 CL', 'BAILEYS CREAM CL 100', 'APEROL  1LITRO  BT', 'GIN BOSFORD CL. 100', 'VODKA KEGLEVICH CLASSIC 1LT', 'CUCCHIAINI MOKA', 'ICONT ROT. FLOR ASTU.', 'LEONE MINILIO IN LEGNO 500PZ', 'DOPLA KRISTAL 100CC 50 PZ', 'BICCHIERE 166 CCTRASP.30X100', 'D.d.T. 365/A del 22/09/2020', 'UOVA CAT.PESO M', 'CUCCHIAINO YOGURT-GRANITA 300PZ', 'LEONE CANNUCCE NERE CORTE 500PZ', 'ALUPACK ROT.FLOR AST.', 'LEONE MINILIO IN LEGNO 500PZ', 'BICCHIERE 166 CCTRASP.30X100', 'BICCHIERI COFFEE CART.75ML', 'DOBLA RICCIOLI CIOCCOLATO MILK WHITE - CURLS CF 1.5 KG - COD.42159', 'Spese Varie', 'Riga ausiliaria contenente informazioni tecniche e aggiuntive del documento', 'DDT n. 000843 - 17/10/2020', 'VINO BIANCO BOTT. 0,75', 'Corrispettivo comprensivo del Contributo ambientale Conai già assolto', 'DECORA SOTTOTORTA TONDO ARGENTO D50 H1.2 COD. 0931211', 'DECORA SOTTOTORTA QUADRATO DORATO 55X55 H1.2 COD. 0931721', 'Spese Varie', 'Riga ausiliaria contenente informazioni tecniche e aggiuntive del documento', 'CRICK CROCK GR400X9PZ', 'AMICA SALE GR175X12PZ', 'CRIK GR180X16PZ', 'CRIK PUFFGR110X16PZ', 'PLUS ORIGINAL GR100X15PZ', 'ARACHIDI 1KG AMICA', 'SALATINI MIX500GR', 'CROSTINI/GRISS.GR500X6PZ', 'ARACHIDI PICCANTI GR500X6PZ', 'CROSTINI PANEALBA GR100X12PZ', 'ST.GOLIA ACTIV PLUS X 24 IT', 'BROOKLYN 9X20 CLORO', 'VIV.XYL SPEAR 10X40 UPGRADE', 'VIGORSOL AIR ACTION X 40', 'D.d.T. 374/A del 22/12/2020', 'UOVA CAT.PESO L', 'DDT n. 000699 - 09/09/2020', 'VINO BIANCO BOTT. 0,75', 'CAMPANIA AGLIANICO 2019 BOTT. 0,75', 'Corrispettivo comprensivo del Contributo ambientale Conai già assolto', 'SALE DOPPIO SICILIA CT 12 X 1 KG', 'GRIMALDI PORTACORNETTI  IN CARTONE CF 50 PZ', 'IRCA MIRROR PISTACCHIO CF 3 KG   COD.30338', 'GOURMET LINE MIX CREAM AMIDO CF 10 KG', 'ALCAS VASSOIO GOGO ROTONDO CF 40 PEZZI', 'VANDEMOORTELE OLIO RISSO GIRASOLE ALTO OLEICO CF 10LT', 'WAFERS FARMA ROSELLINE IN OSTIA COLORE ROSA CT 200PZ COD. 10115/R', 'Spese Varie', 'Riga ausiliaria contenente informazioni tecniche e aggiuntive del documento', 'fiordilatte', 'provola affumicata', 'RICOTTA DI BUFALA', 'RICOTTA FRESCA S.ERSILIA', 'RICOTTA IN VASC. BONTEANA \"SORI\"', 'SACCHETTO CARTA AMICA GR.45 NATURALE 17X17 APERTO 2 LATI UP DOWN', 'TIPO 237 CKFB CARTA FSC MATER BI BIBITA CALDA UP DOWN', 'COPERCHIO IL PLASTICA BIBITA CALDA 237CK CONF 1000 PZ', 'PERSONALIZZAZIONE +MONTAGGIO PVC  BANDIERINA', 'STECCONI 1000PZ CROWN CHEF BAMBOO 20 CM', 'MASCHERINE FFP2  KN95', 'REFLEXX M80B LARGE NITRILE BLU', 'SPESE VARIE', 'SALVI STRISCIA ORO H 7 CM', 'INAB NASTRO DIAMANTATO ORO LARGO CF 5 PZ', 'SALVI VASSOIO ORO MIS. 4 RETTANGOLARE MIS 4 CM 28 X 20  CF 10 KG', 'SALVI VASSOIO ORO MIS. 5 RETTANGOLARE MIS 5 CM 31 X 23 CF 10 KG', 'SALVI VASSOIO ORO MIS. 7 RETTANGOLARE MIS 7 CM 37 X 26 CF 10 KG', 'SALVI VASSOIO ORO MIS. 8 RETTANGOLARE MIS 8 CM 42 X 31 CF 10 KG', 'ELENKA PASTA NOCCIOLA LAURUS  CF 1 KG', 'Spese Varie', 'Riga ausiliaria contenente informazioni tecniche e aggiuntive del documento', 'ELABORAZIONE CEDOLINI PAGHE DICEMBRE 2020', 'VANDEMOORTELE MARGARINA ST ALLERY CROISSANT 15% KG COD. 413712', \"VANDEMOORTELE MARGARINA SANT'ALLERY CREMA 25% COD401981\", 'VANDEMOORTELE MARGARINA OPAL CREMA KG COD 412834', 'SALE FINO SICILIA CT 12 X 1 KG', 'REVIVA PIROTTINI OVALI MARRONI MIS. 3 CF 1000 PZ', 'AMBROSIO AMARENA SPECIALE CF 4,7 KG', 'IRCA VIGOR LIEVITO IN POLVERE CF 1 KG   COD.70497', 'SALVI PIATTI ALA ORO CM 28 CF 10 KG', 'SALVI PIATTI ALA ORO CM 30 CF 10 KG', 'SALVI PIATTI ALA ORO CM 32 CF 10 KG', 'CAPUTO FARINA - TIPO 00 EXTRA CF 25 KG', 'CAPUTO FARINA - TIPO AMERICANA CARTA CF 25 KG', 'VANDEMOORTELE ***MIX*** GOLD CUP CROISSANT CF 15 KG COD. 405233', 'SUD ZUCHER ZUCCHERO SABBIA EXTRA FINO CF 25 KG', 'SWEET D.e D. ZUCCHERO CF 25 KG', 'GOURMET LINE MIX CREAM AMIDO CF 10 KG', 'IRCA CHOCOCREAM ***** INDUSTRY BIANCO ***** CF 13 KG COD. 1010853', 'AMBROSIO VISCIOLA CF 4,7 KG', 'IDCAM TAPPI GRANDI CT 150 PZ', 'GRIMALDI PORTACORNETTI  IN CARTONE CF 50 PZ', 'IFFCO PANNA GRAN CUCINA 500 ML CT 20 PZ', 'BONDUELLE MAIS DOLCE 3 PZ X 300 GR', 'POLIART POLISTIROLO EPS 20 CM H 10 CM', 'POLIART POLISTIROLO EPS 30 CM H 10 CM', 'POLIART POLISTIROLO EPS 40 CM H 10 CM', 'SOLCHIM COLOR GEL VIOLA PZ 30GR', 'SOLCHIM COLOR GEL ROSA PZ 30GR', 'IRCA NOCCIOLATA ***** TIPO D ***** CF 13 KG COD.1010693', 'VANDEMOORTELE OLIO RISSO GIRASOLE ALTO OLEICO CF 10LT', \"AIA TUORLO D'UOVO CF 1 LT\", 'KRAFT PHILADELPHIA CF 1.650 KG', 'RUFFINI BAGNA ALCOLICA 70° BENEVENTO ELITE CF 2 LT', 'RUFFINI BAGNA ALCOLICA 70° RHUM  ELITE (HABANA) CF 2 LT', 'Spese Varie', 'Riga ausiliaria contenente informazioni tecniche e aggiuntive del documento', 'NATIA PET 1 LT X 12 BT', 'FERRARELLE PET 1LT X 12 BT', 'BIRRA CORONA 0.35,5 X 24 BT', 'ACQUA FERRARELLE 0,50 X 24 BT PET', 'BIRRA HEINEKEN 0.33 CL X 24 BT', 'BIRRA CERES 0.33 CL X 24 BT', 'COCA COLA  PET 2 LT X 6 BT', 'FANTA 1.50 PET  CL X6 BT', 'CRODINO CL X 10X 48', 'S.PELLEGRINO BITTER BIANCO X 40', 'CEDRATA  TASSONI 25 VPX 25 BT', 'COCA COLA LATTINA SLEEK 033 X 24', 'COCA COLA ZERO LATTINA SLEEK 033X24', 'ESTATHE&apos;  PESCA LATTINA 033X24', 'ESTATHE&apos;  LATTINA LIMONE 033X24', 'RED BULL 0,25 X24 LT', 'SPRITE LATTINA SLEEK 033 X 24', 'LEMONSODA 200 X 24', 'SCHWEPPES LIMONE 200 CL VAP X 24 VETRO', 'CHINOTTO NERI VAP X 24', 'YOGA MAGIC  ACE 200X24', 'YOGA  MAGIC PESCA 200X24', 'YOGA MAGIC PERA 200X24', 'YOGA MAGIC ANANAS X24 BT', 'YOGA MAGIC ALB. 200X24', 'YOGA MAGIC MIRTILLO 200X24', 'FEVER-TREE TONIC 200  ML INDIAL', 'GIN TANQUERAY TEN 1 LT', 'BITTER CAMPARI CL.100', 'AMARO AVERNA LT.1. CL', 'ACQUA NATIA 0.50 X 24 PET', 'GIN HENDRICK&apos; S CL 70', 'BIRRA TENNENT&apos;S 33 CL', 'BIRRA BECK&apos;S 0.33 CL X 24 BT', 'YOGA PESCA 1LT PET X 6', 'YOGA ANANAS PET 1 LT', 'CRODINO TWIST FRUTTI ROSSI X 24 BT', 'IRCA MIRROR EXTRA WHITE CF 3 KG   COD.30394', 'IRCA MIRROR EXTRA DARK CHOCOLATE CF 6 KG   COD.30381', 'SOLCHIM COLOR GEL VIOLA PZ 30GR', 'POLIART POLISTIROLO EPS 30 CM H 10 CM', 'Spese Varie', 'Riga ausiliaria contenente informazioni tecniche e aggiuntive del documento', 'Fornitura trasporto e posa in opera di vetri', 'Vetri 15 mm extrachiaro temperati n5 mq circa 7,00 complete di pellicano', 'Specchio 5 mm filo lucido con decoro dim 45x160', 'Specchio 5 mm filo lucido con decoro dim 185x50', 'Vetro stratificato 8/9 fili lucido dim 50x190', 'D.d.T. 117/A del 23/02/2021', 'UOVA CAT.PESO L', 'PESCE SPADA MEDIT. 30/50', 'AB3 MISCELA CREMA BAR CONFEZIONE DA Kg.3', '/D Lotto V47K', 'N ZUCCHERO SEMOLATO ASTUCCI da Kg.1', '/D Lotto 2009F1053N', 'OZD DOLCIFICANTE IN DISPENSER DA 240 BST', '/D Lotto 5025F0998G', 'TAZUC OMAGGIO ZUCCHERIERA PUBBLICITARIA', 'DDT n. 000820 - 09/10/2020', 'VINO BIANCO BOTT. 0,75', 'Corrispettivo comprensivo del Contributo ambientale Conai già assolto', 'Sky Vetrina + Sport + Calcio Plus', 'Spese invio fattura', 'JOYGELATO TOPPING CARAMELLO CF 1 KG', 'REVIVA PIATTO QUADRO NERO/PERLA MIS. 24', 'REVIVA PIATTO QUADRO NERO/PERLA MIS. 22 - CF 10 PZ.', 'PAVONI STAMPO RETTANGOLARE SCURO STRETTO INBUSTATO KE011FP', 'JOYGELATO TOPPING CIOCCOLATO BIANCO PREMIUM CF 900GR', 'PAVONI PAVOFLEX \"MINI TRONCHETTO\" 9IMP. COD.PX058', 'Spese Varie', 'Riga ausiliaria contenente informazioni tecniche e aggiuntive del documento', 'LEONE CANNUCCIE TRASP 1000PZ', 'CUCCHIAINI MOKA', 'ICONT ROT. FLOR ASTU.', 'DOPLA KRISTAL 100CC 50 PZ', 'ARISTEA KRIST.250CC PET 50PZ', 'BICCHIERI TRASP. 166cc MAJOR', 'Consegna mensile colazioni', 'Sky Pacchetto Completo|FATTURA n. 201568137 del 01/02/21', 'CAPUTO FARINA - TIPO 00 EXTRA CF 25 KG', 'CAPUTO FARINA - TIPO AMERICANA CARTA CF 25 KG', 'VANDEMOORTELE ***MIX*** GOLD CUP CROISSANT CF 15 KG COD. 405233', 'SWEET D.e D. ZUCCHERO CF 25 KG', 'SUD ZUCHER ZUCCHERO SABBIA EXTRA FINO CF 25 KG', 'IRCA ZUCCHERO FONDENTE DI CANNA CF 14 KG   COD.30127', 'PININ PERO ZUCCHERO VELO CF 5 KG', 'VANDEMOORTELE OLIO RISSO GIRASOLE ALTO OLEICO CF 10LT', 'SALE FINO SICILIA CT 12 X 1 KG', 'IRCA NOCCIOLATA BIANCA *****  CF 5 KG COD. 1010708', 'VANDEMOORTELE MARGARINA ST ALLERY CROISSANT 15% KG COD. 413712', \"VANDEMOORTELE MARGARINA SANT'ALLERY CREMA 25% COD401981\", 'IDCAM TAPPI GRANDI CT 150 PZ', \"AIA TUORLO D'UOVO CF 1 LT\", 'RUFFINI BAGNA ALCOLICA 70° PERLA NERA CF 2 LT', 'RUFFINI BAGNA ALCOLICA 70° BENEVENTO ELITE CF 2 LT', 'PAC GEL CONCHIGLIA GIANDUIA SUPERFARCITA CT GR 100 X 50 PZ', 'PAC GEL CORNETTO 7 CEREALI E FRUTTI DI BOSCO CT 40 PZ X 80 GR', 'JOYGELATO PASTE PISTACCHIO 100% CF 1 KG COD.20201', 'AMBROSIO CUBETTI ARANCIA 6X6 CT 5 KG', 'Spese Varie', 'Riga ausiliaria contenente informazioni tecniche e aggiuntive del documento', 'D.d.T. 408/A del 03/11/2020', 'UOVA CAT.PESO L', 'Merce a  723859  UP DOWN COFFEE SRL    VIA CAMPI FLEGREI,80  POZZUOLI  NA', 'LATTE PAS.MAT.AQ.B.PET 1LFLASH', 'SORRISO POL.BEVANDA SOIA 1Lx10', 'LATTE UHT MAT.PS.Edge.OFF 1L', 'PANNA PAST.MAT.35% REX  1000ML', 'LATTE PAS.MAT.AQ.B.PET 1LFLASH', 'PANNA PAST.MAT.35% REX  1000ML', 'LATTE PAS.MAT.AQ.B.PET 1LFLASH', 'PANNA PAST.MAT.35% REX  1000ML', 'SORRISO POL.BEVANDA SOIA 1Lx10', 'LATTE PAS.MAT.AQ.B.PET 1LFLASH', 'PANNA PAST.MAT.35% REX  1000ML', 'LATTE PAS.MAT.AQ.B.PET 1LFLASH', 'PANNA PAST.MAT.35% REX  1000ML', 'LATTE PAS.MAT.AQ.B.PET 1LFLASH', 'LATTE PAS.MAT.AQ.B.PET 1LFLASH', 'PANNA PAST.MAT.35% REX  1000ML', 'SORRISO POL.BEVANDA SOIA 1Lx10', 'LATTE PAS.MAT.AQ.B.PET 1LFLASH', 'PANNA PAST.MAT.35% REX  1000ML', 'LATTE PAS.MAT.AQ.B.PET 1LFLASH', 'PANNA PAST.MAT.35% REX  1000ML', 'LATTE PAS.MAT.AQ.B.PET 1LFLASH', 'PANNA PAST.MAT.35% REX  1000ML', 'BURRO PAST PANONI MP ITA 10 KG', 'LATTE PAS.MAT.AQ.B.PET 1LFLASH', 'PANNA PAST.MAT.35% REX  1000ML', 'LATTE PAS.MAT.AQ.B.PET 1LFLASH', 'LAT MAT.ALTA PAST.PS AD 1L', 'SORRISO POL.BEVANDA SOIA 1Lx10', 'LATTE UHT MAT.SCR.Edge 1000ML', 'PANNA PAST.MAT.35% REX  1000ML', 'BURRO PAST PANONI MP ITA 10 KG', 'LATTE PAS.MAT.AQ.B.PET 1LFLASH', 'PANNA PAST.MAT.35% REX  1000ML', 'BURRO PAST PANONI MP ITA 10 KG', 'LATTE PAS.MAT.AQ.B.PET 1LFLASH', 'PANNA PAST.MAT.35% REX  1000ML', 'BURRO PAST PANONI MP ITA 10 KG', 'LATTE PAS.MAT.AQ.B.PET 1LFLASH', 'PANNA PAST.MAT.35% REX  1000ML', 'LATTE PAS.MAT.AQ.B.PET 1LFLASH', 'PANNA PAST.MAT.35% REX  1000ML', 'LATTE PAS.MAT.AQ.B.PET 1LFLASH', 'PANNA PAST.MAT.35% REX  1000ML', 'LATTE PAS.MAT.AQ.B.PET 1LFLASH', 'PROSC COTTO INT GRANROSA 73%', 'LATTE PAS.MAT.AQ.B.PET 1LFLASH', 'BURRO PAST PANONI MP ITA 10 KG', 'PANNA PAST.MAT.35% REX  1000ML', 'LATTE PAS.MAT.AQ.B.PET 1LFLASH', 'LAT MAT.ALTA PAST.PS AD 1L', 'SORRISO POL.BEVANDA SOIA 1Lx10', 'LATTE UHT MAT.PS.Edge.OFF 1L', 'PANNA PAST.MAT.35% REX  1000ML', 'LATTE PAS.MAT.AQ.B.PET 1LFLASH', 'BURRO PAST PANONI MP ITA 10 KG', 'LATTE PAS.MAT.AQ.B.PET 1LFLASH', 'LATTE PAS.MAT.AQ.B.PET 1LFLASH', 'Sconto merce', 'PANNA PAST.MAT.35% REX  1000ML', 'LATTE PAS.MAT.AQ.B.PET 1LFLASH', 'PROSC COTTO INT GRANROSA 73%', \"Assolve agli obblighi di cui all'art.62, comma 1, del decreto legge 24 gennaio 2012, n.1,\", 'convertito, con modificazioni, dalla legge 24 marzo 2012, n.27', 'Contributo ambientale CONAI assolto, ove dovuto.', 'JOYGELATO CREAM DARK CF 5 KG COD.11065', 'JOYGELATO COUVERTURE EXTRA  CHOC MILK CF 5 KG COD.11268', 'CHIMPEX DESTROSIO MONOIDRATO IN POLVERE (MER. 200) - CF. 25 KG', 'Spese Varie', 'Riga ausiliaria contenente informazioni tecniche e aggiuntive del documento', ' Cod.Comm. 007694433 ', ' OGGETTO : Concessione in uso di N.    1 apparecchiature ', ' P.O.S. ', ' CANONE PERIODO 01/02/2021 - 28/02/2021 ']\n"
          ]
        }
      ]
    },
    {
      "cell_type": "code",
      "source": [
        "#adesso, per ogni descrizione, si devono assegnare 4 feature di presumibile appartenenza alle 4 classi critiche. Per\n",
        "#ciascuna classe vengono selezionate 2 parole semanticamente simili ai prodotti classificati in tale classe e viene valutata,\n",
        "#grazie all'embedding fornito da Word2Vec, la similarità semantica delle varie parole presenti in una descrizione con queste\n",
        "#2 parole di riferimento, per tutte e 4 le classi. Per ogni descrizione viene poi tenuto solo lo score più alto ottenuto dalle sue parole per individuare\n",
        "#quella chiave\n",
        "\n",
        "similarity_materie_prime = []\n",
        "similarity_materie_consumo = []\n",
        "similarity_merci = []\n",
        "similarity_merci_prodotti = []\n",
        "\n",
        "vector_formaggio = ft.get_word_vector('formaggio')\n",
        "vector_uova = ft.get_word_vector('uova')\n",
        "vector_busta = ft.get_word_vector('busta')\n",
        "vector_posate = ft.get_word_vector('posate')\n",
        "vector_kinder = ft.get_word_vector('kinder')\n",
        "vector_caramella = ft.get_word_vector('caramella')\n",
        "vector_bibita = ft.get_word_vector('bibita')\n",
        "vector_vodka = ft.get_word_vector('vodka')\n",
        "\n",
        "for s in list(descr):\n",
        "  s = s.lower()\n",
        "  s_words = s.split(\" \")\n",
        "\n",
        "  words_similarities_materie_prime = []\n",
        "  words_similarities_materie_consumo = []\n",
        "  words_similarities_merci = []\n",
        "  words_similarities_merci_prodotti = []\n",
        "\n",
        "  for i in s_words:\n",
        "    vector_i = ft.get_word_vector(i)\n",
        "    score_materie_prime = ((1 - spatial.distance.cosine(vector_i, vector_formaggio)) + (1 - spatial.distance.cosine(vector_i, vector_uova)))/2\n",
        "    score_materie_consumo = ((1 - spatial.distance.cosine(vector_i, vector_busta)) + (1 - spatial.distance.cosine(vector_i, vector_posate)))/2\n",
        "    score_merci = ((1 - spatial.distance.cosine(vector_i, vector_kinder)) + (1 - spatial.distance.cosine(vector_i, vector_caramella)))/2\n",
        "    score_merci_prodotti = ((1 - spatial.distance.cosine(vector_i, vector_bibita)) + (1 - spatial.distance.cosine(vector_i, vector_vodka)))/2\n",
        "\n",
        "    words_similarities_materie_prime.append(score_materie_prime)\n",
        "    words_similarities_materie_consumo.append(score_materie_consumo)\n",
        "    words_similarities_merci.append(score_merci)\n",
        "    words_similarities_merci_prodotti.append(score_merci_prodotti)\n",
        "\n",
        "  words_similarities_materie_prime = [x for x in words_similarities_materie_prime if pd.notnull(x)]\n",
        "  words_similarities_materie_consumo = [x for x in words_similarities_materie_consumo if pd.notnull(x)]\n",
        "  words_similarities_merci = [x for x in words_similarities_merci if pd.notnull(x)]\n",
        "  words_similarities_merci_prodotti = [x for x in words_similarities_merci_prodotti if pd.notnull(x)]\n",
        "\n",
        "  best_materie_prime = max(words_similarities_materie_prime)\n",
        "  best_materie_consumo = max(words_similarities_materie_consumo)\n",
        "  best_merci = max(words_similarities_merci)\n",
        "  best_merci_prodotti = max(words_similarities_merci_prodotti)\n",
        "\n",
        "  similarity_materie_prime.append(best_materie_prime)\n",
        "  similarity_materie_consumo.append(best_materie_consumo)\n",
        "  similarity_merci.append(best_merci)\n",
        "  similarity_merci_prodotti.append(best_merci_prodotti)\n",
        "\n"
      ],
      "metadata": {
        "colab": {
          "base_uri": "https://localhost:8080/"
        },
        "id": "3dlQKwMp8WMT",
        "outputId": "8337e8f5-5a23-4084-f016-797fe1de7de0"
      },
      "execution_count": null,
      "outputs": [
        {
          "output_type": "stream",
          "name": "stderr",
          "text": [
            "/usr/local/lib/python3.7/dist-packages/scipy/spatial/distance.py:720: RuntimeWarning: invalid value encountered in float_scalars\n",
            "  dist = 1.0 - uv / np.sqrt(uu * vv)\n"
          ]
        }
      ]
    },
    {
      "cell_type": "code",
      "execution_count": null,
      "metadata": {
        "id": "rDJeckHKZ0Ui"
      },
      "outputs": [],
      "source": [
        "#lettura del file excel in pandas\n",
        "\n",
        "import pandas as pd\n",
        "!pip install --upgrade openpyxl\n",
        "\n",
        "data = pd.read_excel('/content/drive/MyDrive/df_final.xlsx')\n",
        "data = data.drop('Unnamed: 0', axis=1)\n",
        "print(data.head(5))\n",
        "print(data.columns)"
      ]
    },
    {
      "cell_type": "code",
      "source": [
        "#selezione delle colonne di interesse\n",
        "\n",
        "data = data[['FatturaElettronicaBody_DatiGenerali_DatiGeneraliDocumento_Numero',\n",
        "            'FatturaElettronicaBody_DatiBeniServizi_DettaglioLinee_CodiceArticolo_CodiceTipo_first',\n",
        "            'FatturaElettronicaBody_DatiBeniServizi_DettaglioLinee_PrezzoUnitario',\n",
        "            'FatturaElettronicaBody_DatiBeniServizi_DettaglioLinee_PrezzoTotale',\n",
        "            'FatturaElettronicaBody_DatiPagamento_DettaglioPagamento_ModalitaPagamento_first',\n",
        "            'FatturaElettronicaBody_DatiBeniServizi_DettaglioLinee_AliquotaIVA',\n",
        "            'FatturaElettronicaHeader_CedentePrestatore_DatiAnagrafici_IdFiscaleIVA_IdCodice',\n",
        "            'FatturaElettronicaBody_DatiGenerali_DatiGeneraliDocumento_Data',\n",
        "            'FatturaElettronicaBody_DatiGenerali_DatiDDT_NumeroDDT',\n",
        "            'Conto']]\n",
        "\n",
        "print(data.shape)\n",
        "print(data.head(5))"
      ],
      "metadata": {
        "id": "Yz1pj_kKJ7NO"
      },
      "execution_count": null,
      "outputs": []
    },
    {
      "cell_type": "code",
      "source": [
        "#aggiunta delle colonne con le informazioni estratte dalla descrizione precedentemente create\n",
        "\n",
        "data = pd.concat(objs=[data, descr.rename('Descrizione'), pd.Series(similarity_materie_prime).rename('Similarity_Materie_Prime'), pd.Series(similarity_materie_consumo).rename('Similarity_Materie_Consumo'), pd.Series(similarity_merci).rename('Similarity_Merci'), pd.Series(similarity_merci_prodotti).rename('Similarity_Merci_Prodotti')], axis=1)\n",
        "print(data.shape)"
      ],
      "metadata": {
        "id": "yMmB-gAdiPn5"
      },
      "execution_count": null,
      "outputs": []
    },
    {
      "cell_type": "code",
      "source": [
        "#controllo del tipo delle colonne\n",
        "\n",
        "for column in data.columns:\n",
        "  print(column)\n",
        "  print(type(data[column][0]))"
      ],
      "metadata": {
        "colab": {
          "base_uri": "https://localhost:8080/"
        },
        "id": "u0wSiUuvJ7Qu",
        "outputId": "fb69c332-32c1-4831-e068-96553df2a0eb"
      },
      "execution_count": null,
      "outputs": [
        {
          "output_type": "stream",
          "name": "stdout",
          "text": [
            "FatturaElettronicaBody_DatiGenerali_DatiGeneraliDocumento_Numero\n",
            "<class 'str'>\n",
            "FatturaElettronicaBody_DatiBeniServizi_DettaglioLinee_CodiceArticolo_CodiceTipo_first\n",
            "<class 'str'>\n",
            "FatturaElettronicaBody_DatiBeniServizi_DettaglioLinee_PrezzoUnitario\n",
            "<class 'numpy.float64'>\n",
            "FatturaElettronicaBody_DatiBeniServizi_DettaglioLinee_PrezzoTotale\n",
            "<class 'numpy.float64'>\n",
            "FatturaElettronicaBody_DatiPagamento_DettaglioPagamento_ModalitaPagamento_first\n",
            "<class 'str'>\n",
            "FatturaElettronicaBody_DatiBeniServizi_DettaglioLinee_AliquotaIVA\n",
            "<class 'numpy.float64'>\n",
            "FatturaElettronicaHeader_CedentePrestatore_DatiAnagrafici_IdFiscaleIVA_IdCodice\n",
            "<class 'numpy.int64'>\n",
            "FatturaElettronicaBody_DatiGenerali_DatiGeneraliDocumento_Data\n",
            "<class 'pandas._libs.tslibs.timestamps.Timestamp'>\n",
            "FatturaElettronicaBody_DatiGenerali_DatiDDT_NumeroDDT\n",
            "<class 'str'>\n",
            "Conto\n",
            "<class 'str'>\n",
            "Descrizione\n",
            "<class 'str'>\n",
            "Similarity_Materie_Prime\n",
            "<class 'numpy.float64'>\n",
            "Similarity_Materie_Consumo\n",
            "<class 'numpy.float64'>\n",
            "Similarity_Merci\n",
            "<class 'numpy.float64'>\n",
            "Similarity_Merci_Prodotti\n",
            "<class 'numpy.float64'>\n"
          ]
        }
      ]
    },
    {
      "cell_type": "code",
      "source": [
        "#conversione del tipo di dato in alcune colonne\n",
        "\n",
        "from datetime import datetime\n",
        "\n",
        "data['FatturaElettronicaBody_DatiBeniServizi_DettaglioLinee_AliquotaIVA'] = data['FatturaElettronicaBody_DatiBeniServizi_DettaglioLinee_AliquotaIVA'].astype(int)\n",
        "data['FatturaElettronicaHeader_CedentePrestatore_DatiAnagrafici_IdFiscaleIVA_IdCodice'] = data['FatturaElettronicaHeader_CedentePrestatore_DatiAnagrafici_IdFiscaleIVA_IdCodice'].astype(str)\n"
      ],
      "metadata": {
        "id": "usEqzUHiJ7Tq"
      },
      "execution_count": 5,
      "outputs": []
    },
    {
      "cell_type": "code",
      "source": [
        "#conversione della data in 3 colonne giorno-mese-anno per renderle feature adatte a fare machine learning\n",
        "\n",
        "year = pd.Series(pd.DatetimeIndex(data['FatturaElettronicaBody_DatiGenerali_DatiGeneraliDocumento_Data']).year)\n",
        "month = pd.Series(pd.DatetimeIndex(data['FatturaElettronicaBody_DatiGenerali_DatiGeneraliDocumento_Data']).month)\n",
        "day = pd.Series(pd.DatetimeIndex(data['FatturaElettronicaBody_DatiGenerali_DatiGeneraliDocumento_Data']).day)\n",
        "\n",
        "frame = {'year': year, 'month': month, 'day': day}\n",
        "data2 = pd.DataFrame(frame)\n",
        "  \n",
        "data = pd.concat(objs=[data, data2], axis=1)\n",
        "print(data.columns)"
      ],
      "metadata": {
        "colab": {
          "base_uri": "https://localhost:8080/"
        },
        "id": "-9v-rbLHwUCl",
        "outputId": "96257560-1095-467c-f15c-a46c1fe0d548"
      },
      "execution_count": 6,
      "outputs": [
        {
          "output_type": "stream",
          "name": "stdout",
          "text": [
            "Index(['FatturaElettronicaBody_DatiGenerali_DatiGeneraliDocumento_Numero',\n",
            "       'FatturaElettronicaBody_DatiBeniServizi_DettaglioLinee_CodiceArticolo_CodiceTipo_first',\n",
            "       'FatturaElettronicaBody_DatiBeniServizi_DettaglioLinee_PrezzoUnitario',\n",
            "       'FatturaElettronicaBody_DatiBeniServizi_DettaglioLinee_PrezzoTotale',\n",
            "       'FatturaElettronicaBody_DatiPagamento_DettaglioPagamento_ModalitaPagamento_first',\n",
            "       'FatturaElettronicaBody_DatiBeniServizi_DettaglioLinee_AliquotaIVA',\n",
            "       'FatturaElettronicaHeader_CedentePrestatore_DatiAnagrafici_IdFiscaleIVA_IdCodice',\n",
            "       'FatturaElettronicaBody_DatiGenerali_DatiGeneraliDocumento_Data',\n",
            "       'FatturaElettronicaBody_DatiGenerali_DatiDDT_NumeroDDT', 'Conto',\n",
            "       'year', 'month', 'day'],\n",
            "      dtype='object')\n"
          ]
        }
      ]
    },
    {
      "cell_type": "code",
      "source": [
        "#eliminazione della colonna con la data in formato timestamp\n",
        "\n",
        "data.drop('FatturaElettronicaBody_DatiGenerali_DatiGeneraliDocumento_Data', axis=1, inplace=True)\n",
        "print(data.columns)"
      ],
      "metadata": {
        "colab": {
          "base_uri": "https://localhost:8080/"
        },
        "id": "1G7mGgsk7GMB",
        "outputId": "bc20b655-a6f3-447c-a5e9-a40540db528b"
      },
      "execution_count": 7,
      "outputs": [
        {
          "output_type": "stream",
          "name": "stdout",
          "text": [
            "Index(['FatturaElettronicaBody_DatiGenerali_DatiGeneraliDocumento_Numero',\n",
            "       'FatturaElettronicaBody_DatiBeniServizi_DettaglioLinee_CodiceArticolo_CodiceTipo_first',\n",
            "       'FatturaElettronicaBody_DatiBeniServizi_DettaglioLinee_PrezzoUnitario',\n",
            "       'FatturaElettronicaBody_DatiBeniServizi_DettaglioLinee_PrezzoTotale',\n",
            "       'FatturaElettronicaBody_DatiPagamento_DettaglioPagamento_ModalitaPagamento_first',\n",
            "       'FatturaElettronicaBody_DatiBeniServizi_DettaglioLinee_AliquotaIVA',\n",
            "       'FatturaElettronicaHeader_CedentePrestatore_DatiAnagrafici_IdFiscaleIVA_IdCodice',\n",
            "       'FatturaElettronicaBody_DatiGenerali_DatiDDT_NumeroDDT', 'Conto',\n",
            "       'year', 'month', 'day'],\n",
            "      dtype='object')\n"
          ]
        }
      ]
    },
    {
      "cell_type": "code",
      "source": [
        "#rinominazione delle colonne\n",
        "\n",
        "data = data.rename(columns={'FatturaElettronicaBody_DatiGenerali_DatiGeneraliDocumento_Numero': 'Numero',\n",
        "            'FatturaElettronicaBody_DatiBeniServizi_DettaglioLinee_CodiceArticolo_CodiceTipo_first': 'CodiceTipo',\n",
        "            'FatturaElettronicaBody_DatiBeniServizi_DettaglioLinee_PrezzoUnitario': 'PrezzoUnitario',\n",
        "            'FatturaElettronicaBody_DatiBeniServizi_DettaglioLinee_PrezzoTotale': 'PrezzoTotale',\n",
        "            'FatturaElettronicaBody_DatiPagamento_DettaglioPagamento_ModalitaPagamento_first': 'ModalitaPagamento',\n",
        "            'FatturaElettronicaBody_DatiBeniServizi_DettaglioLinee_AliquotaIVA': 'AliquotaIVA',\n",
        "            'FatturaElettronicaHeader_CedentePrestatore_DatiAnagrafici_IdFiscaleIVA_IdCodice': 'CodiceCedente',\n",
        "            'FatturaElettronicaBody_DatiGenerali_DatiDDT_NumeroDDT': 'NumeroDDT',\n",
        "            'Conto': 'Conto', 'year': 'Year', 'month': 'Month', 'day': 'Day'})\n",
        "\n",
        "print(data.columns)"
      ],
      "metadata": {
        "colab": {
          "base_uri": "https://localhost:8080/"
        },
        "id": "iGGSzrSmEA6H",
        "outputId": "145cae1f-9a72-474c-fb3b-44dc41f9df10"
      },
      "execution_count": 8,
      "outputs": [
        {
          "output_type": "stream",
          "name": "stdout",
          "text": [
            "Index(['Numero', 'CodiceTipo', 'PrezzoUnitario', 'PrezzoTotale',\n",
            "       'ModalitaPagamento', 'AliquotaIVA', 'CodiceCedente', 'NumeroDDT',\n",
            "       'Conto', 'Year', 'Month', 'Day'],\n",
            "      dtype='object')\n"
          ]
        }
      ]
    },
    {
      "cell_type": "code",
      "source": [
        "#eliminazione, in tutte le colonne tranne 'Conto', dei nan che compaiono come float a favore di stringhe vuote (perche tutte le colonne di feature con dei nan sono in formato stringa)\n",
        "Conti = data.Conto\n",
        "data = data.fillna('')\n",
        "data.Conto = Conti\n",
        "print(data.isnull().sum().sum())\n"
      ],
      "metadata": {
        "colab": {
          "base_uri": "https://localhost:8080/"
        },
        "id": "40nyRgdM5Bm1",
        "outputId": "c13be900-6744-4ce4-ae4e-332c2cb886ba"
      },
      "execution_count": 9,
      "outputs": [
        {
          "output_type": "stream",
          "name": "stdout",
          "text": [
            "4061\n"
          ]
        }
      ]
    },
    {
      "cell_type": "code",
      "source": [
        "#analisi della distribuzione della variabile target\n",
        "\n",
        "print(data.groupby('Conto').count())\n",
        "print(data.shape)"
      ],
      "metadata": {
        "id": "UELTR8EALGAx"
      },
      "execution_count": null,
      "outputs": []
    },
    {
      "cell_type": "code",
      "source": [
        "#rimozione delle unità statistiche con target troppo rari (threshold = 5, incluso). La molteplicità dei target scende da 24 a 13.\n",
        "\n",
        "mask = (data['Conto'] != '18/40/501')&(data['Conto'] != '66/25/505')&(data['Conto'] != '66/25/508')&(data['Conto'] != '66/30/060')&(data['Conto'] != '68/05/005')&(data['Conto'] != '68/05/133')&(data['Conto'] != '68/05/290')&(data['Conto'] != '68/05/320')&(data['Conto'] != '68/05/385')&(data['Conto'] != '68/05/407')&(data['Conto'] != '88/20/035')\n",
        "data = data[mask]\n",
        "print(data.shape)"
      ],
      "metadata": {
        "id": "unt1iY8HM4gb",
        "colab": {
          "base_uri": "https://localhost:8080/"
        },
        "outputId": "1b01caed-e54d-4cc9-f72e-ff0285e3f5f8"
      },
      "execution_count": 11,
      "outputs": [
        {
          "output_type": "stream",
          "name": "stdout",
          "text": [
            "(5855, 12)\n"
          ]
        }
      ]
    },
    {
      "cell_type": "code",
      "source": [
        "#semplificazione N1: tutte le features categoriche vengono gestite col semplice One Hot Encoding, anche se questo causa\n",
        "#un grande aumento del numero di features. Altri encoders potrebbero performare meglio (es: hashing trick).\n",
        "#semplificazione N2: non si considera la struttura gerarchica dei conti ma le labels vengono predette come fossero 13 classi indipendenti\n",
        "#semplificazione N3: si utilizza un solo modello predittivo anzichè dividere inizialmente il dataset e usare un modello su \n",
        "#ogni porzione. Ad esempio, potrebbe essere interessante dividere il dataset a seconda dell'aliquota IVA dato che questa\n",
        "#discerne quasi perfettamente le classi 66/05/006 e 66/20/005, sulle quali continuano a essere commessi errori\n",
        "#semplificazione N4: si valutano le performance con una semplice divisione train-test senza ricorrere alla CV\n",
        "#semplificazione N5: non si risistemano le stringe del CodiceTipo che potrebbero essere formattate meglio dando vita a meno\n",
        "#classi binarie\n",
        "\n",
        "#N1\n",
        "ModalitaPagamento_encoded = pd.get_dummies(data.ModalitaPagamento, prefix='ModalitaPagamento')\n",
        "print(ModalitaPagamento_encoded.shape)\n",
        "CodiceTipo_encoded = pd.get_dummies(data.CodiceTipo, prefix='CodiceTipo')\n",
        "print(CodiceTipo_encoded.shape)\n",
        "NumeroDDT_encoded = pd.get_dummies(data.NumeroDDT, prefix='NumeroDDT')\n",
        "print(NumeroDDT_encoded.shape)\n",
        "CodiceCedente_encoded = pd.get_dummies(data.CodiceCedente, prefix='CodiceCedente')\n",
        "print(CodiceCedente_encoded.shape)\n",
        "\n",
        "data.drop(['CodiceTipo', 'ModalitaPagamento', 'CodiceCedente', 'NumeroDDT'], axis=1, inplace=True)\n",
        "data = pd.concat(objs=[data, CodiceTipo_encoded, ModalitaPagamento_encoded, CodiceCedente_encoded, NumeroDDT_encoded], axis=1)\n",
        "\n",
        "print(data.shape)\n",
        "print(data.columns)\n",
        "\n",
        "#si arriva ad avere 204 features, a causa dei One Hot Encoding"
      ],
      "metadata": {
        "colab": {
          "base_uri": "https://localhost:8080/"
        },
        "id": "e-6-eZDSPAzW",
        "outputId": "1ffc70a8-07b5-4d43-d585-63de0ef4eb16"
      },
      "execution_count": 12,
      "outputs": [
        {
          "output_type": "stream",
          "name": "stdout",
          "text": [
            "(5855, 8)\n",
            "(5855, 22)\n",
            "(5855, 109)\n",
            "(5855, 55)\n",
            "(5855, 202)\n",
            "Index(['Numero', 'PrezzoUnitario', 'PrezzoTotale', 'AliquotaIVA', 'Conto',\n",
            "       'Year', 'Month', 'Day', 'CodiceTipo_', 'CodiceTipo_ARTICOLO',\n",
            "       ...\n",
            "       'NumeroDDT_PKL.21.1321', 'NumeroDDT_PKL.21.1457',\n",
            "       'NumeroDDT_PKL.21.161', 'NumeroDDT_PKL.21.195', 'NumeroDDT_PKL.21.471',\n",
            "       'NumeroDDT_PKL.21.520', 'NumeroDDT_PKL.21.55', 'NumeroDDT_PKL.21.597',\n",
            "       'NumeroDDT_PKL.21.914', 'NumeroDDT_PKL.21.97'],\n",
            "      dtype='object', length=202)\n"
          ]
        }
      ]
    },
    {
      "cell_type": "code",
      "source": [
        "#riallocazione della colonna di target come ultima\n",
        "\n",
        "temp = data.Conto\n",
        "data.drop('Conto', axis=1, inplace=True)\n",
        "data = pd.concat(objs=[data, temp], axis=1)\n",
        "print(data.columns)"
      ],
      "metadata": {
        "colab": {
          "base_uri": "https://localhost:8080/"
        },
        "id": "OSi_D--L9NVT",
        "outputId": "ed3ae4bf-8853-4d73-cd85-facbeaaf9481"
      },
      "execution_count": 13,
      "outputs": [
        {
          "output_type": "stream",
          "name": "stdout",
          "text": [
            "Index(['Numero', 'PrezzoUnitario', 'PrezzoTotale', 'AliquotaIVA', 'Year',\n",
            "       'Month', 'Day', 'CodiceTipo_', 'CodiceTipo_ARTICOLO',\n",
            "       'CodiceTipo_Articolo',\n",
            "       ...\n",
            "       'NumeroDDT_PKL.21.1457', 'NumeroDDT_PKL.21.161', 'NumeroDDT_PKL.21.195',\n",
            "       'NumeroDDT_PKL.21.471', 'NumeroDDT_PKL.21.520', 'NumeroDDT_PKL.21.55',\n",
            "       'NumeroDDT_PKL.21.597', 'NumeroDDT_PKL.21.914', 'NumeroDDT_PKL.21.97',\n",
            "       'Conto'],\n",
            "      dtype='object', length=202)\n"
          ]
        }
      ]
    },
    {
      "cell_type": "code",
      "source": [
        "#in vista del semi supervised learning, separazione dei dati supervisionati e non supervisionati\n",
        "\n",
        "from sklearn.semi_supervised import SelfTrainingClassifier\n",
        "\n",
        "data_labeled = data[data['Conto'].notna()]\n",
        "data_unlabeled = data[data['Conto'].isnull()]\n",
        "\n",
        "data_labeled.reset_index(inplace=True)\n",
        "data_labeled = data_labeled.drop('index', axis=1)\n",
        "data_unlabeled.reset_index(inplace=True)\n",
        "data_unlabeled = data_unlabeled.drop('index', axis=1)\n",
        "\n",
        "print(data_labeled)\n",
        "print(data_unlabeled)\n",
        "\n",
        "#si usa solo la porzione di dati labeled in un primo train-test di alcuni classificatori"
      ],
      "metadata": {
        "id": "A-sg4UMUkjDA"
      },
      "execution_count": null,
      "outputs": []
    },
    {
      "cell_type": "code",
      "source": [
        "#primo classificatore provato: Naive Bayes, con diverse assunzioni sulla distribuzione delle features condizionata al target. \n",
        "\n",
        "from sklearn.model_selection import train_test_split\n",
        "from sklearn.naive_bayes import GaussianNB\n",
        "from sklearn.naive_bayes import CategoricalNB\n",
        "from sklearn.naive_bayes import BernoulliNB\n",
        "\n",
        "features = data_labeled.drop(['Conto'], axis=1)\n",
        "targets = data_labeled.Conto\n",
        "\n",
        "X_train, X_test, y_train, y_test = train_test_split(features, targets, test_size=0.3, shuffle=False)\n",
        "gnb = CategoricalNB()\n",
        "y_pred = gnb.fit(X_train, y_train).predict(X_test)\n",
        "print(1-((y_test != y_pred).sum()/ X_test.shape[0]))\n",
        "\n",
        "from sklearn.metrics import f1_score\n",
        "print(f1_score(y_test, y_pred, average=None))\n",
        "print(f1_score(y_test, y_pred, average='micro'))\n",
        "print(f1_score(y_test, y_pred, average='macro'))\n",
        "print(f1_score(y_test, y_pred, average='weighted'))\n",
        "\n",
        "#accuracy performance: GaussianNB: 0.79, BernoulliNB: 0.83"
      ],
      "metadata": {
        "id": "IHYoMNqZAZxX"
      },
      "execution_count": null,
      "outputs": []
    },
    {
      "cell_type": "code",
      "source": [
        "#secondo classificatore provato: Decision Tree\n",
        "\n",
        "from sklearn import tree\n",
        "from sklearn.model_selection import train_test_split\n",
        "from sklearn.feature_selection import SelectFromModel\n",
        "\n",
        "\n",
        "features = data_labeled.drop(['Conto', 'Descrizione', 'Numero'], axis=1)\n",
        "targets = data_labeled.Conto\n",
        "print(features.shape)\n",
        "\n",
        "X_train, X_test, y_train, y_test = train_test_split(features, targets, test_size=0.3, shuffle=False)\n",
        "clf = tree.DecisionTreeClassifier(max_depth=28)\n",
        "y_pred = clf.fit(X_train, y_train).predict(X_test)\n",
        "print(1-((y_test != y_pred).sum()/ X_test.shape[0]))\n",
        "#print(clf.feature_importances_)\n",
        "\n",
        "from sklearn.metrics import f1_score\n",
        "print(f1_score(y_test, y_pred, average=None))\n",
        "#print(f1_score(y_test, y_pred, average='micro')), è inutile tanto è uguale all'accuracy\n",
        "print(f1_score(y_test, y_pred, average='macro'))\n",
        "print(f1_score(y_test, y_pred, average='weighted'))\n",
        "\n",
        "#riduzione delle features secondo il criterio di importanza basato sul Gini index. Con la soglia scelta di default\n",
        "#si scende di solito a 26 features\n",
        "\n",
        "model = SelectFromModel(clf, prefit=True)\n",
        "features_new = model.transform(features)\n",
        "print(features_new.shape)\n",
        "\n",
        "X_train_new, X_test_new, y_train, y_test = train_test_split(features_new, targets, test_size=0.3, shuffle=False)\n",
        "clf2 = tree.DecisionTreeClassifier(max_depth=15)\n",
        "y_pred2 = clf2.fit(X_train_new, y_train).predict(X_test_new)\n",
        "print(1-((y_test != y_pred2).sum()/ X_test_new.shape[0]))\n",
        "#print(clf2.feature_importances_)\n",
        "\n",
        "#le performance scendono leggermente da circa 0.93 a 0.91"
      ],
      "metadata": {
        "colab": {
          "base_uri": "https://localhost:8080/"
        },
        "id": "dn2brf1CE_xP",
        "outputId": "c2270af4-872d-4dd2-c298-3857d487e24d"
      },
      "execution_count": null,
      "outputs": [
        {
          "output_type": "stream",
          "name": "stdout",
          "text": [
            "(1794, 204)\n",
            "0.9239332096474954\n",
            "[0.93548387 0.93714286 0.87804878 0.9        0.97435897 0.66666667\n",
            " 0.72727273 1.         0.94117647 1.         1.        ]\n",
            "0.905468213407728\n",
            "0.9239032324174937\n",
            "(1794, 25)\n",
            "0.9202226345083488\n"
          ]
        },
        {
          "output_type": "stream",
          "name": "stderr",
          "text": [
            "/usr/local/lib/python3.7/dist-packages/sklearn/base.py:444: UserWarning: X has feature names, but SelectFromModel was fitted without feature names\n",
            "  f\"X has feature names, but {self.__class__.__name__} was fitted without\"\n"
          ]
        }
      ]
    },
    {
      "cell_type": "code",
      "source": [
        "!pip install graphviz"
      ],
      "metadata": {
        "colab": {
          "base_uri": "https://localhost:8080/"
        },
        "id": "QmZoX0tbJ6qc",
        "outputId": "11cea5ff-21c8-4fad-fdf0-509bf7595210"
      },
      "execution_count": null,
      "outputs": [
        {
          "output_type": "stream",
          "name": "stdout",
          "text": [
            "Requirement already satisfied: graphviz in /usr/local/lib/python3.7/dist-packages (0.10.1)\n"
          ]
        }
      ]
    },
    {
      "cell_type": "code",
      "source": [
        "import graphviz\n",
        "import pydotplus\n",
        "dot_data = tree.export_graphviz(clf, out_file=None, \n",
        "                                feature_names=features.columns,  \n",
        "                                class_names=targets,\n",
        "                                filled=True)\n",
        "\n",
        "pydot_graph = pydotplus.graph_from_dot_data(dot_data)\n",
        "pydot_graph.write_png('/content/original_tree.png')\n",
        "pydot_graph.set_size('\"5,5!\"')\n",
        "pydot_graph.write_png('/content/resized_tree.png')\n",
        "pydot_graph\n",
        "# Draw graph\n",
        "#graph = graphviz.Source(dot_data, format=\"png\") \n",
        "#graph\n"
      ],
      "metadata": {
        "colab": {
          "base_uri": "https://localhost:8080/"
        },
        "id": "TU0d7utkFEzu",
        "outputId": "6edc21f6-0a51-4ad4-9917-813af5e04661"
      },
      "execution_count": null,
      "outputs": [
        {
          "output_type": "execute_result",
          "data": {
            "text/plain": [
              "<pydotplus.graphviz.Dot at 0x7f9640e9b550>"
            ]
          },
          "metadata": {},
          "execution_count": 25
        }
      ]
    },
    {
      "cell_type": "code",
      "source": [
        "#terzo classificatore provato: Random Forest\n",
        "\n",
        "from sklearn.feature_selection import SelectFromModel\n",
        "from sklearn.ensemble import RandomForestClassifier\n",
        "from sklearn.metrics import accuracy_score\n",
        "from sklearn.model_selection import train_test_split\n",
        "from sklearn.pipeline import make_pipeline\n",
        "from sklearn.preprocessing import StandardScaler\n",
        "\n",
        "\n",
        "features = data_labeled.drop(['Conto', 'Descrizione', 'Numero'], axis=1)\n",
        "targets = data_labeled.Conto\n",
        "descr = data_labeled.Descrizione\n",
        "num = data_labeled.Numero\n",
        "print(features.shape)\n",
        "\n",
        "\"\"\"\n",
        "scaler = StandardScaler()\n",
        "features.PrezzoUnitario = scaler.fit_transform(np.array(features.PrezzoUnitario).reshape(-1, 1))\n",
        "features.PrezzoTotale = scaler.fit_transform(np.array(features.PrezzoTotale).reshape(-1, 1))\n",
        "features.AliquotaIVA = scaler.fit_transform(np.array(features.AliquotaIVA).reshape(-1, 1))\n",
        "features.Year = scaler.fit_transform(np.array(features.Year).reshape(-1, 1))\n",
        "features.Month = scaler.fit_transform(np.array(features.Month).reshape(-1, 1))\n",
        "features.Day = scaler.fit_transform(np.array(features.Day).reshape(-1, 1))\n",
        "features.Similarity_Materie_Prime = scaler.fit_transform(np.array(features.Similarity_Materie_Prime).reshape(-1, 1))\n",
        "features.Similarity_Materie_Consumo = scaler.fit_transform(np.array(features.Similarity_Materie_Consumo).reshape(-1, 1))\n",
        "features.Similarity_Merci = scaler.fit_transform(np.array(features.Similarity_Merci).reshape(-1, 1))\n",
        "features.Similarity_Merci_Prodotti = scaler.fit_transform(np.array(features.Similarity_Merci_Prodotti).reshape(-1, 1))\n",
        "\n",
        "X_train = features.loc[540:,]\n",
        "X_test = features.loc[:539,]\n",
        "y_train = targets.loc[540:,]\n",
        "y_test = targets.loc[:539,]\n",
        "\"\"\"\n",
        "\n",
        "X_train, X_test, y_train, y_test = train_test_split(features, targets, test_size=0.3, shuffle=False)\n",
        "clf = RandomForestClassifier(n_estimators=50, max_depth=16, bootstrap = False)\n",
        "y_pred = clf.fit(X_train, y_train).predict(X_test)\n",
        "print(accuracy_score(y_test, y_pred))\n",
        "#print(clf.feature_importances_)\n",
        "\n",
        "\"\"\"\n",
        "\n",
        "from sklearn.metrics import f1_score\n",
        "print(f1_score(y_test, y_pred, average=None))\n",
        "#print(f1_score(y_test, y_pred, average='micro'))\n",
        "print(f1_score(y_test, y_pred, average='macro'))\n",
        "print(f1_score(y_test, y_pred, average='weighted'))\n",
        "\n",
        "#Con la soglia scelta di default si scende di solito a 36 features\n",
        "\n",
        "model = SelectFromModel(clf, prefit=True)\n",
        "features_new = pd.DataFrame(model.transform(features))\n",
        "print(features_new.shape)\n",
        "print(features_new.head(5))\n",
        "\n",
        "X_train_new, X_test_new, y_train, y_test = train_test_split(features_new, targets, test_size=0.3, shuffle=False)\n",
        "clf2 = RandomForestClassifier(n_estimators=100, max_depth=15, bootstrap = False)\n",
        "y_pred2 = clf2.fit(X_train_new, y_train).predict(X_test_new)\n",
        "print(accuracy_score(y_test, y_pred2))\n",
        "\n",
        "print(f1_score(y_test, y_pred2, average=None))\n",
        "#print(f1_score(y_test, y_pred2, average='micro'))\n",
        "print(f1_score(y_test, y_pred2, average='macro'))\n",
        "print(f1_score(y_test, y_pred2, average='weighted'))\n",
        "\n",
        "#le performance, in quanto ad accuracy, sono paragonabili tra il modello con 204 features e quello ridotto e intorno \n",
        "#a 0.94/0.95. E' stata testata anche una pipeline che prevede prima una standardizzazione dei dati ma senza riportare\n",
        "#significative variazioni nella performance. Anche F-score assume più o meno gli stessi valori (nella versione weighted che tiene)\n",
        "#conto della dimensione delle classi). Invece la versione macro è potenzialmente anche più alta dell'accuracy perchè, come si \n",
        "#vede dalla confusion matrix, gli errori sono di solito sulle classe più grandi; a volte però si abbassa quando non viene appresa la classe\n",
        "#66/25/509, che ha poche istanze, e quindi il suo F score è 0.\n",
        "#Per sopperire alla momentanea scarsa precisione nel determinare l'accuracy a causa della mancata CV è stato anche usato come\n",
        "#test set la parte iniziale del dataset e viceversa per il training set rilevando le stesse performance che quindi si \n",
        "#possono considerare veritiere\n",
        "\"\"\""
      ],
      "metadata": {
        "colab": {
          "base_uri": "https://localhost:8080/",
          "height": 433
        },
        "id": "dEelxyZ9TRbg",
        "outputId": "2eac353c-c07a-4a24-c4e6-b3207cfc1a8b"
      },
      "execution_count": null,
      "outputs": [
        {
          "output_type": "stream",
          "name": "stdout",
          "text": [
            "(1816, 207)\n"
          ]
        },
        {
          "output_type": "error",
          "ename": "ValueError",
          "evalue": "ignored",
          "traceback": [
            "\u001b[0;31m---------------------------------------------------------------------------\u001b[0m",
            "\u001b[0;31mValueError\u001b[0m                                Traceback (most recent call last)",
            "\u001b[0;32m<ipython-input-49-f1af87465af5>\u001b[0m in \u001b[0;36m<module>\u001b[0;34m()\u001b[0m\n\u001b[1;32m     34\u001b[0m \"\"\"\n\u001b[1;32m     35\u001b[0m \u001b[0;34m\u001b[0m\u001b[0m\n\u001b[0;32m---> 36\u001b[0;31m \u001b[0mX_train\u001b[0m\u001b[0;34m,\u001b[0m \u001b[0mX_test\u001b[0m\u001b[0;34m,\u001b[0m \u001b[0my_train\u001b[0m\u001b[0;34m,\u001b[0m \u001b[0my_test\u001b[0m \u001b[0;34m=\u001b[0m \u001b[0mtrain_test_split\u001b[0m\u001b[0;34m(\u001b[0m\u001b[0mfeatures\u001b[0m\u001b[0;34m,\u001b[0m \u001b[0mtargets\u001b[0m\u001b[0;34m,\u001b[0m \u001b[0mtest_size\u001b[0m\u001b[0;34m=\u001b[0m\u001b[0;36m0\u001b[0m\u001b[0;34m,\u001b[0m \u001b[0mshuffle\u001b[0m\u001b[0;34m=\u001b[0m\u001b[0;32mFalse\u001b[0m\u001b[0;34m)\u001b[0m\u001b[0;34m\u001b[0m\u001b[0;34m\u001b[0m\u001b[0m\n\u001b[0m\u001b[1;32m     37\u001b[0m \u001b[0mclf\u001b[0m \u001b[0;34m=\u001b[0m \u001b[0mRandomForestClassifier\u001b[0m\u001b[0;34m(\u001b[0m\u001b[0mn_estimators\u001b[0m\u001b[0;34m=\u001b[0m\u001b[0;36m50\u001b[0m\u001b[0;34m,\u001b[0m \u001b[0mmax_depth\u001b[0m\u001b[0;34m=\u001b[0m\u001b[0;36m16\u001b[0m\u001b[0;34m,\u001b[0m \u001b[0mbootstrap\u001b[0m \u001b[0;34m=\u001b[0m \u001b[0;32mFalse\u001b[0m\u001b[0;34m)\u001b[0m\u001b[0;34m\u001b[0m\u001b[0;34m\u001b[0m\u001b[0m\n\u001b[1;32m     38\u001b[0m \u001b[0my_pred\u001b[0m \u001b[0;34m=\u001b[0m \u001b[0mclf\u001b[0m\u001b[0;34m.\u001b[0m\u001b[0mfit\u001b[0m\u001b[0;34m(\u001b[0m\u001b[0mX_train\u001b[0m\u001b[0;34m,\u001b[0m \u001b[0my_train\u001b[0m\u001b[0;34m)\u001b[0m\u001b[0;34m.\u001b[0m\u001b[0mpredict\u001b[0m\u001b[0;34m(\u001b[0m\u001b[0mX_test\u001b[0m\u001b[0;34m)\u001b[0m\u001b[0;34m\u001b[0m\u001b[0;34m\u001b[0m\u001b[0m\n",
            "\u001b[0;32m/usr/local/lib/python3.7/dist-packages/sklearn/model_selection/_split.py\u001b[0m in \u001b[0;36mtrain_test_split\u001b[0;34m(test_size, train_size, random_state, shuffle, stratify, *arrays)\u001b[0m\n\u001b[1;32m   2419\u001b[0m     \u001b[0mn_samples\u001b[0m \u001b[0;34m=\u001b[0m \u001b[0m_num_samples\u001b[0m\u001b[0;34m(\u001b[0m\u001b[0marrays\u001b[0m\u001b[0;34m[\u001b[0m\u001b[0;36m0\u001b[0m\u001b[0;34m]\u001b[0m\u001b[0;34m)\u001b[0m\u001b[0;34m\u001b[0m\u001b[0;34m\u001b[0m\u001b[0m\n\u001b[1;32m   2420\u001b[0m     n_train, n_test = _validate_shuffle_split(\n\u001b[0;32m-> 2421\u001b[0;31m         \u001b[0mn_samples\u001b[0m\u001b[0;34m,\u001b[0m \u001b[0mtest_size\u001b[0m\u001b[0;34m,\u001b[0m \u001b[0mtrain_size\u001b[0m\u001b[0;34m,\u001b[0m \u001b[0mdefault_test_size\u001b[0m\u001b[0;34m=\u001b[0m\u001b[0;36m0.25\u001b[0m\u001b[0;34m\u001b[0m\u001b[0;34m\u001b[0m\u001b[0m\n\u001b[0m\u001b[1;32m   2422\u001b[0m     )\n\u001b[1;32m   2423\u001b[0m \u001b[0;34m\u001b[0m\u001b[0m\n",
            "\u001b[0;32m/usr/local/lib/python3.7/dist-packages/sklearn/model_selection/_split.py\u001b[0m in \u001b[0;36m_validate_shuffle_split\u001b[0;34m(n_samples, test_size, train_size, default_test_size)\u001b[0m\n\u001b[1;32m   2044\u001b[0m             \u001b[0;34m\"test_size={0} should be either positive and smaller\"\u001b[0m\u001b[0;34m\u001b[0m\u001b[0;34m\u001b[0m\u001b[0m\n\u001b[1;32m   2045\u001b[0m             \u001b[0;34m\" than the number of samples {1} or a float in the \"\u001b[0m\u001b[0;34m\u001b[0m\u001b[0;34m\u001b[0m\u001b[0m\n\u001b[0;32m-> 2046\u001b[0;31m             \u001b[0;34m\"(0, 1) range\"\u001b[0m\u001b[0;34m.\u001b[0m\u001b[0mformat\u001b[0m\u001b[0;34m(\u001b[0m\u001b[0mtest_size\u001b[0m\u001b[0;34m,\u001b[0m \u001b[0mn_samples\u001b[0m\u001b[0;34m)\u001b[0m\u001b[0;34m\u001b[0m\u001b[0;34m\u001b[0m\u001b[0m\n\u001b[0m\u001b[1;32m   2047\u001b[0m         )\n\u001b[1;32m   2048\u001b[0m \u001b[0;34m\u001b[0m\u001b[0m\n",
            "\u001b[0;31mValueError\u001b[0m: test_size=0 should be either positive and smaller than the number of samples 1816 or a float in the (0, 1) range"
          ]
        }
      ]
    },
    {
      "cell_type": "code",
      "source": [
        "clf = RandomForestClassifier(n_estimators=50, max_depth=16, bootstrap = False)\n",
        "clf.fit(features, targets)"
      ],
      "metadata": {
        "colab": {
          "base_uri": "https://localhost:8080/"
        },
        "id": "oEgJ95qgDOet",
        "outputId": "98bd5dac-4e07-42d6-eda3-a7900521031e"
      },
      "execution_count": null,
      "outputs": [
        {
          "output_type": "execute_result",
          "data": {
            "text/plain": [
              "RandomForestClassifier(bootstrap=False, max_depth=16, n_estimators=50)"
            ]
          },
          "metadata": {},
          "execution_count": 50
        }
      ]
    },
    {
      "cell_type": "code",
      "source": [
        "import pickle\n",
        "filename = '/content/finalized_model.sav'\n",
        "pickle.dump(clf, open(filename, 'wb'))"
      ],
      "metadata": {
        "id": "GZkbihL7D9R8"
      },
      "execution_count": null,
      "outputs": []
    },
    {
      "cell_type": "code",
      "source": [
        "loaded_model = pickle.load(open(filename, 'rb'))\n",
        "result = loaded_model.score(X_test, y_test)\n",
        "print(result)"
      ],
      "metadata": {
        "id": "6zt96eyuEMjL",
        "outputId": "6a5405bd-f177-48d8-dfa7-4906a0f6ece9",
        "colab": {
          "base_uri": "https://localhost:8080/"
        }
      },
      "execution_count": null,
      "outputs": [
        {
          "output_type": "stream",
          "name": "stdout",
          "text": [
            "0.9944954128440368\n"
          ]
        }
      ]
    },
    {
      "cell_type": "code",
      "source": [
        "#feature selection basata sul random forest, basata sulle features scelte inizialmente\n",
        "\n",
        "mask = clf.feature_importances_ > 0.03\n",
        "print(features.columns[mask])\n",
        "\n",
        "#Risultano importanti il prezzo unitario, il prezzo totale, l'IVA, il giorno (???), la modalità di pagamento e il codice cedente\n",
        "#Risultano poco importanti il prezzo totale, il mese e l'unità di misura\n",
        "#Risultano non importanti il codice cessionario, il tipo di documento, la condizione di pagamento e l'anno. In effetti queste features assumono sempre (o quasi)\n",
        "#lo stesso valore in questo dataset\n",
        "\n",
        "#Ho levato sin dall'inizio le features inutili (anche l'unità di misura) tenendo solo l'anno che può rivelarsi utile per un dataset \n",
        "#pluriennale. Le performance non ne risentono\n"
      ],
      "metadata": {
        "colab": {
          "base_uri": "https://localhost:8080/"
        },
        "id": "_zfOtMFv9ibB",
        "outputId": "c9875b05-efd5-4a01-b771-5637735ae8d7"
      },
      "execution_count": null,
      "outputs": [
        {
          "output_type": "stream",
          "name": "stdout",
          "text": [
            "Index(['PrezzoUnitario', 'PrezzoTotale', 'AliquotaIVA',\n",
            "       'Similarity_Materie_Prime', 'Similarity_Materie_Consumo',\n",
            "       'Similarity_Merci', 'Similarity_Merci_Prodotti', 'Day',\n",
            "       'CodiceTipo_AswArtFor', 'ModalitaPagamento_MP01',\n",
            "       'ModalitaPagamento_MP19', 'CodiceCedente_10483110010',\n",
            "       'CodiceCedente_183410653', 'CodiceCedente_4352551214',\n",
            "       'CodiceCedente_777280157'],\n",
            "      dtype='object')\n"
          ]
        }
      ]
    },
    {
      "cell_type": "code",
      "source": [
        "#quarto classificatore provato: AdaBoost\n",
        "\n",
        "from sklearn.ensemble import AdaBoostClassifier\n",
        "\n",
        "features = data_labeled.drop(['Conto'], axis=1)\n",
        "targets = data_labeled.Conto\n",
        "#print(features.shape)\n",
        "\n",
        "\n",
        "X_train, X_test, y_train, y_test = train_test_split(features, targets, test_size=0.3, shuffle=False)\n",
        "clf = AdaBoostClassifier(base_estimator=tree.DecisionTreeClassifier(max_depth=8), n_estimators=100)\n",
        "y_pred = clf.fit(X_train, y_train).predict(X_test)\n",
        "print(accuracy_score(y_pred, y_test))\n",
        "\n",
        "from sklearn.metrics import f1_score\n",
        "print(f1_score(y_test, y_pred, average=None))\n",
        "print(f1_score(y_test, y_pred, average='micro'))\n",
        "print(f1_score(y_test, y_pred, average='macro'))\n",
        "print(f1_score(y_test, y_pred, average='weighted'))\n",
        "\n",
        "#accuracy intorno a 0.94/0.95, come RF, però non funziona la feature selection. Se uso le 36 features selezionate da RF l'accuracy cala di circa 1%,\n",
        "#probabilmente perchè non sono le features adatte ad AdaBoost.\n",
        "#L'accuracy sale fino a 0.96/0.97 se la dimensione del training viene aumentata (90% dei dati) a scapito di quella del test set, cosa che \n",
        "#non accade nel RF"
      ],
      "metadata": {
        "colab": {
          "base_uri": "https://localhost:8080/"
        },
        "id": "VLjjVHQTJzTG",
        "outputId": "fe3206f3-ede7-4607-97f7-ce58a124afd7"
      },
      "execution_count": null,
      "outputs": [
        {
          "output_type": "stream",
          "name": "stdout",
          "text": [
            "0.9424860853432282\n",
            "[0.9539749  0.93922652 0.88888889 0.93436293 1.         1.\n",
            " 0.72727273 1.         0.97959184 1.         1.        ]\n",
            "0.9424860853432282\n",
            "0.9475743456357955\n",
            "0.9422508830920644\n"
          ]
        }
      ]
    },
    {
      "cell_type": "code",
      "source": [
        "#quinto classificatore provato: SVC\n",
        "\n",
        "from sklearn.svm import SVC\n",
        "from sklearn.pipeline import make_pipeline\n",
        "from sklearn.preprocessing import StandardScaler\n",
        "\n",
        "features = data_labeled.drop(['Conto'], axis=1)\n",
        "\n",
        "\"\"\"\n",
        "scaler = StandardScaler()\n",
        "features.PrezzoUnitario = scaler.fit_transform(np.array(features.PrezzoUnitario).reshape(-1, 1))\n",
        "features.PrezzoTotale = scaler.fit_transform(np.array(features.PrezzoTotale).reshape(-1, 1))\n",
        "features.AliquotaIVA = scaler.fit_transform(np.array(features.AliquotaIVA).reshape(-1, 1))\n",
        "features.Year = scaler.fit_transform(np.array(features.Year).reshape(-1, 1))\n",
        "features.Month = scaler.fit_transform(np.array(features.Month).reshape(-1, 1))\n",
        "features.Day = scaler.fit_transform(np.array(features.Day).reshape(-1, 1))\n",
        "\"\"\"\n",
        "\n",
        "print(features.columns)\n",
        "targets = data_labeled.Conto\n",
        "#print(features.shape)\n",
        "\n",
        "X_train, X_test, y_train, y_test = train_test_split(features, targets, test_size=0.3, shuffle=False)\n",
        "clf = make_pipeline(StandardScaler(), SVC(gamma='scale'))\n",
        "y_pred = clf.fit(X_train, y_train).predict(X_test)\n",
        "print(accuracy_score(y_pred, y_test))\n",
        "\n",
        "from sklearn.metrics import f1_score\n",
        "print(f1_score(y_test, y_pred, average=None))\n",
        "print(f1_score(y_test, y_pred, average='micro'))\n",
        "print(f1_score(y_test, y_pred, average='macro'))\n",
        "print(f1_score(y_test, y_pred, average='weighted'))\n",
        "\n",
        "#performance intorno a 0.87, anche al variare di alcuni parametri come il coefficiente di regolarizzazione C e gamma.\n",
        "#Non cambia praticamente niente se si normalizzano tutte le feature o solo quelle numeriche.\n",
        "#Nei 2 modelli migliori (AdaBoost e RF) l'accuracy e F score sono allineati, nei modelli peggiori come appunto SVC, F score\n",
        "#in modalità macro risente del fatto che alcune classi non vengono apprese e perciò hanno F score individuale uguale a 0."
      ],
      "metadata": {
        "colab": {
          "base_uri": "https://localhost:8080/"
        },
        "id": "rHBpvpUi4yTU",
        "outputId": "aa0b41e8-1ad7-4f12-fbbe-8d9a8f8b90dd"
      },
      "execution_count": null,
      "outputs": [
        {
          "output_type": "stream",
          "name": "stdout",
          "text": [
            "Index(['PrezzoUnitario', 'PrezzoTotale', 'AliquotaIVA',\n",
            "       'Similarity_Materie_Prime', 'Similarity_Materie_Consumo',\n",
            "       'Similarity_Merci', 'Similarity_Merci_Prodotti', 'Year', 'Month', 'Day',\n",
            "       ...\n",
            "       'NumeroDDT_PKL.21.1321', 'NumeroDDT_PKL.21.1457',\n",
            "       'NumeroDDT_PKL.21.161', 'NumeroDDT_PKL.21.195', 'NumeroDDT_PKL.21.471',\n",
            "       'NumeroDDT_PKL.21.520', 'NumeroDDT_PKL.21.55', 'NumeroDDT_PKL.21.597',\n",
            "       'NumeroDDT_PKL.21.914', 'NumeroDDT_PKL.21.97'],\n",
            "      dtype='object', length=204)\n",
            "0.8534322820037106\n",
            "[0.87826087 0.88297872 0.9044586  0.81506849 0.         0.\n",
            " 0.         1.         0.82758621 0.99130435 1.        ]\n",
            "0.8534322820037106\n",
            "0.6636052035971737\n",
            "0.8332993756936149\n"
          ]
        }
      ]
    },
    {
      "cell_type": "code",
      "source": [
        "#controllo di quali classi sono presenti nel train set, nel test set e quali vengono effettivamente predette\n",
        "\n",
        "import numpy as np\n",
        "\n",
        "print(np.unique(y_train))\n",
        "print(np.unique(y_test))\n",
        "print(np.unique(y_pred))"
      ],
      "metadata": {
        "colab": {
          "base_uri": "https://localhost:8080/"
        },
        "id": "flBtA9Qqdsqu",
        "outputId": "0ab7d254-1054-41a5-ffdc-e15cfae88f6b"
      },
      "execution_count": null,
      "outputs": [
        {
          "output_type": "stream",
          "name": "stdout",
          "text": [
            "['66/05/006' '66/20/005' '66/25/005' '66/25/006' '66/25/506' '66/25/507'\n",
            " '66/25/509' '66/30/015' '66/30/017' '66/30/055' '68/05/025' '68/05/490'\n",
            " '70/05/101']\n",
            "['66/05/006' '66/20/005' '66/25/005' '66/25/006' '66/25/506' '66/25/509'\n",
            " '66/30/015' '66/30/017' '66/30/055' '68/05/025' '68/05/490']\n",
            "['66/05/006' '66/20/005' '66/25/005' '66/25/006' '66/25/506' '66/25/509'\n",
            " '66/30/015' '66/30/017' '66/30/055' '68/05/025' '68/05/490']\n"
          ]
        }
      ]
    },
    {
      "cell_type": "code",
      "source": [
        "#controllo della numerosità delle varie classi nei set\n",
        "res = {}\n",
        "unique, counts = np.unique(y_train, return_counts=True)\n",
        "for i,j in zip(unique, counts):\n",
        "  res[i] = {'train' : j}\n",
        "\n",
        "unique, counts = np.unique(y_test, return_counts=True)\n",
        "for i,j in zip(unique, counts):\n",
        "  res[i]['test'] = j\n",
        "\n",
        "unique, counts = np.unique(y_pred, return_counts=True)\n",
        "for i,j in zip(unique, counts):\n",
        "  res[i]['pred'] = j\n",
        "\n",
        "for k,v in res.items():\n",
        "  print(k,v)\n"
      ],
      "metadata": {
        "colab": {
          "base_uri": "https://localhost:8080/"
        },
        "id": "ran3tMR4lKPg",
        "outputId": "59704158-3ec3-4b07-be7e-ce14ed905193"
      },
      "execution_count": null,
      "outputs": [
        {
          "output_type": "stream",
          "name": "stdout",
          "text": [
            "66/05/006 {'train': 256, 'test': 121, 'pred': 121}\n",
            "66/20/005 {'train': 166, 'test': 89, 'pred': 90}\n",
            "66/25/005 {'train': 200, 'test': 86, 'pred': 74}\n",
            "66/25/006 {'train': 285, 'test': 129, 'pred': 142}\n",
            "66/25/506 {'train': 14, 'test': 20, 'pred': 20}\n",
            "66/25/507 {'train': 13}\n",
            "66/25/509 {'train': 6, 'test': 2, 'pred': 2}\n",
            "66/30/015 {'train': 17, 'test': 6, 'pred': 4}\n",
            "66/30/017 {'train': 5, 'test': 3, 'pred': 3}\n",
            "66/30/055 {'train': 39, 'test': 24, 'pred': 24}\n",
            "68/05/025 {'train': 236, 'test': 57, 'pred': 57}\n",
            "68/05/490 {'train': 6, 'test': 2, 'pred': 2}\n",
            "70/05/101 {'train': 12}\n"
          ]
        }
      ]
    },
    {
      "cell_type": "code",
      "source": [
        "#confusion matrix per analisi degli errori piu comuni\n",
        "\n",
        "from sklearn.metrics import confusion_matrix\n",
        "unique, counts = np.unique(y_test, return_counts=True)\n",
        "print(dict(zip(unique, counts)))\n",
        "\n",
        "confusion_matrix(y_test, y_pred, labels=np.unique(y_test))\n",
        "\n",
        "#con l'aggiunta delle informazioni estratte dalla descrizione le performance migliorano ma gli errori restano relativi alle stesse\n",
        "#categorie di prima, in misura minore. Fortunatamente queste features aggiuntive non creano ocnfusione nelle altre classi"
      ],
      "metadata": {
        "colab": {
          "base_uri": "https://localhost:8080/"
        },
        "id": "8iCowoHVoGqA",
        "outputId": "017edf29-8ca1-43fb-9466-976e77847fda"
      },
      "execution_count": null,
      "outputs": [
        {
          "output_type": "stream",
          "name": "stdout",
          "text": [
            "{'66/05/006': 121, '66/20/005': 89, '66/25/005': 86, '66/25/006': 129, '66/25/506': 20, '66/25/509': 2, '66/30/015': 6, '66/30/017': 3, '66/30/055': 24, '68/05/025': 57, '68/05/490': 2}\n"
          ]
        },
        {
          "output_type": "execute_result",
          "data": {
            "text/plain": [
              "array([[115,   4,   0,   2,   0,   0,   0,   0,   0,   0,   0],\n",
              "       [  3,  86,   0,   0,   0,   0,   0,   0,   0,   0,   0],\n",
              "       [  0,   0,  71,  15,   0,   0,   0,   0,   0,   0,   0],\n",
              "       [  2,   0,   3, 124,   0,   0,   0,   0,   0,   0,   0],\n",
              "       [  0,   0,   0,   0,  20,   0,   0,   0,   0,   0,   0],\n",
              "       [  0,   0,   0,   0,   0,   2,   0,   0,   0,   0,   0],\n",
              "       [  0,   2,   0,   0,   0,   0,   4,   0,   0,   0,   0],\n",
              "       [  0,   0,   0,   0,   0,   0,   0,   3,   0,   0,   0],\n",
              "       [  0,   0,   0,   0,   0,   0,   0,   0,  24,   0,   0],\n",
              "       [  0,   0,   0,   0,   0,   0,   0,   0,   0,  57,   0],\n",
              "       [  0,   0,   0,   0,   0,   0,   0,   0,   0,   0,   2]])"
            ]
          },
          "metadata": {},
          "execution_count": 92
        }
      ]
    },
    {
      "cell_type": "code",
      "source": [
        "#analisi dell'effettiva informazione portata dalle features di similarity\n",
        "\n",
        "print(data_labeled.groupby('Conto').mean()[['Similarity_Materie_Prime', 'Similarity_Materie_Consumo']])\n",
        "print(data_labeled.groupby('Conto').mean()[['Similarity_Merci', 'Similarity_Merci_Prodotti']])\n",
        "\n",
        "#per 3 classi su 4 effettivamente le features di similarità si comportano come previsto. Andrebbe migliorata la scelta delle\n",
        "#parole tipiche delle descrizioni del gruppo 66/25/005, che in effetti è il gruppo su cui vengono ancora commessi la maggior parte\n",
        "#degli errori, scambiandola con la classe 66/25/006"
      ],
      "metadata": {
        "colab": {
          "base_uri": "https://localhost:8080/"
        },
        "id": "pHuGpCpnS3rb",
        "outputId": "6040981c-59ce-4d7d-bd6b-28299a86a346"
      },
      "execution_count": null,
      "outputs": [
        {
          "output_type": "stream",
          "name": "stdout",
          "text": [
            "           Similarity_Materie_Prime  Similarity_Materie_Consumo\n",
            "Conto                                                          \n",
            "66/05/006                  0.418216                    0.252536\n",
            "66/20/005                  0.266449                    0.326461\n",
            "66/25/005                  0.256683                    0.221359\n",
            "66/25/006                  0.298135                    0.245962\n",
            "66/25/506                  0.255085                    0.217104\n",
            "66/25/507                  0.388502                    0.265801\n",
            "66/25/509                  0.437905                    0.340030\n",
            "66/30/015                  0.237376                    0.289640\n",
            "66/30/017                  0.227693                    0.252930\n",
            "66/30/055                  0.200202                    0.245510\n",
            "68/05/025                  0.193863                    0.193651\n",
            "68/05/490                  0.209511                    0.264706\n",
            "70/05/101                  0.201765                    0.201089\n",
            "           Similarity_Merci  Similarity_Merci_Prodotti\n",
            "Conto                                                 \n",
            "66/05/006          0.311902                   0.287691\n",
            "66/20/005          0.266703                   0.281795\n",
            "66/25/005          0.285107                   0.247275\n",
            "66/25/006          0.282929                   0.361863\n",
            "66/25/506          0.183699                   0.240781\n",
            "66/25/507          0.275671                   0.290239\n",
            "66/25/509          0.280861                   0.291721\n",
            "66/30/015          0.271881                   0.230168\n",
            "66/30/017          0.240057                   0.252635\n",
            "66/30/055          0.111518                   0.176786\n",
            "68/05/025          0.134417                   0.182084\n",
            "68/05/490          0.193307                   0.201997\n",
            "70/05/101          0.182415                   0.165955\n"
          ]
        }
      ]
    },
    {
      "cell_type": "code",
      "source": [
        "#per verificare se le performance migliorano in qualunque delle configurazioni successive, voglio avere gli stess1 identici\n",
        "#test set e training set. \n",
        "\n",
        "data_test = data_labeled.loc[1255:1793,:]\n",
        "print(data_test)\n",
        "\n",
        "data_train = data_labeled.loc[:1254,:]\n",
        "print(data_train)"
      ],
      "metadata": {
        "colab": {
          "base_uri": "https://localhost:8080/"
        },
        "id": "NizDvqe-aHE-",
        "outputId": "47b8b442-ba8a-487a-8dd0-e9b135ab2ce7"
      },
      "execution_count": null,
      "outputs": [
        {
          "output_type": "stream",
          "name": "stdout",
          "text": [
            "     Numero  PrezzoUnitario  ...  NumeroDDT_PKL.21.97      Conto\n",
            "1255  16119          0.0000  ...                    0  66/25/006\n",
            "1256  16119          1.3500  ...                    0  66/25/006\n",
            "1257  16119          0.0000  ...                    0  66/25/006\n",
            "1258  16119          4.3500  ...                    0  66/25/006\n",
            "1259  16119          0.0000  ...                    0  66/25/006\n",
            "...     ...             ...  ...                  ...        ...\n",
            "1789    863          0.9836  ...                    0  66/20/005\n",
            "1790    863          1.1475  ...                    0  66/20/005\n",
            "1791    863          0.5328  ...                    0  66/20/005\n",
            "1792   1682          0.0000  ...                    0  66/05/006\n",
            "1793   1682          0.0880  ...                    0  66/05/006\n",
            "\n",
            "[539 rows x 207 columns]\n",
            "              Numero  PrezzoUnitario  ...  NumeroDDT_PKL.21.97      Conto\n",
            "0     CI202074250324          17.980  ...                    0  66/25/005\n",
            "1     CI202074250324           0.053  ...                    0  66/25/005\n",
            "2              14587          19.000  ...                    0  66/25/006\n",
            "3              14587           0.000  ...                    0  66/25/006\n",
            "4              14587           1.350  ...                    0  66/25/006\n",
            "...              ...             ...  ...                  ...        ...\n",
            "1250          12/976           1.600  ...                    0  66/25/006\n",
            "1251             783           0.000  ...                    0  66/25/506\n",
            "1252             783           2.000  ...                    0  66/25/506\n",
            "1253             783           0.000  ...                    0  66/25/506\n",
            "1254           16119          19.000  ...                    0  66/25/006\n",
            "\n",
            "[1255 rows x 207 columns]\n"
          ]
        }
      ]
    },
    {
      "cell_type": "code",
      "source": [
        "#ora creo il dataset per il semi supervised training con le 1255 unità non usate per il test e tutte quelle con 'Conto' NaN.\n",
        "#Inoltre viene performato l'encoding delle labels per non avere stringhe e -1 ma solo interi\n",
        "\n",
        "from sklearn import preprocessing\n",
        "\n",
        "le = preprocessing.LabelEncoder()\n",
        "le.fit(data_labeled['Conto'])\n",
        "data_labeled['Conto'] = le.transform(data_labeled['Conto'])\n",
        "data_semi = pd.concat(objs=[data_train, data_unlabeled])\n",
        "data_semi.reset_index(inplace=True)\n",
        "data_semi = data_semi.drop('index', axis=1)\n",
        "data_semi = data_semi.fillna(-1)\n",
        "print(data_semi)\n"
      ],
      "metadata": {
        "colab": {
          "base_uri": "https://localhost:8080/"
        },
        "id": "NIE3eju-7q3v",
        "outputId": "ecf2577e-2a0e-4fb7-894f-401c78f31157"
      },
      "execution_count": null,
      "outputs": [
        {
          "output_type": "stream",
          "name": "stdout",
          "text": [
            "      PrezzoUnitario  PrezzoTotale  ...  NumeroDDT_PKL.21.97  Conto\n",
            "0             17.980        308.16  ...                    0      2\n",
            "1              0.053          1.06  ...                    0      2\n",
            "2             19.000        369.36  ...                    0      3\n",
            "3              0.000          0.00  ...                    0      3\n",
            "4              1.350         27.00  ...                    0      3\n",
            "...              ...           ...  ...                  ...    ...\n",
            "5311           0.000          0.00  ...                    0     -1\n",
            "5312           0.000          0.00  ...                    0     -1\n",
            "5313           0.000          0.00  ...                    0     -1\n",
            "5314           0.000          0.00  ...                    0     -1\n",
            "5315          10.000         10.00  ...                    0     -1\n",
            "\n",
            "[5316 rows x 205 columns]\n"
          ]
        }
      ]
    },
    {
      "cell_type": "code",
      "source": [
        "#ora il dataset data_semi è pronto per il semi supervised learning dato che ha dei -1 al posto dei target mancanti\n",
        "\n",
        "from sklearn.semi_supervised import SelfTrainingClassifier\n",
        "from sklearn.svm import SVC\n",
        "from sklearn.calibration import CalibratedClassifierCV\n",
        "from sklearn import preprocessing\n",
        "\n",
        "#clf = make_pipeline(StandardScaler(), SVC(gamma='scale', probability=True))\n",
        "#clf = tree.DecisionTreeClassifier(max_depth=10, min_samples_leaf=5)\n",
        "clf = AdaBoostClassifier(base_estimator=tree.DecisionTreeClassifier(max_depth=8), n_estimators=100)\n",
        "calibrated_clf = CalibratedClassifierCV(base_estimator=clf)\n",
        "\n",
        "X = data_semi.drop('Conto', axis=1)\n",
        "y = data_semi.Conto\n",
        "calibrated_clf.fit(X, y)\n",
        "\n",
        "self_training_model = SelfTrainingClassifier(calibrated_clf, threshold=0.95, max_iter=2)\n",
        "self_training_model.fit(X, y)"
      ],
      "metadata": {
        "colab": {
          "base_uri": "https://localhost:8080/"
        },
        "id": "mwzgHwT7mkK2",
        "outputId": "2f9c5312-d27e-4704-d3ab-5cb648ede903"
      },
      "execution_count": null,
      "outputs": [
        {
          "output_type": "execute_result",
          "data": {
            "text/plain": [
              "SelfTrainingClassifier(base_estimator=CalibratedClassifierCV(base_estimator=AdaBoostClassifier(base_estimator=DecisionTreeClassifier(max_depth=8),\n",
              "                                                                                               n_estimators=100)),\n",
              "                       max_iter=2, threshold=0.95)"
            ]
          },
          "metadata": {},
          "execution_count": 386
        }
      ]
    },
    {
      "cell_type": "code",
      "source": [
        "#controllo di quali samples sono stati labeled e a che iterazione\n",
        "\n",
        "for i in range(len(self_training_model.labeled_iter_)):\n",
        "  print(self_training_model.labeled_iter_[i])\n",
        "  print(self_training_model.transduction_[i])\n"
      ],
      "metadata": {
        "id": "SgLxUPBMCmnV"
      },
      "execution_count": null,
      "outputs": []
    },
    {
      "cell_type": "code",
      "source": [
        "#creazione del nuovo training set con l'aggiunta dei nuovi dati pseudo supervisionati\n",
        "\n",
        "mask = self_training_model.labeled_iter_ != -1\n",
        "data_train = data_semi.loc[mask,]\n",
        "data_train.Conto = self_training_model.transduction_[mask]\n",
        "print(data_train)"
      ],
      "metadata": {
        "colab": {
          "base_uri": "https://localhost:8080/"
        },
        "id": "7q-GLd2uFVPx",
        "outputId": "de8121f7-2e7f-421d-8b51-e2f4eb9fcf92"
      },
      "execution_count": null,
      "outputs": [
        {
          "output_type": "stream",
          "name": "stdout",
          "text": [
            "      PrezzoUnitario  PrezzoTotale  ...  NumeroDDT_PKL.21.97  Conto\n",
            "0             17.980        308.16  ...                    0      2\n",
            "1              0.053          1.06  ...                    0      2\n",
            "2             19.000        369.36  ...                    0      3\n",
            "3              0.000          0.00  ...                    0      3\n",
            "4              1.350         27.00  ...                    0      3\n",
            "...              ...           ...  ...                  ...    ...\n",
            "5162           0.300          0.30  ...                    0      9\n",
            "5205           0.300          0.30  ...                    0      9\n",
            "5239           0.300          0.30  ...                    0      9\n",
            "5240           0.000          0.00  ...                    0      0\n",
            "5310           0.300          0.30  ...                    0      9\n",
            "\n",
            "[1860 rows x 205 columns]\n"
          ]
        },
        {
          "output_type": "stream",
          "name": "stderr",
          "text": [
            "/usr/local/lib/python3.7/dist-packages/pandas/core/generic.py:5516: SettingWithCopyWarning: \n",
            "A value is trying to be set on a copy of a slice from a DataFrame.\n",
            "Try using .loc[row_indexer,col_indexer] = value instead\n",
            "\n",
            "See the caveats in the documentation: https://pandas.pydata.org/pandas-docs/stable/user_guide/indexing.html#returning-a-view-versus-a-copy\n",
            "  self[name] = value\n"
          ]
        }
      ]
    },
    {
      "cell_type": "code",
      "source": [
        "#controllo delle performance predittive grazie all'aumento dei samples supervisionati, usando lo stesso test set\n",
        "#del caso senza semi supervised learning\n",
        "\n",
        "from sklearn.metrics import accuracy_score\n",
        "\n",
        "print(accuracy_score(self_training_model.predict(data_test.drop('Conto', axis=1)), le.transform(data_test.Conto)))\n",
        "\n",
        "#purtroppo le performance non migliorano come sperato a prescindere da quanto venga ampliato il training set grazie al semi supervised learning,\n",
        "#anche se vengono recuperate solo labels ad alta confidenza"
      ],
      "metadata": {
        "colab": {
          "base_uri": "https://localhost:8080/"
        },
        "id": "WBSHWzE0rsgu",
        "outputId": "0f02860a-6a5d-402b-dac4-20e24040b852"
      },
      "execution_count": null,
      "outputs": [
        {
          "output_type": "stream",
          "name": "stdout",
          "text": [
            "0.9461966604823747\n"
          ]
        }
      ]
    }
  ],
  "metadata": {
    "colab": {
      "collapsed_sections": [],
      "name": "PrimeOffice.ipynb",
      "provenance": []
    },
    "kernelspec": {
      "display_name": "Python 3",
      "name": "python3"
    },
    "language_info": {
      "name": "python"
    }
  },
  "nbformat": 4,
  "nbformat_minor": 0
}